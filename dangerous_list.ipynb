{
 "metadata": {
  "name": "dangerous_list"
 },
 "nbformat": 3,
 "nbformat_minor": 0,
 "worksheets": [
  {
   "cells": [
    {
     "cell_type": "code",
     "collapsed": false,
     "input": [
      "'''\n",
      "This is dictionary\n",
      "'''\n",
      "\n",
      "inventory = {'gold' : 500,\n",
      "'pouch' : ['flint', 'twine', 'gemstone'], # Assigned a new list to 'pouch' key\n",
      "'backpack' : ['xylophone','dagger', 'bedroll','bread loaf']}\n",
      "\n",
      "# Adding a key 'burlap bag' and assigning a list to it\n",
      "inventory['burlap bag'] = ['apple', 'small ruby', 'three-toed sloth']\n",
      "\n",
      "# Sorting the list found under the key 'pouch'\n",
      "inventory['pouch'].sort() \n",
      "# Here the dictionary access expression takes the place of a list name \n",
      "\n",
      "# Your code here\n",
      "inventory['pocket']=['seashell', 'strange berries',  'lint']\n",
      "inventory['backpack'].sort()\n",
      "inventory['backpack'].remove('dagger')\n",
      "inventory['gold'] = inventory['gold'] +50\n",
      "print (inventory)\n",
      "\n",
      "\n",
      "\n",
      "\n",
      "\n",
      "\n",
      "\n",
      "\n",
      "\n",
      "\n",
      "\n",
      "#inventory[\"gold\"] = int(inventory[\"gold\"]) + 50"
     ],
     "language": "python",
     "metadata": {},
     "outputs": [
      {
       "output_type": "stream",
       "stream": "stdout",
       "text": [
        "{'pocket': ['seashell', 'strange berry', 'lint'], 'backpack': ['bedroll', 'bread loaf', 'xylophone'], 'pouch': ['flint', 'gemstone', 'twine'], 'burlap bag': ['apple', 'small ruby', 'three-toed sloth'], 'gold': 550}\n"
       ]
      }
     ],
     "prompt_number": 1
    },
    {
     "cell_type": "code",
     "collapsed": false,
     "input": [],
     "language": "python",
     "metadata": {},
     "outputs": []
    }
   ],
   "metadata": {}
  }
 ]
}