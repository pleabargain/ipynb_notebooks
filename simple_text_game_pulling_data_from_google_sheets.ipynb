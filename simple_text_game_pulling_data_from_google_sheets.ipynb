{
  "nbformat": 4,
  "nbformat_minor": 0,
  "metadata": {
    "colab": {
      "name": "simple text game pulling data from google sheets",
      "version": "0.3.2",
      "provenance": [],
      "collapsed_sections": [],
      "include_colab_link": true
    },
    "kernelspec": {
      "name": "python3",
      "display_name": "Python 3"
    }
  },
  "cells": [
    {
      "cell_type": "markdown",
      "metadata": {
        "id": "view-in-github",
        "colab_type": "text"
      },
      "source": [
        "<a href=\"https://colab.research.google.com/github/pleabargain/ipynb_notebooks/blob/master/simple_text_game_pulling_data_from_google_sheets.ipynb\" target=\"_parent\"><img src=\"https://colab.research.google.com/assets/colab-badge.svg\" alt=\"Open In Colab\"/></a>"
      ]
    },
    {
      "metadata": {
        "id": "Zcn8mOX9y3qe",
        "colab_type": "text"
      },
      "cell_type": "markdown",
      "source": [
        "taken from\n",
        "\n",
        "https://www.derekshidler.com/how-to-create-a-text-based-adventure-and-quiz-game-in-python/"
      ]
    },
    {
      "metadata": {
        "id": "oREFxqO_fQB-",
        "colab_type": "text"
      },
      "cell_type": "markdown",
      "source": [
        "set up/ import latest notebook"
      ]
    },
    {
      "metadata": {
        "id": "ZQO1hwHQfWD6",
        "colab_type": "code",
        "colab": {
          "base_uri": "https://localhost:8080/",
          "height": 612
        },
        "outputId": "8dfdbff7-2ea8-4e90-9f00-2b7a8bab23fe"
      },
      "cell_type": "code",
      "source": [
        "#let's make sure we are using latest Jupyter notebook\n",
        "!pip install --upgrade 'notebook>=5.7.6'"
      ],
      "execution_count": 1,
      "outputs": [
        {
          "output_type": "stream",
          "text": [
            "Requirement already up-to-date: notebook>=5.7.6 in /usr/local/lib/python3.6/dist-packages (5.7.8)\n",
            "Requirement already satisfied, skipping upgrade: Send2Trash in /usr/local/lib/python3.6/dist-packages (from notebook>=5.7.6) (1.5.0)\n",
            "Requirement already satisfied, skipping upgrade: traitlets>=4.2.1 in /usr/local/lib/python3.6/dist-packages (from notebook>=5.7.6) (4.3.2)\n",
            "Requirement already satisfied, skipping upgrade: nbformat in /usr/local/lib/python3.6/dist-packages (from notebook>=5.7.6) (4.4.0)\n",
            "Requirement already satisfied, skipping upgrade: nbconvert in /usr/local/lib/python3.6/dist-packages (from notebook>=5.7.6) (5.4.1)\n",
            "Requirement already satisfied, skipping upgrade: ipykernel in /usr/local/lib/python3.6/dist-packages (from notebook>=5.7.6) (4.6.1)\n",
            "Requirement already satisfied, skipping upgrade: terminado>=0.8.1 in /usr/local/lib/python3.6/dist-packages (from notebook>=5.7.6) (0.8.2)\n",
            "Requirement already satisfied, skipping upgrade: jupyter-core>=4.4.0 in /usr/local/lib/python3.6/dist-packages (from notebook>=5.7.6) (4.4.0)\n",
            "Requirement already satisfied, skipping upgrade: jupyter-client>=5.2.0 in /usr/local/lib/python3.6/dist-packages (from notebook>=5.7.6) (5.2.4)\n",
            "Requirement already satisfied, skipping upgrade: tornado<7,>=4.1 in /usr/local/lib/python3.6/dist-packages (from notebook>=5.7.6) (4.5.3)\n",
            "Requirement already satisfied, skipping upgrade: jinja2 in /usr/local/lib/python3.6/dist-packages (from notebook>=5.7.6) (2.10.1)\n",
            "Requirement already satisfied, skipping upgrade: ipython-genutils in /usr/local/lib/python3.6/dist-packages (from notebook>=5.7.6) (0.2.0)\n",
            "Requirement already satisfied, skipping upgrade: prometheus-client in /usr/local/lib/python3.6/dist-packages (from notebook>=5.7.6) (0.6.0)\n",
            "Requirement already satisfied, skipping upgrade: pyzmq>=17 in /usr/local/lib/python3.6/dist-packages (from notebook>=5.7.6) (17.0.0)\n",
            "Requirement already satisfied, skipping upgrade: decorator in /usr/local/lib/python3.6/dist-packages (from traitlets>=4.2.1->notebook>=5.7.6) (4.4.0)\n",
            "Requirement already satisfied, skipping upgrade: six in /usr/local/lib/python3.6/dist-packages (from traitlets>=4.2.1->notebook>=5.7.6) (1.11.0)\n",
            "Requirement already satisfied, skipping upgrade: jsonschema!=2.5.0,>=2.4 in /usr/local/lib/python3.6/dist-packages (from nbformat->notebook>=5.7.6) (2.6.0)\n",
            "Requirement already satisfied, skipping upgrade: pandocfilters>=1.4.1 in /usr/local/lib/python3.6/dist-packages (from nbconvert->notebook>=5.7.6) (1.4.2)\n",
            "Requirement already satisfied, skipping upgrade: testpath in /usr/local/lib/python3.6/dist-packages (from nbconvert->notebook>=5.7.6) (0.4.2)\n",
            "Requirement already satisfied, skipping upgrade: entrypoints>=0.2.2 in /usr/local/lib/python3.6/dist-packages (from nbconvert->notebook>=5.7.6) (0.3)\n",
            "Requirement already satisfied, skipping upgrade: bleach in /usr/local/lib/python3.6/dist-packages (from nbconvert->notebook>=5.7.6) (3.1.0)\n",
            "Requirement already satisfied, skipping upgrade: mistune>=0.8.1 in /usr/local/lib/python3.6/dist-packages (from nbconvert->notebook>=5.7.6) (0.8.4)\n",
            "Requirement already satisfied, skipping upgrade: pygments in /usr/local/lib/python3.6/dist-packages (from nbconvert->notebook>=5.7.6) (2.1.3)\n",
            "Requirement already satisfied, skipping upgrade: defusedxml in /usr/local/lib/python3.6/dist-packages (from nbconvert->notebook>=5.7.6) (0.5.0)\n",
            "Requirement already satisfied, skipping upgrade: ipython>=4.0.0 in /usr/local/lib/python3.6/dist-packages (from ipykernel->notebook>=5.7.6) (5.5.0)\n",
            "Requirement already satisfied, skipping upgrade: ptyprocess; os_name != \"nt\" in /usr/local/lib/python3.6/dist-packages (from terminado>=0.8.1->notebook>=5.7.6) (0.6.0)\n",
            "Requirement already satisfied, skipping upgrade: python-dateutil>=2.1 in /usr/local/lib/python3.6/dist-packages (from jupyter-client>=5.2.0->notebook>=5.7.6) (2.5.3)\n",
            "Requirement already satisfied, skipping upgrade: MarkupSafe>=0.23 in /usr/local/lib/python3.6/dist-packages (from jinja2->notebook>=5.7.6) (1.1.1)\n",
            "Requirement already satisfied, skipping upgrade: webencodings in /usr/local/lib/python3.6/dist-packages (from bleach->nbconvert->notebook>=5.7.6) (0.5.1)\n",
            "Requirement already satisfied, skipping upgrade: pickleshare in /usr/local/lib/python3.6/dist-packages (from ipython>=4.0.0->ipykernel->notebook>=5.7.6) (0.7.5)\n",
            "Requirement already satisfied, skipping upgrade: pexpect; sys_platform != \"win32\" in /usr/local/lib/python3.6/dist-packages (from ipython>=4.0.0->ipykernel->notebook>=5.7.6) (4.7.0)\n",
            "Requirement already satisfied, skipping upgrade: simplegeneric>0.8 in /usr/local/lib/python3.6/dist-packages (from ipython>=4.0.0->ipykernel->notebook>=5.7.6) (0.8.1)\n",
            "Requirement already satisfied, skipping upgrade: prompt-toolkit<2.0.0,>=1.0.4 in /usr/local/lib/python3.6/dist-packages (from ipython>=4.0.0->ipykernel->notebook>=5.7.6) (1.0.15)\n",
            "Requirement already satisfied, skipping upgrade: setuptools>=18.5 in /usr/local/lib/python3.6/dist-packages (from ipython>=4.0.0->ipykernel->notebook>=5.7.6) (40.9.0)\n",
            "Requirement already satisfied, skipping upgrade: wcwidth in /usr/local/lib/python3.6/dist-packages (from prompt-toolkit<2.0.0,>=1.0.4->ipython>=4.0.0->ipykernel->notebook>=5.7.6) (0.1.7)\n"
          ],
          "name": "stdout"
        }
      ]
    },
    {
      "metadata": {
        "id": "04CXTL-ZfeoG",
        "colab_type": "text"
      },
      "cell_type": "markdown",
      "source": [
        "set up google sheets connection"
      ]
    },
    {
      "metadata": {
        "id": "gRQkIx7Tfh0U",
        "colab_type": "code",
        "colab": {}
      },
      "cell_type": "code",
      "source": [
        "#this loads the spreadsheet from google drive\n",
        "from google.colab import auth\n",
        "auth.authenticate_user()\n",
        "\n",
        "import gspread\n",
        "from oauth2client.client import GoogleCredentials\n",
        "\n",
        "from IPython.display import display\n",
        "gc = gspread.authorize(GoogleCredentials.get_application_default())\n",
        "#User enters name of the formatted spreadsheet \n",
        "#don't use the file type e.g. file.csv... you'll get errors\n",
        "worksheet = gc.open('text based story').sheet1\n",
        "rows = worksheet.get_all_values()"
      ],
      "execution_count": 0,
      "outputs": []
    },
    {
      "metadata": {
        "id": "B4OFf-gdhdr4",
        "colab_type": "text"
      },
      "cell_type": "markdown",
      "source": [
        "sanity check to make sure we are looking at the sheet.\n",
        "Keep in mind that any changes in the sheet are NOT automatically populated back to the notebook!"
      ]
    },
    {
      "metadata": {
        "id": "m5qTfZnQhgwv",
        "colab_type": "code",
        "outputId": "06368cbc-b5a7-40e2-a6ba-809eaca2afae",
        "colab": {
          "base_uri": "https://localhost:8080/",
          "height": 54
        }
      },
      "cell_type": "code",
      "source": [
        "print(rows)"
      ],
      "execution_count": 3,
      "outputs": [
        {
          "output_type": "stream",
          "text": [
            "[['function', 'category', 'story_text', 'It was a dark and stormy night! Full of bluster and wind. \\\\n'], ['option_fun', 'intro', 'It was a dark and stormy night! Full of bluster and wind. You are wondering why you are out on a night like this when you should be home, warm, in bed. \\\\n\\nBut, you being the fool that you are, decided it was a good time to look in on the power module.', 'You are wondering why you are out on a night like this when you should be home, warm, in bed.\\\\n'], ['option_door', 'action', 'The door flies open!', 'But, you being the fool that you are, decided it was a good time to look in on the power module.']]\n"
          ],
          "name": "stdout"
        }
      ]
    },
    {
      "metadata": {
        "id": "l1e1jrOIhvrU",
        "colab_type": "text"
      },
      "cell_type": "markdown",
      "source": [
        "another sanity check, pull some data from the cell"
      ]
    },
    {
      "metadata": {
        "id": "inKy4t_ql84_",
        "colab_type": "text"
      },
      "cell_type": "markdown",
      "source": [
        ""
      ]
    },
    {
      "metadata": {
        "id": "DTNno_koh0z6",
        "colab_type": "code",
        "outputId": "55a7a26b-c645-4bbd-fcb9-af2d2a5dd87d",
        "colab": {
          "base_uri": "https://localhost:8080/",
          "height": 54
        }
      },
      "cell_type": "code",
      "source": [
        "row_result = worksheet.cell(2,3)\n",
        "print(row_result)"
      ],
      "execution_count": 4,
      "outputs": [
        {
          "output_type": "stream",
          "text": [
            "<Cell R2C3 'It was a dark and stormy night! Full of bluster and wind. You are wondering why you are out on a night like this when you should be home, warm, in bed. \\\\n\\nBut, you being the fool that you are, decided it was a good time to look in on the power module.'>\n"
          ],
          "name": "stdout"
        }
      ]
    },
    {
      "metadata": {
        "id": "sSr-ZwAFl-Mf",
        "colab_type": "text"
      },
      "cell_type": "markdown",
      "source": [
        "I don't like the way colab /jupyter is handling the text wrap... it's not wrapping so let's use a column call."
      ]
    },
    {
      "metadata": {
        "id": "a3qv5JQOmHx8",
        "colab_type": "code",
        "outputId": "4b7a1bd9-9247-4d28-d259-5b9528a28ea2",
        "colab": {
          "base_uri": "https://localhost:8080/",
          "height": 54
        }
      },
      "cell_type": "code",
      "source": [
        "col_result = worksheet.col_values(4)\n",
        "print(col_result)"
      ],
      "execution_count": 5,
      "outputs": [
        {
          "output_type": "stream",
          "text": [
            "['It was a dark and stormy night! Full of bluster and wind. \\\\n', 'You are wondering why you are out on a night like this when you should be home, warm, in bed.\\\\n', 'But, you being the fool that you are, decided it was a good time to look in on the power module.']\n"
          ],
          "name": "stdout"
        }
      ]
    },
    {
      "metadata": {
        "id": "UTVJVKx1mSE7",
        "colab_type": "text"
      },
      "cell_type": "markdown",
      "source": [
        "That is not working either... :("
      ]
    },
    {
      "metadata": {
        "id": "jvCJfAEOmQZ6",
        "colab_type": "text"
      },
      "cell_type": "markdown",
      "source": [
        ""
      ]
    },
    {
      "metadata": {
        "id": "Hc6jp1Yyyw1x",
        "colab_type": "code",
        "outputId": "ae693172-4c67-48ee-d79e-e04667e68f4e",
        "colab": {
          "base_uri": "https://localhost:8080/",
          "height": 311
        }
      },
      "cell_type": "code",
      "source": [
        "import time #Imports a module to add a pause\n",
        "\n",
        "#Figuring out how users might respond\n",
        "answer_A = [\"A\", \"a\"]\n",
        "answer_B = [\"B\", \"b\"]\n",
        "answer_C = [\"C\", \"c\"]\n",
        "answer_D = [\"D\", \"d\"]\n",
        "yes = [\"Y\", \"y\", \"yes\"]\n",
        "no = [\"N\", \"n\", \"no\"]\n",
        "\n",
        "#Grabbing objects\n",
        "sword = 0\n",
        "flower = 0\n",
        "\n",
        "required = (\"\\nUse only A, B, or C\\n\") #Cutting down on duplication\n",
        "\n",
        "#The story is broken into sections, starting with \"intro\"\n",
        "def intro():\n",
        "  print (\"After a drunken night out with friends, you awaken the\\n \"\n",
        "  \"next morning in a thick, dank forest. Head spinning and\\n \" \n",
        "  \"fighting the urge to vomit, you stand and marvel at your new\\n, \"\n",
        "  \"unfamiliar setting. The peace quickly fades when you hear a\\n \"\n",
        "  \"grotesque sound emitting behind you. A slobbering orc is\\n \"\n",
        "  \"running towards you. You will:\")\n",
        "  time.sleep(1)\n",
        "  print (\"\"\"  A. Grab a nearby rock and throw it at the orc\n",
        "  B. Lie down and wait to be mauled\n",
        "  C. Run\n",
        "  D. Have some fum\"\"\")\n",
        "  choice = input(\">>> \") #Here is your first choice.\n",
        "  if choice in answer_A:\n",
        "    option_rock()\n",
        "  elif choice in answer_B:\n",
        "    print (\"\\nWelp, that was quick. \"\n",
        "    \"\\n\\nYou died!\")\n",
        "  elif choice in answer_C:\n",
        "    option_run()\n",
        "  elif choice in answer_D:\n",
        "    option_fun()\n",
        "    \n",
        "  else:\n",
        "    print (required)\n",
        "    intro()\n",
        "    \n",
        "#######################    \n",
        "def option_fun():\n",
        "  row_result = worksheet.cell(2,3)\n",
        "  print(row_result)\n",
        "  time.sleep(1)\n",
        "  print (\"\"\"  A. Run\n",
        "  B. Throw another rock\n",
        "  C. Run towards a nearby cave\"\"\")\n",
        "  choice = input(\">>> \")\n",
        "  if choice in answer_A:\n",
        "    option_run()\n",
        "  elif choice in answer_B:\n",
        "    print (\"\\nYou decided to throw another rock, as if the first \\n\" \n",
        "    \"rock thrown did much damage. The rock flew well over the\\n \"\n",
        "    \"orcs head. You missed. \\n\\nYou died!\")\n",
        "  elif choice in answer_C:\n",
        "    option_cave()\n",
        "  else:\n",
        "    print (required)\n",
        "    option_rock()\n",
        "\n",
        "  \n",
        "  \n",
        "def option_rock(): \n",
        "  print (\"\\nThe orc is stunned, but regains control. He begins\\n \"\n",
        "  \"running towards you again. Will you:\")\n",
        "  time.sleep(1)\n",
        "  print (\"\"\"  A. Run\n",
        "  B. Throw another rock\n",
        "  C. Run towards a nearby cave\"\"\")\n",
        "  choice = input(\">>> \")\n",
        "  if choice in answer_A:\n",
        "    option_run()\n",
        "  elif choice in answer_B:\n",
        "    print (\"\\nYou decided to throw another rock, as if the first \\n\" \n",
        "    \"rock thrown did much damage. The rock flew well over the\\n \"\n",
        "    \"orcs head. You missed. \\n\\nYou died!\")\n",
        "  elif choice in answer_C:\n",
        "    option_cave()\n",
        "  else:\n",
        "    print (required)\n",
        "    option_rock()\n",
        "\n",
        "def option_cave():\n",
        "  print (\"\\nYou were hesitant, since the cave was dark and \\n\"\n",
        "  \"ominous. Before you fully enter, you notice a shiny sword on \\n\"\n",
        "  \"the ground. Do you pick up a sword. Y/N?\")\n",
        "  choice = input(\">>> \")\n",
        "  if choice in yes:\n",
        "    sword = 1 #adds a sword\n",
        "  else:\n",
        "    sword = 0\n",
        "  print (\"\\nWhat do you do next?\")\n",
        "  time.sleep(1)\n",
        "  print (\"\"\"  A. Hide in silence\n",
        "  B. Fight\n",
        "  C. Run\"\"\")\n",
        "  choice = input(\">>> \")\n",
        "  if choice in answer_A:\n",
        "    print (\"\\nReally? You're going to hide in the dark? I think \\n\"\n",
        "    \"orcs can see very well in the dark, right? Not sure, but\\n \"\n",
        "    \"I'm going with YES, so...\\n\\nYou died!\")\n",
        "  elif choice in answer_B:\n",
        "   if sword > 0:\n",
        "    print (\"\\nYou laid in wait. The shimmering sword attracted \\n\"\n",
        "    \"the orc, which thought you were no match. As he walked\\n \"\n",
        "    \"closer and closer, your heart beat rapidly. As the orc \\n\"\n",
        "    \"reached out to grab the sword, you pierced the blade into \"\n",
        "    \"its chest. \\n\\nYou survived!\")\n",
        "   else: #If the user didn't grab the sword\n",
        "     print (\"\\nYou should have picked up that sword. You're \"\n",
        "     \"defenseless. \\n\\nYou died!\")\n",
        "  elif choice in answer_C:\n",
        "    print (\"As the orc enters the dark cave, you sliently \"\n",
        "    \"sneak out. You're several feet away, but the orc turns \"\n",
        "    \"around and sees you running.\")\n",
        "    option_run()\n",
        "  else:\n",
        "    print (required)\n",
        "    option_cave()\n",
        "\n",
        "def option_run():\n",
        "  print (\"\\nYou run as quickly as possible, but the orc's \"\n",
        "  \"speed is too great. You will:\")\n",
        "  time.sleep(1)\n",
        "  print (\"\"\"  A. Hide behind boulder\n",
        "  B. Trapped, so you fight\n",
        "  C. Run towards an abandoned town\"\"\")\n",
        "  choice = input(\">>> \")\n",
        "  if choice in answer_A:\n",
        "    print (\"You're easily spotted. \"\n",
        "    \"\\n\\nYou died!\")\n",
        "  elif choice in answer_B:\n",
        "    print (\"\\nYou're no match for an orc. \"\n",
        "    \"\\n\\nYou died!\")\n",
        "  elif choice in answer_C:\n",
        "    option_town()\n",
        "  else:\n",
        "    print (required)\n",
        "    option_run()\n",
        "    \n",
        "def option_town():\n",
        "  print (\"\\nWhile frantically running, you notice a rusted \"\n",
        "  \"sword lying in the mud. You quickly reach down and grab it,\\n \"\n",
        "  \"but miss. You try to calm your heavy breathing as you hide\\n \"\n",
        "  \"behind a delapitated building, waiting for the orc to come \\n\"\n",
        "  \"charging around the corner. You notice a purple flower \\n\"\n",
        "  \"near your foot. Do you pick it up? Y/N\")\n",
        "  choice = input(\">>> \")\n",
        "  if choice in yes:\n",
        "    flower = 1 #adds a flower\n",
        "  else:\n",
        "    flower = 0\n",
        "  print (\"You hear its heavy footsteps and ready yourself for \"\n",
        "  \"the impending orc.\")\n",
        "  time.sleep(1)\n",
        "  if flower > 0:\n",
        "    print (\"\\nYou quickly hold out the purple flower, somehow \"\n",
        "    \"hoping it will stop the orc. It does! The orc was looking \"\n",
        "    \"for love. \"\n",
        "    \"\\n\\nThis got weird, but you survived!\")\n",
        "  else: #If the user didn't grab the sword\n",
        "     print (\"\\nMaybe you should have picked up the flower. \"\n",
        "     \"\\n\\nYou died!\")\n",
        "\n",
        "intro()"
      ],
      "execution_count": 0,
      "outputs": [
        {
          "output_type": "stream",
          "text": [
            "After a drunken night out with friends, you awaken the\n",
            " next morning in a thick, dank forest. Head spinning and\n",
            " fighting the urge to vomit, you stand and marvel at your new\n",
            ", unfamiliar setting. The peace quickly fades when you hear a\n",
            " grotesque sound emitting behind you. A slobbering orc is\n",
            " running towards you. You will:\n",
            "  A. Grab a nearby rock and throw it at the orc\n",
            "  B. Lie down and wait to be mauled\n",
            "  C. Run\n",
            "  D. Have some fum\n",
            ">>> d\n",
            "<Cell R2C3 'It was a dark and stormy night! Full of bluster and wind. You are wondering why you are out on a night like this when you should be home, warm, in bed. \\\\n\\nBut, you being the fool that you are, decided it was a good time to look in on the power module.'>\n",
            "  A. Run\n",
            "  B. Throw another rock\n",
            "  C. Run towards a nearby cave\n"
          ],
          "name": "stdout"
        }
      ]
    }
  ]
}