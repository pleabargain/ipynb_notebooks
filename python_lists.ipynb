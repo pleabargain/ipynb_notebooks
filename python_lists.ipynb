{
  "nbformat": 4,
  "nbformat_minor": 0,
  "metadata": {
    "colab": {
      "name": "python lists.ipynb",
      "version": "0.3.2",
      "provenance": [],
      "collapsed_sections": [],
      "toc_visible": true,
      "include_colab_link": true
    },
    "kernelspec": {
      "name": "python3",
      "display_name": "Python 3"
    }
  },
  "cells": [
    {
      "cell_type": "markdown",
      "metadata": {
        "id": "view-in-github",
        "colab_type": "text"
      },
      "source": [
        "<a href=\"https://colab.research.google.com/github/pleabargain/ipynb_notebooks/blob/master/python_lists.ipynb\" target=\"_parent\"><img src=\"https://colab.research.google.com/assets/colab-badge.svg\" alt=\"Open In Colab\"/></a>"
      ]
    },
    {
      "metadata": {
        "id": "-BoNQ1tnnTkF",
        "colab_type": "text"
      },
      "cell_type": "markdown",
      "source": [
        "# lists\n",
        "\n",
        "A Python list has brackets ([ and ]) on either end and commas (,) between each item.\n",
        "\n",
        "Which of the following is the correct way to create the following list of names: 'Tom', 'Jerry', 'Tweetie', 'Sylvester'?\n",
        "\n",
        "`names = ['Tom', 'Jerry', 'Tweetie', 'Sylvester']`"
      ]
    },
    {
      "metadata": {
        "id": "5_yf1kS2Giwr",
        "colab_type": "code",
        "outputId": "dc08b401-a0ba-4a57-d3ef-ffa708d4baaf",
        "colab": {
          "base_uri": "https://localhost:8080/",
          "height": 51
        }
      },
      "cell_type": "code",
      "source": [
        "#change the interval 3 and note how print(list1_len changes)\n",
        "interval = 6  #@param {type: \"slider\", min: 1, max: 20}\n",
        "outer_range = 64 #@param {type: \"slider\", min: 1, max: 200}\n",
        "list1 = range(2, outer_range, interval)\n",
        "list1_len =len(list1)\n",
        "\n",
        "print(list(list1))\n",
        "print(list1_len)"
      ],
      "execution_count": 0,
      "outputs": [
        {
          "output_type": "stream",
          "text": [
            "[2, 8, 14, 20, 26, 32, 38, 44, 50, 56, 62]\n",
            "11\n"
          ],
          "name": "stdout"
        }
      ]
    },
    {
      "metadata": {
        "id": "OLw-XTBzGy5N",
        "colab_type": "code",
        "colab": {}
      },
      "cell_type": "code",
      "source": [
        "#@title Example form fields\n",
        "#@markdown Forms support many types of fields.\n",
        "\n",
        "no_type_checking = ''  #@param\n",
        "string_type = 'example'  #@param {type: \"string\"}\n",
        "slider_value = 142  #@param {type: \"slider\", min: 100, max: 200}\n",
        "number = 102  #@param {type: \"number\"}\n",
        "date = '2010-11-05'  #@param {type: \"date\"}\n",
        "pick_me = \"monday\"  #@param ['monday', 'tuesday', 'wednesday', 'thursday']\n",
        "select_or_input = \"apples\" #@param [\"apples\", \"bananas\", \"oranges\"] {allow-input: true}\n",
        "#@markdown ---\n"
      ],
      "execution_count": 0,
      "outputs": []
    },
    {
      "metadata": {
        "id": "5U19qR1qn1bm",
        "colab_type": "text"
      },
      "cell_type": "markdown",
      "source": [
        ""
      ]
    },
    {
      "metadata": {
        "id": "FikhFryon19n",
        "colab_type": "text"
      },
      "cell_type": "markdown",
      "source": [
        "# LEN"
      ]
    },
    {
      "metadata": {
        "id": "3TVETpzoK7Z-",
        "colab_type": "code",
        "outputId": "ed01d78a-7a1f-496c-b1e6-b49c29357f0f",
        "colab": {
          "base_uri": "https://localhost:8080/",
          "height": 68
        }
      },
      "cell_type": "code",
      "source": [
        "employees = ['Michael', 'Dwight', 'Jim', 'Pam', 'Ryan', 'Andy', 'Robert']\n",
        "\n",
        "index4 = employees[4]\n",
        "print (\"this is how many employees there are: \" + str(len(employees)))\n",
        "print(index4)\n",
        "\n",
        "print(employees[6])"
      ],
      "execution_count": 0,
      "outputs": [
        {
          "output_type": "stream",
          "text": [
            "this is how many emps there are 7\n",
            "Ryan\n",
            "Robert\n"
          ],
          "name": "stdout"
        }
      ]
    },
    {
      "metadata": {
        "id": "zvTRdB-BLvFl",
        "colab_type": "code",
        "outputId": "58c3afeb-162c-4f26-db2f-3c843abbf9b2",
        "colab": {
          "base_uri": "https://localhost:8080/",
          "height": 68
        }
      },
      "cell_type": "code",
      "source": [
        "shopping_list = ['eggs', 'butter', 'milk', 'cucumbers', 'juice', 'cereal']\n",
        "\n",
        "print(len(shopping_list))\n",
        "last_element = (shopping_list[-1])\n",
        "element5 = (shopping_list[5])\n",
        "\n",
        "print(\"this is the last elem: \"+last_element)\n",
        "print (element5)"
      ],
      "execution_count": 0,
      "outputs": [
        {
          "output_type": "stream",
          "text": [
            "6\n",
            "this is the last elem: cereal\n",
            "cereal\n"
          ],
          "name": "stdout"
        }
      ]
    },
    {
      "metadata": {
        "id": "xVPiP7-1Mm5g",
        "colab_type": "text"
      },
      "cell_type": "markdown",
      "source": [
        "return the length of the list mylist?\n",
        "\n",
        "`len(mylist)`\n"
      ]
    },
    {
      "metadata": {
        "id": "wLN1nMCHMnod",
        "colab_type": "text"
      },
      "cell_type": "markdown",
      "source": [
        "# slicing lists\n"
      ]
    },
    {
      "metadata": {
        "id": "Xnu2BsucMq6O",
        "colab_type": "code",
        "outputId": "5da9dbe6-5839-4da5-82e7-0021b83d7b6f",
        "colab": {
          "base_uri": "https://localhost:8080/",
          "height": 51
        }
      },
      "cell_type": "code",
      "source": [
        "suitcase = ['shirt', 'shirt', 'pants', 'pants', 'pajamas', 'books']\n",
        "\n",
        "beginning = suitcase[0:4]\n",
        "print(beginning)\n",
        "\n",
        "middle  = suitcase [2:4]\n",
        "print(middle)"
      ],
      "execution_count": 0,
      "outputs": [
        {
          "output_type": "stream",
          "text": [
            "['shirt', 'shirt', 'pants', 'pants']\n",
            "['pants', 'pants']\n"
          ],
          "name": "stdout"
        }
      ]
    },
    {
      "metadata": {
        "id": "zz0nO9KkNfIh",
        "colab_type": "code",
        "outputId": "f2e056f9-79b5-4d97-cfaf-adfc3f390435",
        "colab": {
          "base_uri": "https://localhost:8080/",
          "height": 51
        }
      },
      "cell_type": "code",
      "source": [
        "suitcase = ['shirt', 'shirt', 'pants', 'pants', 'pajamas', 'books']\n",
        "\n",
        "start = suitcase[0:3]\n",
        "print(start)\n",
        "\n",
        "end = suitcase[-2:]\n",
        "print(\"this will get the last two \"+ str(end))"
      ],
      "execution_count": 0,
      "outputs": [
        {
          "output_type": "stream",
          "text": [
            "['shirt', 'shirt', 'pants']\n",
            "this will get the last two ['pajamas', 'books']\n"
          ],
          "name": "stdout"
        }
      ]
    },
    {
      "metadata": {
        "id": "1nt0oyK4OLMI",
        "colab_type": "code",
        "colab": {}
      },
      "cell_type": "code",
      "source": [
        ""
      ],
      "execution_count": 0,
      "outputs": []
    },
    {
      "metadata": {
        "id": "5yf5B6gomjje",
        "colab_type": "text"
      },
      "cell_type": "markdown",
      "source": [
        "Which of the following lines of code would select the letter e from mylist:\n",
        "\n",
        "```\n",
        "mylist = ['a', 'b', 'c', 'd', 'e']\n",
        "```\n",
        "\n",
        "\n",
        "`mylist[-1]`"
      ]
    },
    {
      "metadata": {
        "id": "_gd5VtMXnEoT",
        "colab_type": "text"
      },
      "cell_type": "markdown",
      "source": [
        "Which of the following code selects the last three elements of mylist?\n",
        "\n",
        "\n",
        "```\n",
        "mylist[-3:]```\n",
        "\n",
        "\n"
      ]
    },
    {
      "metadata": {
        "id": "EN3hDTXenPaR",
        "colab_type": "text"
      },
      "cell_type": "markdown",
      "source": [
        "Which of the following lines of code would select the list ['b', 'c'] from mylist: \n",
        "\n",
        "`mylist = ['a', 'b', 'c', 'd', 'e']`\n",
        "\n",
        "\n",
        "`mylist[1:3]`\n"
      ]
    },
    {
      "metadata": {
        "id": "vWoxxJIbnd2a",
        "colab_type": "text"
      },
      "cell_type": "markdown",
      "source": [
        "Which of the following would be generated by the code snippet?\n",
        "\n",
        "\n",
        "\n",
        "```\n",
        "mylist = ['a', 'b', 'c', 'd', 'e', 'f']\n",
        "print(mylist[2:5])\n",
        "```\n",
        "\n",
        "\n",
        "\n",
        "\n",
        "```\n",
        "['c', 'd', 'e']\n",
        "```\n",
        "\n",
        "\n"
      ]
    },
    {
      "metadata": {
        "id": "yYtrVl6JOL1H",
        "colab_type": "text"
      },
      "cell_type": "markdown",
      "source": [
        "# counting in lists\n"
      ]
    },
    {
      "metadata": {
        "id": "kINd2uU7OOyn",
        "colab_type": "code",
        "outputId": "ca7a9b4c-10a5-4e1a-dd3b-d854054c4900",
        "colab": {
          "base_uri": "https://localhost:8080/",
          "height": 34
        }
      },
      "cell_type": "code",
      "source": [
        "votes = ['Jake', 'Jake', 'Laurie', 'Laurie', 'Laurie', 'Jake', 'Jake', 'Jake', 'Laurie', 'Cassie', 'Cassie', 'Jake', 'Jake', 'Cassie', 'Laurie', 'Cassie', 'Jake', 'Jake', 'Cassie', 'Laurie']\n",
        "\n",
        "jake_votes = votes.count('Jake')\n",
        "print(jake_votes)"
      ],
      "execution_count": 0,
      "outputs": [
        {
          "output_type": "stream",
          "text": [
            "9\n"
          ],
          "name": "stdout"
        }
      ]
    },
    {
      "metadata": {
        "id": "zcGlaSJiPEV_",
        "colab_type": "text"
      },
      "cell_type": "markdown",
      "source": [
        "# sorting lists\n"
      ]
    },
    {
      "metadata": {
        "id": "WAZKyWSkPHhf",
        "colab_type": "code",
        "outputId": "cff0b6a1-8893-480d-f7fe-a84d94e36d48",
        "colab": {
          "base_uri": "https://localhost:8080/",
          "height": 68
        }
      },
      "cell_type": "code",
      "source": [
        "### Exercise 1 & 2 ###\n",
        "addresses = ['221 B Baker St.', '42 Wallaby Way', '12 Grimmauld Place', '742 Evergreen Terrace', '1600 Pennsylvania Ave', '10 Downing St.']\n",
        "\n",
        "# Sort addresses here:\n",
        "addresses.sort()\n",
        "print(addresses)\n",
        "\n",
        "\n",
        "### Exercise 3 ###\n",
        "names = ['Ron', 'Hermione', 'Harry', 'Albus', 'Sirius']\n",
        "names.sort()\n",
        "print(names)\n",
        "\n",
        "### Exercise 4 ###\n",
        "cities = ['London', 'Paris', 'Rome', 'Los Angeles', 'New York']\n",
        "\n",
        "sorted_cities = cities.sort()\n",
        "print(sorted_cities)"
      ],
      "execution_count": 0,
      "outputs": [
        {
          "output_type": "stream",
          "text": [
            "['10 Downing St.', '12 Grimmauld Place', '1600 Pennsylvania Ave', '221 B Baker St.', '42 Wallaby Way', '742 Evergreen Terrace']\n",
            "['Albus', 'Harry', 'Hermione', 'Ron', 'Sirius']\n",
            "None\n"
          ],
          "name": "stdout"
        }
      ]
    },
    {
      "metadata": {
        "id": "kAfgsSmGPedo",
        "colab_type": "code",
        "outputId": "28ef23da-0cff-4430-cbdd-ab1387174391",
        "colab": {
          "base_uri": "https://localhost:8080/",
          "height": 51
        }
      },
      "cell_type": "code",
      "source": [
        "#this is sorted\n",
        "games = ['Portal', 'Minecraft', 'Pacman', 'Tetris', 'The Sims', 'Pokemon']\n",
        "\n",
        "games_sorted = sorted(games)\n",
        "print(games)\n",
        "print(games_sorted)"
      ],
      "execution_count": 0,
      "outputs": [
        {
          "output_type": "stream",
          "text": [
            "['Portal', 'Minecraft', 'Pacman', 'Tetris', 'The Sims', 'Pokemon']\n",
            "['Minecraft', 'Pacman', 'Pokemon', 'Portal', 'Tetris', 'The Sims']\n"
          ],
          "name": "stdout"
        }
      ]
    },
    {
      "metadata": {
        "id": "fMT5gZ9XQx2D",
        "colab_type": "code",
        "outputId": "053a6134-838b-4d05-8095-136673335371",
        "colab": {
          "base_uri": "https://localhost:8080/",
          "height": 122
        }
      },
      "cell_type": "code",
      "source": [
        "inventory = ['twin bed', 'twin bed', 'headboard', 'queen bed', 'king bed', 'dresser', 'dresser', 'table', 'table', 'nightstand', 'nightstand', 'king bed', 'king bed', 'twin bed', 'twin bed', 'sheets', 'sheets', 'pillow', 'pillow']\n",
        "\n",
        "inventory_len = len(inventory)\n",
        "print(inventory_len)\n",
        "\n",
        "first = inventory[0]\n",
        "print(first)\n",
        "\n",
        "last = inventory[-1]\n",
        "print(last)\n",
        "\n",
        "inventory_2_6 = inventory [2:6]\n",
        "\n",
        "first_3 = inventory [0:3]\n",
        "\n",
        "twin_beds = inventory.count('twin bed')\n",
        "print(twin_beds)\n",
        "\n",
        "inventory.sort()\n",
        "inventory_sorted = sorted(inventory)\n",
        "print(inventory_sorted)"
      ],
      "execution_count": 0,
      "outputs": [
        {
          "output_type": "stream",
          "text": [
            "19\n",
            "twin bed\n",
            "pillow\n",
            "4\n",
            "['dresser', 'dresser', 'headboard', 'king bed', 'king bed', 'king bed', 'nightstand', 'nightstand', 'pillow', 'pillow', 'queen bed', 'sheets', 'sheets', 'table', 'table', 'twin bed', 'twin bed', 'twin bed', 'twin bed']\n"
          ],
          "name": "stdout"
        }
      ]
    },
    {
      "metadata": {
        "id": "BV0WMRE6ck4a",
        "colab_type": "text"
      },
      "cell_type": "markdown",
      "source": [
        "# zip\n"
      ]
    },
    {
      "metadata": {
        "id": "yGrXRRWWZWE-",
        "colab_type": "code",
        "outputId": "d71848f3-183e-4781-c8b3-d4684b0dd70f",
        "colab": {
          "base_uri": "https://localhost:8080/",
          "height": 55
        }
      },
      "cell_type": "code",
      "source": [
        "names = ['Jenny', 'Alexus', 'Sam', 'Grace']\n",
        "dogs_names = ['Elphonse', 'Dr. Doggy DDS', 'Carter', 'Ralph']\n",
        "\n",
        "names_and_dogs_names =zip(names,dogs_names)\n",
        "\n",
        "print(list(names_and_dogs_names))\n",
        "\n",
        "#I've never seen zip() before"
      ],
      "execution_count": 0,
      "outputs": [
        {
          "output_type": "stream",
          "text": [
            "[('Jenny', 'Elphonse'), ('Alexus', 'Dr. Doggy DDS'), ('Sam', 'Carter'), ('Grace', 'Ralph')]\n"
          ],
          "name": "stdout"
        }
      ]
    },
    {
      "metadata": {
        "id": "XCMMiePtcoN_",
        "colab_type": "text"
      },
      "cell_type": "markdown",
      "source": [
        "# append\n",
        "\n",
        "We can only add one item at a time using append.\n",
        "\n"
      ]
    },
    {
      "metadata": {
        "id": "SdBciMeJcjDB",
        "colab_type": "code",
        "outputId": "d587c834-d1d8-4064-d803-b68286d13497",
        "colab": {
          "base_uri": "https://localhost:8080/",
          "height": 71
        }
      },
      "cell_type": "code",
      "source": [
        "orders = ['daisies', 'periwinkle']\n",
        "print(list(orders))\n",
        "orders.append('tulips')\n",
        "print(list(orders))\n",
        "\n",
        "orders.append('roses')\n",
        "\n",
        "print(list(orders))\n"
      ],
      "execution_count": 0,
      "outputs": [
        {
          "output_type": "stream",
          "text": [
            "['daisies', 'periwinkle']\n",
            "['daisies', 'periwinkle', 'tulips']\n",
            "['daisies', 'periwinkle', 'tulips', 'roses']\n"
          ],
          "name": "stdout"
        }
      ]
    },
    {
      "metadata": {
        "id": "BBu1TuZQdXQh",
        "colab_type": "code",
        "outputId": "1c952bc5-e52f-4706-ce4c-3660124ad496",
        "colab": {
          "base_uri": "https://localhost:8080/",
          "height": 53
        }
      },
      "cell_type": "code",
      "source": [
        "#another way to append\n",
        "orders = ['daisy', 'buttercup', 'snapdragon', 'gardenia', 'lily']\n",
        "\n",
        "# Create new orders here:\n",
        "\n",
        "new_orders = orders + ['lilac','iris']\n",
        "broken_prices = [5, 3, 4, 5, 4] + [4]\n",
        "print(new_orders)\n",
        "print(broken_prices)"
      ],
      "execution_count": 0,
      "outputs": [
        {
          "output_type": "stream",
          "text": [
            "['daisy', 'buttercup', 'snapdragon', 'gardenia', 'lily', 'lilac', 'iris']\n",
            "[5, 3, 4, 5, 4, 4]\n"
          ],
          "name": "stdout"
        }
      ]
    },
    {
      "metadata": {
        "id": "U1ZjWRGcd-2g",
        "colab_type": "text"
      },
      "cell_type": "markdown",
      "source": [
        "# home on the range\n",
        "\n"
      ]
    },
    {
      "metadata": {
        "id": "bnbvYxN8m22-",
        "colab_type": "text"
      },
      "cell_type": "markdown",
      "source": [
        "Which of the following would create a range object that starts at 3, goes up to but not including 15 where each number is 4 greater than the previous number?\n",
        "\n",
        "`range(3, 15, 4)`\n",
        "\n",
        "What list would be created by this command: list(range(2, 14, 4))?\n",
        "\n",
        "`[2, 6, 10]`"
      ]
    },
    {
      "metadata": {
        "id": "I2pecChIeDbP",
        "colab_type": "code",
        "outputId": "eca9eb26-576f-4077-db90-f5a64bbfdf10",
        "colab": {
          "base_uri": "https://localhost:8080/",
          "height": 51
        }
      },
      "cell_type": "code",
      "source": [
        "list1 = range(0,9)\n",
        "range1 = range(0,8)\n",
        "#note the difference when you print!\n",
        "print(range1)\n",
        "print(list(range1))"
      ],
      "execution_count": 0,
      "outputs": [
        {
          "output_type": "stream",
          "text": [
            "range(0, 8)\n",
            "[0, 1, 2, 3, 4, 5, 6, 7]\n"
          ],
          "name": "stdout"
        }
      ]
    },
    {
      "metadata": {
        "id": "6K1ZrDF6hW8c",
        "colab_type": "code",
        "outputId": "5d703b89-d2b3-43d0-d089-30fbcfacd26e",
        "colab": {
          "base_uri": "https://localhost:8080/",
          "height": 51
        }
      },
      "cell_type": "code",
      "source": [
        "list1 = range(5, 15, 2)\n",
        "print(list(list1))\n",
        "list2 = range(0, 40, 5)\n",
        "\n",
        "print(list(list2))"
      ],
      "execution_count": 0,
      "outputs": [
        {
          "output_type": "stream",
          "text": [
            "[5, 7, 9, 11, 13]\n",
            "[0, 5, 10, 15, 20, 25, 30, 35]\n"
          ],
          "name": "stdout"
        }
      ]
    },
    {
      "metadata": {
        "id": "l2t4nxdxl5-s",
        "colab_type": "text"
      },
      "cell_type": "markdown",
      "source": [
        "# final lesson\n",
        "not a single function in the batch"
      ]
    },
    {
      "metadata": {
        "id": "mCkwvL2Xl-2k",
        "colab_type": "code",
        "outputId": "a05ab077-460d-4d90-ec6d-ea9802933591",
        "colab": {
          "base_uri": "https://localhost:8080/",
          "height": 102
        }
      },
      "cell_type": "code",
      "source": [
        "first_names = [\"Ainsley\",\n",
        "\"Ben\",\n",
        "\"Chani\",\n",
        "\"Depak\"]\n",
        "\n",
        "age =[]\n",
        "age.append(42)\n",
        "all_ages = age + [32,41,29] \n",
        "\n",
        "name_and_age = zip(first_names,all_ages)\n",
        "\n",
        "ids=range(0,4)\n",
        "\n",
        "\n",
        "print(list(first_names))\n",
        "print(list(age))\n",
        "print(list(all_ages))\n",
        "print(list(name_and_age))\n",
        "print(list(ids))     \n",
        "\n",
        "\n",
        "\n"
      ],
      "execution_count": 0,
      "outputs": [
        {
          "output_type": "stream",
          "text": [
            "['Ainsley', 'Ben', 'Chani', 'Depak']\n",
            "[42]\n",
            "[42, 32, 41, 29]\n",
            "[('Ainsley', 42), ('Ben', 32), ('Chani', 41), ('Depak', 29)]\n",
            "[0, 1, 2, 3]\n"
          ],
          "name": "stdout"
        }
      ]
    },
    {
      "metadata": {
        "id": "9WTx1DSsn00u",
        "colab_type": "code",
        "outputId": "ba64b01d-c135-4212-aaa4-b47896a66da8",
        "colab": {
          "base_uri": "https://localhost:8080/",
          "height": 34
        }
      },
      "cell_type": "code",
      "source": [
        "string1 = \"The quick brown\"\n",
        "string2 = \"fox jumps over\"\n",
        "string3 = string1+string2\n",
        "print(string3+\" the lazy dog.\")"
      ],
      "execution_count": 0,
      "outputs": [
        {
          "output_type": "stream",
          "text": [
            "The quick brownfox jumps over the lazy dog.\n"
          ],
          "name": "stdout"
        }
      ]
    }
  ]
}