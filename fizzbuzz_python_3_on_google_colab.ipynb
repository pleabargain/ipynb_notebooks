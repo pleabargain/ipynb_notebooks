{
  "nbformat": 4,
  "nbformat_minor": 0,
  "metadata": {
    "colab": {
      "name": "fizzbuzz python 3 on google colab.ipynb",
      "version": "0.3.2",
      "provenance": [],
      "include_colab_link": true
    },
    "kernelspec": {
      "name": "python3",
      "display_name": "Python 3"
    }
  },
  "cells": [
    {
      "cell_type": "markdown",
      "metadata": {
        "id": "view-in-github",
        "colab_type": "text"
      },
      "source": [
        "<a href=\"https://colab.research.google.com/github/pleabargain/ipynb_notebooks/blob/master/fizzbuzz_python_3_on_google_colab.ipynb\" target=\"_parent\"><img src=\"https://colab.research.google.com/assets/colab-badge.svg\" alt=\"Open In Colab\"/></a>"
      ]
    },
    {
      "metadata": {
        "id": "71KsrRQgkNw0",
        "colab_type": "code",
        "colab": {
          "base_uri": "https://localhost:8080/",
          "height": 357
        },
        "outputId": "33a9cb60-c7c7-4d1e-9a21-1610314cfe1b"
      },
      "cell_type": "code",
      "source": [
        "def fizzbuzz(n):\n",
        "\"\"\"\"Write a program that prints the numbers from 1 to 100. But for multiples of three \n",
        "print “Fizz” instead of the number and for the multiples of five print “Buzz”. \n",
        "For numbers which are multiples of both three and five print “FizzBuzz”.\"\"\"\"\n",
        "    if n % 3 == 0 and n % 5 == 0:\n",
        "        return 'FizzBuzz'\n",
        "    elif n % 3 == 0:\n",
        "        return 'Fizz'\n",
        "    elif n % 5 == 0:\n",
        "        return 'Buzz'\n",
        "    else:\n",
        "        return str(n)\n",
        "\n",
        "print (\"\\n\".join(fizzbuzz(n) for n in range(1, 21)))"
      ],
      "execution_count": 2,
      "outputs": [
        {
          "output_type": "stream",
          "text": [
            "1\n",
            "2\n",
            "Fizz\n",
            "4\n",
            "Buzz\n",
            "Fizz\n",
            "7\n",
            "8\n",
            "Fizz\n",
            "Buzz\n",
            "11\n",
            "Fizz\n",
            "13\n",
            "14\n",
            "FizzBuzz\n",
            "16\n",
            "17\n",
            "Fizz\n",
            "19\n",
            "Buzz\n"
          ],
          "name": "stdout"
        }
      ]
    }
  ]
}