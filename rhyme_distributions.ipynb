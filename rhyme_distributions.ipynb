{
  "nbformat": 4,
  "nbformat_minor": 0,
  "metadata": {
    "colab": {
      "name": "rhyme-distributions.ipynb",
      "version": "0.3.2",
      "provenance": [],
      "include_colab_link": true
    },
    "kernelspec": {
      "name": "python2",
      "display_name": "Python 2"
    }
  },
  "cells": [
    {
      "cell_type": "markdown",
      "metadata": {
        "id": "view-in-github",
        "colab_type": "text"
      },
      "source": [
        "<a href=\"https://colab.research.google.com/github/pleabargain/ipynb_notebooks/blob/master/rhyme_distributions.ipynb\" target=\"_parent\"><img src=\"https://colab.research.google.com/assets/colab-badge.svg\" alt=\"Open In Colab\"/></a>"
      ]
    },
    {
      "metadata": {
        "id": "uxvPIM52gIZy",
        "colab_type": "text"
      },
      "cell_type": "markdown",
      "source": [
        "from https://github.com/adampalay\n",
        "updated code with sort_index"
      ]
    },
    {
      "metadata": {
        "id": "4JdA6CYufV5V",
        "colab_type": "text"
      },
      "cell_type": "markdown",
      "source": [
        "# Rhyme Distributions in Shakespeare's Sonnets\n",
        "In this notebook, we'll analyze the rhyme distributions in Shakespeare's sonnets.\n",
        "We'll start by extracting the sonnets from a Project Gutenberg webpage, then use [nltk](http://www.nltk.org/) to analyze the sonnets' rhymes. We'll also use [pandas](http://pandas.pydata.org/) to make some simple bar graphs (because who really has the time to work through the matplotlib api?).\n",
        "\n",
        "This is supplementary material to my talk [Words, Words, Words: Reading Shakespeare with Python](/pycon2015)\n",
        "\n",
        "Download this notebook [here](/notebooks/rhyme-distributions.ipynb)"
      ]
    },
    {
      "metadata": {
        "id": "t00YBdv4fV5W",
        "colab_type": "code",
        "colab": {}
      },
      "cell_type": "code",
      "source": [
        "import requests\n",
        "from lxml import etree\n",
        "import nltk\n",
        "import string\n",
        "import pandas as pd\n",
        "# include this line to generate graphs in the body of the notebook\n",
        "%matplotlib inline"
      ],
      "execution_count": 0,
      "outputs": []
    },
    {
      "metadata": {
        "id": "e9365YHyfV5a",
        "colab_type": "text"
      },
      "cell_type": "markdown",
      "source": [
        "## Setup"
      ]
    },
    {
      "metadata": {
        "id": "GLTzh40tfV5a",
        "colab_type": "text"
      },
      "cell_type": "markdown",
      "source": [
        "### Get sonnets from project gutenberg:"
      ]
    },
    {
      "metadata": {
        "id": "Fpwk8QPNfV5b",
        "colab_type": "code",
        "colab": {}
      },
      "cell_type": "code",
      "source": [
        "def pull_sonnets():\n",
        "    sonnets_html = requests.get('http://www.gutenberg.org/files/1041/1041-h/1041-h.htm').content\n",
        "    html = etree.HTML(sonnets_html)\n",
        "    poems_elements = [element for element in html.xpath(\"//p[@class='poem']\")]\n",
        "    clean_sonnets = []\n",
        "    for element in poems_elements:\n",
        "        clean_sonnet = \"\\n\".join([text.strip() for text in element.itertext() if text.strip()])\n",
        "        clean_sonnets.append(clean_sonnet)\n",
        "    return clean_sonnets"
      ],
      "execution_count": 0,
      "outputs": []
    },
    {
      "metadata": {
        "id": "GfdOXvdffV5e",
        "colab_type": "code",
        "colab": {}
      },
      "cell_type": "code",
      "source": [
        "sonnets = pull_sonnets()"
      ],
      "execution_count": 0,
      "outputs": []
    },
    {
      "metadata": {
        "id": "uj7rELFsfV5h",
        "colab_type": "text"
      },
      "cell_type": "markdown",
      "source": [
        "### Clean text and extract rhymes from sonnets"
      ]
    },
    {
      "metadata": {
        "id": "nnp4Bse-fV5i",
        "colab_type": "code",
        "colab": {}
      },
      "cell_type": "code",
      "source": [
        "def last_word(line):\n",
        "    \"\"\"\n",
        "    Takes a line and returns the last work in the line\n",
        "    \"\"\"\n",
        "    # split the line into words\n",
        "    words = line.split()\n",
        "    # take the last word\n",
        "    last = words[-1]\n",
        "    # remove leading/trailing punctuation\n",
        "    # and make lowercase\n",
        "    last = last.strip(string.punctuation).lower()\n",
        "    return last"
      ],
      "execution_count": 0,
      "outputs": []
    },
    {
      "metadata": {
        "id": "CWefDInzfV5l",
        "colab_type": "code",
        "colab": {}
      },
      "cell_type": "code",
      "source": [
        "def get_rhymes(sonnets):\n",
        "    rhymes = []\n",
        "    for sonnet in sonnets:\n",
        "        lines = sonnet.split('\\n')\n",
        "        if len(lines) != 14:\n",
        "            continue\n",
        "        # since we know sonnets have the same rhyme scheme\n",
        "        # (abab cdcd efef gg) we can \"hard code\" it here\n",
        "        for index in xrange(12):\n",
        "            if index % 4 in [0, 1]:\n",
        "                pair = (last_word(lines[index]), last_word(lines[index + 2]))\n",
        "                rhymes.append(pair)\n",
        "        rhymes.append((last_word(lines[12]), last_word(lines[13])))\n",
        "    return rhymes\n"
      ],
      "execution_count": 0,
      "outputs": []
    },
    {
      "metadata": {
        "id": "mPkhLOqsfV5p",
        "colab_type": "text"
      },
      "cell_type": "markdown",
      "source": [
        "## Rhyme Distributions:"
      ]
    },
    {
      "metadata": {
        "id": "qW4FuRJYfV5q",
        "colab_type": "text"
      },
      "cell_type": "markdown",
      "source": [
        "### Frequency Distribution\n",
        "Here we're going to use nltk's `FreqDist` class to create a frequency distributions of the rhymes in the sonnets. So, at the end, we'll get a mapping of each rhyme to the amount of times it occurs. "
      ]
    },
    {
      "metadata": {
        "id": "e64qMQKVfV5r",
        "colab_type": "code",
        "colab": {}
      },
      "cell_type": "code",
      "source": [
        "rhymes = get_rhymes(sonnets)\n",
        "fd = nltk.FreqDist(rhymes)"
      ],
      "execution_count": 0,
      "outputs": []
    },
    {
      "metadata": {
        "id": "vJOcXSbpfV5v",
        "colab_type": "code",
        "colab": {
          "base_uri": "https://localhost:8080/",
          "height": 187
        },
        "outputId": "19a86f26-d772-4c91-a001-67343e1c4656"
      },
      "cell_type": "code",
      "source": [
        "for rhyme, freq in fd.most_common(10):\n",
        "    print rhyme, freq"
      ],
      "execution_count": 7,
      "outputs": [
        {
          "output_type": "stream",
          "text": [
            "(u'thee', u'me') 14\n",
            "(u'me', u'thee') 9\n",
            "(u'thee', u'be') 8\n",
            "(u'days', u'praise') 6\n",
            "(u'heart', u'art') 5\n",
            "(u'heart', u'part') 5\n",
            "(u'love', u'prove') 5\n",
            "(u'prove', u'love') 4\n",
            "(u'face', u'disgrace') 4\n",
            "(u'eyes', u'lies') 4\n"
          ],
          "name": "stdout"
        }
      ]
    },
    {
      "metadata": {
        "id": "USFNVGaEfV52",
        "colab_type": "code",
        "colab": {
          "base_uri": "https://localhost:8080/",
          "height": 297
        },
        "outputId": "c4a85021-edbe-4bbf-f20e-e667e8af40ef"
      },
      "cell_type": "code",
      "source": [
        "df = pd.DataFrame(fd.most_common(10))\n",
        "df.columns = [\"rhyme\", \"frequency\"]\n",
        "df.sort_index(ascending=False).plot(\n",
        "    kind='barh',\n",
        "    x='rhyme',\n",
        "    title=\"Most Common Rhymes in the Sonnets\",\n",
        ")"
      ],
      "execution_count": 10,
      "outputs": [
        {
          "output_type": "execute_result",
          "data": {
            "text/plain": [
              "<matplotlib.axes._subplots.AxesSubplot at 0x7faeb831c810>"
            ]
          },
          "metadata": {
            "tags": []
          },
          "execution_count": 10
        },
        {
          "output_type": "display_data",
          "data": {
            "image/png": "[encoded data removed]",
            "text/plain": [
              "<Figure size 432x288 with 1 Axes>"
            ]
          },
          "metadata": {
            "tags": []
          }
        }
      ]
    },
    {
      "metadata": {
        "id": "nMfQpPVkfV56",
        "colab_type": "text"
      },
      "cell_type": "markdown",
      "source": [
        "### Conditional Frequency Distribution\n",
        "Here we're going to build something a little more nuanced. Here, we want to know this: for a given word, what is the frequency distribution of the words that rhyme with it.\n",
        "\n",
        "To answer that question, we use a `ConditionalFreqDist`:"
      ]
    },
    {
      "metadata": {
        "id": "YVggURN5fV57",
        "colab_type": "code",
        "colab": {
          "base_uri": "https://localhost:8080/",
          "height": 153
        },
        "outputId": "a461a8c4-30ea-4a47-8498-067fca85dbc7"
      },
      "cell_type": "code",
      "source": [
        "rhymes = rhymes + [tuple(reversed(rhyme)) for rhyme in rhymes]\n",
        "cfd = nltk.ConditionalFreqDist(rhymes)\n",
        "for word, freq in cfd[\"thee\"].most_common():\n",
        "    print word, freq"
      ],
      "execution_count": 11,
      "outputs": [
        {
          "output_type": "stream",
          "text": [
            "me 23\n",
            "be 12\n",
            "see 5\n",
            "thee 2\n",
            "melancholy 1\n",
            "free 1\n",
            "posterity 1\n",
            "usury 1\n"
          ],
          "name": "stdout"
        }
      ]
    },
    {
      "metadata": {
        "id": "iQcCf8QZfV5-",
        "colab_type": "code",
        "colab": {
          "base_uri": "https://localhost:8080/",
          "height": 34
        },
        "outputId": "127cd0f1-6f97-4c59-c19f-d49ef0a1800f"
      },
      "cell_type": "code",
      "source": [
        "# note that cfd[\"thee\"] is itself a frequency distribution:\n",
        "type(cfd['thee'])"
      ],
      "execution_count": 12,
      "outputs": [
        {
          "output_type": "execute_result",
          "data": {
            "text/plain": [
              "nltk.probability.FreqDist"
            ]
          },
          "metadata": {
            "tags": []
          },
          "execution_count": 12
        }
      ]
    },
    {
      "metadata": {
        "id": "Vix2s5DDfV6C",
        "colab_type": "code",
        "colab": {
          "base_uri": "https://localhost:8080/",
          "height": 297
        },
        "outputId": "2b7101f8-6c51-47fc-f556-c98ed1d6c37e"
      },
      "cell_type": "code",
      "source": [
        "# plot this distribution using pandas\n",
        "df2 = pd.DataFrame(cfd['thee'].most_common(), columns=['word', 'frequency'])\n",
        "df2.sort_index(ascending=False).plot(\n",
        "    kind='barh', x='word', title='Words Most Commonly Rhymed with \"thee\" in the Sonnets'\n",
        ")"
      ],
      "execution_count": 14,
      "outputs": [
        {
          "output_type": "execute_result",
          "data": {
            "text/plain": [
              "<matplotlib.axes._subplots.AxesSubplot at 0x7faeb8357f10>"
            ]
          },
          "metadata": {
            "tags": []
          },
          "execution_count": 14
        },
        {
          "output_type": "display_data",
          "data": {
            "image/png": "[encoded data removed]",
            "text/plain": [
              "<Figure size 432x288 with 1 Axes>"
            ]
          },
          "metadata": {
            "tags": []
          }
        }
      ]
    }
  ]
}