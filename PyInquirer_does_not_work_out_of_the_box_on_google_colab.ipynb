{
  "nbformat": 4,
  "nbformat_minor": 0,
  "metadata": {
    "colab": {
      "name": "PyInquirer does not work out of the box on google colab.ipynb",
      "version": "0.3.2",
      "provenance": [],
      "include_colab_link": true
    },
    "kernelspec": {
      "name": "python3",
      "display_name": "Python 3"
    }
  },
  "cells": [
    {
      "cell_type": "markdown",
      "metadata": {
        "id": "view-in-github",
        "colab_type": "text"
      },
      "source": [
        "<a href=\"https://colab.research.google.com/github/pleabargain/ipynb_notebooks/blob/master/PyInquirer_does_not_work_out_of_the_box_on_google_colab.ipynb\" target=\"_parent\"><img src=\"https://colab.research.google.com/assets/colab-badge.svg\" alt=\"Open In Colab\"/></a>"
      ]
    },
    {
      "metadata": {
        "id": "b4dGahznhtf6",
        "colab_type": "code",
        "colab": {}
      },
      "cell_type": "code",
      "source": [
        "!pip install --upgrade -q gspread\n",
        "!pip install --upgrade 'notebook>=5.7.6'\n",
        "!pip install PyInquirer"
      ],
      "execution_count": 0,
      "outputs": []
    },
    {
      "metadata": {
        "id": "oPZFj0oghl69",
        "colab_type": "code",
        "colab": {
          "base_uri": "https://localhost:8080/",
          "height": 727
        },
        "outputId": "56aaa380-5554-47f2-90bc-dd23c2d6cd54"
      },
      "cell_type": "code",
      "source": [
        "\n",
        "from __future__ import print_function, unicode_literals\n",
        "\n",
        "from PyInquirer import style_from_dict, Token, prompt, Separator\n",
        "from pprint import pprint\n",
        "\n",
        "\n",
        "\"\"\"style = style_from_dict({\n",
        "    Token.Separator: '#cc5454',\n",
        "    Token.QuestionMark: '#673ab7 bold',\n",
        "    Token.Selected: '#cc5454',  # default\n",
        "    Token.Pointer: '#673ab7 bold',\n",
        "    Token.Instruction: '',  # default\n",
        "    Token.Answer: '#f44336 bold',\n",
        "    Token.Question: '',\n",
        "})\n",
        "\"\"\"\n",
        "\n",
        "questions = [\n",
        "    {\n",
        "        'type': 'checkbox',\n",
        "        'message': 'Select toppings',\n",
        "        'name': 'toppings',\n",
        "        'choices': [\n",
        "            Separator('= The Meats ='),\n",
        "            {\n",
        "                'name': 'Ham'\n",
        "            },\n",
        "            {\n",
        "                'name': 'Ground Meat'\n",
        "            },\n",
        "            {\n",
        "                'name': 'Bacon'\n",
        "            },\n",
        "            Separator('= The Cheeses ='),\n",
        "            {\n",
        "                'name': 'Mozzarella',\n",
        "                'checked': True\n",
        "            },\n",
        "            {\n",
        "                'name': 'Cheddar'\n",
        "            },\n",
        "            {\n",
        "                'name': 'Parmesan'\n",
        "            },\n",
        "            Separator('= The usual ='),\n",
        "            {\n",
        "                'name': 'Mushroom'\n",
        "            },\n",
        "            {\n",
        "                'name': 'Tomato'\n",
        "            },\n",
        "            {\n",
        "                'name': 'Pepperoni'\n",
        "            },\n",
        "            Separator('= The extras ='),\n",
        "            {\n",
        "                'name': 'Pineapple'\n",
        "            },\n",
        "            {\n",
        "                'name': 'Olives',\n",
        "                'disabled': 'out of stock'\n",
        "            },\n",
        "            {\n",
        "                'name': 'Extra cheese'\n",
        "            }\n",
        "        ],\n",
        "        'validate': lambda answer: 'You must choose at least one topping.' \\\n",
        "            if len(answer) == 0 else True\n",
        "    }\n",
        "]\n",
        "\n",
        "answers = prompt(questions, style=style)\n",
        "pprint(answers)\n",
        " "
      ],
      "execution_count": 7,
      "outputs": [
        {
          "output_type": "error",
          "ename": "AssertionError",
          "evalue": "ignored",
          "traceback": [
            "\u001b[0;31m---------------------------------------------------------------------------\u001b[0m",
            "\u001b[0;31mAssertionError\u001b[0m                            Traceback (most recent call last)",
            "\u001b[0;32m<ipython-input-7-a875d42f74eb>\u001b[0m in \u001b[0;36m<module>\u001b[0;34m()\u001b[0m\n\u001b[1;32m     71\u001b[0m ]\n\u001b[1;32m     72\u001b[0m \u001b[0;34m\u001b[0m\u001b[0m\n\u001b[0;32m---> 73\u001b[0;31m \u001b[0manswers\u001b[0m \u001b[0;34m=\u001b[0m \u001b[0mprompt\u001b[0m\u001b[0;34m(\u001b[0m\u001b[0mquestions\u001b[0m\u001b[0;34m,\u001b[0m \u001b[0mstyle\u001b[0m\u001b[0;34m=\u001b[0m\u001b[0mstyle\u001b[0m\u001b[0;34m)\u001b[0m\u001b[0;34m\u001b[0m\u001b[0;34m\u001b[0m\u001b[0m\n\u001b[0m\u001b[1;32m     74\u001b[0m \u001b[0mpprint\u001b[0m\u001b[0;34m(\u001b[0m\u001b[0manswers\u001b[0m\u001b[0;34m)\u001b[0m\u001b[0;34m\u001b[0m\u001b[0;34m\u001b[0m\u001b[0m\n\u001b[1;32m     75\u001b[0m \u001b[0;34m\u001b[0m\u001b[0m\n",
            "\u001b[0;32m/usr/local/lib/python3.6/dist-packages/PyInquirer/prompt.py\u001b[0m in \u001b[0;36mprompt\u001b[0;34m(questions, answers, **kwargs)\u001b[0m\n\u001b[1;32m     73\u001b[0m                 \u001b[0mtrue_color\u001b[0m\u001b[0;34m=\u001b[0m\u001b[0mtrue_color\u001b[0m\u001b[0;34m,\u001b[0m\u001b[0;34m\u001b[0m\u001b[0;34m\u001b[0m\u001b[0m\n\u001b[1;32m     74\u001b[0m                 \u001b[0mrefresh_interval\u001b[0m\u001b[0;34m=\u001b[0m\u001b[0mrefresh_interval\u001b[0m\u001b[0;34m,\u001b[0m\u001b[0;34m\u001b[0m\u001b[0;34m\u001b[0m\u001b[0m\n\u001b[0;32m---> 75\u001b[0;31m                 eventloop=eventloop)\n\u001b[0m\u001b[1;32m     76\u001b[0m \u001b[0;34m\u001b[0m\u001b[0m\n\u001b[1;32m     77\u001b[0m             \u001b[0;32mif\u001b[0m \u001b[0manswer\u001b[0m \u001b[0;32mis\u001b[0m \u001b[0;32mnot\u001b[0m \u001b[0;32mNone\u001b[0m\u001b[0;34m:\u001b[0m\u001b[0;34m\u001b[0m\u001b[0;34m\u001b[0m\u001b[0m\n",
            "\u001b[0;32m/usr/local/lib/python3.6/dist-packages/prompt_toolkit/shortcuts.py\u001b[0m in \u001b[0;36mrun_application\u001b[0;34m(application, patch_stdout, return_asyncio_coroutine, true_color, refresh_interval, eventloop)\u001b[0m\n\u001b[1;32m    574\u001b[0m         \u001b[0mapplication\u001b[0m\u001b[0;34m=\u001b[0m\u001b[0mapplication\u001b[0m\u001b[0;34m,\u001b[0m\u001b[0;34m\u001b[0m\u001b[0;34m\u001b[0m\u001b[0m\n\u001b[1;32m    575\u001b[0m         \u001b[0meventloop\u001b[0m\u001b[0;34m=\u001b[0m\u001b[0meventloop\u001b[0m\u001b[0;34m,\u001b[0m\u001b[0;34m\u001b[0m\u001b[0;34m\u001b[0m\u001b[0m\n\u001b[0;32m--> 576\u001b[0;31m         output=create_output(true_color=true_color))\n\u001b[0m\u001b[1;32m    577\u001b[0m \u001b[0;34m\u001b[0m\u001b[0m\n\u001b[1;32m    578\u001b[0m     \u001b[0;31m# Set up refresh interval.\u001b[0m\u001b[0;34m\u001b[0m\u001b[0;34m\u001b[0m\u001b[0;34m\u001b[0m\u001b[0m\n",
            "\u001b[0;32m/usr/local/lib/python3.6/dist-packages/prompt_toolkit/shortcuts.py\u001b[0m in \u001b[0;36mcreate_output\u001b[0;34m(stdout, true_color, ansi_colors_only)\u001b[0m\n\u001b[1;32m    124\u001b[0m         return Vt100_Output.from_pty(\n\u001b[1;32m    125\u001b[0m             \u001b[0mstdout\u001b[0m\u001b[0;34m,\u001b[0m \u001b[0mtrue_color\u001b[0m\u001b[0;34m=\u001b[0m\u001b[0mtrue_color\u001b[0m\u001b[0;34m,\u001b[0m\u001b[0;34m\u001b[0m\u001b[0;34m\u001b[0m\u001b[0m\n\u001b[0;32m--> 126\u001b[0;31m             ansi_colors_only=ansi_colors_only, term=term)\n\u001b[0m\u001b[1;32m    127\u001b[0m \u001b[0;34m\u001b[0m\u001b[0m\n\u001b[1;32m    128\u001b[0m \u001b[0;34m\u001b[0m\u001b[0m\n",
            "\u001b[0;32m/usr/local/lib/python3.6/dist-packages/prompt_toolkit/terminal/vt100_output.py\u001b[0m in \u001b[0;36mfrom_pty\u001b[0;34m(cls, stdout, true_color, ansi_colors_only, term)\u001b[0m\n\u001b[1;32m    422\u001b[0m         terminal attributes.)\n\u001b[1;32m    423\u001b[0m         \"\"\"\n\u001b[0;32m--> 424\u001b[0;31m         \u001b[0;32massert\u001b[0m \u001b[0mstdout\u001b[0m\u001b[0;34m.\u001b[0m\u001b[0misatty\u001b[0m\u001b[0;34m(\u001b[0m\u001b[0;34m)\u001b[0m\u001b[0;34m\u001b[0m\u001b[0;34m\u001b[0m\u001b[0m\n\u001b[0m\u001b[1;32m    425\u001b[0m         \u001b[0;32mdef\u001b[0m \u001b[0mget_size\u001b[0m\u001b[0;34m(\u001b[0m\u001b[0;34m)\u001b[0m\u001b[0;34m:\u001b[0m\u001b[0;34m\u001b[0m\u001b[0;34m\u001b[0m\u001b[0m\n\u001b[1;32m    426\u001b[0m             \u001b[0mrows\u001b[0m\u001b[0;34m,\u001b[0m \u001b[0mcolumns\u001b[0m \u001b[0;34m=\u001b[0m \u001b[0m_get_size\u001b[0m\u001b[0;34m(\u001b[0m\u001b[0mstdout\u001b[0m\u001b[0;34m.\u001b[0m\u001b[0mfileno\u001b[0m\u001b[0;34m(\u001b[0m\u001b[0;34m)\u001b[0m\u001b[0;34m)\u001b[0m\u001b[0;34m\u001b[0m\u001b[0;34m\u001b[0m\u001b[0m\n",
            "\u001b[0;31mAssertionError\u001b[0m: "
          ]
        }
      ]
    }
  ]
}