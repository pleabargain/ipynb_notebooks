{
  "nbformat": 4,
  "nbformat_minor": 0,
  "metadata": {
    "colab": {
      "name": "reading and manipulating CSV.ipynb",
      "version": "0.3.2",
      "provenance": [],
      "include_colab_link": true
    },
    "kernelspec": {
      "name": "python3",
      "display_name": "Python 3"
    }
  },
  "cells": [
    {
      "cell_type": "markdown",
      "metadata": {
        "id": "view-in-github",
        "colab_type": "text"
      },
      "source": [
        "<a href=\"https://colab.research.google.com/github/pleabargain/ipynb_notebooks/blob/master/reading_and_manipulating_CSV.ipynb\" target=\"_parent\"><img src=\"https://colab.research.google.com/assets/colab-badge.svg\" alt=\"Open In Colab\"/></a>"
      ]
    },
    {
      "metadata": {
        "id": "vyPNoS3WsrtF",
        "colab_type": "text"
      },
      "cell_type": "markdown",
      "source": [
        "This was taken from https://pythonprogramming.net/reading-csv-files-python-3/"
      ]
    },
    {
      "metadata": {
        "id": "uuMlzxQgsqRz",
        "colab_type": "code",
        "colab": {}
      },
      "cell_type": "code",
      "source": [
        "#let's make sure we are using latest Jupyter notebook\n",
        "!pip install --upgrade 'notebook>=5.7.6'"
      ],
      "execution_count": 0,
      "outputs": []
    },
    {
      "metadata": {
        "id": "mHvh3LptuE-Z",
        "colab_type": "code",
        "outputId": "c858fec1-e2b5-431d-c4bf-72095dc95be7",
        "colab": {
          "base_uri": "https://localhost:8080/",
          "height": 35
        }
      },
      "cell_type": "code",
      "source": [
        "!notebook --version"
      ],
      "execution_count": 0,
      "outputs": [
        {
          "output_type": "stream",
          "text": [
            "/bin/bash: notebook: command not found\n"
          ],
          "name": "stdout"
        }
      ]
    },
    {
      "metadata": {
        "id": "piArfrAnjCxs",
        "colab_type": "code",
        "outputId": "0937d2a9-8152-4426-877e-ebc765650554",
        "colab": {
          "base_uri": "https://localhost:8080/",
          "height": 176
        }
      },
      "cell_type": "code",
      "source": [
        "import csv\n",
        "\n",
        "with open('toydata - Sheet1.csv') as csvfile:\n",
        "    readCSV = csv.reader(csvfile, delimiter=',')\n",
        "    for row in readCSV:\n",
        "        print(\"This will print the entire row\",row)\n",
        "        print(\"This will print the zero index or first cell which is the date\", row[0])\n",
        "        print(\"This will print the first three cells \",row[0],row[1],row[2],)"
      ],
      "execution_count": 0,
      "outputs": [
        {
          "output_type": "stream",
          "text": [
            "This will print the entire row ['1/2/2014', '5', '7', 'red']\n",
            "This will print the zero index or first cell which is the date 1/2/2014\n",
            "This will print the first three cells  1/2/2014 5 7\n",
            "This will print the entire row ['1/3/2014', '3', '9', 'yellow']\n",
            "This will print the zero index or first cell which is the date 1/3/2014\n",
            "This will print the first three cells  1/3/2014 3 9\n",
            "This will print the entire row ['1/4/2014', '9', '2', 'blue']\n",
            "This will print the zero index or first cell which is the date 1/4/2014\n",
            "This will print the first three cells  1/4/2014 9 2\n"
          ],
          "name": "stdout"
        }
      ]
    },
    {
      "metadata": {
        "id": "0--PFDkzlCR4",
        "colab_type": "code",
        "outputId": "740c0634-49c4-4877-9109-5209838d8fb8",
        "colab": {
          "base_uri": "https://localhost:8080/",
          "height": 52
        }
      },
      "cell_type": "code",
      "source": [
        "import csv\n",
        "\n",
        "with open('toydata - Sheet1.csv') as csvfile:\n",
        "    readCSV = csv.reader(csvfile, delimiter=',')\n",
        "    dates = []\n",
        "    colors = []\n",
        "    for row in readCSV:\n",
        "        color = row[3]\n",
        "        date = row[0]\n",
        "\n",
        "        dates.append(date)\n",
        "        colors.append(color)\n",
        "\n",
        "    print(dates)\n",
        "    print(colors)"
      ],
      "execution_count": 0,
      "outputs": [
        {
          "output_type": "stream",
          "text": [
            "['1/2/2014', '1/3/2014', '1/4/2014']\n",
            "['red', 'yellow', 'blue']\n"
          ],
          "name": "stdout"
        }
      ]
    },
    {
      "metadata": {
        "id": "_IScuViYlxka",
        "colab_type": "code",
        "outputId": "2bc26a93-d284-4a32-ddff-b3cb01c49b09",
        "colab": {
          "base_uri": "https://localhost:8080/",
          "height": 88
        }
      },
      "cell_type": "code",
      "source": [
        "import csv\n",
        "\n",
        "with open('toydata - Sheet1.csv') as csvfile:\n",
        "    readCSV = csv.reader(csvfile, delimiter=',')\n",
        "    dates = []\n",
        "    colors = []\n",
        "    for row in readCSV:\n",
        "        color = row[3]\n",
        "        date = row[0]\n",
        "\n",
        "        dates.append(date)\n",
        "        colors.append(color)\n",
        "\n",
        "    print(dates)\n",
        "    print(colors)\n",
        "\n",
        "    # now, remember our lists?\n",
        "\n",
        "    whatColor = input('What color do you wish to know the date of?:')\n",
        "    coldex = colors.index(whatColor)\n",
        "    theDate = dates[coldex]\n",
        "    print('The date of',whatColor,'is:',theDate)"
      ],
      "execution_count": 0,
      "outputs": [
        {
          "output_type": "stream",
          "text": [
            "['1/2/2014', '1/3/2014', '1/4/2014']\n",
            "['red', 'yellow', 'blue']\n",
            "What color do you wish to know the date of?:red\n",
            "The date of red is: 1/2/2014\n"
          ],
          "name": "stdout"
        }
      ]
    }
  ]
}