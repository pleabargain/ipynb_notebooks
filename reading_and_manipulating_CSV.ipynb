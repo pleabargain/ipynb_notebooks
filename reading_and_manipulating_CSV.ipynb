{
  "nbformat": 4,
  "nbformat_minor": 0,
  "metadata": {
    "colab": {
      "name": "reading and manipulating CSV.ipynb",
      "version": "0.3.2",
      "provenance": [],
      "include_colab_link": true
    },
    "kernelspec": {
      "name": "python3",
      "display_name": "Python 3"
    }
  },
  "cells": [
    {
      "cell_type": "markdown",
      "metadata": {
        "id": "view-in-github",
        "colab_type": "text"
      },
      "source": [
        "<a href=\"https://colab.research.google.com/github/pleabargain/ipynb_notebooks/blob/master/reading_and_manipulating_CSV.ipynb\" target=\"_parent\"><img src=\"https://colab.research.google.com/assets/colab-badge.svg\" alt=\"Open In Colab\"/></a>"
      ]
    },
    {
      "metadata": {
        "id": "vyPNoS3WsrtF",
        "colab_type": "text"
      },
      "cell_type": "markdown",
      "source": [
        "This was taken from https://pythonprogramming.net/reading-csv-files-python-3/"
      ]
    },
    {
      "metadata": {
        "id": "uuMlzxQgsqRz",
        "colab_type": "code",
        "colab": {
          "base_uri": "https://localhost:8080/",
          "height": 798
        },
        "outputId": "8075b658-c9c6-49be-cff7-94b5b51fe48f"
      },
      "cell_type": "code",
      "source": [
        "#let's make sure we are using latest Jupyter notebook\n",
        "!pip install --upgrade 'notebook>=5.7.6'"
      ],
      "execution_count": 19,
      "outputs": [
        {
          "output_type": "stream",
          "text": [
            "Collecting notebook>=5.7.6\n",
            "\u001b[?25l  Downloading https://files.pythonhosted.org/packages/0a/d8/4e9521354ed3d730ba6d8a5af440b66c73245ef46be706e51bead71afc21/notebook-5.7.6-py2.py3-none-any.whl (9.0MB)\n",
            "\u001b[K    100% |████████████████████████████████| 9.0MB 2.7MB/s \n",
            "\u001b[?25hRequirement already satisfied, skipping upgrade: traitlets>=4.2.1 in /usr/local/lib/python3.6/dist-packages (from notebook>=5.7.6) (4.3.2)\n",
            "Requirement already satisfied, skipping upgrade: tornado<7,>=4.1 in /usr/local/lib/python3.6/dist-packages (from notebook>=5.7.6) (4.5.3)\n",
            "Requirement already satisfied, skipping upgrade: jupyter-client>=5.2.0 in /usr/local/lib/python3.6/dist-packages (from notebook>=5.7.6) (5.2.4)\n",
            "Requirement already satisfied, skipping upgrade: ipykernel in /usr/local/lib/python3.6/dist-packages (from notebook>=5.7.6) (4.6.1)\n",
            "Requirement already satisfied, skipping upgrade: Send2Trash in /usr/local/lib/python3.6/dist-packages (from notebook>=5.7.6) (1.5.0)\n",
            "Requirement already satisfied, skipping upgrade: pyzmq>=17 in /usr/local/lib/python3.6/dist-packages (from notebook>=5.7.6) (17.0.0)\n",
            "Requirement already satisfied, skipping upgrade: nbconvert in /usr/local/lib/python3.6/dist-packages (from notebook>=5.7.6) (5.4.1)\n",
            "Requirement already satisfied, skipping upgrade: jinja2 in /usr/local/lib/python3.6/dist-packages (from notebook>=5.7.6) (2.10)\n",
            "Requirement already satisfied, skipping upgrade: prometheus-client in /usr/local/lib/python3.6/dist-packages (from notebook>=5.7.6) (0.6.0)\n",
            "Requirement already satisfied, skipping upgrade: jupyter-core>=4.4.0 in /usr/local/lib/python3.6/dist-packages (from notebook>=5.7.6) (4.4.0)\n",
            "Requirement already satisfied, skipping upgrade: terminado>=0.8.1 in /usr/local/lib/python3.6/dist-packages (from notebook>=5.7.6) (0.8.1)\n",
            "Requirement already satisfied, skipping upgrade: ipython-genutils in /usr/local/lib/python3.6/dist-packages (from notebook>=5.7.6) (0.2.0)\n",
            "Requirement already satisfied, skipping upgrade: nbformat in /usr/local/lib/python3.6/dist-packages (from notebook>=5.7.6) (4.4.0)\n",
            "Requirement already satisfied, skipping upgrade: decorator in /usr/local/lib/python3.6/dist-packages (from traitlets>=4.2.1->notebook>=5.7.6) (4.3.2)\n",
            "Requirement already satisfied, skipping upgrade: six in /usr/local/lib/python3.6/dist-packages (from traitlets>=4.2.1->notebook>=5.7.6) (1.11.0)\n",
            "Requirement already satisfied, skipping upgrade: python-dateutil>=2.1 in /usr/local/lib/python3.6/dist-packages (from jupyter-client>=5.2.0->notebook>=5.7.6) (2.5.3)\n",
            "Requirement already satisfied, skipping upgrade: ipython>=4.0.0 in /usr/local/lib/python3.6/dist-packages (from ipykernel->notebook>=5.7.6) (5.5.0)\n",
            "Requirement already satisfied, skipping upgrade: defusedxml in /usr/local/lib/python3.6/dist-packages (from nbconvert->notebook>=5.7.6) (0.5.0)\n",
            "Requirement already satisfied, skipping upgrade: entrypoints>=0.2.2 in /usr/local/lib/python3.6/dist-packages (from nbconvert->notebook>=5.7.6) (0.3)\n",
            "Requirement already satisfied, skipping upgrade: testpath in /usr/local/lib/python3.6/dist-packages (from nbconvert->notebook>=5.7.6) (0.4.2)\n",
            "Requirement already satisfied, skipping upgrade: pygments in /usr/local/lib/python3.6/dist-packages (from nbconvert->notebook>=5.7.6) (2.1.3)\n",
            "Requirement already satisfied, skipping upgrade: mistune>=0.8.1 in /usr/local/lib/python3.6/dist-packages (from nbconvert->notebook>=5.7.6) (0.8.4)\n",
            "Requirement already satisfied, skipping upgrade: pandocfilters>=1.4.1 in /usr/local/lib/python3.6/dist-packages (from nbconvert->notebook>=5.7.6) (1.4.2)\n",
            "Requirement already satisfied, skipping upgrade: bleach in /usr/local/lib/python3.6/dist-packages (from nbconvert->notebook>=5.7.6) (3.1.0)\n",
            "Requirement already satisfied, skipping upgrade: MarkupSafe>=0.23 in /usr/local/lib/python3.6/dist-packages (from jinja2->notebook>=5.7.6) (1.1.1)\n",
            "Requirement already satisfied, skipping upgrade: ptyprocess; os_name != \"nt\" in /usr/local/lib/python3.6/dist-packages (from terminado>=0.8.1->notebook>=5.7.6) (0.6.0)\n",
            "Requirement already satisfied, skipping upgrade: jsonschema!=2.5.0,>=2.4 in /usr/local/lib/python3.6/dist-packages (from nbformat->notebook>=5.7.6) (2.6.0)\n",
            "Requirement already satisfied, skipping upgrade: setuptools>=18.5 in /usr/local/lib/python3.6/dist-packages (from ipython>=4.0.0->ipykernel->notebook>=5.7.6) (40.8.0)\n",
            "Requirement already satisfied, skipping upgrade: pickleshare in /usr/local/lib/python3.6/dist-packages (from ipython>=4.0.0->ipykernel->notebook>=5.7.6) (0.7.5)\n",
            "Requirement already satisfied, skipping upgrade: pexpect; sys_platform != \"win32\" in /usr/local/lib/python3.6/dist-packages (from ipython>=4.0.0->ipykernel->notebook>=5.7.6) (4.6.0)\n",
            "Requirement already satisfied, skipping upgrade: prompt-toolkit<2.0.0,>=1.0.4 in /usr/local/lib/python3.6/dist-packages (from ipython>=4.0.0->ipykernel->notebook>=5.7.6) (1.0.15)\n",
            "Requirement already satisfied, skipping upgrade: simplegeneric>0.8 in /usr/local/lib/python3.6/dist-packages (from ipython>=4.0.0->ipykernel->notebook>=5.7.6) (0.8.1)\n",
            "Requirement already satisfied, skipping upgrade: webencodings in /usr/local/lib/python3.6/dist-packages (from bleach->nbconvert->notebook>=5.7.6) (0.5.1)\n",
            "Requirement already satisfied, skipping upgrade: wcwidth in /usr/local/lib/python3.6/dist-packages (from prompt-toolkit<2.0.0,>=1.0.4->ipython>=4.0.0->ipykernel->notebook>=5.7.6) (0.1.7)\n",
            "\u001b[31mgoogle-colab 1.0.0 has requirement notebook~=5.2.0, but you'll have notebook 5.7.6 which is incompatible.\u001b[0m\n",
            "Installing collected packages: notebook\n",
            "  Found existing installation: notebook 5.2.2\n",
            "    Uninstalling notebook-5.2.2:\n",
            "      Successfully uninstalled notebook-5.2.2\n",
            "Successfully installed notebook-5.7.6\n"
          ],
          "name": "stdout"
        }
      ]
    },
    {
      "metadata": {
        "id": "mHvh3LptuE-Z",
        "colab_type": "code",
        "colab": {
          "base_uri": "https://localhost:8080/",
          "height": 35
        },
        "outputId": "c858fec1-e2b5-431d-c4bf-72095dc95be7"
      },
      "cell_type": "code",
      "source": [
        "!notebook --version"
      ],
      "execution_count": 20,
      "outputs": [
        {
          "output_type": "stream",
          "text": [
            "/bin/bash: notebook: command not found\n"
          ],
          "name": "stdout"
        }
      ]
    },
    {
      "metadata": {
        "id": "piArfrAnjCxs",
        "colab_type": "code",
        "colab": {
          "base_uri": "https://localhost:8080/",
          "height": 176
        },
        "outputId": "0937d2a9-8152-4426-877e-ebc765650554"
      },
      "cell_type": "code",
      "source": [
        "import csv\n",
        "\n",
        "with open('toydata - Sheet1.csv') as csvfile:\n",
        "    readCSV = csv.reader(csvfile, delimiter=',')\n",
        "    for row in readCSV:\n",
        "        print(\"This will print the entire row\",row)\n",
        "        print(\"This will print the zero index or first cell which is the date\", row[0])\n",
        "        print(\"This will print the first three cells \",row[0],row[1],row[2],)"
      ],
      "execution_count": 18,
      "outputs": [
        {
          "output_type": "stream",
          "text": [
            "This will print the entire row ['1/2/2014', '5', '7', 'red']\n",
            "This will print the zero index or first cell which is the date 1/2/2014\n",
            "This will print the first three cells  1/2/2014 5 7\n",
            "This will print the entire row ['1/3/2014', '3', '9', 'yellow']\n",
            "This will print the zero index or first cell which is the date 1/3/2014\n",
            "This will print the first three cells  1/3/2014 3 9\n",
            "This will print the entire row ['1/4/2014', '9', '2', 'blue']\n",
            "This will print the zero index or first cell which is the date 1/4/2014\n",
            "This will print the first three cells  1/4/2014 9 2\n"
          ],
          "name": "stdout"
        }
      ]
    },
    {
      "metadata": {
        "id": "0--PFDkzlCR4",
        "colab_type": "code",
        "colab": {
          "base_uri": "https://localhost:8080/",
          "height": 52
        },
        "outputId": "740c0634-49c4-4877-9109-5209838d8fb8"
      },
      "cell_type": "code",
      "source": [
        "import csv\n",
        "\n",
        "with open('toydata - Sheet1.csv') as csvfile:\n",
        "    readCSV = csv.reader(csvfile, delimiter=',')\n",
        "    dates = []\n",
        "    colors = []\n",
        "    for row in readCSV:\n",
        "        color = row[3]\n",
        "        date = row[0]\n",
        "\n",
        "        dates.append(date)\n",
        "        colors.append(color)\n",
        "\n",
        "    print(dates)\n",
        "    print(colors)"
      ],
      "execution_count": 10,
      "outputs": [
        {
          "output_type": "stream",
          "text": [
            "['1/2/2014', '1/3/2014', '1/4/2014']\n",
            "['red', 'yellow', 'blue']\n"
          ],
          "name": "stdout"
        }
      ]
    },
    {
      "metadata": {
        "id": "_IScuViYlxka",
        "colab_type": "code",
        "colab": {
          "base_uri": "https://localhost:8080/",
          "height": 88
        },
        "outputId": "2bc26a93-d284-4a32-ddff-b3cb01c49b09"
      },
      "cell_type": "code",
      "source": [
        "import csv\n",
        "\n",
        "with open('toydata - Sheet1.csv') as csvfile:\n",
        "    readCSV = csv.reader(csvfile, delimiter=',')\n",
        "    dates = []\n",
        "    colors = []\n",
        "    for row in readCSV:\n",
        "        color = row[3]\n",
        "        date = row[0]\n",
        "\n",
        "        dates.append(date)\n",
        "        colors.append(color)\n",
        "\n",
        "    print(dates)\n",
        "    print(colors)\n",
        "\n",
        "    # now, remember our lists?\n",
        "\n",
        "    whatColor = input('What color do you wish to know the date of?:')\n",
        "    coldex = colors.index(whatColor)\n",
        "    theDate = dates[coldex]\n",
        "    print('The date of',whatColor,'is:',theDate)"
      ],
      "execution_count": 12,
      "outputs": [
        {
          "output_type": "stream",
          "text": [
            "['1/2/2014', '1/3/2014', '1/4/2014']\n",
            "['red', 'yellow', 'blue']\n",
            "What color do you wish to know the date of?:red\n",
            "The date of red is: 1/2/2014\n"
          ],
          "name": "stdout"
        }
      ]
    }
  ]
}