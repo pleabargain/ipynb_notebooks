{
 "metadata": {
  "name": "examples of while loops _countdown"
 },
 "nbformat": 3,
 "nbformat_minor": 0,
 "worksheets": [
  {
   "cells": [
    {
     "cell_type": "raw",
     "metadata": {},
     "source": [
      "While loops are very handy. Check out the one below for a simple example. Can you guess what is going to happen?"
     ]
    },
    {
     "cell_type": "code",
     "collapsed": false,
     "input": [
      "'''\n",
      "super simple countdown script using a while loop\n",
      "'''\n",
      "def countdown (n):\n",
      "    while n >0:\n",
      "        print (n)\n",
      "        n= n -1\n",
      "    print (\"Blastoff!\")\n",
      "\n",
      "    \n",
      "countdown (5)"
     ],
     "language": "python",
     "metadata": {},
     "outputs": [
      {
       "output_type": "stream",
       "stream": "stdout",
       "text": [
        "5\n",
        "4\n",
        "3\n",
        "2\n",
        "1\n",
        "Blastoff!\n"
       ]
      }
     ],
     "prompt_number": 1
    },
    {
     "cell_type": "raw",
     "metadata": {},
     "source": [
      "Now take the above example and modify it to do something different. Anything. Just so it works when you are done! :)"
     ]
    },
    {
     "cell_type": "code",
     "collapsed": false,
     "input": [
      "'''\n",
      "your code goes below here in this cell\n",
      "'''"
     ],
     "language": "python",
     "metadata": {},
     "outputs": []
    },
    {
     "cell_type": "raw",
     "metadata": {},
     "source": [
      "Next bit.\n"
     ]
    }
   ],
   "metadata": {}
  }
 ]
}