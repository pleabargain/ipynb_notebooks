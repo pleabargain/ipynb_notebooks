{
 "metadata": {
  "name": "fizzCount2"
 },
 "nbformat": 3,
 "nbformat_minor": 0,
 "worksheets": [
  {
   "cells": [
    {
     "cell_type": "code",
     "collapsed": false,
     "input": [
      "my_list = ['fizz', 'another_word', 'fizz', 'spam', 'fizz']\n",
      "\n",
      "def fizzCount():\n",
      "    count = 0\n",
      "    for word in my_list:\n",
      "        if word == 'fizz':\n",
      "            count = count + 1\n",
      "            print(count)\n",
      "    else:\n",
      "        False\n",
      "\n",
      "print (fizzCount())"
     ],
     "language": "python",
     "metadata": {},
     "outputs": []
    }
   ],
   "metadata": {}
  }
 ]
}