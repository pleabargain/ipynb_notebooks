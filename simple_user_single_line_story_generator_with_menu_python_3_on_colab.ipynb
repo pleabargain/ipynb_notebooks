{
  "nbformat": 4,
  "nbformat_minor": 0,
  "metadata": {
    "colab": {
      "name": "simple user single line story generator with menu python 3 on colab.ipynb",
      "version": "0.3.2",
      "provenance": [],
      "collapsed_sections": [],
      "include_colab_link": true
    },
    "kernelspec": {
      "name": "python3",
      "display_name": "Python 3"
    }
  },
  "cells": [
    {
      "cell_type": "markdown",
      "metadata": {
        "id": "view-in-github",
        "colab_type": "text"
      },
      "source": [
        "<a href=\"https://colab.research.google.com/github/pleabargain/ipynb_notebooks/blob/master/simple_user_single_line_story_generator_with_menu_python_3_on_colab.ipynb\" target=\"_parent\"><img src=\"https://colab.research.google.com/assets/colab-badge.svg\" alt=\"Open In Colab\"/></a>"
      ]
    },
    {
      "metadata": {
        "id": "UPSCEn5PpaVd",
        "colab_type": "code",
        "colab": {}
      },
      "cell_type": "code",
      "source": [
        "#let's get the basics installed\n",
        "!pip install --upgrade -q gspread\n",
        "!pip install --upgrade 'notebook>=5.7.6'\n",
        "import random"
      ],
      "execution_count": 0,
      "outputs": []
    },
    {
      "metadata": {
        "id": "XlWEXPmGtUU_",
        "colab_type": "text"
      },
      "cell_type": "markdown",
      "source": [
        "#adjectives"
      ]
    },
    {
      "metadata": {
        "id": "CmS8bo5PtHb2",
        "colab_type": "code",
        "colab": {}
      },
      "cell_type": "code",
      "source": [
        "#set some basic params\n",
        "adjective =random.choice([\"delirious \",\"stupendous \",\"large \" \n",
        "                          ,\"deadly \"\n",
        "                         ,\"viral \"\n",
        "                         ,\"tiny \"])"
      ],
      "execution_count": 0,
      "outputs": []
    },
    {
      "metadata": {
        "id": "uJjVPXeHtarO",
        "colab_type": "text"
      },
      "cell_type": "markdown",
      "source": [
        "# Conflict\n"
      ]
    },
    {
      "metadata": {
        "id": "fwcYVG6DtdCu",
        "colab_type": "code",
        "colab": {}
      },
      "cell_type": "code",
      "source": [
        "conflict=random.choice([\"fell in love with \",\"fought against \",\n",
        "                        \"grew to love\",\"attempted to stop\",\n",
        "                        \"defended against\",\n",
        "                        \"tried to befriend\",\n",
        "                        \"antogized enormously\",\n",
        "                        \"followed doggedly\",\n",
        "                        \"hunted daily\",\n",
        "                        \"buried alive\",\n",
        "                        \"matched wits against\",\n",
        "                        \"did great battle against\",\n",
        "                        \"explored with\",\n",
        "                        \"tried to evade\",\n",
        "                        \"strategized against\",\n",
        "                        \"competed with\",\n",
        "                        \"performed surgery with\",\"exceeded beyond \",\n",
        "                        \"sought revenge against\"])\n"
      ],
      "execution_count": 0,
      "outputs": []
    },
    {
      "metadata": {
        "id": "0M-P90EdtpP9",
        "colab_type": "code",
        "colab": {}
      },
      "cell_type": "code",
      "source": [
        "#end\n",
        "end=random.choice([\"It did not end well.\",\n",
        "                   \"There was nothing left to do.\",\n",
        "                   \"After some negotiation, they left with nothing.\"\n",
        "                   \"It ended very well.\",\n",
        "                   \"They died tragically.\",\n",
        "                   \"The story did not continue.\",\n",
        "                   \"And after it all, lived happily ever after.\",\n",
        "                   \"It ended sadly.\",\n",
        "                   \"It was glorious.\",\n",
        "                   \"In the end, nothing changed.\",\n",
        "                   \"Ultimately, however, it didn't matter.\",\n",
        "                   \"Finally, they said, it's over.\",\n",
        "                   \"It ended with a twist.\",\n",
        "                   \"Gave up.\"])"
      ],
      "execution_count": 0,
      "outputs": []
    },
    {
      "metadata": {
        "id": "dyjQNSjtpndV",
        "colab_type": "code",
        "colab": {}
      },
      "cell_type": "code",
      "source": [
        "#build the menu"
      ],
      "execution_count": 0,
      "outputs": []
    },
    {
      "metadata": {
        "id": "GRkJTnlmlHbB",
        "colab_type": "code",
        "colab": {
          "base_uri": "https://localhost:8080/",
          "height": 187
        },
        "outputId": "cbe30ac3-bc65-4334-cdf2-c5d4b3c8ad24"
      },
      "cell_type": "code",
      "source": [
        "print (30 * '-')\n",
        "print (\"   M A I N - M E N U\")\n",
        "print (30 * '-')\n",
        "print (\"1. high fantasy\")\n",
        "print (\"2. alternative history\")\n",
        "print (\"3. cyberpunk\")\n",
        "print (\"4 space sci-fi\")\n",
        "print (\"5. hotels\")\n",
        "print (30 * '-')\n",
        " \n",
        "## Get input ###\n",
        "choice = input('Enter your choice [1-6] : ')\n",
        " \n",
        "### Convert string to int type ##\n",
        "choice = int(choice)"
      ],
      "execution_count": 58,
      "outputs": [
        {
          "output_type": "stream",
          "text": [
            "------------------------------\n",
            "   M A I N - M E N U\n",
            "------------------------------\n",
            "1. high fantasy\n",
            "2. alternative history\n",
            "3. cyberpunk\n",
            "4 space sci-fi\n",
            "5. hotels\n",
            "------------------------------\n",
            "Enter your choice [1-6] : 5\n"
          ],
          "name": "stdout"
        }
      ]
    },
    {
      "metadata": {
        "id": "2QIo7uFhnNHb",
        "colab_type": "code",
        "colab": {
          "base_uri": "https://localhost:8080/",
          "height": 102
        },
        "outputId": "5267bdce-5d76-4928-ee8e-1950cac99329"
      },
      "cell_type": "code",
      "source": [
        "\n",
        "### Take action as per selected menu-option ###\n",
        "if choice == 1:\n",
        "  print (\"You have chosen to enter the wild world of high fantasy...\")\n",
        "  setting=random.choice([\"The Great Empire\",\"a vast desert\",\n",
        "                         \"a dark corrupted land\",\"a magic swamp\",\n",
        "                         \"an unending labryinth\",\"floating islands\",\"a mystical forest\",\"a frozen wasteland\",\"a dangerous jungle land\"])\n",
        "  gender=random.choice([\"a male \",\"a male \",\"a male \",\"a female \",\"a female \",\"a female \",\"a magical transgender \",\"an agender \",\"a third gender \"])\n",
        "    #no articles here\n",
        "  race=random.choice([\" human \",\"elf \",\"orc \",\"dwarf \",\"birdperson\",\"gnome \",\"snake thing\",\"demon \",\"angel \",\"kitsune \",\"dark elf \",\"troll \",\"unicorn \"])\n",
        "  classs=random.choice([\"marksmen \",\"warrior \",\"wizard \",\"bard \",\"thief \",\"merchant\",\"knight \",\"spellsword \",\"peasant \",\"necromancer \",\"preist \",\"bandit \",\"monarch\"])\n",
        "  protagonist = gender+race+classs\n",
        "  antagonist=random.choice([\"a female\",\"a male\",\"an entire race\",\"a god\",\"an evil mage\",\"an order of knights\",\"evil itself\",\"a giant\",\"an invading army\",\"a tyrant\",\"magic\",\"a fascist regime\",\"a greedy merchant\",\"a troubadour\",\"a wayward mercenary\",\"a monster\",\"a dragon\"])\n",
        "  conflict=random.choice([\"fell in love with \",\"fought against \",\"grew to love\",\n",
        "                          \"attempted to stop \",\"defended against \",\n",
        "                          \"tried to befriend \",\"explored with \",\n",
        "                          \"tried to evade \",\"competed with \",\"performed surgery on\",\n",
        "                          \"exceeded beyond \",\"sought revenge against \"])\n",
        "  adjective =random.choice([\"delirious \",\"stupendous \",\"large \" ,\"deadly \"])\n",
        "  end=random.choice([\"It did not end well.\",\n",
        "                     \"There was nothing left to do.\",\n",
        "                     \"It ended very well.\",\"Died tragically.\",\n",
        "                     \"And after it all, lived happily ever after.\",\"It ended sadly.\",\"It was glorious.\",\"In the end, nothing changed.\",\"Ultimately, however, it didn't matter.\",\"Finally, they said, it's over.\",\"It ended with a twist.\",\"Gave up.\"])\n",
        "#this works\n",
        "  print(\"In the setting of\",setting,\",\\n there was \", protagonist, \"who\",conflict,antagonist,\".\",end)\n",
        "###################################################################################\n",
        "elif choice == 2:\n",
        "  print (\"Starting alt history...\")\n",
        "  setting=random.choice([\"America\",\"Religion\",\"the Classical Era\",\"the Middle Ages\",\"the Renaissance\",\"the Industrial Era\",\"World War I\",\"World War II\",\"the Modern Era\"])\n",
        "  if setting == \"America\":\n",
        "        figures=[\"Abraham Lincoln\",\"George W. Bush Jr.\",\"Benjamin Franklin\",\"Donald Trump\",\"Ronald Reagan\",\"John Adams\",\"Hilary Clinton\",\"King George III\",\"King George Washington\",\"Andrew Jackson\",\"Thomas Edison\",\"Steve Jobs\"]\n",
        "        figure=random.choice(figures)\n",
        "        antagonist=random.choice(figures)\n",
        "  if setting == \"Religion\":\n",
        "        figure=random.choice([\"Jesus\",\"Muhammad\",\"Animalism\",\"Buddha\",\"Krishna\",\"Moses\",\"L. Ron Hubbard\",\"Joseph Smith\",\"Zeus\",\"Ra\",\"Thor\"])\n",
        "        antagonist=random.choice([\"Christianity\",\"Islam\",\"Hinduism\",\"Buddhism\",\"Greek mythology\",\"Scientology\",\"the Mormons\",\"Paganism\",\"Heresies\"])\n",
        "  if setting == \"the Classical Era\":\n",
        "        figures=[\"Alexander The Great\",\"Julius Caesar\",\"Aristotle\",\"King Tut\",\"Qin Shi Huang\",\"Homer\",\"Augustus\",\"Plato\",\"Cleopatra\",\"Ashoka\",\"Attila the Hun\",\"Leonidas\"]\n",
        "        figure=random.choice(figures)\n",
        "        antagonist=random.choice(figures)\n",
        "  if setting == \"the Middle Ages\":\n",
        "        figures=[\"Charlemagne\",\"Ghenghis Khan\",\"El Cid\",\"Saladin\",\"William the Conqueror\",\"Ragnar Lodbrok\",\"Oda Nobunaga\",\"King Richard III\",\"William Wallace\",\"El Cid\",\"Eleanor of Aquitaine\",\"Erik the Red\",\"Vlad the Impaler\"]\n",
        "        figure=random.choice(figures)\n",
        "        antagonist=random.choice(figures)\n",
        "  if setting == \"the Renaissance\":\n",
        "        figures=[\"Marco Polo\",\"Joan of Arc\",\"Christopher Columbus\",\"Blackbeard\",\"Leonardo da Vinci\",\"William Shakespeare\",\"Henry VIII\",\"Michelangelo\",\"Donatello\",\"Galileo\",\"Admiral Yi Sun-sin\",\"Suleiman the Magnificent\"]\n",
        "        figure=random.choice(figures)\n",
        "        antagonist=random.choice(figures)\n",
        "  if setting == \"the Industrial Era\":\n",
        "        figures=[\"Henry Ford\",\"Karl Marx\",\"Charles Dickens\",\"John D. Rockefeller\",\"Thomas Edison\",\"Nikola Tesla\",\"Amelia Earheart\",\"Frank C. Mars\",\"Albert Einstein\",\"Napoleon\",\"Ghandi\",\"Mark Twain\"]\n",
        "        figure=random.choice(figures)\n",
        "        antagonist=random.choice(figures)\n",
        "  if setting == \"World War I\":\n",
        "        figure=random.choice([\"Woodrow Wilson\",\"Prescott Bush\",\"Jon Donovan\",\"Winston Churchill\",\"Tsar Nicholas II\",\"Lenin\",\"Paul von Hindenburg\",\"Ataturk\"])\n",
        "        antagonist=random.choice([\"the Ottoman Empire\",\"Germany\",\"the United States\",\"Britain\",\"Austria-Hungary\",\"France\"])\n",
        "  if setting == \"World War II\":\n",
        "        figure=random.choice([\"Hitler\",\"Queen Elizabeth\",\"Franklin D. Roosevelt\",\"Joseph Stalin\",\"Harry Truman\",\"General Hideki Tojo\"])\n",
        "        antagonist=random.choice([\"the United States\",\"Germany\",\"the Soviet Union\",\"the United Kingdom\",\"Japan\",\"Italy\"])\n",
        "  if setting == \"the Modern Era\":\n",
        "        figures=[\"Obama\",\"Putin\",\"Kim Jong-un\",\"Madonna\",\"Kanye West\",\"Bill Gates\",\"Guido van Rossum\",\"The Beatles\",\"ISIS\",\"Pope Francis\",\"Mike Tyson\",\"Pewdiepie\",\"Hilary Cliton\"]\n",
        "        figure=random.choice(figures)\n",
        "        antagonist=random.choice(figures)\n",
        "  afigure=(\"a figure known as \")     \n",
        "  protagonist= afigure+figure\n",
        "  antagonist=random.choice([\"a female\",\"a male\",\"an entire race\",\"a god\",\"an evil mage\",\"an order of knights\",\"evil itself\",\"a giant\",\"an invading army\",\"a tyrant\",\"magic\",\"a fascist regime\",\"a greedy merchant\",\"a troubadour\",\"a wayward mercenary\",\"a monster\",\"a dragon\"])\n",
        "  conflict=random.choice([\"fell in love with \",\"fought against \",\"grew to love\",\n",
        "                          \"attempted to stop \",\"defended against \",\n",
        "                          \"tried to befriend \",\"explored with \",\n",
        "                          \"tried to evade \",\"competed with \",\"performed surgery on\",\n",
        "                          \"exceeded beyond \",\"sought revenge against \"])\n",
        "  adjective =random.choice([\"delirious \",\"stupendous \",\"large \" ,\"deadly \"])\n",
        "  end=random.choice([\"It did not end well.\",\"There was nothing left to do.\",\"It ended very well.\",\"Died tragically.\",\"And after it all, lived happily ever after.\",\"It ended sadly.\",\"It was glorious.\",\"In the end, nothing changed.\",\n",
        "                     \"Ultimately, however, it didn't matter.\",\n",
        "                     \"Finally, they said, it's over.\",\"It ended with a twist.\",\"Gave up.\"])\n",
        "  print(\"In the setting of\",setting,\",\\n there was \", protagonist, \"who\",conflict,antagonist,\".\",end)\n",
        "\n",
        "    ########################################################3\n",
        "elif choice == 3:\n",
        "  print (\"cyber punk...\")\n",
        "  setting=random.choice([\"high-tech Tokyo\",\"New New York\",\"a dystopia\",\"a utopia\",\"a computer simulation\",\"the SuperWeb\",\"Mega Silicon Valley\",\"an underwater city\",\"an extensive underground facility\",\"a research facility\"])\n",
        "  gender=random.choice([\"a male \",\"a female \",\"a robogender \",\"an unigender \",\"a genderless \",\"a mega genderfluid \",\"a third gender \"])\n",
        "  classs=random.choice([\"hacker\",\"cyborg\",\"DJ\",\"technopath\",\"cyber cowboy\",\"bar fly\",\"engineer\",\"bomber\",\"businessman\",\"street rat\",\"anarchist\"])\n",
        "  protagonist=gender+classs\n",
        "    #this is the original\n",
        "  antagonist=random.choice([\"a large \" + adjective + \"corporation\",\n",
        "                              \"an evil AI\",\n",
        "                              \"Python\",\n",
        "                              \"a \" + adjective + \"gang\",\n",
        "                              \"a secret \" + adjective + \"society\",\n",
        "                              \"a new technology\",\n",
        "                              \"\"+adjective + \"robots\",\n",
        "                              \"\"+adjective + \"internet trolls\",\n",
        "                              \"the \" + adjective + \"cyborg\"])\n",
        "  print(\"In the setting of\",setting,\",\\n there was \", protagonist, \"who\",conflict,antagonist,\".\",end)\n",
        "\n",
        "elif choice == 4:\n",
        "  print(\"space sci-fi\")\n",
        "  setting=random.choice([\"a frigid asteroid\",\"the deep void of space\",\"an asteroid belt\",\"an ice planet\",\"a lava planet\",\"a gas giant\",\"an alien home world\",\"future Earth\",\"another galaxy, far far away\",\"dimension c147\",\"the multiverse\"])\n",
        "  protagonist=random.choice([\"an alien Predator\",\"a triffid\",\"a Faragian\",\"a tribble\",\"a human\",\"a robot\",\"a hive mind\",\"an alien\",\"a blob\",\"a birdperson\"])\n",
        "  antagonist=random.choice([\"a female\",\"a male\",\"an entire alien race\",\"a starfleet\",\"an alien\",\"an artifical intellgence\",\"a galactic federation\",\"a glitch in space-time\",\"an invading army\",\"a incredibly infectious space fungus\",\"the limits of science\",\"a robot\"])\n",
        "  print(\"In the setting of\",setting,\",\\n there was \", protagonist, \"who\",conflict,antagonist,\".\",end)\n",
        "\n",
        "\n",
        "################################################\n",
        "elif choice == 5:\n",
        "  print(\"Ah... the wonderful world of hotels...\")\n",
        "  setting=random.choice([\"Fly Away hotel\",\"Fly Bye Airport Hotel\",\"Flop Hotel\",\"Busted Bus Bay\"])\n",
        "  gender=random.choice([\"a male \",\"a female \"])\n",
        "  age=random.choice([\"a newborn \",\"an elder \",\n",
        "                     \"a toddler \",\"a child \",\"a pre-teen \",\n",
        "                     \"a teenager \",\"a young adult \",\"an adult \",\n",
        "                     \"a middle aged \",\"an elder \"])\n",
        "  \n",
        "  role=random.choice([\"guest\",\n",
        "                      \"accountant\",\n",
        "                      \"supplier\",\n",
        "                      \"waiter\",\n",
        "                      \"sales person\",\n",
        "                      \"restaurant manager\",\"DOS\",\n",
        "                      \"house keeper\",\"chef\",\n",
        "                     \"beach sweeper\"])\n",
        "  protagonist=gender + role\n",
        "  conflict = random.choice([\"argued with\",\n",
        "                            \"disagreed with\",\n",
        "                            \"confronted\",\n",
        "                            \"fell in love with\",\n",
        "                           \"fought with\"])\n",
        "  \n",
        "  person_antagonist=random.choice([\"male impersonator\",\n",
        "                                   \"corrupt politician\",\n",
        "                            \"cross dressing senior\",\"dictator\",\n",
        "                            \n",
        "                            \n",
        "                            \"drug dealer\",\"prostitute\",\n",
        "                            \"pimp\",\"rival\",\n",
        "                            \"old friend\",\"client who had a dog in the room\"])\n",
        "\n",
        "  \n",
        "  nature_antagonist =random.choice([\"a lost cause\",\"a failing budget\",\n",
        "                             \"a lost cause\",\"a failing budget\",\n",
        "                                    \"an infectious disease\",\n",
        "                                    \"a late check out\",\n",
        "                                    \"lost keys\",\n",
        "                                    \"morning meetings\",\n",
        "                                    \"broken locks\",\n",
        "\n",
        "                            \"a big corporation\",\n",
        "                            \"a government\",\"a tragic event\",\n",
        "                            \"traffic\",\"religion\",\n",
        "                            \"the law\"])\n",
        "  print(\"In the setting of\",setting,\",\\n there was\", protagonist, \"who\",conflict,age + person_antagonist,\". \\nEveryone agreed that they hated\", nature_antagonist+\" more.\\n\",end)\n",
        "\n",
        "  \n",
        "  \n",
        "    \n",
        "else:    ## default ##\n",
        "        print (\"Invalid number. Try again...\")"
      ],
      "execution_count": 64,
      "outputs": [
        {
          "output_type": "stream",
          "text": [
            "Ah... the wonderful world of hotels...\n",
            "In the setting of Fly Bye Airport Hotel ,\n",
            " there was a female guest who argued with a toddler cross dressing senior . \n",
            "Everyone agreed that they hated a lost cause more.\n",
            " In the end, nothing changed.\n"
          ],
          "name": "stdout"
        }
      ]
    }
  ]
}