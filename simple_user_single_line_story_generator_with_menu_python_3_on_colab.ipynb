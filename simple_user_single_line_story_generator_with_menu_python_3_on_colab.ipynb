{
  "nbformat": 4,
  "nbformat_minor": 0,
  "metadata": {
    "colab": {
      "name": "simple user single line story generator with menu python 3 on colab.ipynb",
      "version": "0.3.2",
      "provenance": [],
      "collapsed_sections": [],
      "include_colab_link": true
    },
    "kernelspec": {
      "name": "python3",
      "display_name": "Python 3"
    }
  },
  "cells": [
    {
      "cell_type": "markdown",
      "metadata": {
        "id": "view-in-github",
        "colab_type": "text"
      },
      "source": [
        "<a href=\"https://colab.research.google.com/github/pleabargain/ipynb_notebooks/blob/master/simple_user_single_line_story_generator_with_menu_python_3_on_colab.ipynb\" target=\"_parent\"><img src=\"https://colab.research.google.com/assets/colab-badge.svg\" alt=\"Open In Colab\"/></a>"
      ]
    },
    {
      "metadata": {
        "id": "UPSCEn5PpaVd",
        "colab_type": "code",
        "colab": {
          "base_uri": "https://localhost:8080/",
          "height": 632
        },
        "outputId": "830b51a6-39e3-4032-9ac3-73e0c78345b5"
      },
      "cell_type": "code",
      "source": [
        "#let's get the basics installed\n",
        "!pip install --upgrade -q gspread\n",
        "!pip install --upgrade 'notebook>=5.7.6'\n",
        "import random"
      ],
      "execution_count": 14,
      "outputs": [
        {
          "output_type": "stream",
          "text": [
            "Requirement already up-to-date: notebook>=5.7.6 in /usr/local/lib/python3.6/dist-packages (5.7.7)\n",
            "Requirement already satisfied, skipping upgrade: prometheus-client in /usr/local/lib/python3.6/dist-packages (from notebook>=5.7.6) (0.6.0)\n",
            "Requirement already satisfied, skipping upgrade: Send2Trash in /usr/local/lib/python3.6/dist-packages (from notebook>=5.7.6) (1.5.0)\n",
            "Requirement already satisfied, skipping upgrade: tornado<7,>=4.1 in /usr/local/lib/python3.6/dist-packages (from notebook>=5.7.6) (4.5.3)\n",
            "Requirement already satisfied, skipping upgrade: ipython-genutils in /usr/local/lib/python3.6/dist-packages (from notebook>=5.7.6) (0.2.0)\n",
            "Requirement already satisfied, skipping upgrade: nbconvert in /usr/local/lib/python3.6/dist-packages (from notebook>=5.7.6) (5.4.1)\n",
            "Requirement already satisfied, skipping upgrade: ipykernel in /usr/local/lib/python3.6/dist-packages (from notebook>=5.7.6) (4.6.1)\n",
            "Requirement already satisfied, skipping upgrade: nbformat in /usr/local/lib/python3.6/dist-packages (from notebook>=5.7.6) (4.4.0)\n",
            "Requirement already satisfied, skipping upgrade: pyzmq>=17 in /usr/local/lib/python3.6/dist-packages (from notebook>=5.7.6) (17.0.0)\n",
            "Requirement already satisfied, skipping upgrade: traitlets>=4.2.1 in /usr/local/lib/python3.6/dist-packages (from notebook>=5.7.6) (4.3.2)\n",
            "Requirement already satisfied, skipping upgrade: jupyter-core>=4.4.0 in /usr/local/lib/python3.6/dist-packages (from notebook>=5.7.6) (4.4.0)\n",
            "Requirement already satisfied, skipping upgrade: terminado>=0.8.1 in /usr/local/lib/python3.6/dist-packages (from notebook>=5.7.6) (0.8.1)\n",
            "Requirement already satisfied, skipping upgrade: jupyter-client>=5.2.0 in /usr/local/lib/python3.6/dist-packages (from notebook>=5.7.6) (5.2.4)\n",
            "Requirement already satisfied, skipping upgrade: jinja2 in /usr/local/lib/python3.6/dist-packages (from notebook>=5.7.6) (2.10)\n",
            "Requirement already satisfied, skipping upgrade: pygments in /usr/local/lib/python3.6/dist-packages (from nbconvert->notebook>=5.7.6) (2.3.1)\n",
            "Requirement already satisfied, skipping upgrade: testpath in /usr/local/lib/python3.6/dist-packages (from nbconvert->notebook>=5.7.6) (0.4.2)\n",
            "Requirement already satisfied, skipping upgrade: mistune>=0.8.1 in /usr/local/lib/python3.6/dist-packages (from nbconvert->notebook>=5.7.6) (0.8.4)\n",
            "Requirement already satisfied, skipping upgrade: entrypoints>=0.2.2 in /usr/local/lib/python3.6/dist-packages (from nbconvert->notebook>=5.7.6) (0.3)\n",
            "Requirement already satisfied, skipping upgrade: defusedxml in /usr/local/lib/python3.6/dist-packages (from nbconvert->notebook>=5.7.6) (0.5.0)\n",
            "Requirement already satisfied, skipping upgrade: bleach in /usr/local/lib/python3.6/dist-packages (from nbconvert->notebook>=5.7.6) (3.1.0)\n",
            "Requirement already satisfied, skipping upgrade: pandocfilters>=1.4.1 in /usr/local/lib/python3.6/dist-packages (from nbconvert->notebook>=5.7.6) (1.4.2)\n",
            "Requirement already satisfied, skipping upgrade: ipython>=4.0.0 in /usr/local/lib/python3.6/dist-packages (from ipykernel->notebook>=5.7.6) (5.5.0)\n",
            "Requirement already satisfied, skipping upgrade: jsonschema!=2.5.0,>=2.4 in /usr/local/lib/python3.6/dist-packages (from nbformat->notebook>=5.7.6) (2.6.0)\n",
            "Requirement already satisfied, skipping upgrade: decorator in /usr/local/lib/python3.6/dist-packages (from traitlets>=4.2.1->notebook>=5.7.6) (4.4.0)\n",
            "Requirement already satisfied, skipping upgrade: six in /usr/local/lib/python3.6/dist-packages (from traitlets>=4.2.1->notebook>=5.7.6) (1.11.0)\n",
            "Requirement already satisfied, skipping upgrade: ptyprocess; os_name != \"nt\" in /usr/local/lib/python3.6/dist-packages (from terminado>=0.8.1->notebook>=5.7.6) (0.6.0)\n",
            "Requirement already satisfied, skipping upgrade: python-dateutil>=2.1 in /usr/local/lib/python3.6/dist-packages (from jupyter-client>=5.2.0->notebook>=5.7.6) (2.5.3)\n",
            "Requirement already satisfied, skipping upgrade: MarkupSafe>=0.23 in /usr/local/lib/python3.6/dist-packages (from jinja2->notebook>=5.7.6) (1.1.1)\n",
            "Requirement already satisfied, skipping upgrade: webencodings in /usr/local/lib/python3.6/dist-packages (from bleach->nbconvert->notebook>=5.7.6) (0.5.1)\n",
            "Requirement already satisfied, skipping upgrade: simplegeneric>0.8 in /usr/local/lib/python3.6/dist-packages (from ipython>=4.0.0->ipykernel->notebook>=5.7.6) (0.8.1)\n",
            "Requirement already satisfied, skipping upgrade: pexpect; sys_platform != \"win32\" in /usr/local/lib/python3.6/dist-packages (from ipython>=4.0.0->ipykernel->notebook>=5.7.6) (4.6.0)\n",
            "Requirement already satisfied, skipping upgrade: pickleshare in /usr/local/lib/python3.6/dist-packages (from ipython>=4.0.0->ipykernel->notebook>=5.7.6) (0.7.5)\n",
            "Requirement already satisfied, skipping upgrade: prompt-toolkit<2.0.0,>=1.0.4 in /usr/local/lib/python3.6/dist-packages (from ipython>=4.0.0->ipykernel->notebook>=5.7.6) (1.0.14)\n",
            "Requirement already satisfied, skipping upgrade: setuptools>=18.5 in /usr/local/lib/python3.6/dist-packages (from ipython>=4.0.0->ipykernel->notebook>=5.7.6) (40.8.0)\n",
            "Requirement already satisfied, skipping upgrade: wcwidth in /usr/local/lib/python3.6/dist-packages (from prompt-toolkit<2.0.0,>=1.0.4->ipython>=4.0.0->ipykernel->notebook>=5.7.6) (0.1.7)\n"
          ],
          "name": "stdout"
        }
      ]
    },
    {
      "metadata": {
        "id": "dyjQNSjtpndV",
        "colab_type": "code",
        "colab": {}
      },
      "cell_type": "code",
      "source": [
        "#build the menu"
      ],
      "execution_count": 0,
      "outputs": []
    },
    {
      "metadata": {
        "id": "GRkJTnlmlHbB",
        "colab_type": "code",
        "colab": {
          "base_uri": "https://localhost:8080/",
          "height": 153
        },
        "outputId": "2a44141d-8e78-4c35-ff1a-ae4358c0ca78"
      },
      "cell_type": "code",
      "source": [
        "print (30 * '-')\n",
        "print (\"   M A I N - M E N U\")\n",
        "print (30 * '-')\n",
        "print (\"1. high fantasy\")\n",
        "print (\"2. User management\")\n",
        "print (\"3. Reboot the server\")\n",
        "print (30 * '-')\n",
        " \n",
        "## Get input ###\n",
        "choice = input('Enter your choice [1-3] : ')\n",
        " \n",
        "### Convert string to int type ##\n",
        "choice = int(choice)"
      ],
      "execution_count": 16,
      "outputs": [
        {
          "output_type": "stream",
          "text": [
            "------------------------------\n",
            "   M A I N - M E N U\n",
            "------------------------------\n",
            "1. high fantasy\n",
            "2. User management\n",
            "3. Reboot the server\n",
            "------------------------------\n",
            "Enter your choice [1-3] : 2\n"
          ],
          "name": "stdout"
        }
      ]
    },
    {
      "metadata": {
        "id": "2QIo7uFhnNHb",
        "colab_type": "code",
        "colab": {
          "base_uri": "https://localhost:8080/",
          "height": 68
        },
        "outputId": "19d2f4f3-483e-4e41-f160-a263d96b6a18"
      },
      "cell_type": "code",
      "source": [
        "\n",
        "### Take action as per selected menu-option ###\n",
        "if choice == 1:\n",
        "  print (\"You have chosen to enter the wild world of high fantasy...\")\n",
        "  setting=random.choice([\"The Great Empire\",\"a vast desert\",\n",
        "                         \"a dark corrupted land\",\"a magic swamp\",\n",
        "                         \"an unending labryinth\",\"floating islands\",\"a mystical forest\",\"a frozen wasteland\",\"a dangerous jungle land\"])\n",
        "  gender=random.choice([\"a male \",\"a male \",\"a male \",\"a female \",\"a female \",\"a female \",\"a magical transgender \",\"an agender \",\"a third gender \"])\n",
        "    #no articles here\n",
        "  race=random.choice([\" human \",\"elf \",\"orc \",\"dwarf \",\"birdperson\",\"gnome \",\"snake thing\",\"demon \",\"angel \",\"kitsune \",\"dark elf \",\"troll \",\"unicorn \"])\n",
        "  classs=random.choice([\"marksmen \",\"warrior \",\"wizard \",\"bard \",\"thief \",\"merchant\",\"knight \",\"spellsword \",\"peasant \",\"necromancer \",\"preist \",\"bandit \",\"monarch\"])\n",
        "  protagonist = gender+race+classs\n",
        "  antagonist=random.choice([\"a female\",\"a male\",\"an entire race\",\"a god\",\"an evil mage\",\"an order of knights\",\"evil itself\",\"a giant\",\"an invading army\",\"a tyrant\",\"magic\",\"a fascist regime\",\"a greedy merchant\",\"a troubadour\",\"a wayward mercenary\",\"a monster\",\"a dragon\"])\n",
        "  conflict=random.choice([\"fell in love with \",\"fought against \",\"grew to love\",\n",
        "                          \"attempted to stop \",\"defended against \",\n",
        "                          \"tried to befriend \",\"explored with \",\n",
        "                          \"tried to evade \",\"competed with \",\"performed surgery on\",\n",
        "                          \"exceeded beyond \",\"sought revenge against \"])\n",
        "  adjective =random.choice([\"delirious \",\"stupendous \",\"large \" ,\"deadly \"])\n",
        "  end=random.choice([\"It did not end well.\",\"There was nothing left to do.\",\"It ended very well.\",\"Died tragically.\",\"And after it all, lived happily ever after.\",\"It ended sadly.\",\"It was glorious.\",\"In the end, nothing changed.\",\"Ultimately, however, it didn't matter.\",\"Finally, they said, it's over.\",\"It ended with a twist.\",\"Gave up.\"])\n",
        "#this works\n",
        "  print(\"In the setting of\",setting,\",\\n there was \", protagonist, \"who\",conflict,antagonist,\".\",end)\n",
        "###################################################################################\n",
        "elif choice == 2:\n",
        "  print (\"Starting alt history...\")\n",
        "  setting=random.choice([\"America\",\"Religion\",\"the Classical Era\",\"the Middle Ages\",\"the Renaissance\",\"the Industrial Era\",\"World War I\",\"World War II\",\"the Modern Era\"])\n",
        "  if setting == \"America\":\n",
        "        figures=[\"Abraham Lincoln\",\"George W. Bush Jr.\",\"Benjamin Franklin\",\"Donald Trump\",\"Ronald Reagan\",\"John Adams\",\"Hilary Clinton\",\"King George III\",\"King George Washington\",\"Andrew Jackson\",\"Thomas Edison\",\"Steve Jobs\"]\n",
        "        figure=random.choice(figures)\n",
        "        antagonist=random.choice(figures)\n",
        "  if setting == \"Religion\":\n",
        "        figure=random.choice([\"Jesus\",\"Muhammad\",\"Animalism\",\"Buddha\",\"Krishna\",\"Moses\",\"L. Ron Hubbard\",\"Joseph Smith\",\"Zeus\",\"Ra\",\"Thor\"])\n",
        "        antagonist=random.choice([\"Christianity\",\"Islam\",\"Hinduism\",\"Buddhism\",\"Greek mythology\",\"Scientology\",\"the Mormons\",\"Paganism\",\"Heresies\"])\n",
        "  if setting == \"the Classical Era\":\n",
        "        figures=[\"Alexander The Great\",\"Julius Caesar\",\"Aristotle\",\"King Tut\",\"Qin Shi Huang\",\"Homer\",\"Augustus\",\"Plato\",\"Cleopatra\",\"Ashoka\",\"Attila the Hun\",\"Leonidas\"]\n",
        "        figure=random.choice(figures)\n",
        "        antagonist=random.choice(figures)\n",
        "  if setting == \"the Middle Ages\":\n",
        "        figures=[\"Charlemagne\",\"Ghenghis Khan\",\"El Cid\",\"Saladin\",\"William the Conqueror\",\"Ragnar Lodbrok\",\"Oda Nobunaga\",\"King Richard III\",\"William Wallace\",\"El Cid\",\"Eleanor of Aquitaine\",\"Erik the Red\",\"Vlad the Impaler\"]\n",
        "        figure=random.choice(figures)\n",
        "        antagonist=random.choice(figures)\n",
        "  if setting == \"the Renaissance\":\n",
        "        figures=[\"Marco Polo\",\"Joan of Arc\",\"Christopher Columbus\",\"Blackbeard\",\"Leonardo da Vinci\",\"William Shakespeare\",\"Henry VIII\",\"Michelangelo\",\"Donatello\",\"Galileo\",\"Admiral Yi Sun-sin\",\"Suleiman the Magnificent\"]\n",
        "        figure=random.choice(figures)\n",
        "        antagonist=random.choice(figures)\n",
        "  if setting == \"the Industrial Era\":\n",
        "        figures=[\"Henry Ford\",\"Karl Marx\",\"Charles Dickens\",\"John D. Rockefeller\",\"Thomas Edison\",\"Nikola Tesla\",\"Amelia Earheart\",\"Frank C. Mars\",\"Albert Einstein\",\"Napoleon\",\"Ghandi\",\"Mark Twain\"]\n",
        "        figure=random.choice(figures)\n",
        "        antagonist=random.choice(figures)\n",
        "  if setting == \"World War I\":\n",
        "        figure=random.choice([\"Woodrow Wilson\",\"Prescott Bush\",\"Jon Donovan\",\"Winston Churchill\",\"Tsar Nicholas II\",\"Lenin\",\"Paul von Hindenburg\",\"Ataturk\"])\n",
        "        antagonist=random.choice([\"the Ottoman Empire\",\"Germany\",\"the United States\",\"Britain\",\"Austria-Hungary\",\"France\"])\n",
        "  if setting == \"World War II\":\n",
        "        figure=random.choice([\"Hitler\",\"Queen Elizabeth\",\"Franklin D. Roosevelt\",\"Joseph Stalin\",\"Harry Truman\",\"General Hideki Tojo\"])\n",
        "        antagonist=random.choice([\"the United States\",\"Germany\",\"the Soviet Union\",\"the United Kingdom\",\"Japan\",\"Italy\"])\n",
        "  if setting == \"the Modern Era\":\n",
        "        figures=[\"Obama\",\"Putin\",\"Kim Jong-un\",\"Madonna\",\"Kanye West\",\"Bill Gates\",\"Guido van Rossum\",\"The Beatles\",\"ISIS\",\"Pope Francis\",\"Mike Tyson\",\"Pewdiepie\",\"Hilary Cliton\"]\n",
        "        figure=random.choice(figures)\n",
        "        antagonist=random.choice(figures)\n",
        "  afigure=(\"a figure known as \")     \n",
        "  protagonist= afigure+figure\n",
        "  antagonist=random.choice([\"a female\",\"a male\",\"an entire race\",\"a god\",\"an evil mage\",\"an order of knights\",\"evil itself\",\"a giant\",\"an invading army\",\"a tyrant\",\"magic\",\"a fascist regime\",\"a greedy merchant\",\"a troubadour\",\"a wayward mercenary\",\"a monster\",\"a dragon\"])\n",
        "  conflict=random.choice([\"fell in love with \",\"fought against \",\"grew to love\",\n",
        "                          \"attempted to stop \",\"defended against \",\n",
        "                          \"tried to befriend \",\"explored with \",\n",
        "                          \"tried to evade \",\"competed with \",\"performed surgery on\",\n",
        "                          \"exceeded beyond \",\"sought revenge against \"])\n",
        "  adjective =random.choice([\"delirious \",\"stupendous \",\"large \" ,\"deadly \"])\n",
        "  end=random.choice([\"It did not end well.\",\"There was nothing left to do.\",\"It ended very well.\",\"Died tragically.\",\"And after it all, lived happily ever after.\",\"It ended sadly.\",\"It was glorious.\",\"In the end, nothing changed.\",\n",
        "                     \"Ultimately, however, it didn't matter.\",\n",
        "                     \"Finally, they said, it's over.\",\"It ended with a twist.\",\"Gave up.\"])\n",
        "  print(\"In the setting of\",setting,\",\\n there was \", protagonist, \"who\",conflict,antagonist,\".\",end)\n",
        "\n",
        "    ########################################################3\n",
        "elif choice == 3:\n",
        "        print (\"Rebooting the server...\")\n",
        "else:    ## default ##\n",
        "        print (\"Invalid number. Try again...\")"
      ],
      "execution_count": 22,
      "outputs": [
        {
          "output_type": "stream",
          "text": [
            "Starting alt history...\n",
            "In the setting of the Classical Era ,\n",
            " there was  a figure known as King Tut who defended against  a giant . It ended very well.\n"
          ],
          "name": "stdout"
        }
      ]
    }
  ]
}