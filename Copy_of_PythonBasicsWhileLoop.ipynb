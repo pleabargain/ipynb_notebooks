{
  "nbformat": 4,
  "nbformat_minor": 0,
  "metadata": {
    "colab": {
      "name": "Copy of PythonBasicsWhileLoop.ipynb",
      "version": "0.3.2",
      "provenance": [],
      "include_colab_link": true
    },
    "kernelspec": {
      "display_name": "Python [default]",
      "language": "python",
      "name": "python2"
    }
  },
  "cells": [
    {
      "cell_type": "markdown",
      "metadata": {
        "id": "view-in-github",
        "colab_type": "text"
      },
      "source": [
        "<a href=\"https://colab.research.google.com/github/pleabargain/ipynb_notebooks/blob/master/Copy_of_PythonBasicsWhileLoop.ipynb\" target=\"_parent\"><img src=\"https://colab.research.google.com/assets/colab-badge.svg\" alt=\"Open In Colab\"/></a>"
      ]
    },
    {
      "metadata": {
        "id": "KV78c23N5uhF",
        "colab_type": "text"
      },
      "cell_type": "markdown",
      "source": [
        "<h1 align=\"center\">While Loop</h1>"
      ]
    },
    {
      "metadata": {
        "id": "tTTQGtEr5uhI",
        "colab_type": "text"
      },
      "cell_type": "markdown",
      "source": [
        "For Loop | While Loop\n",
        "--- | --- \n",
        "Iterate through a certain number of values | Will just keep going until condition evaluates to False\n",
        "Can leave loop using break statement | Can leave loop using break statement"
      ]
    },
    {
      "metadata": {
        "id": "aNBbTz2A5uhJ",
        "colab_type": "text"
      },
      "cell_type": "markdown",
      "source": [
        "if we want loop to end at some point, we have to make condition False eventually"
      ]
    },
    {
      "metadata": {
        "id": "k17OAu_o5uhK",
        "colab_type": "code",
        "outputId": "e9bab403-f9f6-499d-eb59-8d608f998ecd",
        "colab": {
          "base_uri": "https://localhost:8080/",
          "height": 124
        }
      },
      "cell_type": "code",
      "source": [
        "# Everytime through the loop, it checks condition everytime until count is 6 \n",
        "# can also use a break to break out of while loop. \n",
        "count = 0\n",
        "while count <= 5:\n",
        "    print(count)\n",
        "    count = count + 1"
      ],
      "execution_count": 1,
      "outputs": [
        {
          "output_type": "stream",
          "text": [
            "0\n",
            "1\n",
            "2\n",
            "3\n",
            "4\n",
            "5\n"
          ],
          "name": "stdout"
        }
      ]
    },
    {
      "metadata": {
        "id": "3hUWmZr95uhS",
        "colab_type": "text"
      },
      "cell_type": "markdown",
      "source": [
        "## break statements \n",
        "will completely break you out of a loop"
      ]
    },
    {
      "metadata": {
        "id": "W5UbxncB5uhT",
        "colab_type": "code",
        "outputId": "a3b928dc-9e47-433d-cf8f-bfd8812df325",
        "colab": {
          "base_uri": "https://localhost:8080/",
          "height": 53
        }
      },
      "cell_type": "code",
      "source": [
        "count = 0\n",
        "while count <= 5:\n",
        "    if count == 2:\n",
        "        break\n",
        "    count += 1\n",
        "    print count"
      ],
      "execution_count": 2,
      "outputs": [
        {
          "output_type": "stream",
          "text": [
            "1\n",
            "2\n"
          ],
          "name": "stdout"
        }
      ]
    },
    {
      "metadata": {
        "id": "3uInOOje5uhb",
        "colab_type": "text"
      },
      "cell_type": "markdown",
      "source": [
        "The while True condition makes it impossible to leave the loop unless you run into a break statement\n",
        "<br>\n",
        "if you are stuck in an infinite loop, use control + c on your computer to break out of it"
      ]
    },
    {
      "metadata": {
        "id": "uqTKq8Pp5uhc",
        "colab_type": "code",
        "outputId": "b712da71-3a2a-46c9-8a64-2e28c0f90b06",
        "colab": {
          "base_uri": "https://localhost:8080/",
          "height": 71
        }
      },
      "cell_type": "code",
      "source": [
        "num = 0\n",
        "while True:\n",
        "    if num == 2:\n",
        "        print('Found 2')\n",
        "        break\n",
        "    num += 1\n",
        "    print num"
      ],
      "execution_count": 3,
      "outputs": [
        {
          "output_type": "stream",
          "text": [
            "1\n",
            "2\n",
            "Found 2\n"
          ],
          "name": "stdout"
        }
      ]
    },
    {
      "metadata": {
        "id": "wQjfWSup5uhh",
        "colab_type": "text"
      },
      "cell_type": "markdown",
      "source": [
        "Reminder: Use the modulo operator (%) which returns the remainder of the division of the number to the left by the number on its right."
      ]
    },
    {
      "metadata": {
        "id": "Va2IFgsu5uhj",
        "colab_type": "code",
        "outputId": "98350f39-b9a9-4d2e-c826-31858ea99068",
        "colab": {
          "base_uri": "https://localhost:8080/",
          "height": 35
        }
      },
      "cell_type": "code",
      "source": [
        "# 1 divided by 5 is 0 remainder 1\n",
        "1 % 5"
      ],
      "execution_count": 4,
      "outputs": [
        {
          "output_type": "execute_result",
          "data": {
            "text/plain": [
              "1"
            ]
          },
          "metadata": {
            "tags": []
          },
          "execution_count": 4
        }
      ]
    },
    {
      "metadata": {
        "id": "j-FK48aJ5uhn",
        "colab_type": "code",
        "outputId": "45fea099-cf2b-4583-da8d-f97dcf8a9a26",
        "colab": {
          "base_uri": "https://localhost:8080/",
          "height": 35
        }
      },
      "cell_type": "code",
      "source": [
        "# 5 divided by 5 is 0 remainder 0\n",
        "5 % 5"
      ],
      "execution_count": 5,
      "outputs": [
        {
          "output_type": "execute_result",
          "data": {
            "text/plain": [
              "0"
            ]
          },
          "metadata": {
            "tags": []
          },
          "execution_count": 5
        }
      ]
    },
    {
      "metadata": {
        "id": "9gfS1s305uhr",
        "colab_type": "text"
      },
      "cell_type": "markdown",
      "source": [
        "Comparison Operator | Function\n",
        "--- | --- \n",
        "< | less than\n",
        "<= | less than or equal to\n",
        "> | greater than\n",
        ">= | greater than or equal to\n",
        "== | equal\n",
        "!= | not equal"
      ]
    },
    {
      "metadata": {
        "id": "tfiDpXrU5uht",
        "colab_type": "code",
        "outputId": "a943d1b6-9d4a-4488-cc20-14349fffc61f",
        "colab": {
          "base_uri": "https://localhost:8080/",
          "height": 88
        }
      },
      "cell_type": "code",
      "source": [
        "x = 1\n",
        "while x % 5 != 0:\n",
        "    x += 1\n",
        "    print(x)"
      ],
      "execution_count": 6,
      "outputs": [
        {
          "output_type": "stream",
          "text": [
            "2\n",
            "3\n",
            "4\n",
            "5\n"
          ],
          "name": "stdout"
        }
      ]
    },
    {
      "metadata": {
        "id": "x7URLqSd5uhx",
        "colab_type": "text"
      },
      "cell_type": "markdown",
      "source": [
        "range is useful when we know how many times we want to go through a loop\n",
        "<br>\n",
        "start at 0 and go up to but not including 5"
      ]
    },
    {
      "metadata": {
        "id": "oHN90ON-5uhy",
        "colab_type": "code",
        "outputId": "055a29ee-36a3-4264-adfe-945ba3667d01",
        "colab": {
          "base_uri": "https://localhost:8080/",
          "height": 35
        }
      },
      "cell_type": "code",
      "source": [
        "candidates = list(range(3, 15))\n",
        "candidates"
      ],
      "execution_count": 16,
      "outputs": [
        {
          "output_type": "execute_result",
          "data": {
            "text/plain": [
              "[3, 4, 5, 6, 7, 8, 9, 10, 11, 12, 13, 14]"
            ]
          },
          "metadata": {
            "tags": []
          },
          "execution_count": 16
        }
      ]
    },
    {
      "metadata": {
        "id": "TKXGczEl5uh3",
        "colab_type": "code",
        "outputId": "221451f4-01e7-439c-de1f-696b663650bc",
        "colab": {
          "base_uri": "https://localhost:8080/",
          "height": 231
        }
      },
      "cell_type": "code",
      "source": [
        "while len(candidates) > 0: \n",
        "    first = candidates[0]\n",
        "    candidates.remove(first)\n",
        "    print(candidates)"
      ],
      "execution_count": 17,
      "outputs": [
        {
          "output_type": "stream",
          "text": [
            "[4, 5, 6, 7, 8, 9, 10, 11, 12, 13, 14]\n",
            "[5, 6, 7, 8, 9, 10, 11, 12, 13, 14]\n",
            "[6, 7, 8, 9, 10, 11, 12, 13, 14]\n",
            "[7, 8, 9, 10, 11, 12, 13, 14]\n",
            "[8, 9, 10, 11, 12, 13, 14]\n",
            "[9, 10, 11, 12, 13, 14]\n",
            "[10, 11, 12, 13, 14]\n",
            "[11, 12, 13, 14]\n",
            "[12, 13, 14]\n",
            "[13, 14]\n",
            "[14]\n",
            "[]\n"
          ],
          "name": "stdout"
        }
      ]
    },
    {
      "metadata": {
        "id": "X6kuil7w6Pe6",
        "colab_type": "code",
        "colab": {}
      },
      "cell_type": "code",
      "source": [
        ""
      ],
      "execution_count": 0,
      "outputs": []
    },
    {
      "metadata": {
        "id": "A-G9PuKp5uh7",
        "colab_type": "text"
      },
      "cell_type": "markdown",
      "source": [
        "**if this tutorial doesn't cover what you are looking for, please leave a comment on the youtube video and I will try to cover what you are interested in. (Please subscribe if you can!)**"
      ]
    },
    {
      "metadata": {
        "id": "R6AIXkIF5uh8",
        "colab_type": "text"
      },
      "cell_type": "markdown",
      "source": [
        "https://www.youtube.com/watch?v=l_dIleafLZ8"
      ]
    }
  ]
}