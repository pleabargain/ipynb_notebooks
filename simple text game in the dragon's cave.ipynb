{
  "nbformat": 4,
  "nbformat_minor": 0,
  "metadata": {
    "colab": {
      "name": "dragon",
      "version": "0.3.2",
      "provenance": [],
      "include_colab_link": true
    },
    "kernelspec": {
      "name": "python3",
      "display_name": "Python 3"
    }
  },
  "cells": [
    {
      "cell_type": "markdown",
      "metadata": {
        "id": "view-in-github",
        "colab_type": "text"
      },
      "source": [
        "<a href=\"https://colab.research.google.com/github/pleabargain/ipynb_notebooks/blob/master/simple%20text%20game%20in%20the%20dragon's%20cave.ipynb\" target=\"_parent\"><img src=\"https://colab.research.google.com/assets/colab-badge.svg\" alt=\"Open In Colab\"/></a>"
      ]
    },
    {
      "metadata": {
        "id": "Y8iAOMHa7DpZ",
        "colab_type": "code",
        "colab": {
          "base_uri": "https://localhost:8080/",
          "height": 257
        },
        "outputId": "d9cb870e-6ad4-4d0e-a69b-7a0467755f61"
      },
      "cell_type": "code",
      "source": [
        "import random\n",
        "import time\n",
        "\n",
        "def displayIntro():\n",
        "    print('You are in a land full of dragons. In front of you,')\n",
        "    print('you see two caves. In one cave, the dragon is friendly')\n",
        "    print('and will share his treasure with you. The other dragon')\n",
        "    print('is greedy and hungry, and will eat you on sight.')\n",
        "    print()\n",
        "\n",
        "def chooseCave():\n",
        "    #define the variable cave\n",
        "    cave = ''\n",
        "    while cave != '1' and cave != '2':\n",
        "        print('Which cave will you go into? (1 or 2)')\n",
        "        #user has to choose between 1 or 2\n",
        "        #otherwise it just loops...\n",
        "        #a loop that only accepts two possible answers\n",
        "        #how to take advantage of this?\n",
        "        cave = input()\n",
        "    #only appears in def-blocks\n",
        "    return cave\n",
        "\n",
        "def checkCave(chosenCave):\n",
        "    print('You approach the cave...')\n",
        "    time.sleep(2)\n",
        "    print('It is dark and spooky...')\n",
        "    #be nice to display an image here...\n",
        "    time.sleep(2)\n",
        "    print('A large dragon jumps out in front of you! He opens his jaws and...')\n",
        "    print()\n",
        "    time.sleep(2)\n",
        "    #randomly choose life of death\n",
        "    #but what does the 1,2 do?\n",
        "    friendlyCave = random.randint(1, 2)\n",
        "    #convert the int to a str\n",
        "    if chosenCave == str(friendlyCave):\n",
        "         print('Gives you his treasure!')\n",
        "    else:\n",
        "         print('Gobbles you down in one bite!')\n",
        "\n",
        "playAgain = 'yes'\n",
        "while playAgain == 'yes' or playAgain == 'y':\n",
        "    #run this function\n",
        "    displayIntro()\n",
        "    #do these functions have to be in the same script?\n",
        "    #can I pull them from the same folder?\n",
        "    caveNumber = chooseCave()\n",
        "\n",
        "    checkCave(caveNumber)\n",
        "\n",
        "    print('Do you want to play again? (yes or no)')\n",
        "    playAgain = input()"
      ],
      "execution_count": 0,
      "outputs": [
        {
          "output_type": "stream",
          "text": [
            "You are in a land full of dragons. In front of you,\n",
            "you see two caves. In one cave, the dragon is friendly\n",
            "and will share his treasure with you. The other dragon\n",
            "is greedy and hungry, and will eat you on sight.\n",
            "\n",
            "Which cave will you go into? (1 or 2)\n",
            "1\n",
            "You approach the cave...\n",
            "It is dark and spooky...\n",
            "A large dragon jumps out in front of you! He opens his jaws and...\n",
            "\n",
            "Gobbles you down in one bite!\n",
            "Do you want to play again? (yes or no)\n"
          ],
          "name": "stdout"
        }
      ]
    }
  ]
}