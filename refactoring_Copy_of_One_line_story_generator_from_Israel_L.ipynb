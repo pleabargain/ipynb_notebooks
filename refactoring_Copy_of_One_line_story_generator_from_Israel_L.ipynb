{
  "nbformat": 4,
  "nbformat_minor": 0,
  "metadata": {
    "colab": {
      "name": "refactoring Copy of One line story generator from Israel L.ipynb",
      "version": "0.3.2",
      "provenance": [],
      "collapsed_sections": [],
      "include_colab_link": true
    },
    "kernelspec": {
      "name": "python3",
      "display_name": "Python 3"
    }
  },
  "cells": [
    {
      "cell_type": "markdown",
      "metadata": {
        "id": "view-in-github",
        "colab_type": "text"
      },
      "source": [
        "<a href=\"https://colab.research.google.com/github/pleabargain/ipynb_notebooks/blob/master/refactoring_Copy_of_One_line_story_generator_from_Israel_L.ipynb\" target=\"_parent\"><img src=\"https://colab.research.google.com/assets/colab-badge.svg\" alt=\"Open In Colab\"/></a>"
      ]
    },
    {
      "metadata": {
        "id": "VREn3qsVEEER",
        "colab_type": "code",
        "colab": {
          "base_uri": "https://localhost:8080/",
          "height": 632
        },
        "outputId": "9b53ae18-baa3-4be9-cc58-7f97acf80d5f"
      },
      "cell_type": "code",
      "source": [
        "!pip install --upgrade -q gspread\n",
        "!pip install --upgrade 'notebook>=5.7.6'"
      ],
      "execution_count": 85,
      "outputs": [
        {
          "output_type": "stream",
          "text": [
            "Requirement already up-to-date: notebook>=5.7.6 in /usr/local/lib/python3.6/dist-packages (5.7.7)\n",
            "Requirement already satisfied, skipping upgrade: ipykernel in /usr/local/lib/python3.6/dist-packages (from notebook>=5.7.6) (4.6.1)\n",
            "Requirement already satisfied, skipping upgrade: nbconvert in /usr/local/lib/python3.6/dist-packages (from notebook>=5.7.6) (5.4.1)\n",
            "Requirement already satisfied, skipping upgrade: pyzmq>=17 in /usr/local/lib/python3.6/dist-packages (from notebook>=5.7.6) (17.0.0)\n",
            "Requirement already satisfied, skipping upgrade: ipython-genutils in /usr/local/lib/python3.6/dist-packages (from notebook>=5.7.6) (0.2.0)\n",
            "Requirement already satisfied, skipping upgrade: jupyter-core>=4.4.0 in /usr/local/lib/python3.6/dist-packages (from notebook>=5.7.6) (4.4.0)\n",
            "Requirement already satisfied, skipping upgrade: terminado>=0.8.1 in /usr/local/lib/python3.6/dist-packages (from notebook>=5.7.6) (0.8.1)\n",
            "Requirement already satisfied, skipping upgrade: prometheus-client in /usr/local/lib/python3.6/dist-packages (from notebook>=5.7.6) (0.6.0)\n",
            "Requirement already satisfied, skipping upgrade: jinja2 in /usr/local/lib/python3.6/dist-packages (from notebook>=5.7.6) (2.10)\n",
            "Requirement already satisfied, skipping upgrade: Send2Trash in /usr/local/lib/python3.6/dist-packages (from notebook>=5.7.6) (1.5.0)\n",
            "Requirement already satisfied, skipping upgrade: tornado<7,>=4.1 in /usr/local/lib/python3.6/dist-packages (from notebook>=5.7.6) (4.5.3)\n",
            "Requirement already satisfied, skipping upgrade: jupyter-client>=5.2.0 in /usr/local/lib/python3.6/dist-packages (from notebook>=5.7.6) (5.2.4)\n",
            "Requirement already satisfied, skipping upgrade: nbformat in /usr/local/lib/python3.6/dist-packages (from notebook>=5.7.6) (4.4.0)\n",
            "Requirement already satisfied, skipping upgrade: traitlets>=4.2.1 in /usr/local/lib/python3.6/dist-packages (from notebook>=5.7.6) (4.3.2)\n",
            "Requirement already satisfied, skipping upgrade: ipython>=4.0.0 in /usr/local/lib/python3.6/dist-packages (from ipykernel->notebook>=5.7.6) (5.5.0)\n",
            "Requirement already satisfied, skipping upgrade: entrypoints>=0.2.2 in /usr/local/lib/python3.6/dist-packages (from nbconvert->notebook>=5.7.6) (0.3)\n",
            "Requirement already satisfied, skipping upgrade: bleach in /usr/local/lib/python3.6/dist-packages (from nbconvert->notebook>=5.7.6) (3.1.0)\n",
            "Requirement already satisfied, skipping upgrade: testpath in /usr/local/lib/python3.6/dist-packages (from nbconvert->notebook>=5.7.6) (0.4.2)\n",
            "Requirement already satisfied, skipping upgrade: defusedxml in /usr/local/lib/python3.6/dist-packages (from nbconvert->notebook>=5.7.6) (0.5.0)\n",
            "Requirement already satisfied, skipping upgrade: mistune>=0.8.1 in /usr/local/lib/python3.6/dist-packages (from nbconvert->notebook>=5.7.6) (0.8.4)\n",
            "Requirement already satisfied, skipping upgrade: pygments in /usr/local/lib/python3.6/dist-packages (from nbconvert->notebook>=5.7.6) (2.1.3)\n",
            "Requirement already satisfied, skipping upgrade: pandocfilters>=1.4.1 in /usr/local/lib/python3.6/dist-packages (from nbconvert->notebook>=5.7.6) (1.4.2)\n",
            "Requirement already satisfied, skipping upgrade: ptyprocess; os_name != \"nt\" in /usr/local/lib/python3.6/dist-packages (from terminado>=0.8.1->notebook>=5.7.6) (0.6.0)\n",
            "Requirement already satisfied, skipping upgrade: MarkupSafe>=0.23 in /usr/local/lib/python3.6/dist-packages (from jinja2->notebook>=5.7.6) (1.1.1)\n",
            "Requirement already satisfied, skipping upgrade: python-dateutil>=2.1 in /usr/local/lib/python3.6/dist-packages (from jupyter-client>=5.2.0->notebook>=5.7.6) (2.5.3)\n",
            "Requirement already satisfied, skipping upgrade: jsonschema!=2.5.0,>=2.4 in /usr/local/lib/python3.6/dist-packages (from nbformat->notebook>=5.7.6) (2.6.0)\n",
            "Requirement already satisfied, skipping upgrade: decorator in /usr/local/lib/python3.6/dist-packages (from traitlets>=4.2.1->notebook>=5.7.6) (4.4.0)\n",
            "Requirement already satisfied, skipping upgrade: six in /usr/local/lib/python3.6/dist-packages (from traitlets>=4.2.1->notebook>=5.7.6) (1.11.0)\n",
            "Requirement already satisfied, skipping upgrade: prompt-toolkit<2.0.0,>=1.0.4 in /usr/local/lib/python3.6/dist-packages (from ipython>=4.0.0->ipykernel->notebook>=5.7.6) (1.0.15)\n",
            "Requirement already satisfied, skipping upgrade: setuptools>=18.5 in /usr/local/lib/python3.6/dist-packages (from ipython>=4.0.0->ipykernel->notebook>=5.7.6) (40.8.0)\n",
            "Requirement already satisfied, skipping upgrade: pexpect; sys_platform != \"win32\" in /usr/local/lib/python3.6/dist-packages (from ipython>=4.0.0->ipykernel->notebook>=5.7.6) (4.6.0)\n",
            "Requirement already satisfied, skipping upgrade: simplegeneric>0.8 in /usr/local/lib/python3.6/dist-packages (from ipython>=4.0.0->ipykernel->notebook>=5.7.6) (0.8.1)\n",
            "Requirement already satisfied, skipping upgrade: pickleshare in /usr/local/lib/python3.6/dist-packages (from ipython>=4.0.0->ipykernel->notebook>=5.7.6) (0.7.5)\n",
            "Requirement already satisfied, skipping upgrade: webencodings in /usr/local/lib/python3.6/dist-packages (from bleach->nbconvert->notebook>=5.7.6) (0.5.1)\n",
            "Requirement already satisfied, skipping upgrade: wcwidth in /usr/local/lib/python3.6/dist-packages (from prompt-toolkit<2.0.0,>=1.0.4->ipython>=4.0.0->ipykernel->notebook>=5.7.6) (0.1.7)\n"
          ],
          "name": "stdout"
        }
      ]
    },
    {
      "metadata": {
        "id": "pad0n--IEEtE",
        "colab_type": "code",
        "colab": {}
      },
      "cell_type": "code",
      "source": [
        ""
      ],
      "execution_count": 0,
      "outputs": []
    },
    {
      "metadata": {
        "id": "7jc-3YJ-D4dd",
        "colab_type": "code",
        "colab": {}
      },
      "cell_type": "code",
      "source": [
        "#code source\n",
        "##https://code.sololearn.com/cchNaXRptdIw/#py\n",
        "#will only pass random values\n",
        "#cannot set your theme\n",
        "#challenge\n",
        "##call the themes from an online list\n",
        "import random\n",
        "theme=random.choice([\"real world\",\"high fantasy\",\"space sci-fi\",\"alt-history\",\"cyberpunk\"])"
      ],
      "execution_count": 0,
      "outputs": []
    },
    {
      "metadata": {
        "id": "LoAXzyQELl23",
        "colab_type": "text"
      },
      "cell_type": "markdown",
      "source": [
        "# real world"
      ]
    },
    {
      "metadata": {
        "id": "spAupMPrEKRB",
        "colab_type": "code",
        "colab": {}
      },
      "cell_type": "code",
      "source": [
        "\n",
        "# gens setting\n",
        "if theme == \"real world\":\n",
        "    subsetting=random.choice([\"the USA\",\"the International Space Station\",\"China\",\"Seychelles\",\"Europe\",\"North Korea\",\"Africa\",\"the Middle East\",\"Japan\",\"Australia\",\"the Bahamas\"])\n",
        "    setting=random.choice([\"a small town in \",\"a wasteland in \",\"a speck of a village in \",\"a big city in \",\"a farm in \",\"a playground \",\"a metro station \",\"an office \",\"a hotel in \",\"a spa in \", \"a restaurant in \",\"a school in \",\"the wilderness in \",\"the suburbs in \",\"the slums in \",\"the ocean \",\"the entire world \"])\n",
        "    if setting != \"the ocean\" or \"the entire world\":\n",
        "        setting=setting+subsetting\n",
        "    age=random.choice([\"a newborn \",\"an elder \",\"a toddler \",\"a child \",\"a pre-teen \",\"a teenager \",\"a young adult \",\"an adult \",\"a middle aged \",\"an elder \"])\n",
        "    race=random.choice([\"African \",\"European \",\"Hispanic \",\"Arabic \",\"Asian \"])\n",
        "    gengender=random.randint(0,100)\n",
        "    if gengender <= 10:\n",
        "         gender = (\"transgender \")\n",
        "    if gengender >= 9:\n",
        "         if gengender >= 47:\n",
        "             gender = (\"male \")\n",
        "         if gengender <= 46:\n",
        "             gender = (\"female \")\n",
        "    protagonist=age+race+gender\n",
        "    antagonist=random.choice([\"a female\",\"a corrupt politician\",\"a lost cause\",\"a failed leader\",\"a male\",\"a dictator\",\"a corporation\",\"a government\",\"a tragic event\",\"traffic\",\"religion\",\"a drug dealer\",\"a prostitute\",\"a pimp\",\"a disease\",\"a rival\",\"the law\",\"an old friend\",\"a dog\"])"
      ],
      "execution_count": 0,
      "outputs": []
    },
    {
      "metadata": {
        "id": "zhkpHs-0Lrq2",
        "colab_type": "text"
      },
      "cell_type": "markdown",
      "source": [
        "# alt-history"
      ]
    },
    {
      "metadata": {
        "id": "Zdy6xQqU1NQl",
        "colab_type": "code",
        "colab": {}
      },
      "cell_type": "code",
      "source": [
        "if theme == \"alt-history\":\n",
        "    setting=random.choice([\"America\",\"Religion\",\"the Classical Era\",\"the Middle Ages\",\"the Renaissance\",\"the Industrial Era\",\"World War I\",\"World War II\",\"the Modern Era\"])\n",
        "    if setting == \"America\":\n",
        "        figures=[\"Abraham Lincoln\",\"George W. Bush Jr.\",\"Benjamin Franklin\",\"Donald Trump\",\"Ronald Reagan\",\"John Adams\",\"Hilary Clinton\",\"King George III\",\"King George Washington\",\"Andrew Jackson\",\"Thomas Edison\",\"Steve Jobs\"]\n",
        "        figure=random.choice(figures)\n",
        "        antagonist=random.choice(figures)\n",
        "    if setting == \"Religion\":\n",
        "        figure=random.choice([\"Jesus\",\"Muhammad\",\"Animalism\",\"Buddha\",\"Krishna\",\"Moses\",\"L. Ron Hubbard\",\"Joseph Smith\",\"Zeus\",\"Ra\",\"Thor\"])\n",
        "        antagonist=random.choice([\"Christianity\",\"Islam\",\"Hinduism\",\"Buddhism\",\"Greek mythology\",\"Scientology\",\"the Mormons\",\"Paganism\",\"Heresies\"])\n",
        "    if setting == \"the Classical Era\":\n",
        "        figures=[\"Alexander The Great\",\"Julius Caesar\",\"Aristotle\",\"King Tut\",\"Qin Shi Huang\",\"Homer\",\"Augustus\",\"Plato\",\"Cleopatra\",\"Ashoka\",\"Attila the Hun\",\"Leonidas\"]\n",
        "        figure=random.choice(figures)\n",
        "        antagonist=random.choice(figures)\n",
        "    if setting == \"the Middle Ages\":\n",
        "        figures=[\"Charlemagne\",\"Ghenghis Khan\",\"El Cid\",\"Saladin\",\"William the Conqueror\",\"Ragnar Lodbrok\",\"Oda Nobunaga\",\"King Richard III\",\"William Wallace\",\"El Cid\",\"Eleanor of Aquitaine\",\"Erik the Red\",\"Vlad the Impaler\"]\n",
        "        figure=random.choice(figures)\n",
        "        antagonist=random.choice(figures)\n",
        "    if setting == \"the Renaissance\":\n",
        "        figures=[\"Marco Polo\",\"Joan of Arc\",\"Christopher Columbus\",\"Blackbeard\",\"Leonardo da Vinci\",\"William Shakespeare\",\"Henry VIII\",\"Michelangelo\",\"Donatello\",\"Galileo\",\"Admiral Yi Sun-sin\",\"Suleiman the Magnificent\"]\n",
        "        figure=random.choice(figures)\n",
        "        antagonist=random.choice(figures)\n",
        "    if setting == \"the Industrial Era\":\n",
        "        figures=[\"Henry Ford\",\"Karl Marx\",\"Charles Dickens\",\"John D. Rockefeller\",\"Thomas Edison\",\"Nikola Tesla\",\"Amelia Earheart\",\"Frank C. Mars\",\"Albert Einstein\",\"Napoleon\",\"Ghandi\",\"Mark Twain\"]\n",
        "        figure=random.choice(figures)\n",
        "        antagonist=random.choice(figures)\n",
        "    if setting == \"World War I\":\n",
        "        figure=random.choice([\"Woodrow Wilson\",\"Prescott Bush\",\"Jon Donovan\",\"Winston Churchill\",\"Tsar Nicholas II\",\"Lenin\",\"Paul von Hindenburg\",\"Ataturk\"])\n",
        "        antagonist=random.choice([\"the Ottoman Empire\",\"Germany\",\"the United States\",\"Britain\",\"Austria-Hungary\",\"France\"])\n",
        "    if setting == \"World War II\":\n",
        "        figure=random.choice([\"Hitler\",\"Queen Elizabeth\",\"Franklin D. Roosevelt\",\"Joseph Stalin\",\"Harry Truman\",\"General Hideki Tojo\"])\n",
        "        antagonist=random.choice([\"the United States\",\"Germany\",\"the Soviet Union\",\"the United Kingdom\",\"Japan\",\"Italy\"])\n",
        "    if setting == \"the Modern Era\":\n",
        "        figures=[\"Obama\",\"Putin\",\"Kim Jong-un\",\"Madonna\",\"Kanye West\",\"Bill Gates\",\"Guido van Rossum\",\"The Beatles\",\"ISIS\",\"Pope Francis\",\"Mike Tyson\",\"Pewdiepie\",\"Hilary Clinton\"]\n",
        "        figure=random.choice(figures)\n",
        "        antagonist=random.choice(figures)\n",
        "    afigure=(\"a figure known as \")     \n",
        "    protagonist= afigure+figure     \n",
        "\n",
        "\n"
      ],
      "execution_count": 0,
      "outputs": []
    },
    {
      "metadata": {
        "id": "u050_Z43Lt0e",
        "colab_type": "text"
      },
      "cell_type": "markdown",
      "source": [
        "# high fantasy"
      ]
    },
    {
      "metadata": {
        "id": "fHlI8VvcEbex",
        "colab_type": "code",
        "colab": {}
      },
      "cell_type": "code",
      "source": [
        "\n",
        "if theme == \"high fantasy\":\n",
        "    setting=random.choice([\"The Great Empire\",\"a vast desert\",\"a dark corrupted land\",\"a magic swamp\",\"a unending labryinth\",\"floating islands\",\"a mystical forest\",\"a frozen wasteland\",\"a dangerous jungle land\"])\n",
        "    gender=random.choice([\"a male \",\"a female \",\"a magical transgender \",\"an agender \",\"a third gender \"])\n",
        "    #no articles here\n",
        "    race=random.choice([\"human \",\"elf \",\"orc \",\"dwarf \",\"birdperson\",\"gnome \",\"snake thing\",\"demon \",\"angel \",\"kitsune \",\"dark elf \",\"troll \",\"unicorn \"])\n",
        "    classs=random.choice([\"marksmen \",\"warrior \",\"wizard \",\"bard \",\"thief \",\"merchant\",\"knight \",\"spellsword \",\"peasant \",\"necromancer \",\"preist \",\"bandit \",\"monarch\"])\n",
        "    protagonist = gender+race+classs\n",
        "    antagonist=random.choice([\"a female\",\"a male\",\"an entire race\",\"a god\",\"an evil mage\",\"an order of knights\",\"evil itself\",\"a giant\",\"an invading army\",\"a tyrant\",\"magic\",\"a fascist regime\",\"a greedy merchant\",\"a troubadour\",\"a wayward mercenary\",\"a monster\",\"a dragon\"])"
      ],
      "execution_count": 0,
      "outputs": []
    },
    {
      "metadata": {
        "id": "txYH4TRKLwFm",
        "colab_type": "text"
      },
      "cell_type": "markdown",
      "source": [
        "# space sci fi"
      ]
    },
    {
      "metadata": {
        "id": "7H_kSty5EjUp",
        "colab_type": "code",
        "colab": {}
      },
      "cell_type": "code",
      "source": [
        "\n",
        "if theme == \"space sci-fi\":\n",
        "    setting=random.choice([\"a frigid asteroid\",\"the deep void of space\",\"an asteroid belt\",\"an ice planet\",\"a lava planet\",\"a gas giant\",\"an alien home world\",\"future Earth\",\"another galaxy, far far away\",\"dimension c147\",\"the multiverse\"])\n",
        "    protagonist=random.choice([\"an alien Predator\",\"a triffid\",\"a Faragian\",\"a tribble\",\"a human\",\"a robot\",\"a hive mind\",\"an alien\",\"a blob\",\"a birdperson\"])\n",
        "    antagonist=random.choice([\"a female\",\"a male\",\"an entire alien race\",\"a starfleet\",\"an alien\",\"an artifical intellgence\",\"a galactic federation\",\"a glitch in space-time\",\"an invading army\",\"a incredibly infectious space fungus\",\"the limits of science\",\"a robot\"])\n"
      ],
      "execution_count": 0,
      "outputs": []
    },
    {
      "metadata": {
        "id": "7-RO4UfRLyx3",
        "colab_type": "text"
      },
      "cell_type": "markdown",
      "source": [
        "# cyberpunk"
      ]
    },
    {
      "metadata": {
        "id": "1YkjbUcoEuaR",
        "colab_type": "code",
        "colab": {}
      },
      "cell_type": "code",
      "source": [
        "if theme == \"cyberpunk\":\n",
        "    setting=random.choice([\"high-tech Tokyo\",\"New New York\",\"a dystopia\",\"a utopia\",\"a computer simulation\",\"the SuperWeb\",\"Mega Silicon Valley\",\"an underwater city\",\"an extensive underground facility\",\"a research facility\"])\n",
        "    gender=random.choice([\"a male \",\"a female \",\"a robogender \",\"an unigender \",\"a genderless \",\"a mega genderfluid \",\"a third gender \"])\n",
        "    classs=random.choice([\"hacker\",\"cyborg\",\"DJ\",\"technopath\",\"cyber cowboy\",\"bar fly\",\"engineer\",\"bomber\",\"businessman\",\"street rat\",\"anarchist\"])\n",
        "    protagonist=gender+classs\n",
        "    #this is the original\n",
        "    antagonist=random.choice([\"a large \" + adjective + \"corporation\",\"an evil AI\",\"Python\",\"a gang\",\"a secret society\",\"a new technology\",\"robots\",\"internet trolls\",\"the most powerful cyborg\"])\n",
        "    "
      ],
      "execution_count": 0,
      "outputs": []
    },
    {
      "metadata": {
        "id": "tWLxH6uLJIL4",
        "colab_type": "text"
      },
      "cell_type": "markdown",
      "source": [
        "#Conflict\n",
        "Without conflict, there is no tension, no tension, no interest."
      ]
    },
    {
      "metadata": {
        "id": "bnpNI9KvJOjM",
        "colab_type": "code",
        "colab": {}
      },
      "cell_type": "code",
      "source": [
        "conflict=random.choice([\"fell in love with \",\"fought against \",\"grew to love\",\"attempted to stop\",\"defended against\",\"tried to befriend\",\"explored with\",\"tried to evade\",\"competed with\",\"performed surgery with\",\"exceeded beyond \",\"sought revenge against\"])\n"
      ],
      "execution_count": 0,
      "outputs": []
    },
    {
      "metadata": {
        "id": "3bWUcLHJIsrO",
        "colab_type": "text"
      },
      "cell_type": "markdown",
      "source": [
        "#add an occassional adjective\n"
      ]
    },
    {
      "metadata": {
        "id": "ppzsNRkFIwfG",
        "colab_type": "code",
        "colab": {}
      },
      "cell_type": "code",
      "source": [
        "#don't use adjetives that start with vowels\n",
        "adjective =random.choice([\"delirious \",\"stupendous \",\"large \" \n",
        "                          ,\"deadly \"\n",
        "                         ,\"viral \"\n",
        "                         ,\"tiny \"])\n"
      ],
      "execution_count": 0,
      "outputs": []
    },
    {
      "metadata": {
        "id": "VdD8gKK3IhwD",
        "colab_type": "text"
      },
      "cell_type": "markdown",
      "source": [
        "#These are our endings"
      ]
    },
    {
      "metadata": {
        "id": "qQZm5oxAIgn_",
        "colab_type": "code",
        "colab": {}
      },
      "cell_type": "code",
      "source": [
        "end=random.choice([\"It did not end well.\",\n",
        "                   \"There was nothing left to do.\",\n",
        "                   \"It ended very well.\",\n",
        "                   \"Died tragically.\",\n",
        "                   \"And after it all, lived happily ever after.\",\n",
        "                   \"It ended sadly.\",\n",
        "                   \"It was glorious.\",\n",
        "                   \"In the end, nothing changed.\",\n",
        "                   \"Ultimately, however, it didn't matter.\",\n",
        "                   \"Finally, they said, it's over.\",\n",
        "                   \"It ended with a twist.\",\n",
        "                   \"Gave up.\"])\n"
      ],
      "execution_count": 0,
      "outputs": []
    },
    {
      "metadata": {
        "id": "MemR7SThIaFm",
        "colab_type": "text"
      },
      "cell_type": "markdown",
      "source": [
        "# now let's see our one line story\n",
        "\n",
        "## TBD\n",
        "* connect the options to google sheet\n",
        "* reference the same protagonist and antogist in the ending\n",
        "* how to reuse as many of the entries as possible?\n",
        "* sort the weirdness in the spacing\n",
        "* print more than one line story at a time\n",
        "* refactor as functions?!\n",
        "* export the story for future reuse as sample data for a markov chain?!\n",
        "* attach images to certain parts of the settings, layer pro and antogonist in image on the setting with callouts."
      ]
    },
    {
      "metadata": {
        "id": "IdUANDXkIT6H",
        "colab_type": "code",
        "colab": {
          "base_uri": "https://localhost:8080/",
          "height": 68
        },
        "outputId": "519d2878-c938-48b1-9ff4-4f924a0793cd"
      },
      "cell_type": "code",
      "source": [
        "print(\"In the\",theme,\"setting of\",setting,\",\\nthere was\", protagonist, \"who\",conflict,antagonist,\".\",\"\\n\",end)\n"
      ],
      "execution_count": 95,
      "outputs": [
        {
          "output_type": "stream",
          "text": [
            "In the space sci-fi setting of future Earth ,\n",
            "there was an alien Predator who fought against  a robot . \n",
            " There was nothing left to do.\n"
          ],
          "name": "stdout"
        }
      ]
    }
  ]
}