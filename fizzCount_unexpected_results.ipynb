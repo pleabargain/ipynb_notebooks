{
 "metadata": {
  "name": "fizzCount_unexpected_results"
 },
 "nbformat": 3,
 "nbformat_minor": 0,
 "worksheets": [
  {
   "cells": [
    {
     "cell_type": "code",
     "collapsed": false,
     "input": [
      "'''\n",
      "it should be loop and give all instances of fizz\n",
      "'''\n",
      "\n",
      "A = [0,1,2,3,4,5,6,7,8,9,'fizz',11,12,'fizz']\n",
      "\n",
      "def fizzCount(A):\n",
      "    count = 0\n",
      "    for word in A:\n",
      "        if 'fizz' in A:\n",
      "            count = count + 1\n",
      "            return count\n",
      "fizzCount(A)\n",
      "#fizzCount(A)"
     ],
     "language": "python",
     "metadata": {},
     "outputs": [
      {
       "output_type": "pyout",
       "prompt_number": 5,
       "text": [
        "1"
       ]
      }
     ],
     "prompt_number": 5
    },
    {
     "cell_type": "code",
     "collapsed": false,
     "input": [],
     "language": "python",
     "metadata": {},
     "outputs": []
    }
   ],
   "metadata": {}
  }
 ]
}