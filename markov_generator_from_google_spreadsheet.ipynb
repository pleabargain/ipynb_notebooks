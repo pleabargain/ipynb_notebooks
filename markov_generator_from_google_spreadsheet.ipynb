{
  "nbformat": 4,
  "nbformat_minor": 0,
  "metadata": {
    "colab": {
      "name": "markov generator from google spreadsheet.ipynb",
      "version": "0.3.2",
      "provenance": [],
      "collapsed_sections": [],
      "include_colab_link": true
    },
    "kernelspec": {
      "display_name": "Python 3",
      "language": "python",
      "name": "python3"
    }
  },
  "cells": [
    {
      "cell_type": "markdown",
      "metadata": {
        "id": "view-in-github",
        "colab_type": "text"
      },
      "source": [
        "<a href=\"https://colab.research.google.com/github/pleabargain/ipynb_notebooks/blob/master/markov_generator_from_google_spreadsheet.ipynb\" target=\"_parent\"><img src=\"https://colab.research.google.com/assets/colab-badge.svg\" alt=\"Open In Colab\"/></a>"
      ]
    },
    {
      "metadata": {
        "id": "2sRaBLIzBX9Q",
        "colab_type": "text"
      },
      "cell_type": "markdown",
      "source": [
        "#License\n",
        "MIT License\n",
        "\n",
        "Copyright (c) 2018 Ashwin M J\n",
        "\n",
        "Permission is hereby granted, free of charge, to any person obtaining a copy\n",
        "of this software and associated documentation files (the \"Software\"), to deal\n",
        "in the Software without restriction, including without limitation the rights\n",
        "to use, copy, modify, merge, publish, distribute, sublicense, and/or sell\n",
        "copies of the Software, and to permit persons to whom the Software is\n",
        "furnished to do so, subject to the following conditions:\n",
        "\n",
        "The above copyright notice and this permission notice shall be included in all\n",
        "copies or substantial portions of the Software.\n",
        "\n",
        "THE SOFTWARE IS PROVIDED \"AS IS\", WITHOUT WARRANTY OF ANY KIND, EXPRESS OR\n",
        "IMPLIED, INCLUDING BUT NOT LIMITED TO THE WARRANTIES OF MERCHANTABILITY,\n",
        "FITNESS FOR A PARTICULAR PURPOSE AND NONINFRINGEMENT. IN NO EVENT SHALL THE\n",
        "AUTHORS OR COPYRIGHT HOLDERS BE LIABLE FOR ANY CLAIM, DAMAGES OR OTHER\n",
        "LIABILITY, WHETHER IN AN ACTION OF CONTRACT, TORT OR OTHERWISE, ARISING FROM,\n",
        "OUT OF OR IN CONNECTION WITH THE SOFTWARE OR THE USE OR OTHER DEALINGS IN THE\n",
        "SOFTWARE."
      ]
    },
    {
      "metadata": {
        "id": "VeSpi1QBuwOe",
        "colab_type": "text"
      },
      "cell_type": "markdown",
      "source": [
        "#to be done\n",
        "* connect to a google spreadsheet\n",
        "* save output to new file\n",
        "* remove duplicates\n",
        "\n",
        "\n",
        "#nice to have\n",
        "* visualize the markov chains\n",
        "\n"
      ]
    },
    {
      "metadata": {
        "id": "j_IWdyjPre7O",
        "colab_type": "text"
      },
      "cell_type": "markdown",
      "source": [
        "# Word Prediction using Markov Model"
      ]
    },
    {
      "metadata": {
        "id": "moJpPYyZre7P",
        "colab_type": "text"
      },
      "cell_type": "markdown",
      "source": [
        "This notebook makes use of Markov model for word prediction. Specifically 2nd order Markov model is deployed here for next word prediction. As an example of the Markov chain, an attempt is made to generate a new song lyrics from a bunch of Eminem song lyrics."
      ]
    },
    {
      "metadata": {
        "id": "oNUytzuVre7Q",
        "colab_type": "code",
        "colab": {
          "base_uri": "https://localhost:8080/",
          "height": 768
        },
        "outputId": "70e6a86f-eff9-42df-d32c-befb644f30e8"
      },
      "cell_type": "code",
      "source": [
        "# Preamble\n",
        "!pip install --upgrade 'notebook>=5.7.6'\n",
        "!pip install --upgrade -q gspread\n",
        "\n",
        "import string\n",
        "import numpy as np"
      ],
      "execution_count": 1,
      "outputs": [
        {
          "output_type": "stream",
          "text": [
            "Collecting notebook>=5.7.6\n",
            "\u001b[?25l  Downloading https://files.pythonhosted.org/packages/87/18/37d8c8fd136b68b0983ce1621ab3c747beef25b46b7767e4f06b8a9a1bf0/notebook-5.7.7-py2.py3-none-any.whl (9.0MB)\n",
            "\u001b[K    100% |████████████████████████████████| 9.0MB 3.3MB/s \n",
            "\u001b[?25hRequirement already satisfied, skipping upgrade: jupyter-client>=5.2.0 in /usr/local/lib/python3.6/dist-packages (from notebook>=5.7.6) (5.2.4)\n",
            "Requirement already satisfied, skipping upgrade: traitlets>=4.2.1 in /usr/local/lib/python3.6/dist-packages (from notebook>=5.7.6) (4.3.2)\n",
            "Requirement already satisfied, skipping upgrade: pyzmq>=17 in /usr/local/lib/python3.6/dist-packages (from notebook>=5.7.6) (17.0.0)\n",
            "Requirement already satisfied, skipping upgrade: terminado>=0.8.1 in /usr/local/lib/python3.6/dist-packages (from notebook>=5.7.6) (0.8.1)\n",
            "Requirement already satisfied, skipping upgrade: jupyter-core>=4.4.0 in /usr/local/lib/python3.6/dist-packages (from notebook>=5.7.6) (4.4.0)\n",
            "Requirement already satisfied, skipping upgrade: jinja2 in /usr/local/lib/python3.6/dist-packages (from notebook>=5.7.6) (2.10)\n",
            "Requirement already satisfied, skipping upgrade: Send2Trash in /usr/local/lib/python3.6/dist-packages (from notebook>=5.7.6) (1.5.0)\n",
            "Requirement already satisfied, skipping upgrade: tornado<7,>=4.1 in /usr/local/lib/python3.6/dist-packages (from notebook>=5.7.6) (4.5.3)\n",
            "Requirement already satisfied, skipping upgrade: nbconvert in /usr/local/lib/python3.6/dist-packages (from notebook>=5.7.6) (5.4.1)\n",
            "Requirement already satisfied, skipping upgrade: ipython-genutils in /usr/local/lib/python3.6/dist-packages (from notebook>=5.7.6) (0.2.0)\n",
            "Requirement already satisfied, skipping upgrade: prometheus-client in /usr/local/lib/python3.6/dist-packages (from notebook>=5.7.6) (0.6.0)\n",
            "Requirement already satisfied, skipping upgrade: ipykernel in /usr/local/lib/python3.6/dist-packages (from notebook>=5.7.6) (4.6.1)\n",
            "Requirement already satisfied, skipping upgrade: nbformat in /usr/local/lib/python3.6/dist-packages (from notebook>=5.7.6) (4.4.0)\n",
            "Requirement already satisfied, skipping upgrade: python-dateutil>=2.1 in /usr/local/lib/python3.6/dist-packages (from jupyter-client>=5.2.0->notebook>=5.7.6) (2.5.3)\n",
            "Requirement already satisfied, skipping upgrade: decorator in /usr/local/lib/python3.6/dist-packages (from traitlets>=4.2.1->notebook>=5.7.6) (4.4.0)\n",
            "Requirement already satisfied, skipping upgrade: six in /usr/local/lib/python3.6/dist-packages (from traitlets>=4.2.1->notebook>=5.7.6) (1.11.0)\n",
            "Requirement already satisfied, skipping upgrade: ptyprocess; os_name != \"nt\" in /usr/local/lib/python3.6/dist-packages (from terminado>=0.8.1->notebook>=5.7.6) (0.6.0)\n",
            "Requirement already satisfied, skipping upgrade: MarkupSafe>=0.23 in /usr/local/lib/python3.6/dist-packages (from jinja2->notebook>=5.7.6) (1.1.1)\n",
            "Requirement already satisfied, skipping upgrade: pygments in /usr/local/lib/python3.6/dist-packages (from nbconvert->notebook>=5.7.6) (2.1.3)\n",
            "Requirement already satisfied, skipping upgrade: entrypoints>=0.2.2 in /usr/local/lib/python3.6/dist-packages (from nbconvert->notebook>=5.7.6) (0.3)\n",
            "Requirement already satisfied, skipping upgrade: pandocfilters>=1.4.1 in /usr/local/lib/python3.6/dist-packages (from nbconvert->notebook>=5.7.6) (1.4.2)\n",
            "Requirement already satisfied, skipping upgrade: defusedxml in /usr/local/lib/python3.6/dist-packages (from nbconvert->notebook>=5.7.6) (0.5.0)\n",
            "Requirement already satisfied, skipping upgrade: mistune>=0.8.1 in /usr/local/lib/python3.6/dist-packages (from nbconvert->notebook>=5.7.6) (0.8.4)\n",
            "Requirement already satisfied, skipping upgrade: bleach in /usr/local/lib/python3.6/dist-packages (from nbconvert->notebook>=5.7.6) (3.1.0)\n",
            "Requirement already satisfied, skipping upgrade: testpath in /usr/local/lib/python3.6/dist-packages (from nbconvert->notebook>=5.7.6) (0.4.2)\n",
            "Requirement already satisfied, skipping upgrade: ipython>=4.0.0 in /usr/local/lib/python3.6/dist-packages (from ipykernel->notebook>=5.7.6) (5.5.0)\n",
            "Requirement already satisfied, skipping upgrade: jsonschema!=2.5.0,>=2.4 in /usr/local/lib/python3.6/dist-packages (from nbformat->notebook>=5.7.6) (2.6.0)\n",
            "Requirement already satisfied, skipping upgrade: webencodings in /usr/local/lib/python3.6/dist-packages (from bleach->nbconvert->notebook>=5.7.6) (0.5.1)\n",
            "Requirement already satisfied, skipping upgrade: pexpect; sys_platform != \"win32\" in /usr/local/lib/python3.6/dist-packages (from ipython>=4.0.0->ipykernel->notebook>=5.7.6) (4.6.0)\n",
            "Requirement already satisfied, skipping upgrade: simplegeneric>0.8 in /usr/local/lib/python3.6/dist-packages (from ipython>=4.0.0->ipykernel->notebook>=5.7.6) (0.8.1)\n",
            "Requirement already satisfied, skipping upgrade: pickleshare in /usr/local/lib/python3.6/dist-packages (from ipython>=4.0.0->ipykernel->notebook>=5.7.6) (0.7.5)\n",
            "Requirement already satisfied, skipping upgrade: setuptools>=18.5 in /usr/local/lib/python3.6/dist-packages (from ipython>=4.0.0->ipykernel->notebook>=5.7.6) (40.8.0)\n",
            "Requirement already satisfied, skipping upgrade: prompt-toolkit<2.0.0,>=1.0.4 in /usr/local/lib/python3.6/dist-packages (from ipython>=4.0.0->ipykernel->notebook>=5.7.6) (1.0.15)\n",
            "Requirement already satisfied, skipping upgrade: wcwidth in /usr/local/lib/python3.6/dist-packages (from prompt-toolkit<2.0.0,>=1.0.4->ipython>=4.0.0->ipykernel->notebook>=5.7.6) (0.1.7)\n",
            "\u001b[31mgoogle-colab 1.0.0 has requirement notebook~=5.2.0, but you'll have notebook 5.7.7 which is incompatible.\u001b[0m\n",
            "Installing collected packages: notebook\n",
            "  Found existing installation: notebook 5.2.2\n",
            "    Uninstalling notebook-5.2.2:\n",
            "      Successfully uninstalled notebook-5.2.2\n",
            "Successfully installed notebook-5.7.7\n"
          ],
          "name": "stdout"
        }
      ]
    },
    {
      "metadata": {
        "id": "RMdW0YZaon-g",
        "colab_type": "code",
        "colab": {}
      },
      "cell_type": "code",
      "source": [
        "#code doesn't like a list\n",
        "#test =([\"First sentence\"\n",
        "#       ,\"second sentence\"])"
      ],
      "execution_count": 0,
      "outputs": []
    },
    {
      "metadata": {
        "id": "ydsbJpSepe3M",
        "colab_type": "code",
        "colab": {
          "base_uri": "https://localhost:8080/",
          "height": 54
        },
        "outputId": "5a3173f5-2d2a-4534-a7c9-e6e7c371f51f"
      },
      "cell_type": "code",
      "source": [
        "from google.colab import auth\n",
        "auth.authenticate_user()\n",
        "\n",
        "import gspread\n",
        "from oauth2client.client import GoogleCredentials\n",
        "import regex as re\n",
        "\n",
        "gc = gspread.authorize(GoogleCredentials.get_application_default())\n",
        "\n",
        "worksheet = gc.open('table topics questions').sheet1\n",
        "\n",
        "# get_all_values gives a list of rows.\n",
        "rows = worksheet.get_all_values()\n",
        "#this is a sanity check\n",
        "\n",
        "print(rows)"
      ],
      "execution_count": 4,
      "outputs": [
        {
          "output_type": "stream",
          "text": [
            "[['A former colleague has asked you to join her new company, what do you do?', '72'], [\"Answer the child's question:  What does “we can’t afford it” mean?\", '4'], [\"Answer the child's question:  When you die who will I live with?\", '8'], [\"Answer the child's question:  Where did I come from?\", '9'], [\"Answer the child's question:  Why can’t I stay up as late as you?\", '12'], [\"Answer the child's question: How was I made?\", '1'], [\"Answer the child's question: Is Father Christmas Real?\", '2'], [\"Answer the child's question: What is God?\", '6'], [\"Answer the child's question: Why do people die?\", '13'], [\"Convince us that we don't need to go to work tomorrow.\", ''], ['Convince us that farmers markets are good for the economy.', ''], ['Convince us that the best way to get a job is through networking.', ''], ['Convince us that you deserve to be the next project manager.', ''], ['Convince us that your late work is acceptable.', ''], ['Convince us to quit our jobs and do what you do.', ''], ['Convince us to rent office space in this building.', ''], ['Could You Live Without The Internet?', '29'], ['Describe your happiest day s last year.', ''], ['Do You Believe In Luck?', '36'], ['Do You Have Any Trips Coming Up?', '31'], ['Explain how electricity works.', ''], ['Explain the internet to your grandmother.', '57'], ['Explain to us how a metro train works.', ''], ['Explain to us what spam email is.', ''], ['Explain to us your job and why it is important.', ''], ['Explain your job to a child.', '56'], ['If you could have a picnic on any mountaintop in the world, where would you go?', '24'], ['If You Could Only Speak One Word Today, What Would You Say?', '45'], ['If you could talk to any person in the world, dead or alive,  who would it be and why? ', ''], ['If You Had The World’s Attention For 30 Seconds, What Would You Say?', '42'], ['If You Had To Work But Didn’t Need The Money, What Would You Choose To Do?', '43'], ['If you were a farmer, what would you grow?', '63'], ['If you were a writer what would your book be about?', ''], ['Introduce us to your imaginary friend.', '76'], ['Is it more fun to be a parent or a child?', '3'], ['Sell us the chair you are sitting in.', ''], ['Sell us the table your are sitting at.', ''], ['Sell us your phone.', '55'], ['Share your weirdest job interview story', ''], ['Some people like mashed potatoes, rice, french fries, bread... What is your comfort food?  ', '61'], ['Tell us about your worst childhood fear.', ''], ['Tell us about your worst childhood joy.', ''], ['There is a new hire in your department, what do you do?', '71'], ['What book should everyone read?', '48'], ['What Did You Have For Dinner Last Night?', '38'], ['What Do You Do For A Living?', '40'], ['What family or school rule would you most like to change?', '5'], ['What Is In Your Fridge Right Now?', '44'], ['What is the best advice you ignored?', ''], ['What is the best excuse to celebrate?', '75'], ['What is the best part of your weekend?', '74'], ['What is the best part of your work day?', '73'], ['What Is The Best Thing That Happened To You During The Past Week?', '37'], ['What is your  best travel experience ever?', ''], ['What is your favorite animal and why?', '64'], ['What is your favorite chat app?', '59'], ['What Is Your Favorite Hobby?', '33'], ['What is your favorite interview question?', '52'], ['What Is Your Favorite Meal Of The Day?', '39'], ['What is your favorite song and why?', '49'], ['What is your favorite website for news?', '58'], ['What is your super power?', '60'], ['What professions will be extinct in 20 years?', ''], ['What question do you want to ask the club?', '65'], ['What Three Habits Will Improve Your Life?', '66'], ['What was the best gift you have ever recieved?', '50'], ['What Was The Best Thing Before Sliced Bread?', '46'], ['What was your favorite bed time story?', '53'], ['What would you tell your teenage self?', '62'], ['What Would Your Perfect Day Be Like?', '30'], [\"What's the most important thing affecting the planet now?\", '68'], [\"What's the most important thing affecting this city now?\", '69'], [\"What's the most important thing affecting this club now?\", '67'], [\"What's your favorite family tradition?\", '7'], [\"What's your favorite museum?\", '23'], ['What’s Something You Could Teach Me About?', '32'], ['What’s The Best Comedy Movie You’ve Ever Seen?', '34'], ['What’s The Most Useful Thing You Own?', '41'], ['What’s The Wildest Thing You’ve Ever Done In A Hotel Room?', '47'], ['What’s your good luck charm?', '27'], ['When you exercise, which music gets you pumped up?', '22'], ['Where Do You Like To Go When You Eat Out?', '28'], ['Which do you prefer, coffee or tea and why?', '35'], ['Which famous athlete would you love to meet?', '10'], ['Which sunset do you remember particularly well?', '26'], ['Which teacher do you think about most?', '54'], ['Which wild animal would you like to tame and keep as a pet?', '11'], ['Who influenced you most in your career choice?', '51'], ['Who is your favorite artist?', '70'], ['Who is your stylist?', ''], [\"Who's concert you would attend if money were not limited?\", ''], ['Why do people dream?', '14'], ['Why do people sleep?', '15'], ['Why do we need to eat?', '16'], ['Why is the sky blue?', '17'], ['Why should men use/not use a manicurist? ', ''], ['Would you rather live for a week in the past or the future?', '18'], ['How do you explain toastmasters to other people?', ''], ['You are a fish, what did you do last night?', '19'], ['You are a metro train driver, what did you do yesterday?', '20'], ['You are the manager, fire yourself.', '21'], ['What do you wish you knew when you were a teenager that you know now?', ''], ['How do you explain your job to other people?', ''], ['Who Was Your Worst Teacher? Why?', ''], ['Who Was Your Favorite Teacher? Why?', ''], ['If You Could Time Travel, When Would You Go?', ''], ['What Is The Best Piece Of Advice You’ve Received?', ''], ['What’s The Most Beautiful Place You’ve Ever Been?', ''], ['What’s The Most Courageous Thing You’ve Ever Done?', ''], ['If You Could Ask Your Pet a Question, What Would it Be?', ''], [\"What's the right age to get married?\\n\", ''], [\"What's your favorite childhood book?\", ''], [\"What's a great book you've read recently?\", '']]\n"
          ],
          "name": "stdout"
        }
      ]
    },
    {
      "metadata": {
        "id": "o8FCVbyDre7T",
        "colab_type": "code",
        "colab": {}
      },
      "cell_type": "code",
      "source": [
        "# Path of the text file containing the training data\n",
        "training_data_file = rows\n"
      ],
      "execution_count": 0,
      "outputs": []
    },
    {
      "metadata": {
        "id": "Z3g3GjXqre7W",
        "colab_type": "text"
      },
      "cell_type": "markdown",
      "source": [
        "## Training"
      ]
    },
    {
      "metadata": {
        "id": "pXRQxdw2re7X",
        "colab_type": "text"
      },
      "cell_type": "markdown",
      "source": [
        "### Helper functions"
      ]
    },
    {
      "metadata": {
        "id": "-A_7Ec44re7Y",
        "colab_type": "code",
        "colab": {}
      },
      "cell_type": "code",
      "source": [
        "def remove_punctuation(sentence):\n",
        "    return sentence.translate(str.maketrans('','', string.punctuation))"
      ],
      "execution_count": 0,
      "outputs": []
    },
    {
      "metadata": {
        "id": "b9Fsul1Ere7b",
        "colab_type": "code",
        "colab": {}
      },
      "cell_type": "code",
      "source": [
        "def add2dict(dictionary, key, value):\n",
        "    if key not in dictionary:\n",
        "        dictionary[key] = []\n",
        "    dictionary[key].append(value)"
      ],
      "execution_count": 0,
      "outputs": []
    },
    {
      "metadata": {
        "id": "01fKah9Lre7d",
        "colab_type": "code",
        "colab": {}
      },
      "cell_type": "code",
      "source": [
        "def list2probabilitydict(given_list):\n",
        "    probability_dict = {}\n",
        "    given_list_length = len(given_list)\n",
        "    for item in given_list:\n",
        "        probability_dict[item] = probability_dict.get(item, 0) + 1\n",
        "    for key, value in probability_dict.items():\n",
        "        probability_dict[key] = value / given_list_length\n",
        "    return probability_dict"
      ],
      "execution_count": 0,
      "outputs": []
    },
    {
      "metadata": {
        "id": "JMTWBb_Jre7g",
        "colab_type": "code",
        "colab": {}
      },
      "cell_type": "code",
      "source": [
        "initial_word = {}\n",
        "second_word = {}\n",
        "transitions = {}"
      ],
      "execution_count": 0,
      "outputs": []
    },
    {
      "metadata": {
        "id": "YJrmYJXbre7j",
        "colab_type": "text"
      },
      "cell_type": "markdown",
      "source": [
        "### Training function"
      ]
    },
    {
      "metadata": {
        "id": "CZMMk2gsre7k",
        "colab_type": "code",
        "colab": {}
      },
      "cell_type": "code",
      "source": [
        "# Trains a Markov model based on the data in training_data_file\n",
        "def train_markov_model():\n",
        "    for line in open(training_data_file):\n",
        "        tokens = remove_punctuation(line.rstrip().lower()).split()\n",
        "        tokens_length = len(tokens)\n",
        "        for i in range(tokens_length):\n",
        "            token = tokens[i]\n",
        "            if i == 0:\n",
        "                initial_word[token] = initial_word.get(token, 0) + 1\n",
        "            else:\n",
        "                prev_token = tokens[i - 1]\n",
        "                if i == tokens_length - 1:\n",
        "                    add2dict(transitions, (prev_token, token), 'END')\n",
        "                if i == 1:\n",
        "                    add2dict(second_word, prev_token, token)\n",
        "                else:\n",
        "                    prev_prev_token = tokens[i - 2]\n",
        "                    add2dict(transitions, (prev_prev_token, prev_token), token)\n",
        "    \n",
        "    # Normalize the distributions\n",
        "    initial_word_total = sum(initial_word.values())\n",
        "    for key, value in initial_word.items():\n",
        "        initial_word[key] = value / initial_word_total\n",
        "        \n",
        "    for prev_word, next_word_list in second_word.items():\n",
        "        second_word[prev_word] = list2probabilitydict(next_word_list)\n",
        "        \n",
        "    for word_pair, next_word_list in transitions.items():\n",
        "        transitions[word_pair] = list2probabilitydict(next_word_list)\n",
        "    \n",
        "    print('Training successful.')"
      ],
      "execution_count": 0,
      "outputs": []
    },
    {
      "metadata": {
        "id": "oNSteH1Tre7n",
        "colab_type": "code",
        "outputId": "6d54c6f7-8469-4040-ed92-847051d9ada7",
        "colab": {
          "base_uri": "https://localhost:8080/",
          "height": 282
        }
      },
      "cell_type": "code",
      "source": [
        "train_markov_model()"
      ],
      "execution_count": 11,
      "outputs": [
        {
          "output_type": "error",
          "ename": "TypeError",
          "evalue": "ignored",
          "traceback": [
            "\u001b[0;31m---------------------------------------------------------------------------\u001b[0m",
            "\u001b[0;31mTypeError\u001b[0m                                 Traceback (most recent call last)",
            "\u001b[0;32m<ipython-input-11-d8f25410985e>\u001b[0m in \u001b[0;36m<module>\u001b[0;34m()\u001b[0m\n\u001b[0;32m----> 1\u001b[0;31m \u001b[0mtrain_markov_model\u001b[0m\u001b[0;34m(\u001b[0m\u001b[0;34m)\u001b[0m\u001b[0;34m\u001b[0m\u001b[0;34m\u001b[0m\u001b[0m\n\u001b[0m",
            "\u001b[0;32m<ipython-input-10-66c6b91b587e>\u001b[0m in \u001b[0;36mtrain_markov_model\u001b[0;34m()\u001b[0m\n\u001b[1;32m      1\u001b[0m \u001b[0;32mdef\u001b[0m \u001b[0mtrain_markov_model\u001b[0m\u001b[0;34m(\u001b[0m\u001b[0;34m)\u001b[0m\u001b[0;34m:\u001b[0m\u001b[0;34m\u001b[0m\u001b[0;34m\u001b[0m\u001b[0m\n\u001b[0;32m----> 2\u001b[0;31m     \u001b[0;32mfor\u001b[0m \u001b[0mline\u001b[0m \u001b[0;32min\u001b[0m \u001b[0mopen\u001b[0m\u001b[0;34m(\u001b[0m\u001b[0mtraining_data_file\u001b[0m\u001b[0;34m)\u001b[0m\u001b[0;34m:\u001b[0m\u001b[0;34m\u001b[0m\u001b[0;34m\u001b[0m\u001b[0m\n\u001b[0m\u001b[1;32m      3\u001b[0m         \u001b[0mtokens\u001b[0m \u001b[0;34m=\u001b[0m \u001b[0mremove_punctuation\u001b[0m\u001b[0;34m(\u001b[0m\u001b[0mline\u001b[0m\u001b[0;34m.\u001b[0m\u001b[0mrstrip\u001b[0m\u001b[0;34m(\u001b[0m\u001b[0;34m)\u001b[0m\u001b[0;34m.\u001b[0m\u001b[0mlower\u001b[0m\u001b[0;34m(\u001b[0m\u001b[0;34m)\u001b[0m\u001b[0;34m)\u001b[0m\u001b[0;34m.\u001b[0m\u001b[0msplit\u001b[0m\u001b[0;34m(\u001b[0m\u001b[0;34m)\u001b[0m\u001b[0;34m\u001b[0m\u001b[0;34m\u001b[0m\u001b[0m\n\u001b[1;32m      4\u001b[0m         \u001b[0mtokens_length\u001b[0m \u001b[0;34m=\u001b[0m \u001b[0mlen\u001b[0m\u001b[0;34m(\u001b[0m\u001b[0mtokens\u001b[0m\u001b[0;34m)\u001b[0m\u001b[0;34m\u001b[0m\u001b[0;34m\u001b[0m\u001b[0m\n\u001b[1;32m      5\u001b[0m         \u001b[0;32mfor\u001b[0m \u001b[0mi\u001b[0m \u001b[0;32min\u001b[0m \u001b[0mrange\u001b[0m\u001b[0;34m(\u001b[0m\u001b[0mtokens_length\u001b[0m\u001b[0;34m)\u001b[0m\u001b[0;34m:\u001b[0m\u001b[0;34m\u001b[0m\u001b[0;34m\u001b[0m\u001b[0m\n",
            "\u001b[0;31mTypeError\u001b[0m: expected str, bytes or os.PathLike object, not list"
          ]
        }
      ]
    },
    {
      "metadata": {
        "id": "ktDDyn5rre7s",
        "colab_type": "text"
      },
      "cell_type": "markdown",
      "source": [
        "### Helper functions"
      ]
    },
    {
      "metadata": {
        "id": "axM4eF73re7t",
        "colab_type": "code",
        "colab": {}
      },
      "cell_type": "code",
      "source": [
        "def sample_word(dictionary):\n",
        "    p0 = np.random.random()\n",
        "    cumulative = 0\n",
        "    for key, value in dictionary.items():\n",
        "        cumulative += value\n",
        "        if p0 < cumulative:\n",
        "            return key\n",
        "    assert(False)"
      ],
      "execution_count": 0,
      "outputs": []
    },
    {
      "metadata": {
        "id": "XnpeMnhhre7v",
        "colab_type": "text"
      },
      "cell_type": "markdown",
      "source": [
        "### Test functions"
      ]
    },
    {
      "metadata": {
        "id": "mCmBWx_dre7w",
        "colab_type": "code",
        "colab": {}
      },
      "cell_type": "code",
      "source": [
        "number_of_sentences = 15"
      ],
      "execution_count": 0,
      "outputs": []
    },
    {
      "metadata": {
        "id": "pMoqnI_Wre7z",
        "colab_type": "code",
        "colab": {}
      },
      "cell_type": "code",
      "source": [
        "# Function to generate sample text\n",
        "def generate():\n",
        "    for i in range(number_of_sentences):\n",
        "        sentence = []\n",
        "        # Initial word\n",
        "        word0 = sample_word(initial_word)\n",
        "        sentence.append(word0)\n",
        "        # Second word\n",
        "        word1 = sample_word(second_word[word0])\n",
        "        sentence.append(word1)\n",
        "        # Subsequent words untill END\n",
        "        while True:\n",
        "            word2 = sample_word(transitions[(word0, word1)])\n",
        "            if word2 == 'END':\n",
        "                break\n",
        "            sentence.append(word2)\n",
        "            word0 = word1\n",
        "            word1 = word2\n",
        "        print(' '.join(sentence),\"\\n\")"
      ],
      "execution_count": 0,
      "outputs": []
    },
    {
      "metadata": {
        "id": "Bd-_69Were71",
        "colab_type": "text"
      },
      "cell_type": "markdown",
      "source": [
        "### Testing arena"
      ]
    },
    {
      "metadata": {
        "id": "eXAyMUd7re72",
        "colab_type": "code",
        "colab": {}
      },
      "cell_type": "code",
      "source": [
        "generate()"
      ],
      "execution_count": 0,
      "outputs": []
    },
    {
      "metadata": {
        "id": "qfDgje4JEutN",
        "colab_type": "text"
      },
      "cell_type": "markdown",
      "source": [
        "All in all there is some new variaton but not as much as I had anticipated.\n",
        "\n",
        "The data set might not be large enough."
      ]
    }
  ]
}