{
  "nbformat": 4,
  "nbformat_minor": 0,
  "metadata": {
    "colab": {
      "name": "One line story generator from Israel L.ipynb",
      "version": "0.3.2",
      "provenance": [],
      "collapsed_sections": [],
      "include_colab_link": true
    },
    "kernelspec": {
      "name": "python3",
      "display_name": "Python 3"
    }
  },
  "cells": [
    {
      "cell_type": "markdown",
      "metadata": {
        "id": "view-in-github",
        "colab_type": "text"
      },
      "source": [
        "<a href=\"https://colab.research.google.com/github/pleabargain/ipynb_notebooks/blob/master/One_line_story_generator_from_Israel_L.ipynb\" target=\"_parent\"><img src=\"https://colab.research.google.com/assets/colab-badge.svg\" alt=\"Open In Colab\"/></a>"
      ]
    },
    {
      "metadata": {
        "id": "Zdy6xQqU1NQl",
        "colab_type": "code",
        "outputId": "a6c8b261-ba3a-4d6e-e0c2-675202292909",
        "colab": {
          "base_uri": "https://localhost:8080/",
          "height": 54
        }
      },
      "cell_type": "code",
      "source": [
        "#code source\n",
        "##https://code.sololearn.com/cchNaXRptdIw/#py\n",
        "#will only pass random values\n",
        "#cannot set your theme\n",
        "#challenge\n",
        "##call the themes from an online list\n",
        "import random\n",
        "theme=random.choice([\"real world\",\"high fantasy\",\"space sci-fi\",\"alt-history\",\"cyberpunk\"])\n",
        "# gens setting\n",
        "if theme == \"real world\":\n",
        "    subsetting=random.choice([\"the USA\",\"China\",\"Seychelles\",\"Europe\",\"North Korea\",\"Africa\",\"the Middle East\",\"Japan\",\"Australia\",\"the Bahamas\"])\n",
        "    setting=random.choice([\"a small town in \",\"a big city in \",\"a farm in \",\"a playground \",\"a restaurant\",\"a school in \",\"the wilderness in \",\"the suburbs in \",\"the slums in \",\"the ocean \",\"the entire world \"])\n",
        "    if setting != \"the ocean\" or \"the entire world\":\n",
        "        setting=setting+subsetting\n",
        "    age=random.choice([\"a newborn \",\"an elder \",\"a toddler \",\"a child \",\"a pre-teen \",\"a teenager \",\"a young adult \",\"an adult \",\"a middle aged \",\"an elder \"])\n",
        "    race=random.choice([\"African \",\"European \",\"Hispanic \",\"Arabic \",\"Asian \"])\n",
        "    gengender=random.randint(0,100)\n",
        "    if gengender <= 10:\n",
        "         gender = (\"transgender \")\n",
        "    if gengender >= 9:\n",
        "         if gengender >= 47:\n",
        "             gender = (\"male \")\n",
        "         if gengender <= 46:\n",
        "             gender = (\"female \")\n",
        "    protagonist=age+race+gender\n",
        "    antagonist=random.choice([\"a female\",\"a corrupt politician\",\"a lost cause\",\"a failed leader\",\"a male\",\"a dictator\",\"a corporation\",\"a government\",\"a tragic event\",\"traffic\",\"religion\",\"a disease\",\"a rival\",\"the law\",\"an old friend\",\"a dog\"])\n",
        "if theme == \"high fantasy\":\n",
        "    setting=random.choice([\"The Great Empire\",\"a vast desert\",\"a dark corrupted land\",\"a magic swamp\",\"a unending labryinth\",\"floating islands\",\"a mystical forest\",\"a frozen wasteland\",\"a dangerous jungle land\"])\n",
        "    gender=random.choice([\"a male \",\"a male \",\"a male \",\"a female \",\"a female \",\"a female \",\"a magical transgender \",\"an agender \",\"a third gender \"])\n",
        "    #no articles here\n",
        "    race=random.choice([\" human \",\"elf \",\"orc \",\"dwarf \",\"birdperson\",\"gnome \",\"snake thing\",\"demon \",\"angel \",\"kitsune \",\"dark elf \",\"troll \",\"unicorn \"])\n",
        "    classs=random.choice([\"marksmen \",\"warrior \",\"wizard \",\"bard \",\"thief \",\"merchant\",\"knight \",\"spellsword \",\"peasant \",\"necromancer \",\"preist \",\"bandit \",\"monarch\"])\n",
        "    protagonist = gender+race+classs\n",
        "    antagonist=random.choice([\"a female\",\"a male\",\"an entire race\",\"a god\",\"an evil mage\",\"an order of knights\",\"evil itself\",\"a giant\",\"an invading army\",\"a tyrant\",\"magic\",\"a greedy merchant\",\"a troubadour\",\"a wayward mercenary\",\"a monster\",\"a dragon\"])\n",
        "if theme == \"space sci-fi\":\n",
        "    setting=random.choice([\"the deep void of space\",\"an asteroid belt\",\"an ice planet\",\"a lava planet\",\"a gas giant\",\"an alien home world\",\"future Earth\",\"another galaxy, far far away\",\"the multiverse\"])\n",
        "    protagonist=random.choice([\"human\",\"robot\",\"hive mind\",\"alien\",\"alien\",\"blob\",\"human\"])\n",
        "    antagonist=random.choice([\"a female\",\"a male\",\"an entire alien race\",\"a starfleet\",\"an alien\",\"an artifical intellgence\",\"a galactic federation\",\"a glitch in space-time\",\"an invading army\",\"a incredibly infectious space fungus\",\"the limits of science\",\"a robot\"])\n",
        "if theme == \"alt-history\":\n",
        "    setting=random.choice([\"America\",\"Religion\",\"the Classical Era\",\"the Middle Ages\",\"the Renaissance\",\"the Industrial Era\",\"World War I\",\"World War II\",\"the Modern Era\"])\n",
        "    if setting == \"America\":\n",
        "        figures=[\"Abraham Lincoln\",\"George W. Bush Jr.\",\"Benjamin Franklin\",\"Donald Trump\",\"Ronald Reagan\",\"John Adams\",\"Hilary Clinton\",\"King George III\",\"King George Washington\",\"Andrew Jackson\",\"Thomas Edison\",\"Steve Jobs\"]\n",
        "        figure=random.choice(figures)\n",
        "        antagonist=random.choice(figures)\n",
        "    if setting == \"Religion\":\n",
        "        figure=random.choice([\"Jesus\",\"Muhammad\",\"Buddha\",\"Krishna\",\"Moses\",\"L. Ron Hubbard\",\"Joseph Smith\",\"Zeus\",\"Ra\",\"Thor\"])\n",
        "        antagonist=random.choice([\"Christianity\",\"Islam\",\"Hinduism\",\"Buddhism\",\"Greek mythology\",\"Scientology\",\"the Mormons\",\"Paganism\",\"Heresies\"])\n",
        "    if setting == \"the Classical Era\":\n",
        "        figures=[\"Alexander The Great\",\"Julius Caesar\",\"Aristotle\",\"King Tut\",\"Qin Shi Huang\",\"Homer\",\"Augustus\",\"Plato\",\"Cleopatra\",\"Ashoka\",\"Attila the Hun\",\"Leonidas\"]\n",
        "        figure=random.choice(figures)\n",
        "        antagonist=random.choice(figures)\n",
        "    if setting == \"the Middle Ages\":\n",
        "        figures=[\"Charlemagne\",\"Ghenghis Khan\",\"Saladin\",\"William the Conqueror\",\"Ragnar Lodbrok\",\"Oda Nobunaga\",\"King Richard III\",\"William Wallace\",\"El Cid\",\"Eleanor of Aquitaine\",\"Erik the Red\",\"Vlad the Impaler\"]\n",
        "        figure=random.choice(figures)\n",
        "        antagonist=random.choice(figures)\n",
        "    if setting == \"the Renaissance\":\n",
        "        figures=[\"Marco Polo\",\"Joan of Arc\",\"Christopher Columbus\",\"Blackbeard\",\"Leonardo da Vinci\",\"William Shakespeare\",\"Henry VIII\",\"Michelangelo\",\"Donatello\",\"Galileo\",\"Admiral Yi Sun-sin\",\"Suleiman the Magnificent\"]\n",
        "        figure=random.choice(figures)\n",
        "        antagonist=random.choice(figures)\n",
        "    if setting == \"the Industrial Era\":\n",
        "        figures=[\"Henry Ford\",\"Karl Marx\",\"Charles Dickens\",\"John D. Rockefeller\",\"Thomas Edison\",\"Nikola Tesla\",\"Amelia Earheart\",\"Frank C. Mars\",\"Albert Einstein\",\"Napoleon\",\"Ghandi\",\"Mark Twain\"]\n",
        "        figure=random.choice(figures)\n",
        "        antagonist=random.choice(figures)\n",
        "    if setting == \"World War I\":\n",
        "        figure=random.choice([\"Woodrow Wilson\",\"Winston Churchill\",\"Tsar Nicholas II\",\"Lenin\",\"Paul von Hindenburg\",\"Ataturk\"])\n",
        "        antagonist=random.choice([\"the Ottoman Empire\",\"Germany\",\"the United States\",\"Britain\",\"Austria-Hungary\",\"France\"])\n",
        "    if setting == \"World War II\":\n",
        "        figure=random.choice([\"Hitler\",\"Queen Elizabeth\",\"Franklin D. Roosevelt\",\"Joseph Stalin\",\"Harry Truman\",\"General Hideki Tojo\"])\n",
        "        antagonist=random.choice([\"the United States\",\"Germany\",\"the Soviet Union\",\"the United Kingdom\",\"Japan\",\"Italy\"])\n",
        "    if setting == \"the Modern Era\":\n",
        "        figures=[\"Obama\",\"Putin\",\"Kim Jong-un\",\"Madonna\",\"Kanye West\",\"Bill Gates\",\"Guido van Rossum\",\"The Beatles\",\"ISIS\",\"Pope Francis\",\"Mike Tyson\",\"Pewdiepie\",\"Hilary Cliton\"]\n",
        "        figure=random.choice(figures)\n",
        "        antagonist=random.choice(figures)\n",
        "    afigure=(\"a figure known as \")     \n",
        "    protagonist= afigure+figure     \n",
        "if theme == \"cyberpunk\":\n",
        "    setting=random.choice([\"high-tech Tokyo\",\"New New York\",\"a dystopia\",\"a utopia\",\"a computer simulation\",\"the SuperWeb\",\"Mega Silicon Valley\",\"an underwater city\",\"an extensive underground facility\"])\n",
        "    gender=random.choice([\"a male \",\"a male \",\"a female \",\"a female \",\"a robogender \",\"an unigender \",\"a genderless \",\"a mega genderfluid \",\"a third gender \"])\n",
        "    classs=random.choice([\"hacker\",\"cyborg\",\"DJ\",\"technopath\",\"engineer\",\"bomber\",\"corporate\",\"street rat\",\"anarchist\"])\n",
        "    protagonist=gender+classs\n",
        "    antagonist=random.choice([\"a large corporation\",\"an evil AI\",\"Python\",\"a gang\",\"a secret society\",\"a new technology\",\"robots\",\"internet trolls\",\"the most powerful cyborg\"])\n",
        "conflict=random.choice([\"fell in love with \",\"fought against \",\"attempted to stop \",\"defended against \",\"tried to befriend \",\"explored with \",\"tried to evade \",\"competed with \",\"performed surgery with\",\"exceeded beyond \",\"sought revenge against \"])\n",
        "end=random.choice([\"It did not end well.\",\"There was nothing left to do.\",\"It ended very well.\",\"Died tragically.\",\"Lived happily ever after.\",\"It ended sadly.\",\"It was glorious.\",\"In the end, nothing changed.\",\"Ultimately, it didn't matter.\",\"Finally, they said, it's over.\",\"It ended with a twist.\",\"Gave up.\"])\n",
        "#this works\n",
        "print(\"In the\",theme,\"setting of\",setting,\", there was \", protagonist, \"who\",conflict,antagonist,\".\",end)\n",
        "#this doesn't\n",
        "#print(\"In the\",theme,\"setting of\",setting(random.choice),\", there was a\", protagonist, \"who\",conflict,antagonist,\".\",end)\n",
        "#this doesn't work\n",
        "#print(\"In the\",theme,\"setting of\",setting(\"America\"),\", there was a\", protagonist, \"who\",conflict,antagonist,\".\",end)\n",
        "##\n",
        "#print(\"In the\",theme,\"setting of\",setting(\"America\"),\", there was a\", protagonist, \"who\",conflict,antagonist,\".\",end)\n"
      ],
      "execution_count": 21,
      "outputs": [
        {
          "output_type": "stream",
          "text": [
            "In the real world setting of a school in the Middle East , there was  a teenager Asian male  who explored with  an old friend . It did not end well.\n"
          ],
          "name": "stdout"
        }
      ]
    }
  ]
}