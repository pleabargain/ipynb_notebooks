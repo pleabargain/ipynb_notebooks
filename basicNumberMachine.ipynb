{
 "metadata": {
  "name": "basicNumberMachine"
 },
 "nbformat": 3,
 "nbformat_minor": 0,
 "worksheets": [
  {
   "cells": [
    {
     "cell_type": "raw",
     "metadata": {},
     "source": [
      "Why doesn't this throw an error? Because the c2.txt is clearly missing...Duh! The file is GOING TO the desktop not coming from the destkop."
     ]
    },
    {
     "cell_type": "code",
     "collapsed": false,
     "input": [
      "'''\n",
      "This will generate a number machine called c.txt that will go to the desktop.\n",
      "'''\n",
      "\n",
      "import math\n",
      "\n",
      "f=open(\"/home/dennis/Desktop/c2.txt\", \"a\")# \"a\" means \"append.\"\n",
      "for x in range(1,50):#a little number machine\n",
      "    print((x**2,x/math.pi), file=f)\n",
      "f.close()"
     ],
     "language": "python",
     "metadata": {},
     "outputs": [],
     "prompt_number": 3
    },
    {
     "cell_type": "code",
     "collapsed": false,
     "input": [],
     "language": "python",
     "metadata": {},
     "outputs": []
    }
   ],
   "metadata": {}
  }
 ]
}