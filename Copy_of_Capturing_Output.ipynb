{
  "nbformat": 4,
  "nbformat_minor": 0,
  "metadata": {
    "colab": {
      "name": "Copy of Capturing Output",
      "version": "0.3.2",
      "provenance": [],
      "include_colab_link": true
    },
    "kernelspec": {
      "name": "python2",
      "display_name": "Python 2"
    }
  },
  "cells": [
    {
      "cell_type": "markdown",
      "metadata": {
        "id": "view-in-github",
        "colab_type": "text"
      },
      "source": [
        "<a href=\"https://colab.research.google.com/github/pleabargain/ipynb_notebooks/blob/master/Copy_of_Capturing_Output.ipynb\" target=\"_parent\"><img src=\"https://colab.research.google.com/assets/colab-badge.svg\" alt=\"Open In Colab\"/></a>"
      ]
    },
    {
      "metadata": {
        "id": "6lTCvRRJ-86x",
        "colab_type": "text"
      },
      "cell_type": "markdown",
      "source": [
        "#Capturing Output with <tt>%%capture</tt>"
      ]
    },
    {
      "metadata": {
        "id": "rvjczv_T-860",
        "colab_type": "text"
      },
      "cell_type": "markdown",
      "source": [
        "One of IPython's new cell magics is `%%capture`, which captures stdout/err for a cell,\n",
        "and discards them or stores them in variables in your namespace."
      ]
    },
    {
      "metadata": {
        "id": "fUWUrVsF-861",
        "colab_type": "code",
        "colab": {}
      },
      "cell_type": "code",
      "source": [
        "import sys"
      ],
      "execution_count": 0,
      "outputs": []
    },
    {
      "metadata": {
        "id": "ooq4XbJn-866",
        "colab_type": "text"
      },
      "cell_type": "markdown",
      "source": [
        "By default, it just swallows it up.  This is a simple way to suppress unwanted output."
      ]
    },
    {
      "metadata": {
        "id": "ndnk8oAp-867",
        "colab_type": "code",
        "colab": {}
      },
      "cell_type": "code",
      "source": [
        "%%capture\n",
        "print 'hi, stdout'\n",
        "print >> sys.stderr, 'hi, stderr'"
      ],
      "execution_count": 0,
      "outputs": []
    },
    {
      "metadata": {
        "id": "_bx2vpOr-869",
        "colab_type": "text"
      },
      "cell_type": "markdown",
      "source": [
        "If you specify a name, then stdout and stderr will be stored in an object in your namespace."
      ]
    },
    {
      "metadata": {
        "id": "ImkgsU9K-86-",
        "colab_type": "code",
        "colab": {}
      },
      "cell_type": "code",
      "source": [
        "%%capture captured\n",
        "print 'hi, stdout'\n",
        "print >> sys.stderr, 'hi, stderr'"
      ],
      "execution_count": 0,
      "outputs": []
    },
    {
      "metadata": {
        "id": "-lXExDP_-87B",
        "colab_type": "code",
        "colab": {
          "base_uri": "https://localhost:8080/",
          "height": 34
        },
        "outputId": "2037ff89-cc4e-42f2-db6c-b04f337a013f"
      },
      "cell_type": "code",
      "source": [
        "captured"
      ],
      "execution_count": 4,
      "outputs": [
        {
          "output_type": "execute_result",
          "data": {
            "text/plain": [
              "<IPython.utils.capture.CapturedIO at 0x7fb77a6dcc10>"
            ]
          },
          "metadata": {
            "tags": []
          },
          "execution_count": 4
        }
      ]
    },
    {
      "metadata": {
        "id": "E3EnD_If-87E",
        "colab_type": "text"
      },
      "cell_type": "markdown",
      "source": [
        "Calling the object writes the output to stdout/err as appropriate."
      ]
    },
    {
      "metadata": {
        "id": "uzdsh2eD-87F",
        "colab_type": "code",
        "colab": {
          "base_uri": "https://localhost:8080/",
          "height": 51
        },
        "outputId": "ee60331c-0441-4a1c-b697-cb91b3a4965e"
      },
      "cell_type": "code",
      "source": [
        "captured()"
      ],
      "execution_count": 5,
      "outputs": [
        {
          "output_type": "stream",
          "text": [
            "hi, stdout\n"
          ],
          "name": "stdout"
        },
        {
          "output_type": "stream",
          "text": [
            "hi, stderr\n"
          ],
          "name": "stderr"
        }
      ]
    },
    {
      "metadata": {
        "id": "nzYjoRXx-87I",
        "colab_type": "code",
        "colab": {
          "base_uri": "https://localhost:8080/",
          "height": 34
        },
        "outputId": "a29a0d21-27b2-4f02-b407-ba3562088dfe"
      },
      "cell_type": "code",
      "source": [
        "captured.stdout"
      ],
      "execution_count": 6,
      "outputs": [
        {
          "output_type": "execute_result",
          "data": {
            "text/plain": [
              "'hi, stdout\\n'"
            ]
          },
          "metadata": {
            "tags": []
          },
          "execution_count": 6
        }
      ]
    },
    {
      "metadata": {
        "id": "LaRzzmHX-87L",
        "colab_type": "code",
        "colab": {
          "base_uri": "https://localhost:8080/",
          "height": 34
        },
        "outputId": "faf13d85-5a08-4660-d59a-8ba4913fddbf"
      },
      "cell_type": "code",
      "source": [
        "captured.stderr"
      ],
      "execution_count": 7,
      "outputs": [
        {
          "output_type": "execute_result",
          "data": {
            "text/plain": [
              "'hi, stderr\\n'"
            ]
          },
          "metadata": {
            "tags": []
          },
          "execution_count": 7
        }
      ]
    },
    {
      "metadata": {
        "id": "MJWnL_FL-87O",
        "colab_type": "text"
      },
      "cell_type": "markdown",
      "source": [
        "`%%capture` only captures stdout/err, not displaypub, so you can still do plots and use the display protocol inside %%capture"
      ]
    },
    {
      "metadata": {
        "id": "yg36dVvm-87P",
        "colab_type": "code",
        "colab": {
          "base_uri": "https://localhost:8080/",
          "height": 34
        },
        "outputId": "93e03387-4712-4483-8a34-e328c0ae11fa"
      },
      "cell_type": "code",
      "source": [
        "%pylab inline"
      ],
      "execution_count": 8,
      "outputs": [
        {
          "output_type": "stream",
          "text": [
            "Populating the interactive namespace from numpy and matplotlib\n"
          ],
          "name": "stdout"
        }
      ]
    },
    {
      "metadata": {
        "id": "sF9IrfCj-87S",
        "colab_type": "code",
        "colab": {}
      },
      "cell_type": "code",
      "source": [
        "%%capture wontshutup\n",
        "\n",
        "print \"setting up X\"\n",
        "x = np.linspace(0,5,1000)\n",
        "print \"step 2: constructing y-data\"\n",
        "y = np.sin(x)\n",
        "print \"step 3: display info about y\"\n",
        "plt.plot(x,y)\n",
        "print \"okay, I'm done now\""
      ],
      "execution_count": 0,
      "outputs": []
    },
    {
      "metadata": {
        "id": "tUjUxtQY-87V",
        "colab_type": "code",
        "colab": {
          "base_uri": "https://localhost:8080/",
          "height": 333
        },
        "outputId": "48b017cc-5d9c-4fbc-dd0e-8bce1041f428"
      },
      "cell_type": "code",
      "source": [
        "wontshutup()"
      ],
      "execution_count": 10,
      "outputs": [
        {
          "output_type": "stream",
          "text": [
            "setting up X\n",
            "step 2: constructing y-data\n",
            "step 3: display info about y\n",
            "okay, I'm done now\n"
          ],
          "name": "stdout"
        },
        {
          "output_type": "display_data",
          "data": {
            "image/png": "[encoded data removed]",
            "text/plain": [
              "<Figure size 432x288 with 1 Axes>"
            ]
          },
          "metadata": {
            "tags": []
          }
        }
      ]
    },
    {
      "metadata": {
        "id": "-UlwU2Jy-87Y",
        "colab_type": "text"
      },
      "cell_type": "markdown",
      "source": [
        "And you can selectively disable capturing stdout or stderr by passing `--no-stdout/err`."
      ]
    },
    {
      "metadata": {
        "id": "gw42uMbk-87Z",
        "colab_type": "code",
        "colab": {
          "base_uri": "https://localhost:8080/",
          "height": 34
        },
        "outputId": "e1c38534-72c7-4cb1-aeb3-adadf399feb3"
      },
      "cell_type": "code",
      "source": [
        "%%capture cap --no-stderr\n",
        "print 'hi, stdout'\n",
        "print >> sys.stderr, \"hello, stderr\""
      ],
      "execution_count": 11,
      "outputs": [
        {
          "output_type": "stream",
          "text": [
            "hello, stderr\n"
          ],
          "name": "stderr"
        }
      ]
    },
    {
      "metadata": {
        "id": "vwaJ0msf-87b",
        "colab_type": "code",
        "colab": {
          "base_uri": "https://localhost:8080/",
          "height": 34
        },
        "outputId": "49551281-4e8e-461b-bf12-a76b707ec24c"
      },
      "cell_type": "code",
      "source": [
        "cap.stdout"
      ],
      "execution_count": 12,
      "outputs": [
        {
          "output_type": "execute_result",
          "data": {
            "text/plain": [
              "'hi, stdout\\n'"
            ]
          },
          "metadata": {
            "tags": []
          },
          "execution_count": 12
        }
      ]
    },
    {
      "metadata": {
        "id": "TkdNAgEY-87e",
        "colab_type": "code",
        "colab": {
          "base_uri": "https://localhost:8080/",
          "height": 34
        },
        "outputId": "a0154086-1435-483b-9969-10f2dd5f2946"
      },
      "cell_type": "code",
      "source": [
        "cap.stderr"
      ],
      "execution_count": 13,
      "outputs": [
        {
          "output_type": "execute_result",
          "data": {
            "text/plain": [
              "''"
            ]
          },
          "metadata": {
            "tags": []
          },
          "execution_count": 13
        }
      ]
    }
  ]
}