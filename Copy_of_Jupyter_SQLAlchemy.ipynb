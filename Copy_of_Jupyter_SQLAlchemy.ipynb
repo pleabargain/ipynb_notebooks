{
  "nbformat": 4,
  "nbformat_minor": 0,
  "metadata": {
    "colab": {
      "name": "Copy of Jupyter-SQLAlchemy.ipynb",
      "version": "0.3.2",
      "provenance": [],
      "include_colab_link": true
    },
    "kernelspec": {
      "display_name": "Python 2",
      "language": "python",
      "name": "python2"
    }
  },
  "cells": [
    {
      "cell_type": "markdown",
      "metadata": {
        "id": "view-in-github",
        "colab_type": "text"
      },
      "source": [
        "<a href=\"https://colab.research.google.com/github/pleabargain/ipynb_notebooks/blob/master/Copy_of_Jupyter_SQLAlchemy.ipynb\" target=\"_parent\"><img src=\"https://colab.research.google.com/assets/colab-badge.svg\" alt=\"Open In Colab\"/></a>"
      ]
    },
    {
      "metadata": {
        "id": "-fYlRT-mdd9m",
        "colab_type": "text"
      },
      "cell_type": "markdown",
      "source": [
        "from the good work of\n",
        "https://github.com/LeeBergstrand/Jupyter-SQLAlchemy-Tutorial/blob/master/Jupyter-SQLAlchemy.ipynb"
      ]
    },
    {
      "metadata": {
        "id": "bVPTFZZqco0j",
        "colab_type": "text"
      },
      "cell_type": "markdown",
      "source": [
        "Introduction to SQLAlchemy and Jupyter Notebooks\n",
        "==========================================\n",
        "\n",
        "### Authors:\n",
        "- Lee Bergstrand\n",
        "- Matt McInnes\n",
        "\n",
        "**Note:** This tutorial is based off the [official SQLAlchemy ORM tutorial](http://docs.sqlalchemy.org/en/rel_1_0/orm/tutorial.html). "
      ]
    },
    {
      "metadata": {
        "id": "s9hC1RfLco0o",
        "colab_type": "text"
      },
      "cell_type": "markdown",
      "source": [
        "Introduction to SQLAlchemy\n",
        "=========================="
      ]
    },
    {
      "metadata": {
        "id": "lbs0Hx3pco0t",
        "colab_type": "code",
        "colab": {}
      },
      "cell_type": "code",
      "source": [
        "import sqlalchemy\n",
        "\n",
        "# Connect to the database...\n",
        "from sqlalchemy import create_engine\n",
        "engine = create_engine('sqlite:///:memory:', echo=False)"
      ],
      "execution_count": 0,
      "outputs": []
    },
    {
      "metadata": {
        "id": "C4lkoa5zco0z",
        "colab_type": "text"
      },
      "cell_type": "markdown",
      "source": [
        "### Creating Database-Backed Classes\n",
        "---"
      ]
    },
    {
      "metadata": {
        "id": "fsvrPH3xco02",
        "colab_type": "text"
      },
      "cell_type": "markdown",
      "source": [
        "The ORM utilizes classes inheriting from the SQLAlchemy base class. "
      ]
    },
    {
      "metadata": {
        "id": "a9eeEYKJco04",
        "colab_type": "code",
        "colab": {}
      },
      "cell_type": "code",
      "source": [
        "from sqlalchemy.ext.declarative import declarative_base\n",
        "Base = declarative_base()"
      ],
      "execution_count": 0,
      "outputs": []
    },
    {
      "metadata": {
        "id": "dkHIWQEIco08",
        "colab_type": "text"
      },
      "cell_type": "markdown",
      "source": [
        "Classes have RDBMS table attributes:\n",
        "- Columns have datatypes (Integer, Float, etc.)\n",
        "- Columns have constraints (Primary Key, Foreign Key, etc.)"
      ]
    },
    {
      "metadata": {
        "id": "CwAuW5ONco0-",
        "colab_type": "code",
        "colab": {}
      },
      "cell_type": "code",
      "source": [
        "from sqlalchemy import Column, Integer, String\n",
        "class User(Base):\n",
        "    __tablename__ = 'users'\n",
        "    \n",
        "    id = Column(Integer, primary_key=True)\n",
        "    name = Column(String)\n",
        "    fullname = Column(String)\n",
        "    password = Column(String)\n",
        "    \n",
        "    # Defines to_string() representation \n",
        "    def __repr__(self):\n",
        "        return \"<User(name='%s', fullname='%s', password='%s')>\" % (\n",
        "                self.name, self.fullname, self.password)"
      ],
      "execution_count": 0,
      "outputs": []
    },
    {
      "metadata": {
        "id": "kikPIctKco1C",
        "colab_type": "text"
      },
      "cell_type": "markdown",
      "source": [
        "SQLAlchemy will set up your tables for you..."
      ]
    },
    {
      "metadata": {
        "id": "Xdy_DhPZco1D",
        "colab_type": "code",
        "colab": {}
      },
      "cell_type": "code",
      "source": [
        "Base.metadata.create_all(engine)"
      ],
      "execution_count": 0,
      "outputs": []
    },
    {
      "metadata": {
        "id": "pd4-8XXYco1H",
        "colab_type": "text"
      },
      "cell_type": "markdown",
      "source": [
        "##### Issued SQL:\n",
        "\n",
        "```SQL\n",
        "CREATE TABLE users (\n",
        "    id INTEGER NOT NULL, name VARCHAR,\n",
        "    fullname VARCHAR,\n",
        "    password VARCHAR,\n",
        "    PRIMARY KEY (id)\n",
        "```"
      ]
    },
    {
      "metadata": {
        "id": "cce-ME9Fco1I",
        "colab_type": "text"
      },
      "cell_type": "markdown",
      "source": [
        "### Creating a Session\n",
        "\n",
        "---"
      ]
    },
    {
      "metadata": {
        "id": "BoaRYax-co1J",
        "colab_type": "code",
        "colab": {}
      },
      "cell_type": "code",
      "source": [
        "from sqlalchemy.orm import sessionmaker\n",
        "Session = sessionmaker(bind=engine)\n",
        "session = Session()"
      ],
      "execution_count": 0,
      "outputs": []
    },
    {
      "metadata": {
        "id": "MEpUUVJfco1N",
        "colab_type": "text"
      },
      "cell_type": "markdown",
      "source": [
        "### Adding, Updating and Commiting Objects\n",
        "---"
      ]
    },
    {
      "metadata": {
        "id": "uYcntnBico1P",
        "colab_type": "text"
      },
      "cell_type": "markdown",
      "source": [
        "Once you have your tables create you can then start creating objects."
      ]
    },
    {
      "metadata": {
        "id": "sQnM6Z3eco1S",
        "colab_type": "code",
        "outputId": "9aa999ca-cfb0-407b-884f-8480a2a01526",
        "colab": {
          "base_uri": "https://localhost:8080/",
          "height": 35
        }
      },
      "cell_type": "code",
      "source": [
        "ed_user = User(name='ed', fullname='Ed Jones', password='edspassword')\n",
        "session.add(ed_user)\n",
        "ed_user"
      ],
      "execution_count": 6,
      "outputs": [
        {
          "output_type": "execute_result",
          "data": {
            "text/plain": [
              "<User(name='ed', fullname='Ed Jones', password='edspassword')>"
            ]
          },
          "metadata": {
            "tags": []
          },
          "execution_count": 6
        }
      ]
    },
    {
      "metadata": {
        "id": "pWIRIMLBco1Y",
        "colab_type": "text"
      },
      "cell_type": "markdown",
      "source": [
        "When you do a query SQLAlchemy, your uncommited changes are flushed to the db (within a transaction). SQLAlchemy then requeries the database in order to gain the value of the objects primary key column."
      ]
    },
    {
      "metadata": {
        "id": "srql-e5cco1a",
        "colab_type": "code",
        "colab": {}
      },
      "cell_type": "code",
      "source": [
        "our_user = session.query(User).filter_by(name='ed').first()"
      ],
      "execution_count": 0,
      "outputs": []
    },
    {
      "metadata": {
        "id": "fR0xAPsOco1d",
        "colab_type": "text"
      },
      "cell_type": "markdown",
      "source": [
        "##### Issued SQL:\n",
        "\n",
        "*Insert (Flush)*\n",
        "\n",
        "```SQL\n",
        "INSERT INTO users (name, fullname, password) VALUES ('ed', 'Ed Jones', 'edspassword')\n",
        "```\n",
        "\n",
        "*Query Select*\n",
        "\n",
        "```SQL\n",
        "SELECT users.id AS users_id,\n",
        "        users.name AS users_name,\n",
        "        users.fullname AS users_fullname,\n",
        "        users.password AS users_password\n",
        "FROM users\n",
        "WHERE users.name = 'ed'\n",
        " LIMIT 1 OFFSET 0\n",
        "```"
      ]
    },
    {
      "metadata": {
        "collapsed": true,
        "id": "jyhNzUZ4co1f",
        "colab_type": "text"
      },
      "cell_type": "markdown",
      "source": [
        "Since both of `end_user` and `our_user` have the same primary key the are mapped to the same object."
      ]
    },
    {
      "metadata": {
        "id": "i1iD948Ico1g",
        "colab_type": "code",
        "outputId": "a325ea5c-8e81-4df8-d713-3943c683d104",
        "colab": {
          "base_uri": "https://localhost:8080/",
          "height": 35
        }
      },
      "cell_type": "code",
      "source": [
        "ed_user is our_user"
      ],
      "execution_count": 8,
      "outputs": [
        {
          "output_type": "execute_result",
          "data": {
            "text/plain": [
              "True"
            ]
          },
          "metadata": {
            "tags": []
          },
          "execution_count": 8
        }
      ]
    },
    {
      "metadata": {
        "collapsed": true,
        "id": "4tiBTqxEco1l",
        "colab_type": "text"
      },
      "cell_type": "markdown",
      "source": [
        "Multiple objects can be added to the session and objects can be modified."
      ]
    },
    {
      "metadata": {
        "id": "A4WlCQ9mco1m",
        "colab_type": "code",
        "colab": {}
      },
      "cell_type": "code",
      "source": [
        "session.add_all([\n",
        "        User(name='wendy', fullname='Wendy Williams', password='foobar'),\n",
        "        User(name='mary', fullname='Mary Contrary', password='xxg527'),\n",
        "        User(name='fred', fullname='Fred Flinstone', password='blah')])\n",
        "\n",
        "ed_user.password = 'f8s7ccs'"
      ],
      "execution_count": 0,
      "outputs": []
    },
    {
      "metadata": {
        "collapsed": true,
        "id": "cg-IJ9Zkco1q",
        "colab_type": "text"
      },
      "cell_type": "markdown",
      "source": [
        "Finally, the transaction can be commited. The remaining changes are flushed to the database."
      ]
    },
    {
      "metadata": {
        "id": "FSWW7pLLco1r",
        "colab_type": "code",
        "colab": {}
      },
      "cell_type": "code",
      "source": [
        "session.commit()"
      ],
      "execution_count": 0,
      "outputs": []
    },
    {
      "metadata": {
        "id": "Cu2EtHf9co1v",
        "colab_type": "text"
      },
      "cell_type": "markdown",
      "source": [
        "##### Issued SQL:\n",
        "\n",
        "*Flush remaining changes (inserts and updates)*\n",
        "\n",
        "```SQL\n",
        "UPDATE users SET password='f8s7ccs' WHERE users.id = 1\n",
        "\n",
        "INSERT INTO users (name, fullname, password) VALUES ('wendy', 'Wendy Williams', 'foobar')\n",
        "INSERT INTO users (name, fullname, password) VALUES ('mary', 'Mary Contrary', 'xxg527')\n",
        "INSERT INTO users (name, fullname, password) VALUES (fred', 'Fred Flinstone', 'blah')\n",
        "```\n",
        "\n",
        "*Finally, commit the changes*\n",
        "\n",
        "```SQL\n",
        "COMMIT\n",
        "```"
      ]
    },
    {
      "metadata": {
        "id": "IxgbjS0Xco1w",
        "colab_type": "text"
      },
      "cell_type": "markdown",
      "source": [
        "### Rolling Back\n",
        "---"
      ]
    },
    {
      "metadata": {
        "id": "FPLV0Etlco1z",
        "colab_type": "text"
      },
      "cell_type": "markdown",
      "source": [
        "In SQLAlchemy all database operations are performed within a transaction. \n",
        "\n",
        "For example we can edit and query for objects:"
      ]
    },
    {
      "metadata": {
        "id": "QN1v4zjBco10",
        "colab_type": "code",
        "outputId": "6bef996e-a403-4bea-c3b0-5acc887b3b63",
        "colab": {
          "base_uri": "https://localhost:8080/",
          "height": 52
        }
      },
      "cell_type": "code",
      "source": [
        "ed_user.name = 'Edwardo'\n",
        "\n",
        "fake_user = User(name='fakeuser', fullname='Invalid', password='12345')\n",
        "session.add(fake_user)\n",
        "\n",
        "session.query(User).filter(User.name.in_(['Edwardo', 'fakeuser'])).all()"
      ],
      "execution_count": 11,
      "outputs": [
        {
          "output_type": "execute_result",
          "data": {
            "text/plain": [
              "[<User(name='Edwardo', fullname='Ed Jones', password='f8s7ccs')>,\n",
              " <User(name='fakeuser', fullname='Invalid', password='12345')>]"
            ]
          },
          "metadata": {
            "tags": []
          },
          "execution_count": 11
        }
      ]
    },
    {
      "metadata": {
        "id": "FDuVAr9tco1_",
        "colab_type": "text"
      },
      "cell_type": "markdown",
      "source": [
        "We can do a rollback and our changes are reset."
      ]
    },
    {
      "metadata": {
        "id": "j0gm6VlJco2B",
        "colab_type": "code",
        "colab": {}
      },
      "cell_type": "code",
      "source": [
        "session.rollback()"
      ],
      "execution_count": 0,
      "outputs": []
    },
    {
      "metadata": {
        "id": "EbH3OUYuco2L",
        "colab_type": "text"
      },
      "cell_type": "markdown",
      "source": [
        "##### Issued SQL:\n",
        "\n",
        "```SQL\n",
        "ROLLBACK\n",
        "```"
      ]
    },
    {
      "metadata": {
        "id": "v8fdtbSJco2M",
        "colab_type": "text"
      },
      "cell_type": "markdown",
      "source": [
        "Our objects are reset to their pervious states and our uncommited objects are removed."
      ]
    },
    {
      "metadata": {
        "id": "a2qWyYqKco2O",
        "colab_type": "code",
        "outputId": "4c33f710-6b2c-45c6-dde3-8c0f527ae531",
        "colab": {
          "base_uri": "https://localhost:8080/",
          "height": 35
        }
      },
      "cell_type": "code",
      "source": [
        "ed_user.name"
      ],
      "execution_count": 13,
      "outputs": [
        {
          "output_type": "execute_result",
          "data": {
            "text/plain": [
              "u'ed'"
            ]
          },
          "metadata": {
            "tags": []
          },
          "execution_count": 13
        }
      ]
    },
    {
      "metadata": {
        "id": "nPlYB5_Rco2X",
        "colab_type": "code",
        "outputId": "c66b76e3-ca64-4106-f51c-7ab30481ff1b",
        "colab": {
          "base_uri": "https://localhost:8080/",
          "height": 35
        }
      },
      "cell_type": "code",
      "source": [
        "fake_user in session"
      ],
      "execution_count": 14,
      "outputs": [
        {
          "output_type": "execute_result",
          "data": {
            "text/plain": [
              "False"
            ]
          },
          "metadata": {
            "tags": []
          },
          "execution_count": 14
        }
      ]
    },
    {
      "metadata": {
        "id": "atF6IkKaco2b",
        "colab_type": "text"
      },
      "cell_type": "markdown",
      "source": [
        "### Querying\n",
        "---"
      ]
    },
    {
      "metadata": {
        "id": "rAH7WGoAco2d",
        "colab_type": "code",
        "outputId": "b4583ffe-b099-452f-cb98-d0d70034290d",
        "colab": {
          "base_uri": "https://localhost:8080/",
          "height": 88
        }
      },
      "cell_type": "code",
      "source": [
        "for instance in session.query(User).order_by(User.id):\n",
        "    print(instance)"
      ],
      "execution_count": 15,
      "outputs": [
        {
          "output_type": "stream",
          "text": [
            "<User(name='ed', fullname='Ed Jones', password='f8s7ccs')>\n",
            "<User(name='wendy', fullname='Wendy Williams', password='foobar')>\n",
            "<User(name='mary', fullname='Mary Contrary', password='xxg527')>\n",
            "<User(name='fred', fullname='Fred Flinstone', password='blah')>\n"
          ],
          "name": "stdout"
        }
      ]
    },
    {
      "metadata": {
        "id": "8RnZHtSKco2i",
        "colab_type": "text"
      },
      "cell_type": "markdown",
      "source": [
        "##### Issued SQL:\n",
        "\n",
        "```SQL\n",
        "SELECT users.id AS users_id,\n",
        "        users.name AS users_name,\n",
        "        users.fullname AS users_fullname,\n",
        "        users.password AS users_password\n",
        "FROM users ORDER BY users.id\n",
        "```"
      ]
    },
    {
      "metadata": {
        "id": "L5bsETndco2k",
        "colab_type": "code",
        "outputId": "525acf25-adec-4083-a933-72fd05141d5b",
        "colab": {
          "base_uri": "https://localhost:8080/",
          "height": 88
        }
      },
      "cell_type": "code",
      "source": [
        "for name, fullname in session.query(User.name, User.fullname):\n",
        "    print(name, fullname)"
      ],
      "execution_count": 16,
      "outputs": [
        {
          "output_type": "stream",
          "text": [
            "(u'ed', u'Ed Jones')\n",
            "(u'wendy', u'Wendy Williams')\n",
            "(u'mary', u'Mary Contrary')\n",
            "(u'fred', u'Fred Flinstone')\n"
          ],
          "name": "stdout"
        }
      ]
    },
    {
      "metadata": {
        "id": "G2IJxdNdco2m",
        "colab_type": "text"
      },
      "cell_type": "markdown",
      "source": [
        "##### Issued SQL:\n",
        "\n",
        "```SQL\n",
        "SELECT users.name AS users_name,\n",
        "        users.fullname AS users_fullname\n",
        "FROM users\n",
        "```"
      ]
    },
    {
      "metadata": {
        "id": "BqOtNslIco2o",
        "colab_type": "text"
      },
      "cell_type": "markdown",
      "source": [
        "### Common Filtering Operators"
      ]
    },
    {
      "metadata": {
        "id": "6bSf0O-Uco2p",
        "colab_type": "text"
      },
      "cell_type": "markdown",
      "source": [
        "Here’s an overview of some common operators used by the `filter()` fucntion:"
      ]
    },
    {
      "metadata": {
        "id": "NQw-ThrNco2p",
        "colab_type": "text"
      },
      "cell_type": "markdown",
      "source": [
        "#### equals:"
      ]
    },
    {
      "metadata": {
        "id": "vFiMNgHIco2r",
        "colab_type": "code",
        "outputId": "6faf01ef-b136-483c-8924-f74bef65c4a9",
        "colab": {
          "base_uri": "https://localhost:8080/",
          "height": 35
        }
      },
      "cell_type": "code",
      "source": [
        "for user in session.query(User).filter(User.name == 'ed'):\n",
        "    print(user)"
      ],
      "execution_count": 17,
      "outputs": [
        {
          "output_type": "stream",
          "text": [
            "<User(name='ed', fullname='Ed Jones', password='f8s7ccs')>\n"
          ],
          "name": "stdout"
        }
      ]
    },
    {
      "metadata": {
        "id": "A9ilGCmqco2w",
        "colab_type": "text"
      },
      "cell_type": "markdown",
      "source": [
        "#### not equals:"
      ]
    },
    {
      "metadata": {
        "id": "a23ETU7Oco2x",
        "colab_type": "code",
        "outputId": "96d66a44-84cf-4247-bb85-9108ecd46a0b",
        "colab": {
          "base_uri": "https://localhost:8080/",
          "height": 70
        }
      },
      "cell_type": "code",
      "source": [
        "for user in session.query(User).filter(User.name != 'ed'):\n",
        "    print(user)"
      ],
      "execution_count": 18,
      "outputs": [
        {
          "output_type": "stream",
          "text": [
            "<User(name='wendy', fullname='Wendy Williams', password='foobar')>\n",
            "<User(name='mary', fullname='Mary Contrary', password='xxg527')>\n",
            "<User(name='fred', fullname='Fred Flinstone', password='blah')>\n"
          ],
          "name": "stdout"
        }
      ]
    },
    {
      "metadata": {
        "id": "hFP1bgdGco21",
        "colab_type": "text"
      },
      "cell_type": "markdown",
      "source": [
        "#### LIKE:"
      ]
    },
    {
      "metadata": {
        "id": "lmvYsfrlco22",
        "colab_type": "code",
        "outputId": "137b4527-33a3-4b1b-bfd6-1c1cbd027e47",
        "colab": {
          "base_uri": "https://localhost:8080/",
          "height": 52
        }
      },
      "cell_type": "code",
      "source": [
        "for user in session.query(User).filter(User.name.like('%ed%')):\n",
        "    print(user)"
      ],
      "execution_count": 19,
      "outputs": [
        {
          "output_type": "stream",
          "text": [
            "<User(name='ed', fullname='Ed Jones', password='f8s7ccs')>\n",
            "<User(name='fred', fullname='Fred Flinstone', password='blah')>\n"
          ],
          "name": "stdout"
        }
      ]
    },
    {
      "metadata": {
        "id": "pxewOJUsco28",
        "colab_type": "text"
      },
      "cell_type": "markdown",
      "source": [
        "#### IN:"
      ]
    },
    {
      "metadata": {
        "id": "42FIIPjVco29",
        "colab_type": "code",
        "outputId": "2e771826-9f04-4545-d6a7-4b00ea02b800",
        "colab": {
          "base_uri": "https://localhost:8080/",
          "height": 52
        }
      },
      "cell_type": "code",
      "source": [
        "for user in session.query(User).filter(User.name.in_(['ed', 'wendy', 'jack'])):\n",
        "    print(user)"
      ],
      "execution_count": 20,
      "outputs": [
        {
          "output_type": "stream",
          "text": [
            "<User(name='ed', fullname='Ed Jones', password='f8s7ccs')>\n",
            "<User(name='wendy', fullname='Wendy Williams', password='foobar')>\n"
          ],
          "name": "stdout"
        }
      ]
    },
    {
      "metadata": {
        "id": "RAAFQu9Wco3C",
        "colab_type": "text"
      },
      "cell_type": "markdown",
      "source": [
        "#### NOT IN:"
      ]
    },
    {
      "metadata": {
        "id": "OOMC4LCPco3D",
        "colab_type": "code",
        "outputId": "70075a81-6789-4c2d-ae4e-cc5484de883c",
        "colab": {
          "base_uri": "https://localhost:8080/",
          "height": 52
        }
      },
      "cell_type": "code",
      "source": [
        "for user in session.query(User).filter(~User.name.in_(['ed', 'wendy', 'jack'])):\n",
        "    print(user)"
      ],
      "execution_count": 21,
      "outputs": [
        {
          "output_type": "stream",
          "text": [
            "<User(name='mary', fullname='Mary Contrary', password='xxg527')>\n",
            "<User(name='fred', fullname='Fred Flinstone', password='blah')>\n"
          ],
          "name": "stdout"
        }
      ]
    },
    {
      "metadata": {
        "id": "GIUGyhhvco3G",
        "colab_type": "text"
      },
      "cell_type": "markdown",
      "source": [
        "#### AND:"
      ]
    },
    {
      "metadata": {
        "id": "9oArwhDdco3I",
        "colab_type": "code",
        "outputId": "6cfbf627-1632-4292-95e9-2768e569c801",
        "colab": {
          "base_uri": "https://localhost:8080/",
          "height": 35
        }
      },
      "cell_type": "code",
      "source": [
        "for user in session.query(User).filter(User.name == 'ed', User.fullname == 'Ed Jones'):\n",
        "    print(user)"
      ],
      "execution_count": 22,
      "outputs": [
        {
          "output_type": "stream",
          "text": [
            "<User(name='ed', fullname='Ed Jones', password='f8s7ccs')>\n"
          ],
          "name": "stdout"
        }
      ]
    },
    {
      "metadata": {
        "id": "wsl7klXoco3L",
        "colab_type": "text"
      },
      "cell_type": "markdown",
      "source": [
        "#### OR:"
      ]
    },
    {
      "metadata": {
        "id": "xRA9_aEHco3M",
        "colab_type": "code",
        "outputId": "19906a42-3833-4c7f-cc95-b1cde6aba9a6",
        "colab": {
          "base_uri": "https://localhost:8080/",
          "height": 52
        }
      },
      "cell_type": "code",
      "source": [
        "from sqlalchemy import or_\n",
        "for user in session.query(User).filter(or_(User.name == 'ed', User.name == 'wendy')):\n",
        "    print(user)"
      ],
      "execution_count": 23,
      "outputs": [
        {
          "output_type": "stream",
          "text": [
            "<User(name='ed', fullname='Ed Jones', password='f8s7ccs')>\n",
            "<User(name='wendy', fullname='Wendy Williams', password='foobar')>\n"
          ],
          "name": "stdout"
        }
      ]
    },
    {
      "metadata": {
        "id": "qDtnwiu1co3P",
        "colab_type": "text"
      },
      "cell_type": "markdown",
      "source": [
        "### Relationships\n",
        "---"
      ]
    },
    {
      "metadata": {
        "id": "z15QWJpbco3Q",
        "colab_type": "text"
      },
      "cell_type": "markdown",
      "source": [
        "Multiple classes can be created and linked together using class relations."
      ]
    },
    {
      "metadata": {
        "id": "cuxxEsumco3T",
        "colab_type": "code",
        "colab": {}
      },
      "cell_type": "code",
      "source": [
        "from sqlalchemy import ForeignKey\n",
        "from sqlalchemy.orm import relationship\n",
        "\n",
        "class Address(Base):\n",
        "    __tablename__ = 'addresses'\n",
        "    id = Column(Integer, primary_key=True)\n",
        "    email_address = Column(String, nullable=False)\n",
        "    user_id = Column(Integer, ForeignKey('users.id'))\n",
        "    user = relationship(\"User\", back_populates=\"addresses\")\n",
        "    \n",
        "    def __repr__(self):\n",
        "        return \"<Address(email_address='%s')>\" % self.email_address"
      ],
      "execution_count": 0,
      "outputs": []
    },
    {
      "metadata": {
        "collapsed": true,
        "id": "_KDlUgy5co3W",
        "colab_type": "text"
      },
      "cell_type": "markdown",
      "source": [
        "Once primary and foreign keys are established, classes can be connected together via relationships."
      ]
    },
    {
      "metadata": {
        "id": "EibHghvTco3X",
        "colab_type": "code",
        "colab": {}
      },
      "cell_type": "code",
      "source": [
        "User.addresses = relationship(\"Address\", order_by=Address.id, back_populates=\"user\")\n",
        "\n",
        "Base.metadata.create_all(engine) # Flush schema changes to the DBMS."
      ],
      "execution_count": 0,
      "outputs": []
    },
    {
      "metadata": {
        "collapsed": true,
        "id": "qVEj1Rpjco3b",
        "colab_type": "text"
      },
      "cell_type": "markdown",
      "source": [
        "In the above mappings:\n",
        "- ```user.addresses``` maps to a user's list of address objects.\n",
        "- ```address.user``` maps to an address's parent user object."
      ]
    },
    {
      "metadata": {
        "id": "nstuy-A8co3c",
        "colab_type": "text"
      },
      "cell_type": "markdown",
      "source": [
        "We create a \"Jack\" object and it initially has no addresses."
      ]
    },
    {
      "metadata": {
        "id": "OltJT9TTco3c",
        "colab_type": "code",
        "outputId": "25c10b7a-0e7c-404f-c0da-97a5fd302f1e",
        "colab": {
          "base_uri": "https://localhost:8080/",
          "height": 35
        }
      },
      "cell_type": "code",
      "source": [
        "jack = User(name='jack', fullname='Jack Bean', password='gjffdd')\n",
        "jack.addresses"
      ],
      "execution_count": 26,
      "outputs": [
        {
          "output_type": "execute_result",
          "data": {
            "text/plain": [
              "[]"
            ]
          },
          "metadata": {
            "tags": []
          },
          "execution_count": 26
        }
      ]
    },
    {
      "metadata": {
        "collapsed": true,
        "id": "rFlcfRz-co3i",
        "colab_type": "text"
      },
      "cell_type": "markdown",
      "source": [
        "We then add some address objects."
      ]
    },
    {
      "metadata": {
        "id": "ilqoYx-vco3l",
        "colab_type": "code",
        "colab": {}
      },
      "cell_type": "code",
      "source": [
        "jack.addresses = [Address(email_address='jack@google.com'), Address(email_address='j25@yahoo.com')]"
      ],
      "execution_count": 0,
      "outputs": []
    },
    {
      "metadata": {
        "id": "I_na7Ifmco3o",
        "colab_type": "code",
        "outputId": "8445452a-4620-4320-f0bf-c32a3f27c0b5",
        "colab": {
          "base_uri": "https://localhost:8080/",
          "height": 35
        }
      },
      "cell_type": "code",
      "source": [
        "jack.addresses[1]"
      ],
      "execution_count": 28,
      "outputs": [
        {
          "output_type": "execute_result",
          "data": {
            "text/plain": [
              "<Address(email_address='j25@yahoo.com')>"
            ]
          },
          "metadata": {
            "tags": []
          },
          "execution_count": 28
        }
      ]
    },
    {
      "metadata": {
        "collapsed": true,
        "id": "D_EPTVH8co3r",
        "colab_type": "text"
      },
      "cell_type": "markdown",
      "source": [
        "We see that the \"Jack\" object's first address's user parameter refers back to the \"Jack\" object."
      ]
    },
    {
      "metadata": {
        "id": "6eHPSTjYco3s",
        "colab_type": "code",
        "outputId": "b8abfe70-f943-4b74-cfda-8803743bb8d4",
        "colab": {
          "base_uri": "https://localhost:8080/",
          "height": 35
        }
      },
      "cell_type": "code",
      "source": [
        "jack.addresses[1].user"
      ],
      "execution_count": 29,
      "outputs": [
        {
          "output_type": "execute_result",
          "data": {
            "text/plain": [
              "<User(name='jack', fullname='Jack Bean', password='gjffdd')>"
            ]
          },
          "metadata": {
            "tags": []
          },
          "execution_count": 29
        }
      ]
    },
    {
      "metadata": {
        "collapsed": true,
        "id": "LMBNPkVSco3v",
        "colab_type": "text"
      },
      "cell_type": "markdown",
      "source": [
        "When we add \"Jack\" to the session and commit, the two address objects of \"Jack\" are also committed in a cascading fashion."
      ]
    },
    {
      "metadata": {
        "id": "JEccXRu7co3x",
        "colab_type": "code",
        "outputId": "7e5ef3da-42ff-4922-970c-958c7ebceddd",
        "colab": {
          "base_uri": "https://localhost:8080/",
          "height": 52
        }
      },
      "cell_type": "code",
      "source": [
        "session.add(jack)\n",
        "\n",
        "session.commit()\n",
        "\n",
        "jack = session.query(User).filter_by(name='jack').one()\n",
        "jack.addresses"
      ],
      "execution_count": 30,
      "outputs": [
        {
          "output_type": "execute_result",
          "data": {
            "text/plain": [
              "[<Address(email_address='jack@google.com')>,\n",
              " <Address(email_address='j25@yahoo.com')>]"
            ]
          },
          "metadata": {
            "tags": []
          },
          "execution_count": 30
        }
      ]
    }
  ]
}