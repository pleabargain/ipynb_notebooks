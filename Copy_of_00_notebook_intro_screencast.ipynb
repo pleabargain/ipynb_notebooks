{
  "nbformat": 4,
  "nbformat_minor": 0,
  "metadata": {
    "colab": {
      "name": "Copy of 00_notebook_intro_screencast.ipynb",
      "version": "0.3.2",
      "provenance": [],
      "include_colab_link": true
    },
    "kernelspec": {
      "display_name": "Python 3",
      "language": "python",
      "name": "python3"
    }
  },
  "cells": [
    {
      "cell_type": "markdown",
      "metadata": {
        "id": "view-in-github",
        "colab_type": "text"
      },
      "source": [
        "<a href=\"https://colab.research.google.com/github/pleabargain/ipynb_notebooks/blob/master/Copy_of_00_notebook_intro_screencast.ipynb\" target=\"_parent\"><img src=\"https://colab.research.google.com/assets/colab-badge.svg\" alt=\"Open In Colab\"/></a>"
      ]
    },
    {
      "metadata": {
        "id": "-8nO2K6E7MlB",
        "colab_type": "text"
      },
      "cell_type": "markdown",
      "source": [
        "# A brief introductory tour of the IPython notebook (the screencast version)\n",
        "\n",
        "This document will give you a brief tour of the capabilities of the IPython notebook.  \n",
        "You can view its contents by scrolling around, or execute each cell by typing `Shift-Enter` or `Alt - Enter` if you are colaboratory notebook\n",
        "\n",
        "## What is the ipython notebook?\n",
        "\n",
        "At its most basic, the ipynb gives you a way to interactively edit & execute Python code in a Web notebook, and see the output."
      ]
    },
    {
      "metadata": {
        "id": "ljcpNxzv7MlE",
        "colab_type": "code",
        "outputId": "678c7c9e-1146-4612-a572-42c6df484a18",
        "colab": {
          "base_uri": "https://localhost:8080/",
          "height": 35
        }
      },
      "cell_type": "code",
      "source": [
        "print ('hello, world!')"
      ],
      "execution_count": 1,
      "outputs": [
        {
          "output_type": "stream",
          "text": [
            "hello, world!\n"
          ],
          "name": "stdout"
        }
      ]
    },
    {
      "metadata": {
        "id": "HBCHuqAv7MlN",
        "colab_type": "text"
      },
      "cell_type": "markdown",
      "source": [
        "(You can also include text comments like this, as you may have noticed.)\n",
        "\n",
        "The notebook runs Python in the normal manner -- nothing special needs to be done.  Just type in your Python code and hit Shift-Enter to run it."
      ]
    },
    {
      "metadata": {
        "id": "rzL_hQgE7MlP",
        "colab_type": "code",
        "outputId": "3833267a-2bda-415c-dfe9-d600fe89c7fb",
        "colab": {
          "base_uri": "https://localhost:8080/",
          "height": 124
        }
      },
      "cell_type": "code",
      "source": [
        "for i in range(5):\n",
        "    print ('i is', i)\n",
        "    \n",
        "import re\n",
        "re.split('\\d', 'the 1 is 2 for 3 foo')"
      ],
      "execution_count": 2,
      "outputs": [
        {
          "output_type": "stream",
          "text": [
            "i is 0\n",
            "i is 1\n",
            "i is 2\n",
            "i is 3\n",
            "i is 4\n"
          ],
          "name": "stdout"
        },
        {
          "output_type": "execute_result",
          "data": {
            "text/plain": [
              "['the ', ' is ', ' for ', ' foo']"
            ]
          },
          "metadata": {
            "tags": []
          },
          "execution_count": 2
        }
      ]
    },
    {
      "metadata": {
        "id": "sc5PnNDZ7md3",
        "colab_type": "code",
        "colab": {}
      },
      "cell_type": "code",
      "source": [
        ""
      ],
      "execution_count": 0,
      "outputs": []
    },
    {
      "metadata": {
        "id": "4K7rQTYv7MlU",
        "colab_type": "text"
      },
      "cell_type": "markdown",
      "source": [
        "The Python code is being executed on the computer running the ipython notebook - in this case, on an Amazon rental machine.\n",
        "\n",
        "So that's neat, right?  But there's more...\n",
        "\n",
        "# Plotting\n",
        "\n",
        "You can also do interactive plotting, if you're into that kind of thing."
      ]
    },
    {
      "metadata": {
        "id": "25yhKZSE7MlW",
        "colab_type": "code",
        "colab": {}
      },
      "cell_type": "code",
      "source": [
        "x = linspace(0, 3*pi, 500)\n",
        "plot(x, sin(x**2))\n",
        "title('A simple chirp');"
      ],
      "execution_count": 0,
      "outputs": []
    },
    {
      "metadata": {
        "id": "QTVc3kc27MlZ",
        "colab_type": "text"
      },
      "cell_type": "markdown",
      "source": [
        "You can also paste blocks of input with prompt markers, such as those from\n",
        "[the official Python tutorial](http://docs.python.org/tutorial/interpreter.html#interactive-mode)"
      ]
    },
    {
      "metadata": {
        "id": "0vWMBOaw7Mla",
        "colab_type": "code",
        "outputId": "9359e67b-9db6-4bba-b5ad-8757f4c0cb98",
        "colab": {}
      },
      "cell_type": "code",
      "source": [
        ">>> the_world_is_flat = 1\n",
        ">>> if the_world_is_flat:\n",
        "...     print (\"Be careful not to fall off!\")"
      ],
      "execution_count": 0,
      "outputs": [
        {
          "output_type": "stream",
          "text": [
            "Be careful not to fall off!\n"
          ],
          "name": "stdout"
        }
      ]
    },
    {
      "metadata": {
        "id": "KwNlRvbf7Mlf",
        "colab_type": "text"
      },
      "cell_type": "markdown",
      "source": [
        "Errors are shown in informative ways:"
      ]
    },
    {
      "metadata": {
        "id": "aMoRwb5t7Mlg",
        "colab_type": "code",
        "outputId": "7420ff47-5d28-45e0-ecfb-c45e6e86bdf4",
        "colab": {}
      },
      "cell_type": "code",
      "source": [
        "x = 1\n",
        "y = 4\n",
        "z = y/(1-x)"
      ],
      "execution_count": 0,
      "outputs": [
        {
          "output_type": "error",
          "ename": "ZeroDivisionError",
          "evalue": "division by zero",
          "traceback": [
            "\u001b[1;31m---------------------------------------------------------------------------\u001b[0m\n\u001b[1;31mZeroDivisionError\u001b[0m                         Traceback (most recent call last)",
            "\u001b[1;32m<ipython-input-28-dc39888fd1d2>\u001b[0m in \u001b[0;36m<module>\u001b[1;34m()\u001b[0m\n\u001b[0;32m      1\u001b[0m \u001b[0mx\u001b[0m \u001b[1;33m=\u001b[0m \u001b[1;36m1\u001b[0m\u001b[1;33m\u001b[0m\u001b[0m\n\u001b[0;32m      2\u001b[0m \u001b[0my\u001b[0m \u001b[1;33m=\u001b[0m \u001b[1;36m4\u001b[0m\u001b[1;33m\u001b[0m\u001b[0m\n\u001b[1;32m----> 3\u001b[1;33m \u001b[0mz\u001b[0m \u001b[1;33m=\u001b[0m \u001b[0my\u001b[0m\u001b[1;33m/\u001b[0m\u001b[1;33m(\u001b[0m\u001b[1;36m1\u001b[0m\u001b[1;33m-\u001b[0m\u001b[0mx\u001b[0m\u001b[1;33m)\u001b[0m\u001b[1;33m\u001b[0m\u001b[0m\n\u001b[0m",
            "\u001b[1;31mZeroDivisionError\u001b[0m: division by zero"
          ]
        }
      ]
    },
    {
      "metadata": {
        "id": "-YxvAqRB7Mll",
        "colab_type": "text"
      },
      "cell_type": "markdown",
      "source": [
        "You can do tab completions, ask for help, and get details:"
      ]
    },
    {
      "metadata": {
        "id": "BRkFd4qM7Mlm",
        "colab_type": "code",
        "outputId": "ad5dc77c-c4bd-4bcb-c923-58f886875aaa",
        "colab": {}
      },
      "cell_type": "code",
      "source": [
        "open"
      ],
      "execution_count": 0,
      "outputs": [
        {
          "output_type": "execute_result",
          "data": {
            "text/plain": [
              "<function io.open>"
            ]
          },
          "metadata": {
            "tags": []
          },
          "execution_count": 29
        }
      ]
    },
    {
      "metadata": {
        "id": "_0vRqnrc7Mlr",
        "colab_type": "text"
      },
      "cell_type": "markdown",
      "source": [
        "(You can just click on the pane bar opened by '?' to close it again.)"
      ]
    },
    {
      "metadata": {
        "id": "Qmis_H_M7Mlt",
        "colab_type": "text"
      },
      "cell_type": "markdown",
      "source": [
        "## See output as it's generated\n",
        "\n",
        "If you execute the next cell, you will see the output arriving as it is generated, not all at the end."
      ]
    },
    {
      "metadata": {
        "id": "_jr4yUnY7Mlu",
        "colab_type": "code",
        "outputId": "8951b121-760a-479c-b2ae-e61bf46eedfb",
        "colab": {}
      },
      "cell_type": "code",
      "source": [
        "import time, sys\n",
        "for i in range(8):\n",
        "    print (i,)\n",
        "    time.sleep(0.5)"
      ],
      "execution_count": 0,
      "outputs": [
        {
          "output_type": "stream",
          "text": [
            "0\n",
            "1\n",
            "2\n",
            "3\n",
            "4\n",
            "5\n",
            "6\n",
            "7\n"
          ],
          "name": "stdout"
        }
      ]
    },
    {
      "metadata": {
        "id": "6KZ2w1fX7Mlz",
        "colab_type": "text"
      },
      "cell_type": "markdown",
      "source": [
        "## Clean crash and restart\n",
        "\n",
        "We call the low-level system libc.time routine with the wrong argument via\n",
        "ctypes to segfault the Python interpreter:"
      ]
    },
    {
      "metadata": {
        "id": "0Dnz9-PO7Ml0",
        "colab_type": "code",
        "colab": {}
      },
      "cell_type": "code",
      "source": [
        "from ctypes import CDLL\n",
        "# This will crash a linux system; equivalent calls can be made on Windows or Mac\n",
        "libc = CDLL(\"libc.so.6\") \n",
        "libc.time(-1)  # BOOM!!"
      ],
      "execution_count": 0,
      "outputs": []
    },
    {
      "metadata": {
        "id": "zVqtIFvh7Ml4",
        "colab_type": "text"
      },
      "cell_type": "markdown",
      "source": [
        "## Markdown cells can contain formatted text and code\n",
        "\n",
        "You can *italicize*, **boldface**\n",
        "\n",
        "* build\n",
        "* lists\n",
        "\n",
        "and embed code meant for illustration instead of execution in Python:\n",
        "\n",
        "    def f(x):\n",
        "        \"\"\"a docstring\"\"\"\n",
        "        return x**2\n",
        "\n",
        "or other languages:\n",
        "\n",
        "    if (i=0; i<n; i++) {\n",
        "      printf(\"hello %d\\n\", i);\n",
        "      x += 4;\n",
        "    }"
      ]
    },
    {
      "metadata": {
        "id": "68vw7brQ7Ml6",
        "colab_type": "text"
      },
      "cell_type": "markdown",
      "source": [
        "Courtesy of MathJax, you can include mathematical expressions both inline: \n",
        "$e^{i\\pi} + 1 = 0$  and displayed:\n",
        "\n",
        "$$e^x=\\sum_{i=0}^\\infty \\frac{1}{i!}x^i$$"
      ]
    },
    {
      "metadata": {
        "id": "cxd6ajHx7Ml6",
        "colab_type": "text"
      },
      "cell_type": "markdown",
      "source": [
        "# More advanced features"
      ]
    },
    {
      "metadata": {
        "id": "1GIIn0Hm7Ml8",
        "colab_type": "text"
      },
      "cell_type": "markdown",
      "source": [
        "Note that you are in the IPython shell, so if you know IPython you can use all the commands you're used to,\n",
        "including things like shell aliases and magic commands:"
      ]
    },
    {
      "metadata": {
        "id": "BJsUNRQW7Ml9",
        "colab_type": "code",
        "outputId": "9d6cb5cb-b8f5-4df7-bbd6-5b9bd6e5332e",
        "colab": {}
      },
      "cell_type": "code",
      "source": [
        "pwd"
      ],
      "execution_count": 0,
      "outputs": [
        {
          "output_type": "execute_result",
          "data": {
            "text/plain": [
              "'/home/dennis'"
            ]
          },
          "metadata": {
            "tags": []
          },
          "execution_count": 11
        }
      ]
    },
    {
      "metadata": {
        "id": "3VZn_-s57MmD",
        "colab_type": "code",
        "outputId": "a0d335b5-33e1-414b-f136-dacfb3444364",
        "colab": {}
      },
      "cell_type": "code",
      "source": [
        "%run non_existent_file"
      ],
      "execution_count": 0,
      "outputs": [
        {
          "output_type": "stream",
          "text": [
            "ERROR: File `'non_existent_file.py'` not found."
          ],
          "name": "stderr"
        }
      ]
    },
    {
      "metadata": {
        "id": "bNqCCFHW7MmH",
        "colab_type": "code",
        "outputId": "377c7a27-fd5c-4084-cc02-583ada019181",
        "colab": {}
      },
      "cell_type": "code",
      "source": [
        "ls"
      ],
      "execution_count": 0,
      "outputs": [
        {
          "output_type": "stream",
          "text": [
            "00_notebook_intro_screencast.ipynb  \u001b[0m\u001b[01;34mgit_hug\u001b[0m/       \u001b[01;34mPictures\u001b[0m/   \u001b[01;34mtornado\u001b[0m/\r\n",
            "\u001b[01;34mDesktop\u001b[0m/                            matplot-1.ogv  \u001b[01;34mPublic\u001b[0m/     \u001b[01;34mVideos\u001b[0m/\r\n",
            "\u001b[01;34mDocuments\u001b[0m/                          \u001b[01;34mmatplotlib\u001b[0m/    \u001b[01;34mscipy\u001b[0m/\r\n",
            "\u001b[01;34mDownloads\u001b[0m/                          matplot.ogv    \u001b[01;34mswftools\u001b[0m/\r\n",
            "\u001b[01;34mDropbox\u001b[0m/                            \u001b[01;34mMusic\u001b[0m/         \u001b[01;34mTemplates\u001b[0m/\r\n"
          ],
          "name": "stdout"
        }
      ]
    },
    {
      "metadata": {
        "id": "tukzSHQI7MmR",
        "colab_type": "code",
        "outputId": "bb119bd6-d7d4-47d6-d420-1f545394034f",
        "colab": {}
      },
      "cell_type": "code",
      "source": [
        "message = 'The IPython notebook is great!'\n",
        "# note: the echo command does not run on Windows, it's a unix command.\n",
        "!echo $message"
      ],
      "execution_count": 0,
      "outputs": [
        {
          "output_type": "stream",
          "text": [
            "The IPython notebook is great!\r\n"
          ],
          "name": "stdout"
        }
      ]
    },
    {
      "metadata": {
        "id": "IaAkffAO7MmW",
        "colab_type": "code",
        "colab": {}
      },
      "cell_type": "code",
      "source": [
        "## Rich displays: include anything a browser can show\n",
        "\n",
        "### Images"
      ],
      "execution_count": 0,
      "outputs": []
    },
    {
      "metadata": {
        "id": "jtSw09Oj7Mmc",
        "colab_type": "text"
      },
      "cell_type": "markdown",
      "source": [
        "An image can be displayed inline from a file, from raw data, or from a url:"
      ]
    },
    {
      "metadata": {
        "id": "yGBH0myF7Mmd",
        "colab_type": "code",
        "outputId": "83c2e84c-90cb-429d-e8bf-25fda616e173",
        "colab": {}
      },
      "cell_type": "code",
      "source": [
        "from IPython.core.display import Image\n",
        "Image('/home/dennis/Desktop/water_images.jpg')"
      ],
      "execution_count": 0,
      "outputs": [
        {
          "output_type": "execute_result",
          "data": {
            "image/png": "home/dennis/Desktop/water_images.jpg",
            "text/plain": [
              "<IPython.core.display.Image at 0xb86e4ac>"
            ]
          },
          "metadata": {
            "tags": []
          },
          "execution_count": 20
        }
      ]
    },
    {
      "metadata": {
        "id": "dUmRbYza7Mmg",
        "colab_type": "text"
      },
      "cell_type": "markdown",
      "source": [
        "SVG images are also supported out of the box (since modern browsers do a good job of rendering them):"
      ]
    },
    {
      "metadata": {
        "id": "f1yy8BWE7Mmi",
        "colab_type": "code",
        "outputId": "2107139c-1b4c-4429-af1e-7241eec5fa6b",
        "colab": {}
      },
      "cell_type": "code",
      "source": [
        "from IPython.core.display import SVG\n",
        "SVG(filename='python-logo.svg')"
      ],
      "execution_count": 0,
      "outputs": [
        {
          "output_type": "error",
          "ename": "IOError",
          "evalue": "[Errno 2] No such file or directory: 'python-logo.svg'",
          "traceback": [
            "\u001b[1;31m---------------------------------------------------------------------------\u001b[0m\n\u001b[1;31mIOError\u001b[0m                                   Traceback (most recent call last)",
            "\u001b[1;32m<ipython-input-32-14c2073a953b>\u001b[0m in \u001b[0;36m<module>\u001b[1;34m()\u001b[0m\n\u001b[0;32m      1\u001b[0m \u001b[1;32mfrom\u001b[0m \u001b[0mIPython\u001b[0m\u001b[1;33m.\u001b[0m\u001b[0mcore\u001b[0m\u001b[1;33m.\u001b[0m\u001b[0mdisplay\u001b[0m \u001b[1;32mimport\u001b[0m \u001b[0mSVG\u001b[0m\u001b[1;33m\u001b[0m\u001b[0m\n\u001b[1;32m----> 2\u001b[1;33m \u001b[0mSVG\u001b[0m\u001b[1;33m(\u001b[0m\u001b[0mfilename\u001b[0m\u001b[1;33m=\u001b[0m\u001b[1;34m'python-logo.svg'\u001b[0m\u001b[1;33m)\u001b[0m\u001b[1;33m\u001b[0m\u001b[0m\n\u001b[0m",
            "\u001b[1;32m/usr/local/lib/python3.2/dist-packages/ipython-0.13-py3.2.egg/IPython/core/display.py\u001b[0m in \u001b[0;36m__init__\u001b[1;34m(self, data, url, filename)\u001b[0m\n\u001b[0;32m    261\u001b[0m             \u001b[0mself\u001b[0m\u001b[1;33m.\u001b[0m\u001b[0murl\u001b[0m \u001b[1;33m=\u001b[0m \u001b[0murl\u001b[0m\u001b[1;33m\u001b[0m\u001b[0m\n\u001b[0;32m    262\u001b[0m             \u001b[0mself\u001b[0m\u001b[1;33m.\u001b[0m\u001b[0mfilename\u001b[0m \u001b[1;33m=\u001b[0m \u001b[1;32mNone\u001b[0m \u001b[1;32mif\u001b[0m \u001b[0mfilename\u001b[0m \u001b[1;32mis\u001b[0m \u001b[1;32mNone\u001b[0m \u001b[1;32melse\u001b[0m \u001b[0mstr\u001b[0m\u001b[1;33m(\u001b[0m\u001b[0mfilename\u001b[0m\u001b[1;33m)\u001b[0m\u001b[1;33m\u001b[0m\u001b[0m\n\u001b[1;32m--> 263\u001b[1;33m         \u001b[0mself\u001b[0m\u001b[1;33m.\u001b[0m\u001b[0mreload\u001b[0m\u001b[1;33m(\u001b[0m\u001b[1;33m)\u001b[0m\u001b[1;33m\u001b[0m\u001b[0m\n\u001b[0m\u001b[0;32m    264\u001b[0m \u001b[1;33m\u001b[0m\u001b[0m\n\u001b[0;32m    265\u001b[0m     \u001b[1;32mdef\u001b[0m \u001b[0mreload\u001b[0m\u001b[1;33m(\u001b[0m\u001b[0mself\u001b[0m\u001b[1;33m)\u001b[0m\u001b[1;33m:\u001b[0m\u001b[1;33m\u001b[0m\u001b[0m\n",
            "\u001b[1;32m/usr/local/lib/python3.2/dist-packages/ipython-0.13-py3.2.egg/IPython/core/display.py\u001b[0m in \u001b[0;36mreload\u001b[1;34m(self)\u001b[0m\n\u001b[0;32m    266\u001b[0m         \u001b[1;34m\"\"\"Reload the raw data from file or URL.\"\"\"\u001b[0m\u001b[1;33m\u001b[0m\u001b[0m\n\u001b[0;32m    267\u001b[0m         \u001b[1;32mif\u001b[0m \u001b[0mself\u001b[0m\u001b[1;33m.\u001b[0m\u001b[0mfilename\u001b[0m \u001b[1;32mis\u001b[0m \u001b[1;32mnot\u001b[0m \u001b[1;32mNone\u001b[0m\u001b[1;33m:\u001b[0m\u001b[1;33m\u001b[0m\u001b[0m\n\u001b[1;32m--> 268\u001b[1;33m             \u001b[1;32mwith\u001b[0m \u001b[0mopen\u001b[0m\u001b[1;33m(\u001b[0m\u001b[0mself\u001b[0m\u001b[1;33m.\u001b[0m\u001b[0mfilename\u001b[0m\u001b[1;33m,\u001b[0m \u001b[0mself\u001b[0m\u001b[1;33m.\u001b[0m\u001b[0m_read_flags\u001b[0m\u001b[1;33m)\u001b[0m \u001b[1;32mas\u001b[0m \u001b[0mf\u001b[0m\u001b[1;33m:\u001b[0m\u001b[1;33m\u001b[0m\u001b[0m\n\u001b[0m\u001b[0;32m    269\u001b[0m                 \u001b[0mself\u001b[0m\u001b[1;33m.\u001b[0m\u001b[0mdata\u001b[0m \u001b[1;33m=\u001b[0m \u001b[0mf\u001b[0m\u001b[1;33m.\u001b[0m\u001b[0mread\u001b[0m\u001b[1;33m(\u001b[0m\u001b[1;33m)\u001b[0m\u001b[1;33m\u001b[0m\u001b[0m\n\u001b[0;32m    270\u001b[0m         \u001b[1;32melif\u001b[0m \u001b[0mself\u001b[0m\u001b[1;33m.\u001b[0m\u001b[0murl\u001b[0m \u001b[1;32mis\u001b[0m \u001b[1;32mnot\u001b[0m \u001b[1;32mNone\u001b[0m\u001b[1;33m:\u001b[0m\u001b[1;33m\u001b[0m\u001b[0m\n",
            "\u001b[1;31mIOError\u001b[0m: [Errno 2] No such file or directory: 'python-logo.svg'"
          ]
        }
      ]
    },
    {
      "metadata": {
        "id": "-Fc0QU5k7Mmm",
        "colab_type": "text"
      },
      "cell_type": "markdown",
      "source": [
        "### Video"
      ]
    },
    {
      "metadata": {
        "id": "dM_ewst_7Mmm",
        "colab_type": "text"
      },
      "cell_type": "markdown",
      "source": [
        "And more exotic objects can also be displayed, as long as their representation supports \n",
        "the IPython display protocol.\n",
        "\n",
        "For example, videos hosted externally on YouTube are easy to load (and writing a similar wrapper for other\n",
        "hosted content is trivial):"
      ]
    },
    {
      "metadata": {
        "id": "Gd8BJ0XK7Mmo",
        "colab_type": "code",
        "outputId": "cbe2cb96-c264-4c66-8cf8-c876bac18def",
        "colab": {}
      },
      "cell_type": "code",
      "source": [
        "from IPython.lib.display import YouTubeVideo\n",
        "# a talk about IPython at Sage Days at U. Washington, Seattle.\n",
        "# Video credit: William Stein.\n",
        "YouTubeVideo('1j_HxD4iLn8')"
      ],
      "execution_count": 0,
      "outputs": [
        {
          "output_type": "execute_result",
          "data": {
            "text/html": [
              "\n",
              "            <iframe\n",
              "                width=\"400\"\n",
              "                height=\"300\"\n",
              "                src=\"http://www.youtube.com/embed/1j_HxD4iLn8\"\n",
              "                frameborder=\"0\"\n",
              "                allowfullscreen\n",
              "            ></iframe>\n",
              "        "
            ],
            "text/plain": [
              "<IPython.lib.display.YouTubeVideo at 0xb8bb06c>"
            ]
          },
          "metadata": {
            "tags": []
          },
          "execution_count": 21
        }
      ]
    },
    {
      "metadata": {
        "id": "Blo341kU7Mmw",
        "colab_type": "text"
      },
      "cell_type": "markdown",
      "source": [
        "Using the nascent video capabilities of modern browsers, you may also be able to display local\n",
        "videos.  At the moment this doesn't work very well in all browsers, so it may or may not work for you;\n",
        "we will continue testing this and looking for ways to make it more robust.  \n",
        "\n",
        "The following cell loads a local file called  `animation.m4v`, encodes the raw video as base64 for http\n",
        "transport, and uses the HTML5 video tag to load it. On Chrome 15 it works correctly, displaying a control\n",
        "bar at the bottom with a play/pause button and a location slider."
      ]
    },
    {
      "metadata": {
        "id": "_WPWbHwU7Mmx",
        "colab_type": "code",
        "outputId": "b98e14fc-669e-472e-f1df-b0c570a5a19d",
        "colab": {}
      },
      "cell_type": "code",
      "source": [
        "from IPython.core.display import HTML\n",
        "video = open(\"animation.m4v\", \"rb\").read()\n",
        "video_encoded = video.encode(\"base64\")\n",
        "video_tag = '<video controls alt=\"test\" src=\"data:video/x-m4v;base64,{0}\">'.format(video_encoded)\n",
        "HTML(data=video_tag)"
      ],
      "execution_count": 0,
      "outputs": [
        {
          "output_type": "error",
          "ename": "IOError",
          "evalue": "[Errno 2] No such file or directory: 'animation.m4v'",
          "traceback": [
            "\u001b[1;31m---------------------------------------------------------------------------\u001b[0m\n\u001b[1;31mIOError\u001b[0m                                   Traceback (most recent call last)",
            "\u001b[1;32m<ipython-input-22-d405602f68a3>\u001b[0m in \u001b[0;36m<module>\u001b[1;34m()\u001b[0m\n\u001b[0;32m      1\u001b[0m \u001b[1;32mfrom\u001b[0m \u001b[0mIPython\u001b[0m\u001b[1;33m.\u001b[0m\u001b[0mcore\u001b[0m\u001b[1;33m.\u001b[0m\u001b[0mdisplay\u001b[0m \u001b[1;32mimport\u001b[0m \u001b[0mHTML\u001b[0m\u001b[1;33m\u001b[0m\u001b[0m\n\u001b[1;32m----> 2\u001b[1;33m \u001b[0mvideo\u001b[0m \u001b[1;33m=\u001b[0m \u001b[0mopen\u001b[0m\u001b[1;33m(\u001b[0m\u001b[1;34m\"animation.m4v\"\u001b[0m\u001b[1;33m,\u001b[0m \u001b[1;34m\"rb\"\u001b[0m\u001b[1;33m)\u001b[0m\u001b[1;33m.\u001b[0m\u001b[0mread\u001b[0m\u001b[1;33m(\u001b[0m\u001b[1;33m)\u001b[0m\u001b[1;33m\u001b[0m\u001b[0m\n\u001b[0m\u001b[0;32m      3\u001b[0m \u001b[0mvideo_encoded\u001b[0m \u001b[1;33m=\u001b[0m \u001b[0mvideo\u001b[0m\u001b[1;33m.\u001b[0m\u001b[0mencode\u001b[0m\u001b[1;33m(\u001b[0m\u001b[1;34m\"base64\"\u001b[0m\u001b[1;33m)\u001b[0m\u001b[1;33m\u001b[0m\u001b[0m\n\u001b[0;32m      4\u001b[0m \u001b[0mvideo_tag\u001b[0m \u001b[1;33m=\u001b[0m \u001b[1;34m'<video controls alt=\"test\" src=\"data:video/x-m4v;base64,{0}\">'\u001b[0m\u001b[1;33m.\u001b[0m\u001b[0mformat\u001b[0m\u001b[1;33m(\u001b[0m\u001b[0mvideo_encoded\u001b[0m\u001b[1;33m)\u001b[0m\u001b[1;33m\u001b[0m\u001b[0m\n\u001b[0;32m      5\u001b[0m \u001b[0mHTML\u001b[0m\u001b[1;33m(\u001b[0m\u001b[0mdata\u001b[0m\u001b[1;33m=\u001b[0m\u001b[0mvideo_tag\u001b[0m\u001b[1;33m)\u001b[0m\u001b[1;33m\u001b[0m\u001b[0m\n",
            "\u001b[1;31mIOError\u001b[0m: [Errno 2] No such file or directory: 'animation.m4v'"
          ]
        }
      ]
    },
    {
      "metadata": {
        "id": "zbF0zZdV7Mm1",
        "colab_type": "text"
      },
      "cell_type": "markdown",
      "source": [
        "## Local Files\n",
        "\n",
        "The above examples embed images and video from the notebook filesystem in the output\n",
        "areas of code cells.  It is also possible to request these files directly in markdown cells\n",
        "if they reside in the notebook directory via relative urls prefixed with `files/`:\n",
        "\n",
        "    files/[subdirectory/]<filename>\n",
        "\n",
        "\n",
        "For example, in the example notebook folder, we have the Python logo, addressed as:\n",
        "\n",
        "    <img src=\"files/python-logo.svg\" />\n",
        "\n",
        "<img src=\"/files/python-logo.svg\" />\n",
        "\n",
        "and a video with the HTML5 video tag:\n",
        "\n",
        "    <video controls src=\"files/animation.m4v\" />\n",
        "\n",
        "<video controls src=\"/files/animation.m4v\" />\n",
        "\n",
        "These do not embed the data into the notebook file,\n",
        "and require that the files exist when you are viewing the notebook."
      ]
    },
    {
      "metadata": {
        "id": "dHuEhUg17Mm2",
        "colab_type": "text"
      },
      "cell_type": "markdown",
      "source": [
        "### External sites\n",
        "\n",
        "You can even embed an entire page from another site in an iframe; for example this is today's Wikipedia\n",
        "page for mobile users:"
      ]
    },
    {
      "metadata": {
        "id": "4g7Ab0Q07Mm3",
        "colab_type": "code",
        "outputId": "b376fbe6-b894-4952-bcf7-760ad641a94a",
        "colab": {}
      },
      "cell_type": "code",
      "source": [
        "HTML('<iframe src=http://en.mobile.wikipedia.org/?useformat=mobile width=700 height=350>')"
      ],
      "execution_count": 0,
      "outputs": [
        {
          "output_type": "execute_result",
          "data": {
            "text/html": [
              "<iframe src=http://en.mobile.wikipedia.org/?useformat=mobile width=700 height=350>"
            ],
            "text/plain": [
              "<IPython.core.display.HTML at 0xb8d436c>"
            ]
          },
          "metadata": {
            "tags": []
          },
          "execution_count": 33
        }
      ]
    },
    {
      "metadata": {
        "id": "P3XRKPv37Mm6",
        "colab_type": "text"
      },
      "cell_type": "markdown",
      "source": [
        "### Mathematics\n",
        "\n",
        "And we also support the display of mathematical expressions typeset in LaTeX, which is rendered\n",
        "in the browser thanks to the [MathJax library](http://mathjax.org).  \n",
        "\n",
        "Note that this is *different* from the above examples.  Above we were typing mathematical expressions\n",
        "in Markdown cells (along with normal text) and letting the browser render them; now we are displaying\n",
        "the output of a Python computation as a LaTeX expression wrapped by the `Math()` object so the browser\n",
        "renders it.  The `Math` object will add the needed LaTeX delimiters (`$$`) if they are not provided:"
      ]
    },
    {
      "metadata": {
        "id": "DF6aXlxg7Mm9",
        "colab_type": "code",
        "outputId": "5fb2a796-0d5d-422f-ec18-1e3341a98d59",
        "colab": {}
      },
      "cell_type": "code",
      "source": [
        "from IPython.core.display import Math\n",
        "Math(r'F(k) = \\int_{-\\infty}^{\\infty} f(x) e^{2\\pi i k} dx')"
      ],
      "execution_count": 0,
      "outputs": [
        {
          "output_type": "execute_result",
          "data": {
            "text/latex": "$$F(k) = \\int_{-\\infty}^{\\infty} f(x) e^{2\\pi i k} dx$$",
            "text/plain": [
              "<IPython.core.display.Math at 0xb8d45cc>"
            ]
          },
          "metadata": {
            "tags": []
          },
          "execution_count": 34
        }
      ]
    },
    {
      "metadata": {
        "id": "GPgC52Z57MnC",
        "colab_type": "text"
      },
      "cell_type": "markdown",
      "source": [
        "With the `Latex` class, you have to include the delimiters yourself.  This allows you to use other LaTeX modes such as `eqnarray`:"
      ]
    },
    {
      "metadata": {
        "id": "L3PBoJbZ7MnD",
        "colab_type": "code",
        "outputId": "0602064f-cc9a-4eba-d561-bd85cb15f8d5",
        "colab": {}
      },
      "cell_type": "code",
      "source": [
        "from IPython.core.display import Latex\n",
        "Latex(r\"\"\"\\begin{eqnarray}\n",
        "\\nabla \\times \\vec{\\mathbf{B}} -\\, \\frac1c\\, \\frac{\\partial\\vec{\\mathbf{E}}}{\\partial t} & = \\frac{4\\pi}{c}\\vec{\\mathbf{j}} \\\\\n",
        "\\nabla \\cdot \\vec{\\mathbf{E}} & = 4 \\pi \\rho \\\\\n",
        "\\nabla \\times \\vec{\\mathbf{E}}\\, +\\, \\frac1c\\, \\frac{\\partial\\vec{\\mathbf{B}}}{\\partial t} & = \\vec{\\mathbf{0}} \\\\\n",
        "\\nabla \\cdot \\vec{\\mathbf{B}} & = 0 \n",
        "\\end{eqnarray}\"\"\")"
      ],
      "execution_count": 0,
      "outputs": [
        {
          "output_type": "execute_result",
          "data": {
            "text/latex": "\\begin{eqnarray}\n\\nabla \\times \\vec{\\mathbf{B}} -\\, \\frac1c\\, \\frac{\\partial\\vec{\\mathbf{E}}}{\\partial t} & = \\frac{4\\pi}{c}\\vec{\\mathbf{j}} \\\\\n\\nabla \\cdot \\vec{\\mathbf{E}} & = 4 \\pi \\rho \\\\\n\\nabla \\times \\vec{\\mathbf{E}}\\, +\\, \\frac1c\\, \\frac{\\partial\\vec{\\mathbf{B}}}{\\partial t} & = \\vec{\\mathbf{0}} \\\\\n\\nabla \\cdot \\vec{\\mathbf{B}} & = 0 \n\\end{eqnarray}",
            "text/plain": [
              "<IPython.core.display.Latex at 0xb8d45ec>"
            ]
          },
          "metadata": {
            "tags": []
          },
          "execution_count": 35
        }
      ]
    },
    {
      "metadata": {
        "id": "G3N9fo_t7MnI",
        "colab_type": "text"
      },
      "cell_type": "markdown",
      "source": [
        "# SymPy: Open Source Symbolic Mathematics\n",
        "\n",
        "This notebook uses the [SymPy](http://sympy.org) package to perform symbolic manipulations,\n",
        "and combined with numpy and matplotlib, also displays numerical visualizations of symbolically\n",
        "constructed expressions.\n",
        "\n",
        "We first load sympy with pretty-print support, and define some symbols:"
      ]
    },
    {
      "metadata": {
        "collapsed": true,
        "id": "geoIHPiK7MnK",
        "colab_type": "code",
        "outputId": "9ae11747-450a-4dd7-bb62-e66f8453126b",
        "colab": {}
      },
      "cell_type": "code",
      "source": [
        "%load_ext sympyprinting\n",
        "\n",
        "from __future__ import division\n",
        "import sympy as sym\n",
        "from sympy import *\n",
        "x, y, z = symbols(\"x y z\")"
      ],
      "execution_count": 0,
      "outputs": [
        {
          "output_type": "error",
          "ename": "ImportError",
          "evalue": "No module named sympy",
          "traceback": [
            "\u001b[1;31m---------------------------------------------------------------------------\u001b[0m\n\u001b[1;31mImportError\u001b[0m                               Traceback (most recent call last)",
            "\u001b[1;32m<ipython-input-36-5e8e22b141e9>\u001b[0m in \u001b[0;36m<module>\u001b[1;34m()\u001b[0m\n\u001b[1;32m----> 1\u001b[1;33m \u001b[0mget_ipython\u001b[0m\u001b[1;33m(\u001b[0m\u001b[1;33m)\u001b[0m\u001b[1;33m.\u001b[0m\u001b[0mmagic\u001b[0m\u001b[1;33m(\u001b[0m\u001b[1;34m'load_ext sympyprinting'\u001b[0m\u001b[1;33m)\u001b[0m\u001b[1;33m\u001b[0m\u001b[0m\n\u001b[0m\u001b[0;32m      2\u001b[0m \u001b[1;33m\u001b[0m\u001b[0m\n\u001b[0;32m      3\u001b[0m \u001b[1;32mfrom\u001b[0m \u001b[0m__future__\u001b[0m \u001b[1;32mimport\u001b[0m \u001b[0mdivision\u001b[0m\u001b[1;33m\u001b[0m\u001b[0m\n\u001b[0;32m      4\u001b[0m \u001b[1;32mimport\u001b[0m \u001b[0msympy\u001b[0m \u001b[1;32mas\u001b[0m \u001b[0msym\u001b[0m\u001b[1;33m\u001b[0m\u001b[0m\n\u001b[0;32m      5\u001b[0m \u001b[1;32mfrom\u001b[0m \u001b[0msympy\u001b[0m \u001b[1;32mimport\u001b[0m \u001b[1;33m*\u001b[0m\u001b[1;33m\u001b[0m\u001b[0m\n",
            "\u001b[1;32m/usr/local/lib/python3.2/dist-packages/ipython-0.13-py3.2.egg/IPython/core/interactiveshell.py\u001b[0m in \u001b[0;36mmagic\u001b[1;34m(self, arg_s)\u001b[0m\n\u001b[0;32m   2160\u001b[0m         \u001b[0mmagic_name\u001b[0m\u001b[1;33m,\u001b[0m \u001b[0m_\u001b[0m\u001b[1;33m,\u001b[0m \u001b[0mmagic_arg_s\u001b[0m \u001b[1;33m=\u001b[0m \u001b[0marg_s\u001b[0m\u001b[1;33m.\u001b[0m\u001b[0mpartition\u001b[0m\u001b[1;33m(\u001b[0m\u001b[1;34m' '\u001b[0m\u001b[1;33m)\u001b[0m\u001b[1;33m\u001b[0m\u001b[0m\n\u001b[0;32m   2161\u001b[0m         \u001b[0mmagic_name\u001b[0m \u001b[1;33m=\u001b[0m \u001b[0mmagic_name\u001b[0m\u001b[1;33m.\u001b[0m\u001b[0mlstrip\u001b[0m\u001b[1;33m(\u001b[0m\u001b[0mprefilter\u001b[0m\u001b[1;33m.\u001b[0m\u001b[0mESC_MAGIC\u001b[0m\u001b[1;33m)\u001b[0m\u001b[1;33m\u001b[0m\u001b[0m\n\u001b[1;32m-> 2162\u001b[1;33m         \u001b[1;32mreturn\u001b[0m \u001b[0mself\u001b[0m\u001b[1;33m.\u001b[0m\u001b[0mrun_line_magic\u001b[0m\u001b[1;33m(\u001b[0m\u001b[0mmagic_name\u001b[0m\u001b[1;33m,\u001b[0m \u001b[0mmagic_arg_s\u001b[0m\u001b[1;33m)\u001b[0m\u001b[1;33m\u001b[0m\u001b[0m\n\u001b[0m\u001b[0;32m   2163\u001b[0m \u001b[1;33m\u001b[0m\u001b[0m\n\u001b[0;32m   2164\u001b[0m     \u001b[1;31m#-------------------------------------------------------------------------\u001b[0m\u001b[1;33m\u001b[0m\u001b[1;33m\u001b[0m\u001b[0m\n",
            "\u001b[1;32m/usr/local/lib/python3.2/dist-packages/ipython-0.13-py3.2.egg/IPython/core/interactiveshell.py\u001b[0m in \u001b[0;36mrun_line_magic\u001b[1;34m(self, magic_name, line)\u001b[0m\n\u001b[0;32m   2086\u001b[0m                 \u001b[0margs\u001b[0m\u001b[1;33m.\u001b[0m\u001b[0mappend\u001b[0m\u001b[1;33m(\u001b[0m\u001b[0msys\u001b[0m\u001b[1;33m.\u001b[0m\u001b[0m_getframe\u001b[0m\u001b[1;33m(\u001b[0m\u001b[0mstack_depth\u001b[0m\u001b[1;33m)\u001b[0m\u001b[1;33m.\u001b[0m\u001b[0mf_locals\u001b[0m\u001b[1;33m)\u001b[0m\u001b[1;33m\u001b[0m\u001b[0m\n\u001b[0;32m   2087\u001b[0m             \u001b[1;32mwith\u001b[0m \u001b[0mself\u001b[0m\u001b[1;33m.\u001b[0m\u001b[0mbuiltin_trap\u001b[0m\u001b[1;33m:\u001b[0m\u001b[1;33m\u001b[0m\u001b[0m\n\u001b[1;32m-> 2088\u001b[1;33m                 \u001b[0mresult\u001b[0m \u001b[1;33m=\u001b[0m \u001b[0mfn\u001b[0m\u001b[1;33m(\u001b[0m\u001b[1;33m*\u001b[0m\u001b[0margs\u001b[0m\u001b[1;33m)\u001b[0m\u001b[1;33m\u001b[0m\u001b[0m\n\u001b[0m\u001b[0;32m   2089\u001b[0m             \u001b[1;32mreturn\u001b[0m \u001b[0mresult\u001b[0m\u001b[1;33m\u001b[0m\u001b[0m\n\u001b[0;32m   2090\u001b[0m \u001b[1;33m\u001b[0m\u001b[0m\n",
            "\u001b[1;32m/usr/local/lib/python3.2/dist-packages/ipython-0.13-py3.2.egg/IPython/core/magics/extension.py\u001b[0m in \u001b[0;36mload_ext\u001b[1;34m(self, module_str)\u001b[0m\n",
            "\u001b[1;32m/usr/local/lib/python3.2/dist-packages/ipython-0.13-py3.2.egg/IPython/core/magic.py\u001b[0m in \u001b[0;36m<lambda>\u001b[1;34m(f, *a, **k)\u001b[0m\n\u001b[0;32m    190\u001b[0m     \u001b[1;31m# but it's overkill for just that one bit of state.\u001b[0m\u001b[1;33m\u001b[0m\u001b[1;33m\u001b[0m\u001b[0m\n\u001b[0;32m    191\u001b[0m     \u001b[1;32mdef\u001b[0m \u001b[0mmagic_deco\u001b[0m\u001b[1;33m(\u001b[0m\u001b[0marg\u001b[0m\u001b[1;33m)\u001b[0m\u001b[1;33m:\u001b[0m\u001b[1;33m\u001b[0m\u001b[0m\n\u001b[1;32m--> 192\u001b[1;33m         \u001b[0mcall\u001b[0m \u001b[1;33m=\u001b[0m \u001b[1;32mlambda\u001b[0m \u001b[0mf\u001b[0m\u001b[1;33m,\u001b[0m \u001b[1;33m*\u001b[0m\u001b[0ma\u001b[0m\u001b[1;33m,\u001b[0m \u001b[1;33m**\u001b[0m\u001b[0mk\u001b[0m\u001b[1;33m:\u001b[0m \u001b[0mf\u001b[0m\u001b[1;33m(\u001b[0m\u001b[1;33m*\u001b[0m\u001b[0ma\u001b[0m\u001b[1;33m,\u001b[0m \u001b[1;33m**\u001b[0m\u001b[0mk\u001b[0m\u001b[1;33m)\u001b[0m\u001b[1;33m\u001b[0m\u001b[0m\n\u001b[0m\u001b[0;32m    193\u001b[0m \u001b[1;33m\u001b[0m\u001b[0m\n\u001b[0;32m    194\u001b[0m         \u001b[1;32mif\u001b[0m \u001b[0misinstance\u001b[0m\u001b[1;33m(\u001b[0m\u001b[0marg\u001b[0m\u001b[1;33m,\u001b[0m \u001b[0mcollections\u001b[0m\u001b[1;33m.\u001b[0m\u001b[0mCallable\u001b[0m\u001b[1;33m)\u001b[0m\u001b[1;33m:\u001b[0m\u001b[1;33m\u001b[0m\u001b[0m\n",
            "\u001b[1;32m/usr/local/lib/python3.2/dist-packages/ipython-0.13-py3.2.egg/IPython/core/magics/extension.py\u001b[0m in \u001b[0;36mload_ext\u001b[1;34m(self, module_str)\u001b[0m\n\u001b[0;32m     57\u001b[0m     \u001b[1;32mdef\u001b[0m \u001b[0mload_ext\u001b[0m\u001b[1;33m(\u001b[0m\u001b[0mself\u001b[0m\u001b[1;33m,\u001b[0m \u001b[0mmodule_str\u001b[0m\u001b[1;33m)\u001b[0m\u001b[1;33m:\u001b[0m\u001b[1;33m\u001b[0m\u001b[0m\n\u001b[0;32m     58\u001b[0m         \u001b[1;34m\"\"\"Load an IPython extension by its module name.\"\"\"\u001b[0m\u001b[1;33m\u001b[0m\u001b[0m\n\u001b[1;32m---> 59\u001b[1;33m         \u001b[1;32mreturn\u001b[0m \u001b[0mself\u001b[0m\u001b[1;33m.\u001b[0m\u001b[0mshell\u001b[0m\u001b[1;33m.\u001b[0m\u001b[0mextension_manager\u001b[0m\u001b[1;33m.\u001b[0m\u001b[0mload_extension\u001b[0m\u001b[1;33m(\u001b[0m\u001b[0mmodule_str\u001b[0m\u001b[1;33m)\u001b[0m\u001b[1;33m\u001b[0m\u001b[0m\n\u001b[0m\u001b[0;32m     60\u001b[0m \u001b[1;33m\u001b[0m\u001b[0m\n\u001b[0;32m     61\u001b[0m     \u001b[1;33m@\u001b[0m\u001b[0mline_magic\u001b[0m\u001b[1;33m\u001b[0m\u001b[0m\n",
            "\u001b[1;32m/usr/local/lib/python3.2/dist-packages/ipython-0.13-py3.2.egg/IPython/core/extensions.py\u001b[0m in \u001b[0;36mload_extension\u001b[1;34m(self, module_str)\u001b[0m\n\u001b[0;32m     90\u001b[0m                 \u001b[0m__import__\u001b[0m\u001b[1;33m(\u001b[0m\u001b[0mmodule_str\u001b[0m\u001b[1;33m)\u001b[0m\u001b[1;33m\u001b[0m\u001b[0m\n\u001b[0;32m     91\u001b[0m         \u001b[0mmod\u001b[0m \u001b[1;33m=\u001b[0m \u001b[0msys\u001b[0m\u001b[1;33m.\u001b[0m\u001b[0mmodules\u001b[0m\u001b[1;33m[\u001b[0m\u001b[0mmodule_str\u001b[0m\u001b[1;33m]\u001b[0m\u001b[1;33m\u001b[0m\u001b[0m\n\u001b[1;32m---> 92\u001b[1;33m         \u001b[1;32mreturn\u001b[0m \u001b[0mself\u001b[0m\u001b[1;33m.\u001b[0m\u001b[0m_call_load_ipython_extension\u001b[0m\u001b[1;33m(\u001b[0m\u001b[0mmod\u001b[0m\u001b[1;33m)\u001b[0m\u001b[1;33m\u001b[0m\u001b[0m\n\u001b[0m\u001b[0;32m     93\u001b[0m \u001b[1;33m\u001b[0m\u001b[0m\n\u001b[0;32m     94\u001b[0m     \u001b[1;32mdef\u001b[0m \u001b[0munload_extension\u001b[0m\u001b[1;33m(\u001b[0m\u001b[0mself\u001b[0m\u001b[1;33m,\u001b[0m \u001b[0mmodule_str\u001b[0m\u001b[1;33m)\u001b[0m\u001b[1;33m:\u001b[0m\u001b[1;33m\u001b[0m\u001b[0m\n",
            "\u001b[1;32m/usr/local/lib/python3.2/dist-packages/ipython-0.13-py3.2.egg/IPython/core/extensions.py\u001b[0m in \u001b[0;36m_call_load_ipython_extension\u001b[1;34m(self, mod)\u001b[0m\n\u001b[0;32m    122\u001b[0m     \u001b[1;32mdef\u001b[0m \u001b[0m_call_load_ipython_extension\u001b[0m\u001b[1;33m(\u001b[0m\u001b[0mself\u001b[0m\u001b[1;33m,\u001b[0m \u001b[0mmod\u001b[0m\u001b[1;33m)\u001b[0m\u001b[1;33m:\u001b[0m\u001b[1;33m\u001b[0m\u001b[0m\n\u001b[0;32m    123\u001b[0m         \u001b[1;32mif\u001b[0m \u001b[0mhasattr\u001b[0m\u001b[1;33m(\u001b[0m\u001b[0mmod\u001b[0m\u001b[1;33m,\u001b[0m \u001b[1;34m'load_ipython_extension'\u001b[0m\u001b[1;33m)\u001b[0m\u001b[1;33m:\u001b[0m\u001b[1;33m\u001b[0m\u001b[0m\n\u001b[1;32m--> 124\u001b[1;33m             \u001b[1;32mreturn\u001b[0m \u001b[0mmod\u001b[0m\u001b[1;33m.\u001b[0m\u001b[0mload_ipython_extension\u001b[0m\u001b[1;33m(\u001b[0m\u001b[0mself\u001b[0m\u001b[1;33m.\u001b[0m\u001b[0mshell\u001b[0m\u001b[1;33m)\u001b[0m\u001b[1;33m\u001b[0m\u001b[0m\n\u001b[0m\u001b[0;32m    125\u001b[0m \u001b[1;33m\u001b[0m\u001b[0m\n\u001b[0;32m    126\u001b[0m     \u001b[1;32mdef\u001b[0m \u001b[0m_call_unload_ipython_extension\u001b[0m\u001b[1;33m(\u001b[0m\u001b[0mself\u001b[0m\u001b[1;33m,\u001b[0m \u001b[0mmod\u001b[0m\u001b[1;33m)\u001b[0m\u001b[1;33m:\u001b[0m\u001b[1;33m\u001b[0m\u001b[0m\n",
            "\u001b[1;32m/usr/local/lib/python3.2/dist-packages/ipython-0.13-py3.2.egg/IPython/extensions/sympyprinting.py\u001b[0m in \u001b[0;36mload_ipython_extension\u001b[1;34m(ip)\u001b[0m\n\u001b[0;32m    101\u001b[0m \u001b[1;32mdef\u001b[0m \u001b[0mload_ipython_extension\u001b[0m\u001b[1;33m(\u001b[0m\u001b[0mip\u001b[0m\u001b[1;33m)\u001b[0m\u001b[1;33m:\u001b[0m\u001b[1;33m\u001b[0m\u001b[0m\n\u001b[0;32m    102\u001b[0m     \u001b[1;34m\"\"\"Load the extension in IPython.\"\"\"\u001b[0m\u001b[1;33m\u001b[0m\u001b[0m\n\u001b[1;32m--> 103\u001b[1;33m     \u001b[1;32mimport\u001b[0m \u001b[0msympy\u001b[0m\u001b[1;33m\u001b[0m\u001b[0m\n\u001b[0m\u001b[0;32m    104\u001b[0m     \u001b[1;32mglobal\u001b[0m \u001b[0m_loaded\u001b[0m\u001b[1;33m\u001b[0m\u001b[0m\n\u001b[0;32m    105\u001b[0m     \u001b[1;32mif\u001b[0m \u001b[1;32mnot\u001b[0m \u001b[0m_loaded\u001b[0m\u001b[1;33m:\u001b[0m\u001b[1;33m\u001b[0m\u001b[0m\n",
            "\u001b[1;31mImportError\u001b[0m: No module named sympy"
          ]
        }
      ]
    },
    {
      "metadata": {
        "id": "JNjlymAH7MnP",
        "colab_type": "code",
        "colab": {}
      },
      "cell_type": "code",
      "source": [
        "Rational(3,2)*pi + exp(I*x) / (x**2 + y)"
      ],
      "execution_count": 0,
      "outputs": []
    },
    {
      "metadata": {
        "id": "F16tUMH-7MnT",
        "colab_type": "text"
      },
      "cell_type": "markdown",
      "source": [
        "# Loading external codes\n",
        "* Drag and drop a ``.py`` in the dashboard\n",
        "* Use ``%loadpy`` with any local or remote url: [the Matplotlib Gallery!](http://matplotlib.sourceforge.net/gallery.html)\n",
        "\n",
        "In this notebook we've kept the output saved so you can see the result, but you should run the next\n",
        "cell yourself (with an active internet connection)."
      ]
    },
    {
      "metadata": {
        "id": "LS2ASp5m7MnU",
        "colab_type": "code",
        "colab": {}
      },
      "cell_type": "code",
      "source": [
        "%loadpy http://matplotlib.sourceforge.net/mpl_examples/pylab_examples/integral_demo.py"
      ],
      "execution_count": 0,
      "outputs": []
    },
    {
      "metadata": {
        "id": "QzbEBX1V7MnZ",
        "colab_type": "code",
        "colab": {}
      },
      "cell_type": "code",
      "source": [
        "#!/usr/bin/env python\n",
        "\n",
        "# implement the example graphs/integral from pyx\n",
        "from pylab import *\n",
        "from matplotlib.patches import Polygon\n",
        "\n",
        "def func(x):\n",
        "    return (x-3)*(x-5)*(x-7)+85\n",
        "\n",
        "ax = subplot(111)\n",
        "\n",
        "a, b = 2, 9 # integral area\n",
        "x = arange(0, 10, 0.01)\n",
        "y = func(x)\n",
        "plot(x, y, linewidth=1)\n",
        "\n",
        "# make the shaded region\n",
        "ix = arange(a, b, 0.01)\n",
        "iy = func(ix)\n",
        "verts = [(a,0)] + zip(ix,iy) + [(b,0)]\n",
        "poly = Polygon(verts, facecolor='0.8', edgecolor='k')\n",
        "ax.add_patch(poly)\n",
        "\n",
        "text(0.5 * (a + b), 30,\n",
        "     r\"$\\int_a^b f(x)\\mathrm{d}x$\", horizontalalignment='center',\n",
        "     fontsize=20)\n",
        "\n",
        "axis([0,10, 0, 180])\n",
        "figtext(0.9, 0.05, 'x')\n",
        "figtext(0.1, 0.9, 'y')\n",
        "ax.set_xticks((a,b))\n",
        "ax.set_xticklabels(('a','b'))\n",
        "ax.set_yticks([])\n",
        "show()\n"
      ],
      "execution_count": 0,
      "outputs": []
    },
    {
      "metadata": {
        "id": "RHoJeHUh7Mnd",
        "colab_type": "code",
        "outputId": "6f0d3ccb-4448-41a0-b3ea-56011fa0063f",
        "colab": {}
      },
      "cell_type": "code",
      "source": [
        "#!/usr/bin/env python\n",
        "\n",
        "# implement the example graphs/integral from pyx\n",
        "from pylab import *\n",
        "from matplotlib.patches import Polygon\n",
        "\n",
        "def func(x):\n",
        "    return (x-3)*(x-5)*(x-7)+85\n",
        "\n",
        "ax = subplot(111)\n",
        "\n",
        "a, b = 2, 9 # integral area\n",
        "x = arange(0, 10, 0.01)\n",
        "y = func(x)\n",
        "plot(x, y, linewidth=1)\n",
        "\n",
        "# make the shaded region\n",
        "ix = arange(a, b, 0.01)\n",
        "iy = func(ix)\n",
        "verts = [(a,0)] + zip(ix,iy) + [(b,0)]\n",
        "poly = Polygon(verts, facecolor='0.8', edgecolor='k')\n",
        "ax.add_patch(poly)\n",
        "\n",
        "text(0.5 * (a + b), 30,\n",
        "     r\"$\\int_a^b f(x)\\mathrm{d}x$\", horizontalalignment='center',\n",
        "     fontsize=20)\n",
        "\n",
        "axis([0,10, 0, 180])\n",
        "figtext(0.9, 0.05, 'x')\n",
        "figtext(0.1, 0.9, 'y')\n",
        "ax.set_xticks((a,b))\n",
        "ax.set_xticklabels(('a','b'))\n",
        "ax.set_yticks([])\n",
        "show()\n"
      ],
      "execution_count": 0,
      "outputs": [
        {
          "output_type": "error",
          "ename": "TypeError",
          "evalue": "can only concatenate list (not \"zip\") to list",
          "traceback": [
            "\u001b[1;31m---------------------------------------------------------------------------\u001b[0m\n\u001b[1;31mTypeError\u001b[0m                                 Traceback (most recent call last)",
            "\u001b[1;32m<ipython-input-40-726d3eed8bc5>\u001b[0m in \u001b[0;36m<module>\u001b[1;34m()\u001b[0m\n\u001b[0;32m     18\u001b[0m \u001b[0mix\u001b[0m \u001b[1;33m=\u001b[0m \u001b[0marange\u001b[0m\u001b[1;33m(\u001b[0m\u001b[0ma\u001b[0m\u001b[1;33m,\u001b[0m \u001b[0mb\u001b[0m\u001b[1;33m,\u001b[0m \u001b[1;36m0.01\u001b[0m\u001b[1;33m)\u001b[0m\u001b[1;33m\u001b[0m\u001b[0m\n\u001b[0;32m     19\u001b[0m \u001b[0miy\u001b[0m \u001b[1;33m=\u001b[0m \u001b[0mfunc\u001b[0m\u001b[1;33m(\u001b[0m\u001b[0mix\u001b[0m\u001b[1;33m)\u001b[0m\u001b[1;33m\u001b[0m\u001b[0m\n\u001b[1;32m---> 20\u001b[1;33m \u001b[0mverts\u001b[0m \u001b[1;33m=\u001b[0m \u001b[1;33m[\u001b[0m\u001b[1;33m(\u001b[0m\u001b[0ma\u001b[0m\u001b[1;33m,\u001b[0m\u001b[1;36m0\u001b[0m\u001b[1;33m)\u001b[0m\u001b[1;33m]\u001b[0m \u001b[1;33m+\u001b[0m \u001b[0mzip\u001b[0m\u001b[1;33m(\u001b[0m\u001b[0mix\u001b[0m\u001b[1;33m,\u001b[0m\u001b[0miy\u001b[0m\u001b[1;33m)\u001b[0m \u001b[1;33m+\u001b[0m \u001b[1;33m[\u001b[0m\u001b[1;33m(\u001b[0m\u001b[0mb\u001b[0m\u001b[1;33m,\u001b[0m\u001b[1;36m0\u001b[0m\u001b[1;33m)\u001b[0m\u001b[1;33m]\u001b[0m\u001b[1;33m\u001b[0m\u001b[0m\n\u001b[0m\u001b[0;32m     21\u001b[0m \u001b[0mpoly\u001b[0m \u001b[1;33m=\u001b[0m \u001b[0mPolygon\u001b[0m\u001b[1;33m(\u001b[0m\u001b[0mverts\u001b[0m\u001b[1;33m,\u001b[0m \u001b[0mfacecolor\u001b[0m\u001b[1;33m=\u001b[0m\u001b[1;34m'0.8'\u001b[0m\u001b[1;33m,\u001b[0m \u001b[0medgecolor\u001b[0m\u001b[1;33m=\u001b[0m\u001b[1;34m'k'\u001b[0m\u001b[1;33m)\u001b[0m\u001b[1;33m\u001b[0m\u001b[0m\n\u001b[0;32m     22\u001b[0m \u001b[0max\u001b[0m\u001b[1;33m.\u001b[0m\u001b[0madd_patch\u001b[0m\u001b[1;33m(\u001b[0m\u001b[0mpoly\u001b[0m\u001b[1;33m)\u001b[0m\u001b[1;33m\u001b[0m\u001b[0m\n",
            "\u001b[1;31mTypeError\u001b[0m: can only concatenate list (not \"zip\") to list"
          ]
        }
      ]
    },
    {
      "metadata": {
        "collapsed": true,
        "id": "Aefrwf-87Mnh",
        "colab_type": "text"
      },
      "cell_type": "markdown",
      "source": [
        "some changes"
      ]
    }
  ]
}