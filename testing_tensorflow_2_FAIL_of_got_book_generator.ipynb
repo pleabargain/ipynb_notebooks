{
  "nbformat": 4,
  "nbformat_minor": 0,
  "metadata": {
    "colab": {
      "name": "testing tensorflow 2 FAIL of got-book-generator.ipynb",
      "version": "0.3.2",
      "provenance": [],
      "include_colab_link": true
    },
    "kernelspec": {
      "display_name": "Python 3",
      "language": "python",
      "name": "python3"
    }
  },
  "cells": [
    {
      "cell_type": "markdown",
      "metadata": {
        "id": "view-in-github",
        "colab_type": "text"
      },
      "source": [
        "<a href=\"https://colab.research.google.com/github/pleabargain/ipynb_notebooks/blob/master/testing_tensorflow_2_FAIL_of_got_book_generator.ipynb\" target=\"_parent\"><img src=\"https://colab.research.google.com/assets/colab-badge.svg\" alt=\"Open In Colab\"/></a>"
      ]
    },
    {
      "metadata": {
        "id": "m245W5nbjZWU",
        "colab_type": "text"
      },
      "cell_type": "markdown",
      "source": [
        "#using tensorflow 2 to 'write' a book"
      ]
    },
    {
      "metadata": {
        "id": "L9D_e4iDkK-X",
        "colab_type": "text"
      },
      "cell_type": "markdown",
      "source": [
        "#script will fail at cell 11\n",
        "\n",
        "TF 2 does not support placeholders"
      ]
    },
    {
      "metadata": {
        "id": "GXX_LBzChZ9x",
        "colab_type": "code",
        "colab": {
          "base_uri": "https://localhost:8080/",
          "height": 360
        },
        "outputId": "419d2393-8ddd-4e6f-c598-6f9a615bc391"
      },
      "cell_type": "code",
      "source": [
        "!pip install tensorflow==2.0.0-alpha0 "
      ],
      "execution_count": 1,
      "outputs": [
        {
          "output_type": "stream",
          "text": [
            "Requirement already satisfied: tensorflow==2.0.0-alpha0 in /usr/local/lib/python3.6/dist-packages (2.0.0a0)\n",
            "Requirement already satisfied: protobuf>=3.6.1 in /usr/local/lib/python3.6/dist-packages (from tensorflow==2.0.0-alpha0) (3.7.1)\n",
            "Requirement already satisfied: numpy<2.0,>=1.14.5 in /usr/local/lib/python3.6/dist-packages (from tensorflow==2.0.0-alpha0) (1.14.6)\n",
            "Requirement already satisfied: grpcio>=1.8.6 in /usr/local/lib/python3.6/dist-packages (from tensorflow==2.0.0-alpha0) (1.15.0)\n",
            "Requirement already satisfied: gast>=0.2.0 in /usr/local/lib/python3.6/dist-packages (from tensorflow==2.0.0-alpha0) (0.2.2)\n",
            "Requirement already satisfied: wheel>=0.26 in /usr/local/lib/python3.6/dist-packages (from tensorflow==2.0.0-alpha0) (0.33.1)\n",
            "Requirement already satisfied: termcolor>=1.1.0 in /usr/local/lib/python3.6/dist-packages (from tensorflow==2.0.0-alpha0) (1.1.0)\n",
            "Requirement already satisfied: google-pasta>=0.1.2 in /usr/local/lib/python3.6/dist-packages (from tensorflow==2.0.0-alpha0) (0.1.4)\n",
            "Requirement already satisfied: absl-py>=0.7.0 in /usr/local/lib/python3.6/dist-packages (from tensorflow==2.0.0-alpha0) (0.7.1)\n",
            "Requirement already satisfied: six>=1.10.0 in /usr/local/lib/python3.6/dist-packages (from tensorflow==2.0.0-alpha0) (1.11.0)\n",
            "Requirement already satisfied: keras-preprocessing>=1.0.5 in /usr/local/lib/python3.6/dist-packages (from tensorflow==2.0.0-alpha0) (1.0.9)\n",
            "Requirement already satisfied: tf-estimator-nightly<1.14.0.dev2019030116,>=1.14.0.dev2019030115 in /usr/local/lib/python3.6/dist-packages (from tensorflow==2.0.0-alpha0) (1.14.0.dev2019030115)\n",
            "Requirement already satisfied: astor>=0.6.0 in /usr/local/lib/python3.6/dist-packages (from tensorflow==2.0.0-alpha0) (0.7.1)\n",
            "Requirement already satisfied: tb-nightly<1.14.0a20190302,>=1.14.0a20190301 in /usr/local/lib/python3.6/dist-packages (from tensorflow==2.0.0-alpha0) (1.14.0a20190301)\n",
            "Requirement already satisfied: keras-applications>=1.0.6 in /usr/local/lib/python3.6/dist-packages (from tensorflow==2.0.0-alpha0) (1.0.7)\n",
            "Requirement already satisfied: setuptools in /usr/local/lib/python3.6/dist-packages (from protobuf>=3.6.1->tensorflow==2.0.0-alpha0) (40.9.0)\n",
            "Requirement already satisfied: werkzeug>=0.11.15 in /usr/local/lib/python3.6/dist-packages (from tb-nightly<1.14.0a20190302,>=1.14.0a20190301->tensorflow==2.0.0-alpha0) (0.15.2)\n",
            "Requirement already satisfied: markdown>=2.6.8 in /usr/local/lib/python3.6/dist-packages (from tb-nightly<1.14.0a20190302,>=1.14.0a20190301->tensorflow==2.0.0-alpha0) (3.1)\n",
            "Requirement already satisfied: h5py in /usr/local/lib/python3.6/dist-packages (from keras-applications>=1.0.6->tensorflow==2.0.0-alpha0) (2.8.0)\n"
          ],
          "name": "stdout"
        }
      ]
    },
    {
      "metadata": {
        "id": "Y7wiczNC3VpG",
        "colab_type": "code",
        "colab": {}
      },
      "cell_type": "code",
      "source": [
        "import numpy as np\n",
        "import tensorflow as tf"
      ],
      "execution_count": 0,
      "outputs": []
    },
    {
      "metadata": {
        "id": "KHMpWyNJibWw",
        "colab_type": "code",
        "colab": {
          "base_uri": "https://localhost:8080/",
          "height": 136
        },
        "outputId": "7f350890-33c0-4ca9-e351-f6cec2b54a43"
      },
      "cell_type": "code",
      "source": [
        "!pip list | grep -F tensorflow\n"
      ],
      "execution_count": 3,
      "outputs": [
        {
          "output_type": "stream",
          "text": [
            "mesh-tensorflow                  0.0.5                \n",
            "tensorflow                       2.0.0a0              \n",
            "tensorflow-estimator             1.13.0               \n",
            "tensorflow-estimator-2.0-preview 1.14.0.dev2019040500 \n",
            "tensorflow-hub                   0.4.0                \n",
            "tensorflow-metadata              0.13.0               \n",
            "tensorflow-probability           0.6.0                \n"
          ],
          "name": "stdout"
        }
      ]
    },
    {
      "metadata": {
        "id": "4Eqt3I7D3VpL",
        "colab_type": "text"
      },
      "cell_type": "markdown",
      "source": [
        "### Load the Corpus\n",
        "##### Get book names"
      ]
    },
    {
      "metadata": {
        "id": "BHR2EPChjOJ9",
        "colab_type": "text"
      },
      "cell_type": "markdown",
      "source": [
        "get a txt book (I get mine from gutenberg project)\n",
        "\n",
        "upload as text"
      ]
    },
    {
      "metadata": {
        "id": "43Ziyu6i3VpM",
        "colab_type": "code",
        "outputId": "28abea04-73f1-4880-8fa2-8bccbd7f7c88",
        "colab": {
          "base_uri": "https://localhost:8080/",
          "height": 34
        }
      },
      "cell_type": "code",
      "source": [
        "import glob\n",
        "\n",
        "book_filenames = sorted(glob.glob(\"pg25359.txt\"))\n",
        "\n",
        "print(\"Found {} books\".format(len(book_filenames)))"
      ],
      "execution_count": 4,
      "outputs": [
        {
          "output_type": "stream",
          "text": [
            "Found 1 books\n"
          ],
          "name": "stdout"
        }
      ]
    },
    {
      "metadata": {
        "id": "pb7qbO3k3VpR",
        "colab_type": "text"
      },
      "cell_type": "markdown",
      "source": [
        "##### Combine books into a string"
      ]
    },
    {
      "metadata": {
        "id": "E_hT5joQ3VpR",
        "colab_type": "code",
        "outputId": "75aa10b9-96b0-40b9-b584-c7bf19b1b101",
        "colab": {
          "base_uri": "https://localhost:8080/",
          "height": 34
        }
      },
      "cell_type": "code",
      "source": [
        "import codecs\n",
        "\n",
        "corpus_raw = u\"\"\n",
        "for filename in book_filenames:\n",
        "    with codecs.open(filename, 'r', 'utf-8') as book_file:\n",
        "        corpus_raw += book_file.read()\n",
        "\n",
        "print(\"Corpus is {} characters long\".format(len(corpus_raw)))"
      ],
      "execution_count": 5,
      "outputs": [
        {
          "output_type": "stream",
          "text": [
            "Corpus is 571427 characters long\n"
          ],
          "name": "stdout"
        }
      ]
    },
    {
      "metadata": {
        "id": "wDkng_a13VpV",
        "colab_type": "text"
      },
      "cell_type": "markdown",
      "source": [
        "### Process Corpus\n",
        "##### Create lookup tables"
      ]
    },
    {
      "metadata": {
        "id": "dSixIvY03VpW",
        "colab_type": "code",
        "colab": {}
      },
      "cell_type": "code",
      "source": [
        "def create_lookup_tables(text):\n",
        "    \"\"\"\n",
        "    Create lookup tables for vocab\n",
        "    :param text: The GOT text split into words\n",
        "    :return: A tuple of dicts (vocab_to_int, int_to_vocab)\n",
        "    \"\"\"\n",
        "    vocab = set(text)\n",
        "    int_to_vocab = {key: word for key, word in enumerate(vocab)}\n",
        "    vocab_to_int = {word: key for key, word in enumerate(vocab)}\n",
        "    return vocab_to_int, int_to_vocab\n",
        "    "
      ],
      "execution_count": 0,
      "outputs": []
    },
    {
      "metadata": {
        "id": "K2TH5fq83VpY",
        "colab_type": "text"
      },
      "cell_type": "markdown",
      "source": [
        "##### Tokenize punctuation"
      ]
    },
    {
      "metadata": {
        "id": "5QMqJ_5w3VpZ",
        "colab_type": "code",
        "colab": {}
      },
      "cell_type": "code",
      "source": [
        "def token_lookup():\n",
        "    \"\"\"\n",
        "    Generate a dict to map punctuation into a token\n",
        "    :return: dictionary mapping puncuation to token\n",
        "    \"\"\"\n",
        "    return {\n",
        "        '.': '||period||',\n",
        "        ',': '||comma||',\n",
        "        '\"': '||quotes||',\n",
        "        ';': '||semicolon||',\n",
        "        '!': '||exclamation-mark||',\n",
        "        '?': '||question-mark||',\n",
        "        '(': '||left-parentheses||',\n",
        "        ')': '||right-parentheses||',\n",
        "        '--': '||emm-dash||',\n",
        "        '\\n': '||return||'\n",
        "        \n",
        "    }\n"
      ],
      "execution_count": 0,
      "outputs": []
    },
    {
      "metadata": {
        "id": "b0jab6jo3Vpc",
        "colab_type": "text"
      },
      "cell_type": "markdown",
      "source": [
        "##### Process and save data"
      ]
    },
    {
      "metadata": {
        "id": "lsVbAGDOjq6e",
        "colab_type": "text"
      },
      "cell_type": "markdown",
      "source": [
        "check your colab file dir after running this code\n",
        "\n",
        "you'll have a new file called preprocess.p"
      ]
    },
    {
      "metadata": {
        "id": "rnYdlFks3Vpd",
        "colab_type": "code",
        "colab": {}
      },
      "cell_type": "code",
      "source": [
        "import pickle\n",
        "\n",
        "token_dict = token_lookup()\n",
        "for token, replacement in token_dict.items():\n",
        "    corpus_raw = corpus_raw.replace(token, ' {} '.format(replacement))\n",
        "corpus_raw = corpus_raw.lower()\n",
        "corpus_raw = corpus_raw.split()\n",
        "\n",
        "vocab_to_int, int_to_vocab = create_lookup_tables(corpus_raw)\n",
        "corpus_int = [vocab_to_int[word] for word in corpus_raw]\n",
        "pickle.dump((corpus_int, vocab_to_int, int_to_vocab, token_dict), open('preprocess.p', 'wb'))"
      ],
      "execution_count": 0,
      "outputs": []
    },
    {
      "metadata": {
        "id": "3owBuNCu3Vpg",
        "colab_type": "text"
      },
      "cell_type": "markdown",
      "source": [
        "# Build the Network\n",
        "### Batch the Data"
      ]
    },
    {
      "metadata": {
        "id": "AUXBPnk63Vph",
        "colab_type": "code",
        "colab": {}
      },
      "cell_type": "code",
      "source": [
        "def get_batches(int_text, batch_size, seq_length):\n",
        "    \"\"\"\n",
        "    Return batches of input and target data\n",
        "    :param int_text: text with words replaced by their ids\n",
        "    :param batch_size: the size that each batch of data should be\n",
        "    :param seq_length: the length of each sequence\n",
        "    :return: batches of data as a numpy array\n",
        "    \"\"\"\n",
        "    words_per_batch = batch_size * seq_length\n",
        "    num_batches = len(int_text)//words_per_batch\n",
        "    int_text = int_text[:num_batches*words_per_batch]\n",
        "    y = np.array(int_text[1:] + [int_text[0]])\n",
        "    x = np.array(int_text)\n",
        "    \n",
        "    x_batches = np.split(x.reshape(batch_size, -1), num_batches, axis=1)\n",
        "    y_batches = np.split(y.reshape(batch_size, -1), num_batches, axis=1)\n",
        "    \n",
        "    batch_data = list(zip(x_batches, y_batches))\n",
        "    \n",
        "    return np.array(batch_data)"
      ],
      "execution_count": 0,
      "outputs": []
    },
    {
      "metadata": {
        "id": "DBaSmXTf3Vpk",
        "colab_type": "text"
      },
      "cell_type": "markdown",
      "source": [
        "### Hyperparameters"
      ]
    },
    {
      "metadata": {
        "id": "Oskg6HL8jHFe",
        "colab_type": "text"
      },
      "cell_type": "markdown",
      "source": [
        "change the epochs here to reduce your processing time"
      ]
    },
    {
      "metadata": {
        "id": "e6FBQzaj3Vpl",
        "colab_type": "code",
        "colab": {}
      },
      "cell_type": "code",
      "source": [
        "num_epochs = 10000\n",
        "batch_size = 512\n",
        "rnn_size = 512\n",
        "num_layers = 3\n",
        "keep_prob = 0.7\n",
        "embed_dim = 512\n",
        "seq_length = 30\n",
        "learning_rate = 0.001\n",
        "save_dir = './save'"
      ],
      "execution_count": 0,
      "outputs": []
    },
    {
      "metadata": {
        "id": "4wek7iw03Vpo",
        "colab_type": "text"
      },
      "cell_type": "markdown",
      "source": [
        "### Build the Graph"
      ]
    },
    {
      "metadata": {
        "id": "xnjngj_Xj35m",
        "colab_type": "text"
      },
      "cell_type": "markdown",
      "source": [
        "place holders are not supported by tensorflow 2... need to upgrade the script"
      ]
    },
    {
      "metadata": {
        "id": "FIo0AIuv3Vpp",
        "colab_type": "code",
        "outputId": "e124461b-c2df-4cb6-eef1-940bc039c371",
        "colab": {
          "base_uri": "https://localhost:8080/",
          "height": 231
        }
      },
      "cell_type": "code",
      "source": [
        "train_graph = tf.Graph()\n",
        "with train_graph.as_default():    \n",
        "    \n",
        "    # Initialize input placeholders\n",
        "    input_text = tf.placeholder(tf.int32, [None, None], name='input')\n",
        "    targets = tf.placeholder(tf.int32, [None, None], name='targets')\n",
        "    lr = tf.placeholder(tf.float32, name='learning_rate')\n",
        "    \n",
        "    # Calculate text attributes\n",
        "    vocab_size = len(int_to_vocab)\n",
        "    input_text_shape = tf.shape(input_text)\n",
        "    \n",
        "    # Build the RNN cell\n",
        "    lstm = tf.contrib.rnn.BasicLSTMCell(num_units=rnn_size)\n",
        "    drop_cell = tf.contrib.rnn.DropoutWrapper(lstm, output_keep_prob=keep_prob)\n",
        "    cell = tf.contrib.rnn.MultiRNNCell([drop_cell] * num_layers)\n",
        "    \n",
        "    # Set the initial state\n",
        "    initial_state = cell.zero_state(input_text_shape[0], tf.float32)\n",
        "    initial_state = tf.identity(initial_state, name='initial_state')\n",
        "    \n",
        "    # Create word embedding as input to RNN\n",
        "    embed = tf.contrib.layers.embed_sequence(input_text, vocab_size, embed_dim)\n",
        "    \n",
        "    # Build RNN\n",
        "    outputs, final_state = tf.nn.dynamic_rnn(cell, embed, dtype=tf.float32)\n",
        "    final_state = tf.identity(final_state, name='final_state')\n",
        "    \n",
        "    # Take RNN output and make logits\n",
        "    logits = tf.contrib.layers.fully_connected(outputs, vocab_size, activation_fn=None)\n",
        "    \n",
        "    # Calculate the probability of generating each word\n",
        "    probs = tf.nn.softmax(logits, name='probs')\n",
        "    \n",
        "    # Define loss function\n",
        "    cost = tf.contrib.seq2seq.sequence_loss(\n",
        "        logits,\n",
        "        targets,\n",
        "        tf.ones([input_text_shape[0], input_text_shape[1]])\n",
        "    )\n",
        "    \n",
        "    # Learning rate optimizer\n",
        "    optimizer = tf.train.AdamOptimizer(learning_rate)\n",
        "    \n",
        "    # Gradient clipping to avoid exploding gradients\n",
        "    gradients = optimizer.compute_gradients(cost)\n",
        "    capped_gradients = [(tf.clip_by_value(grad, -1., 1.), var) for grad, var in gradients if grad is not None]\n",
        "    train_op = optimizer.apply_gradients(capped_gradients)\n",
        "    "
      ],
      "execution_count": 11,
      "outputs": [
        {
          "output_type": "error",
          "ename": "AttributeError",
          "evalue": "ignored",
          "traceback": [
            "\u001b[0;31m---------------------------------------------------------------------------\u001b[0m",
            "\u001b[0;31mAttributeError\u001b[0m                            Traceback (most recent call last)",
            "\u001b[0;32m<ipython-input-11-6f40af312254>\u001b[0m in \u001b[0;36m<module>\u001b[0;34m()\u001b[0m\n\u001b[1;32m      3\u001b[0m \u001b[0;34m\u001b[0m\u001b[0m\n\u001b[1;32m      4\u001b[0m     \u001b[0;31m# Initialize input placeholders\u001b[0m\u001b[0;34m\u001b[0m\u001b[0;34m\u001b[0m\u001b[0;34m\u001b[0m\u001b[0m\n\u001b[0;32m----> 5\u001b[0;31m     \u001b[0minput_text\u001b[0m \u001b[0;34m=\u001b[0m \u001b[0mtf\u001b[0m\u001b[0;34m.\u001b[0m\u001b[0mplaceholder\u001b[0m\u001b[0;34m(\u001b[0m\u001b[0mtf\u001b[0m\u001b[0;34m.\u001b[0m\u001b[0mint32\u001b[0m\u001b[0;34m,\u001b[0m \u001b[0;34m[\u001b[0m\u001b[0;32mNone\u001b[0m\u001b[0;34m,\u001b[0m \u001b[0;32mNone\u001b[0m\u001b[0;34m]\u001b[0m\u001b[0;34m,\u001b[0m \u001b[0mname\u001b[0m\u001b[0;34m=\u001b[0m\u001b[0;34m'input'\u001b[0m\u001b[0;34m)\u001b[0m\u001b[0;34m\u001b[0m\u001b[0;34m\u001b[0m\u001b[0m\n\u001b[0m\u001b[1;32m      6\u001b[0m     \u001b[0mtargets\u001b[0m \u001b[0;34m=\u001b[0m \u001b[0mtf\u001b[0m\u001b[0;34m.\u001b[0m\u001b[0mplaceholder\u001b[0m\u001b[0;34m(\u001b[0m\u001b[0mtf\u001b[0m\u001b[0;34m.\u001b[0m\u001b[0mint32\u001b[0m\u001b[0;34m,\u001b[0m \u001b[0;34m[\u001b[0m\u001b[0;32mNone\u001b[0m\u001b[0;34m,\u001b[0m \u001b[0;32mNone\u001b[0m\u001b[0;34m]\u001b[0m\u001b[0;34m,\u001b[0m \u001b[0mname\u001b[0m\u001b[0;34m=\u001b[0m\u001b[0;34m'targets'\u001b[0m\u001b[0;34m)\u001b[0m\u001b[0;34m\u001b[0m\u001b[0;34m\u001b[0m\u001b[0m\n\u001b[1;32m      7\u001b[0m     \u001b[0mlr\u001b[0m \u001b[0;34m=\u001b[0m \u001b[0mtf\u001b[0m\u001b[0;34m.\u001b[0m\u001b[0mplaceholder\u001b[0m\u001b[0;34m(\u001b[0m\u001b[0mtf\u001b[0m\u001b[0;34m.\u001b[0m\u001b[0mfloat32\u001b[0m\u001b[0;34m,\u001b[0m \u001b[0mname\u001b[0m\u001b[0;34m=\u001b[0m\u001b[0;34m'learning_rate'\u001b[0m\u001b[0;34m)\u001b[0m\u001b[0;34m\u001b[0m\u001b[0;34m\u001b[0m\u001b[0m\n",
            "\u001b[0;31mAttributeError\u001b[0m: module 'tensorflow' has no attribute 'placeholder'"
          ]
        }
      ]
    },
    {
      "metadata": {
        "id": "QV6AvsWY3Vps",
        "colab_type": "text"
      },
      "cell_type": "markdown",
      "source": [
        "### Train the Network"
      ]
    },
    {
      "metadata": {
        "id": "vpVbFkFF3Vps",
        "colab_type": "code",
        "colab": {}
      },
      "cell_type": "code",
      "source": [
        "import time\n",
        "\n",
        "pickle.dump((seq_length, save_dir), open('params.p', 'wb'))\n",
        "batches = get_batches(corpus_int, batch_size, seq_length)\n",
        "num_batches = len(batches)\n",
        "start_time = time.time()\n",
        "\n",
        "with tf.Session(graph=train_graph) as sess:\n",
        "    sess.run(tf.global_variables_initializer())\n",
        "    \n",
        "    for epoch in range(num_epochs):\n",
        "        state = sess.run(initial_state, {input_text: batches[0][0]})\n",
        "        \n",
        "        for batch_index, (x, y) in enumerate(batches):\n",
        "            feed_dict = {\n",
        "                input_text: x,\n",
        "                targets: y,\n",
        "                initial_state: state,\n",
        "                lr: learning_rate\n",
        "            }\n",
        "            train_loss, state, _ = sess.run([cost, final_state, train_op], feed_dict)\n",
        "            \n",
        "        time_elapsed = time.time() - start_time\n",
        "        print('Epoch {:>3} Batch {:>4}/{}   train_loss = {:.3f}   time_elapsed = {:.3f}   time_remaining = {:.0f}'.format(\n",
        "            epoch + 1,\n",
        "            batch_index + 1,\n",
        "            len(batches),\n",
        "            train_loss,\n",
        "            time_elapsed,\n",
        "            ((num_batches * num_epochs)/((epoch + 1) * (batch_index + 1))) * time_elapsed - time_elapsed))\n",
        "\n",
        "        # save model every 10 epochs\n",
        "        if epoch % 10 == 0:\n",
        "            saver = tf.train.Saver()\n",
        "            saver.save(sess, save_dir)\n",
        "            print('Model Trained and Saved')\n",
        "            "
      ],
      "execution_count": 0,
      "outputs": []
    },
    {
      "metadata": {
        "collapsed": true,
        "id": "Q5VYFuQP3Vpw",
        "colab_type": "text"
      },
      "cell_type": "markdown",
      "source": [
        "### Checkpoint"
      ]
    },
    {
      "metadata": {
        "id": "ALj5CSXP3Vpx",
        "colab_type": "code",
        "colab": {}
      },
      "cell_type": "code",
      "source": [
        "import tensorflow as tf\n",
        "import numpy as np\n",
        "import pickle\n",
        "\n",
        "corpus_int, vocab_to_int, int_to_vocab, token_dict = pickle.load(open('preprocess.p', mode='rb'))\n",
        "seq_length, save_dir = pickle.load(open('params.p', mode='rb'))\n"
      ],
      "execution_count": 0,
      "outputs": []
    },
    {
      "metadata": {
        "id": "y99pq-nm3Vpz",
        "colab_type": "text"
      },
      "cell_type": "markdown",
      "source": [
        "# Generate GOT Text\n",
        "### Pick a Random Word"
      ]
    },
    {
      "metadata": {
        "id": "VvztuTiW3Vp0",
        "colab_type": "code",
        "colab": {}
      },
      "cell_type": "code",
      "source": [
        "def pick_word(probabilities, int_to_vocab):\n",
        "    \"\"\"\n",
        "    Pick the next word with some randomness\n",
        "    :param probabilities: Probabilites of the next word\n",
        "    :param int_to_vocab: Dictionary of word ids as the keys and words as the values\n",
        "    :return: String of the predicted word\n",
        "    \"\"\"\n",
        "    return np.random.choice(list(int_to_vocab.values()), 1, p=probabilities)[0]\n"
      ],
      "execution_count": 0,
      "outputs": []
    },
    {
      "metadata": {
        "id": "6cfGCQr63Vp4",
        "colab_type": "text"
      },
      "cell_type": "markdown",
      "source": [
        "### Load the Graph and Generate"
      ]
    },
    {
      "metadata": {
        "id": "QND9tQ1s3Vp4",
        "colab_type": "code",
        "colab": {}
      },
      "cell_type": "code",
      "source": [
        "gen_length = 1000\n",
        "prime_words = 'daenerys'\n",
        "\n",
        "loaded_graph = tf.Graph()\n",
        "with tf.Session(graph=loaded_graph) as sess:\n",
        "    # Load the saved model\n",
        "    loader = tf.train.import_meta_graph(save_dir + '.meta')\n",
        "    loader.restore(sess, save_dir)\n",
        "    \n",
        "    # Get tensors from loaded graph\n",
        "    input_text = loaded_graph.get_tensor_by_name('input:0')\n",
        "    initial_state = loaded_graph.get_tensor_by_name('initial_state:0')\n",
        "    final_state = loaded_graph.get_tensor_by_name('final_state:0')\n",
        "    probs = loaded_graph.get_tensor_by_name('probs:0')\n",
        "    \n",
        "    # Sentences generation setup\n",
        "    gen_sentences = prime_words.split()\n",
        "    prev_state = sess.run(initial_state, {input_text: np.array([[1 for word in gen_sentences]])})\n",
        "    \n",
        "    # Generate sentences\n",
        "    for n in range(gen_length):\n",
        "        # Dynamic Input\n",
        "        dyn_input = [[vocab_to_int[word] for word in gen_sentences[-seq_length:]]]\n",
        "        dyn_seq_length = len(dyn_input[0])\n",
        "\n",
        "        # Get Prediction\n",
        "        probabilities, prev_state = sess.run(\n",
        "            [probs, final_state],\n",
        "            {input_text: dyn_input, initial_state: prev_state})\n",
        "\n",
        "        pred_word = pick_word(probabilities[dyn_seq_length-1], int_to_vocab)\n",
        "\n",
        "        gen_sentences.append(pred_word)\n",
        "        \n",
        "    # Remove tokens\n",
        "    chapter_text = ' '.join(gen_sentences)\n",
        "    for key, token in token_dict.items():\n",
        "        chapter_text = chapter_text.replace(' ' + token.lower(), key)\n",
        "        \n",
        "    print(chapter_text)"
      ],
      "execution_count": 0,
      "outputs": []
    },
    {
      "metadata": {
        "id": "HSGVAqo-3Vp9",
        "colab_type": "text"
      },
      "cell_type": "markdown",
      "source": [
        "# Save a Chapter\n",
        "### Cleanup Data a Bit"
      ]
    },
    {
      "metadata": {
        "id": "EGQ4J0lf3Vp-",
        "colab_type": "code",
        "colab": {}
      },
      "cell_type": "code",
      "source": [
        "chapter_text = ' '.join(gen_sentences)\n",
        "for key, token in token_dict.items():\n",
        "    chapter_text = chapter_text.replace(' ' + token.lower(), key)\n",
        "chapter_text = chapter_text.replace('\\n ', '\\n')\n",
        "chapter_text = chapter_text.replace('( ', '(')\n",
        "chapter_text = chapter_text.replace(' ”', '”')\n",
        "\n",
        "capitalize_words = ['lannister', 'stark', 'lord', 'ser', 'tyrion', 'jon', 'john snow', 'daenerys', 'targaryen', 'cersei', 'jaime', 'arya', 'sansa', 'bran', 'rikkon', 'joffrey', \n",
        "                    'khal', 'drogo', 'gregor', 'clegane', 'kings landing', 'winterfell', 'the mountain', 'the hound', 'ramsay', 'bolton', 'melisandre', 'shae', 'tyrell',\n",
        "                   'margaery', 'sandor', 'hodor', 'ygritte', 'brienne', 'tarth', 'petyr', 'baelish', 'eddard', 'greyjoy', 'theon', 'gendry', 'baratheon', 'baraTheon',\n",
        "                   'varys', 'stannis', 'bronn', 'jorah', 'mormont', 'martell', 'oberyn', 'catelyn', 'robb', 'loras', 'missandei', 'tommen', 'robert', 'lady', 'donella', 'redwyne'\n",
        "                   'myrcella', 'samwell', 'tarly', 'grey worm', 'podrick', 'osha', 'davos', 'seaworth', 'jared', 'jeyne poole', 'rickard', 'yoren', 'meryn', 'trant', 'king', 'queen',\n",
        "                   'aemon']\n",
        "\n",
        "for word in capitalize_words:\n",
        "    chapter_text = chapter_text.replace(word, word.lower().title())"
      ],
      "execution_count": 0,
      "outputs": []
    },
    {
      "metadata": {
        "id": "0DAhvaCq3VqB",
        "colab_type": "text"
      },
      "cell_type": "markdown",
      "source": [
        "### Save File"
      ]
    },
    {
      "metadata": {
        "id": "_smHt34Y3VqC",
        "colab_type": "code",
        "colab": {}
      },
      "cell_type": "code",
      "source": [
        "import os\n",
        "version_dir = './generated-book-v1'\n",
        "if not os.path.exists(version_dir):\n",
        "    os.makedirs(version_dir)\n",
        "\n",
        "num_chapters = len([name for name in os.listdir(version_dir) if os.path.isfile(os.path.join(version_dir, name))])\n",
        "next_chapter = version_dir + '/chapter-' + str(num_chapters + 1) + '.md'\n",
        "with open(next_chapter, \"w\") as text_file:\n",
        "    text_file.write(chapter_text)"
      ],
      "execution_count": 0,
      "outputs": []
    }
  ]
}