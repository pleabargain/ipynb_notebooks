{
  "nbformat": 4,
  "nbformat_minor": 0,
  "metadata": {
    "colab": {
      "name": "display random table topic question.ipynb",
      "version": "0.3.2",
      "provenance": [],
      "collapsed_sections": [],
      "include_colab_link": true
    },
    "kernelspec": {
      "name": "python3",
      "display_name": "Python 3"
    }
  },
  "cells": [
    {
      "cell_type": "markdown",
      "metadata": {
        "id": "view-in-github",
        "colab_type": "text"
      },
      "source": [
        "<a href=\"https://colab.research.google.com/github/pleabargain/ipynb_notebooks/blob/master/display_random_table_topic_question.ipynb\" target=\"_parent\"><img src=\"https://colab.research.google.com/assets/colab-badge.svg\" alt=\"Open In Colab\"/></a>"
      ]
    },
    {
      "metadata": {
        "id": "cOSzZJVPyL9d",
        "colab_type": "text"
      },
      "cell_type": "markdown",
      "source": [
        "this script will read a file and display a random line from that file.\n",
        "\n",
        "It will read from a google doc or a local file. Just uncomment the code for the local file read."
      ]
    },
    {
      "metadata": {
        "id": "XUejsJHHoqJ_",
        "colab_type": "code",
        "outputId": "e544ce70-cfe3-4828-92d1-7ecf9711a9c9",
        "colab": {
          "base_uri": "https://localhost:8080/",
          "height": 71
        }
      },
      "cell_type": "code",
      "source": [
        "\"\"\"import random\n",
        "\n",
        "with open(\"file.txt\", \"r\") as f:\n",
        "    lines = f.readlines()\n",
        "    print (random.choice(lines))\"\"\""
      ],
      "execution_count": 0,
      "outputs": [
        {
          "output_type": "execute_result",
          "data": {
            "text/plain": [
              "'import random\\n\\nwith open(\"file.txt\", \"r\") as f:\\n    lines = f.readlines()\\n    print (random.choice(lines))'"
            ]
          },
          "metadata": {
            "tags": []
          },
          "execution_count": 1
        }
      ]
    },
    {
      "metadata": {
        "id": "QOC3DP1iry-C",
        "colab_type": "code",
        "colab": {}
      },
      "cell_type": "code",
      "source": [
        "!pip install --upgrade -q gspread\n",
        "!pip install --upgrade 'notebook>=5.7.6'"
      ],
      "execution_count": 0,
      "outputs": []
    },
    {
      "metadata": {
        "id": "iKkvIxCVySbs",
        "colab_type": "text"
      },
      "cell_type": "markdown",
      "source": [
        "This code will help you load a google spreadsheet."
      ]
    },
    {
      "metadata": {
        "id": "RRYwqemFr9K5",
        "colab_type": "code",
        "outputId": "fb050395-fe7d-4402-fd40-e4aba5686514",
        "colab": {
          "base_uri": "https://localhost:8080/",
          "height": 71
        }
      },
      "cell_type": "code",
      "source": [
        "from google.colab import auth\n",
        "auth.authenticate_user()\n",
        "\n",
        "import gspread\n",
        "from oauth2client.client import GoogleCredentials\n",
        "import regex as re\n",
        "\n",
        "gc = gspread.authorize(GoogleCredentials.get_application_default())\n",
        "\n",
        "worksheet = gc.open('table topics questions').sheet1\n",
        "\n",
        "# get_all_values gives a list of rows.\n",
        "rows = worksheet.get_all_values()\n",
        "#this is a sanity check\n",
        "\n",
        "print(rows)"
      ],
      "execution_count": 0,
      "outputs": [
        {
          "output_type": "stream",
          "text": [
            "[['How was I made?', '1'], ['Is Father Christmas Real?', '2'], ['Is it more fun to be a parent or a child?', '3'], ['What does “we can’t afford it” mean?', '4'], ['What family or school rule would you most like to change?', '5'], ['What is God?', '6'], [\"What's your favorite family tradition?\", '7'], ['When you die who will I live with?', '8'], ['Where did I come from?', '9'], ['Which famous athlete would you love to meet?', '10'], ['Which wild animal would you like to tame and keep as a pet?', '11'], ['Why can’t I stay up as late as you?', '12'], ['Why do people die?', '13'], ['Why do people dream?', '14'], ['Why do people sleep?', '15'], ['Why do we need to eat?', '16'], ['Why is the sky blue?', '17'], ['Would you rather live for a week in the past or the future?', '18'], ['You are a fish, what did you do last night?', '19'], ['You are a metro train driver, what did you do yesterday?', '20'], ['You are the manager, fire yourself.', '21'], ['When you exercise, which music gets you pumped up?', '22'], [\"What's your favorite museum?\", '23'], ['If you could have a picnic on any mountaintop in the world, where would you go?', '24'], ['Would you rather live for a week in the past or the future?', '25'], ['Which sunset do you remember particularly well?', '26'], ['What’s your good luck charm?', '27'], ['Where Do You Like To Go When You Eat Out?', '28'], ['Could You Live Without The Internet?', '29'], ['What Would Your Perfect Day Be Like?', '30'], ['Do You Have Any Trips Coming Up?', '31'], ['What’s Something You Could Teach Me About?', '32'], ['What Is Your Favorite Hobby?', '33'], ['What’s The Best Comedy Movie You’ve Ever Seen?', '34'], ['Which do you prefer, coffee or tea and why?', '35'], ['Do You Believe In Luck?', '36'], ['What Is The Best Thing That Happened To You During The Past Week?', '37'], ['What Did You Have For Dinner Last Night?', '38'], ['What Is Your Favorite Meal Of The Day?', '39'], ['What Do You Do For A Living?', '40'], ['What’s The Most Useful Thing You Own?', '41'], ['If You Had The World’s Attention For 30 Seconds, What Would You Say?', '42'], ['If You Had To Work But Didn’t Need The Money, What Would You Choose To Do?', '43'], ['What Is In Your Fridge Right Now?', '44'], ['If You Could Only Speak One Word Today, What Would You Say?', '45'], ['What Was The Best Thing Before Sliced Bread?', '46'], ['What’s The Wildest Thing You’ve Ever Done In A Hotel Room?', '47'], ['What book should everyone read?', '48'], ['What is your favorite song and why?', '49'], ['What was the best gift you have ever recieved?', '50'], ['Who influenced you most in your career choice?', '51'], ['What is your favorite interview question?', '52'], ['What was your favorite bed time story?', '53'], ['Which teacher do you think about most?', '54'], ['Sell us your phone.', '55'], ['Explain your job to a child.', '56'], ['Explain the internet to your grandmother.', '57'], ['What is your favorite website for news?', '58'], ['What is your favorite chat app?', '59'], ['What is your super power?', '60'], ['Some people like mashed potatoes, rice, french fries, bread... What is your comfort food?  ', '61'], ['What would you tell your teenage self?', '62'], ['If you were a farmer, what would you grow?', '63'], ['What is your favorite animal and why?', '64'], ['What question do you want to ask the club?', '65'], ['What Three Habits Will Improve Your Life?', '66'], [\"What's the most important thing affecting this club now?\", '67'], [\"What's the most important thing affecting the planet now?\", '68'], [\"What's the most important thing affecting this city now?\", '69'], ['Who is your favorite artist?', '70'], ['There is a new hire in your department, what do you do?', '71'], ['A former colleague has asked you to join her new company, what do you do?', '72'], ['What is the best part of your work day?', '73'], ['What is the best part of your weekend?', '74'], ['What is the best excuse to celebrate?', '75'], ['Introduce us to your imaginary friend.', '76'], ['What is the best advice you ignored?', ''], ['Sell us the chair you are sitting in.', ''], ['Sell us the table your are sitting at.', ''], ['Convince us to rent office space in this building.', ''], ['Convince us to quit our jobs and do what you do.', ''], ['Convince us that farmers markets are good for the economy.', ''], ['Convince us that you deserve to be the next project manager.', ''], ['Convince us that your late work is acceptable.', ''], ['Convince us that the best way to get a job is through networking.', ''], ['Explain to us what spam email is.', ''], ['Explain to us how a metro train works.', ''], ['Explain how electricity works.', ''], ['Explain to us your job and why it is important.', '']]\n"
          ],
          "name": "stdout"
        }
      ]
    },
    {
      "metadata": {
        "id": "MfkDdIkVsyrr",
        "colab_type": "code",
        "outputId": "95b37395-4862-45d0-f51a-e446255f982f",
        "colab": {
          "base_uri": "https://localhost:8080/",
          "height": 34
        }
      },
      "cell_type": "code",
      "source": [
        "#this is another sanity check\n",
        "type(rows)"
      ],
      "execution_count": 0,
      "outputs": [
        {
          "output_type": "execute_result",
          "data": {
            "text/plain": [
              "list"
            ]
          },
          "metadata": {
            "tags": []
          },
          "execution_count": 5
        }
      ]
    },
    {
      "metadata": {
        "id": "kJgcwVcUtEY5",
        "colab_type": "code",
        "outputId": "6c3f7eed-c730-4ea4-886b-2f47d3a96332",
        "colab": {
          "base_uri": "https://localhost:8080/",
          "height": 54
        }
      },
      "cell_type": "code",
      "source": [
        "import random\n",
        "print (random.choice(rows))"
      ],
      "execution_count": 0,
      "outputs": [
        {
          "output_type": "stream",
          "text": [
            "['What Is In Your Fridge Right Now?', '44']\n"
          ],
          "name": "stdout"
        }
      ]
    }
  ]
}