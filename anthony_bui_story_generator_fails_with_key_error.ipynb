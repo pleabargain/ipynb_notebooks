{
  "nbformat": 4,
  "nbformat_minor": 0,
  "metadata": {
    "colab": {
      "name": "anthony bui story-generator fails with key error",
      "version": "0.3.2",
      "provenance": [],
      "collapsed_sections": [],
      "toc_visible": true,
      "include_colab_link": true
    },
    "kernelspec": {
      "name": "python3",
      "display_name": "Python 3"
    }
  },
  "cells": [
    {
      "cell_type": "markdown",
      "metadata": {
        "id": "view-in-github",
        "colab_type": "text"
      },
      "source": [
        "<a href=\"https://colab.research.google.com/github/pleabargain/ipynb_notebooks/blob/master/anthony_bui_story_generator_fails_with_key_error.ipynb\" target=\"_parent\"><img src=\"https://colab.research.google.com/assets/colab-badge.svg\" alt=\"Open In Colab\"/></a>"
      ]
    },
    {
      "metadata": {
        "id": "WFFk8thTaiqW",
        "colab_type": "text"
      },
      "cell_type": "markdown",
      "source": [
        "# Tiger Mom: Unfair Comparison Story Generator"
      ]
    },
    {
      "metadata": {
        "id": "Ne3t3EpNaiMK",
        "colab_type": "text"
      },
      "cell_type": "markdown",
      "source": [
        "by Anthony Bui\n",
        "\n",
        "This is a story-like biography generator of impressive people. Under the hood, it's a Markov chain built using data of speaker profiles from conferences. This proved to be a good dataset because it is very succinct and factual, in essence highlighting the individuals achievements in a paragraph.\n",
        "\n",
        "Markov chain narrative techniques are stolen from [Allison Parrish's Tutorial](https://mybinder.org/v2/gh/aparrish/corpus-driven-narrative-generation/master?filepath=corpus-driven-narrative-generation.ipynb)\n",
        "\n",
        "Data scraped and cleaned in a separate scraping script done in ruby and shell because Python scraping takes me forever. =P"
      ]
    },
    {
      "metadata": {
        "id": "QpRK8ICCcrkv",
        "colab_type": "code",
        "colab": {}
      },
      "cell_type": "code",
      "source": [
        ""
      ],
      "execution_count": 0,
      "outputs": []
    },
    {
      "metadata": {
        "id": "etA5KTj4bWjI",
        "colab_type": "text"
      },
      "cell_type": "markdown",
      "source": [
        "## Setup: Install and import shit"
      ]
    },
    {
      "metadata": {
        "id": "x-dI_hme9mR8",
        "colab_type": "code",
        "outputId": "1043c139-08a4-4755-da17-ccebbc59c98d",
        "colab": {
          "base_uri": "https://localhost:8080/",
          "height": 275
        }
      },
      "cell_type": "code",
      "source": [
        "!pip install -q markovify\n",
        "!pip install -q spacy\n",
        "!python -m spacy download en_core_web_sm\n",
        "!pip install -q inflect"
      ],
      "execution_count": 0,
      "outputs": [
        {
          "output_type": "stream",
          "text": [
            "\u001b[?25l\r\u001b[K    4% |█▍                              | 10kB 21.6MB/s eta 0:00:01\r\u001b[K    8% |██▊                             | 20kB 3.2MB/s eta 0:00:01\r\u001b[K    12% |████▏                           | 30kB 4.6MB/s eta 0:00:01\r\u001b[K    17% |█████▌                          | 40kB 5.9MB/s eta 0:00:01\r\u001b[K    21% |███████                         | 51kB 7.2MB/s eta 0:00:01\r\u001b[K    25% |████████▎                       | 61kB 8.5MB/s eta 0:00:01\r\u001b[K    30% |█████████▋                      | 71kB 5.2MB/s eta 0:00:01\r\u001b[K    34% |███████████                     | 81kB 5.8MB/s eta 0:00:01\r\u001b[K    38% |████████████▍                   | 92kB 6.4MB/s eta 0:00:01\r\u001b[K    43% |█████████████▉                  | 102kB 7.0MB/s eta 0:00:01\r\u001b[K    47% |███████████████▏                | 112kB 7.2MB/s eta 0:00:01\r\u001b[K    51% |████████████████▋               | 122kB 12.1MB/s eta 0:00:01\r\u001b[K    56% |██████████████████              | 133kB 11.9MB/s eta 0:00:01\r\u001b[K    60% |███████████████████▎            | 143kB 12.0MB/s eta 0:00:01\r\u001b[K    64% |████████████████████▊           | 153kB 7.2MB/s eta 0:00:01\r\u001b[K    69% |██████████████████████          | 163kB 7.2MB/s eta 0:00:01\r\u001b[K    73% |███████████████████████▌        | 174kB 12.7MB/s eta 0:00:01\r\u001b[K    77% |████████████████████████▉       | 184kB 12.9MB/s eta 0:00:01\r\u001b[K    81% |██████████████████████████▎     | 194kB 12.9MB/s eta 0:00:01\r\u001b[K    86% |███████████████████████████▋    | 204kB 12.8MB/s eta 0:00:01\r\u001b[K    90% |█████████████████████████████   | 215kB 12.9MB/s eta 0:00:01\r\u001b[K    94% |██████████████████████████████▍ | 225kB 13.0MB/s eta 0:00:01\r\u001b[K    99% |███████████████████████████████▊| 235kB 13.3MB/s eta 0:00:01\r\u001b[K    100% |████████████████████████████████| 245kB 10.4MB/s \n",
            "\u001b[?25h  Building wheel for markovify (setup.py) ... \u001b[?25ldone\n",
            "\u001b[K    100% |████████████████████████████████| 17.3MB 1.8MB/s \n",
            "\u001b[31mfeaturetools 0.4.1 has requirement pandas>=0.23.0, but you'll have pandas 0.22.0 which is incompatible.\u001b[0m\n",
            "\u001b[31mdatascience 0.10.6 has requirement folium==0.2.1, but you'll have folium 0.8.3 which is incompatible.\u001b[0m\n",
            "\u001b[31malbumentations 0.1.12 has requirement imgaug<0.2.7,>=0.2.5, but you'll have imgaug 0.2.8 which is incompatible.\u001b[0m\n",
            "\u001b[?25hRequirement already satisfied: en_core_web_sm==2.0.0 from https://github.com/explosion/spacy-models/releases/download/en_core_web_sm-2.0.0/en_core_web_sm-2.0.0.tar.gz#egg=en_core_web_sm==2.0.0 in /usr/local/lib/python3.6/dist-packages (2.0.0)\n",
            "\n",
            "\u001b[93m    Linking successful\u001b[0m\n",
            "    /usr/local/lib/python3.6/dist-packages/en_core_web_sm -->\n",
            "    /usr/local/lib/python3.6/dist-packages/spacy/data/en_core_web_sm\n",
            "\n",
            "    You can now load the model via spacy.load('en_core_web_sm')\n",
            "\n"
          ],
          "name": "stdout"
        }
      ]
    },
    {
      "metadata": {
        "id": "jJhitF0z9vbH",
        "colab_type": "code",
        "colab": {}
      },
      "cell_type": "code",
      "source": [
        "import markovify\n",
        "from google.colab import files\n",
        "import os\n",
        "import random\n",
        "import spacy\n",
        "nlp = spacy.load('en_core_web_sm')"
      ],
      "execution_count": 0,
      "outputs": []
    },
    {
      "metadata": {
        "id": "MBXqpIXobLfq",
        "colab_type": "text"
      },
      "cell_type": "markdown",
      "source": [
        "## Upload data file and parse sentences with spaCy"
      ]
    },
    {
      "metadata": {
        "id": "fFcPn-qZ9wdZ",
        "colab_type": "code",
        "outputId": "7ac4d78e-6863-4dca-8918-2f8d4c11b369",
        "colab": {
          "resources": {
            "http://localhost:8080/nbextensions/google.colab/files.js": {
              "data": "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",
              "ok": true,
              "headers": [
                [
                  "content-type",
                  "application/javascript"
                ]
              ],
              "status": 200,
              "status_text": ""
            }
          },
          "base_uri": "https://localhost:8080/",
          "height": 264
        }
      },
      "cell_type": "code",
      "source": [
        "uploaded = files.upload()\n",
        "all_files = [(name, os.path.getmtime(name)) for name in os.listdir()]\n",
        "latest_file = sorted(all_files, key=lambda x: -x[1])[0][0]\n",
        "\n",
        "sentences = []\n",
        "for line in open(latest_file):\n",
        "    line = line.strip()\n",
        "    sentences.append(line)\n",
        "    \n",
        "sentences[:10]"
      ],
      "execution_count": 0,
      "outputs": [
        {
          "output_type": "display_data",
          "data": {
            "text/html": [
              "\n",
              "     <input type=\"file\" id=\"files-9c420fc2-c616-4105-8feb-45326043b19d\" name=\"files[]\" multiple disabled />\n",
              "     <output id=\"result-9c420fc2-c616-4105-8feb-45326043b19d\">\n",
              "      Upload widget is only available when the cell has been executed in the\n",
              "      current browser session. Please rerun this cell to enable.\n",
              "      </output>\n",
              "      <script src=\"/nbextensions/google.colab/files.js\"></script> "
            ],
            "text/plain": [
              "<IPython.core.display.HTML object>"
            ]
          },
          "metadata": {
            "tags": []
          }
        },
        {
          "output_type": "stream",
          "text": [
            "Saving teset.txt to teset (1).txt\n"
          ],
          "name": "stdout"
        },
        {
          "output_type": "execute_result",
          "data": {
            "text/plain": [
              "[\"'Andrew joined Philo as the company’s CEO in 2014. Before assuming the role of CEO, Andrew served on Philo’s board, mentored Philo’s co-founders, and was one of the company’s first investors. Prior to Philo, Andrew was on the founding team of Facebook, and the social design of products has been a persistent interest. After Facebook, Andrew was an Entrepreneur in Residence at two of Philo’s investors, New Enterprise Associates (NEA) and Flybridge Partners. He continues to be an active early-stage angel investor and advisor. Andrew holds a Bachelor’s Degree in Computer Science and a Master’s Degree in Education from Harvard University.',\",\n",
              " \"'President of NCSOFT, responsible for managing the organization and planning the company’s globalization strategy. NCSOFT is one of the most successful online game company globally, which started developing and servicing network based online multiplayer games in 1997. Her early work focused on MLNN in medical imaging applications. As a VP of Communication Intelligence at SK Telecom, Songyee lead its development and deployment of mobile communication platform for adaptive and personalized delivery of data services. She is a PhD recipient from MIT in Computational Neuroscience based on her research at the MIT Media Lab and a founding member of Micro Robot World Cup Soccer Tournament. She served on the Presidential Advisory Council for Science and Technology for the 16th president of South Korea and taught Media and Entertainment Business Strategy at Yonsei University in Seoul. She currently serves on the advisory board of Asia Pacific Foundation of Canada, Center for Asia Pacific Policy at RAND and MIT Corporation. As a chairperson of NCSOFT Culture Foundation, she actively engages herself in various philanthropic initiatives including sponsoring Special Olympics players, collaboration with UN Food Program and UNHCR. She has been recognized by various organizations for her leadership through the years including being named as a Young Global Leader by World Economic Forum, a Young Leader by Boao Forum of China and Wall Street Journal’s 50 Women to Watch.',\",\n",
              " \"'Jean Ellen Cowgill is the General Manager of TicToc by Bloomberg, a global news network native to the digital, social world. She is also the Global Head of Strategy and Business Development for Bloomberg Digital, defining innovative initiatives and spearheading Bloomberg Media’s partnerships strategy. Under Jean Ellen’s leadership, TicToc is reimagining the news for the next generation of decision makers who are social, mobile, and digital consumers that engage with content while on the move. By being the signal in the noise in a highly cluttered space that is social media, TicToc creates a utility of information consumption with snackable global video news that is delivered natively in a digital first manner. Prior to joining Bloomberg, Jean Ellen was the president of Atlantic 57, the consulting and creative division of The Atlantic, where she helped clients transform and adapt for the modern world, using lessons from The Atlantic’s own transformation from print magazine to multi-platform pioneer. Previously, she led Atlantic Media’s corporate strategy efforts, crafting business models for new ventures and charting the company’s growth plans. Prior to joining The Atlantic, Jean Ellen was a consultant at McKinsey &amp; Company, where she focused on organizational and investment strategy across the private, public and non-profit sectors. In 2014, Jean Ellen was named to the Folio:100 list of the top 100 leaders in media. She speaks frequently on today’s media landscape and trends in branding, content, and user experience at forums such as SXSW, Techweek, General Assembly, and the Communications Network, among others. Jean Ellen graduated as valedictorian of Dartmouth College.',\",\n",
              " \"'Merck Mercuriadis is\\\\xa0CEO, Founder and managing partner of Hipgnosis Songs Ltd., an artist management firm,\\\\xa0publisher\\\\xa0and record label based in London and Los Angeles, and founder and CEO of Hipgnosis Songs Ltd., a publicly traded investment fund focused on acquiring and licensing song catalogs. Mercuriadis is also known as the former manager of several notable\\\\xa0rock and pop bands\\\\xa0and musicians including\\\\xa0Guns N’ Roses,\\\\xa0Iron Maiden,\\\\xa0Elton John,\\\\xa0Morrissey,\\\\xa0Pet Shop Boys,\\\\xa0Macy Gray,\\\\xa0Mary J. Blige,\\\\xa0Joss Stone,\\\\xa0and\\\\xa0Jane’s Addiction. From\\\\xa0October 1986 to June 2007, as director and CEO of the\\\\xa0Sanctuary Group PLC, a major management company, an independent record label, a merchandise company, and a booking agency, where he oversaw management of \\\\xa0Beyoncé,\\\\xa0Nelly,\\\\xa0Mick Fleetwood,\\\\xa0Tommy Lee,\\\\xa0The Who, and\\\\xa0Robert Plant, among other notable artists. Prior to Sanctuary he was an A&amp;R and marketing director at\\\\xa0Virgin Records\\\\xa0where he started his career at the age of 19.',\",\n",
              " \"'Mike Vorhaus, President, Magid Advisors founded the Magid Internet and New Media research and consultation practice in 1995, with AOL and Excite as his first two clients. Mike’s team has completed over 2,500 engagements with over 100 Internet clients. Mike began the Magid Gaming Practice in 2001 with EA and Sony Online as his first two clients. The Magid Game Practice now works with most of the major game publishers. Mike provides research and consulting services to a number of major traditional media companies in regard to their new media initiatives, as well as consulting a number of leading Internet and gaming companies. He has also provided advice to venture capital and private equity firms in regard to investments in the media space. Mike has been involved in strategic and tactical consulting, including the launch of new services and programming, as well as development and implementation of online and offline marketing programs. Mike has also been extensively involved in video and PC gaming strategies for a number of our companies, as well as the development of game concepts. Mike has consulted on a number of film projects such as You’ve Got Mail and The Matrix. He holds a B.S. in psychology and sociology from Wesleyan University and has worked as a fundraiser and transfer of technology officer at the California Institute of Technology and the University of California. Mike also worked for the U.S. House of Representatives, The U.S. Senate, and for two Administrations in the White House.',\",\n",
              " \"'Among music legends, Nile Rodgers is truly exceptional. He amplifies his legacy as a multiple GRAMMY-winning composer, producer, arranger and guitarist by constantly traversing new musical terrain and successfully expanding the boundaries of popular music. As the co-founder of CHIC and the newly elected Chairman of the Songwriters Hall of Fame, Rodgers pioneered a musical language that generated chart-topping hits like “Le Freak,” (the biggest selling single in the history of Atlantic Records!) and sparked the advent of hip-hop with “Good Times”.\\\\xa0 Nile Rodgers transcends all styles of music across every generation with a body of work that’s garnered him inductions into the Rock &amp; Roll Hall of Fame (2017) and the Songwriters Hall of Fame (2016). Most\\\\xa0recently, he\\\\xa0was appointed\\\\xa0as the first ever Chief Creative Advisor for the legendary Abbey Road Studios to cap off a year that has included\\\\xa0“festival best” performances at both Glastonbury and Coachella that resulted in the BBC nominating the band \\\\xa0for the BBC Music Awards as “Best Live Performance Of 2017” and the LA Times stating “Nile Rodgers influence stretches all over Coachella, beaming the sound of a better future”. His work in the CHIC Organization and his productions for artists like David Bowie, Diana Ross, and Madonna have sold over 500 million albums and 75 million singles worldwide while his innovative, trendsetting collaborations with Daft Punk, Avicii, Sigala, Disclosure, and Sam Smith reflect the vanguard of contemporary music.\\\\xa0 Nile Rodgers &amp; CHIC will be releasing their first new album in 25 years, “It’s About Time” on September 28,\\\\xa02018 .',\",\n",
              " \"'Simon leads Netmarble Corporation’s U.S. branch in Los Angeles, CA. As a key player in expanding one of the world’s fastest growing mobile game companies to the U.S., Simon helps facilitate the company’s business development, marketing and localization of games for Western markets. Before Netmarble, Simon was CTO, and COO at CJ Games Global Corporation for five years. He received his Bachelor of Arts in Computer Science and Master’s Degree and Ph.D in Artificial Intelligence (Natural Language Processing) from Pusan National University in Korea.',\",\n",
              " \"'Tom Gorke is Executive Vice President, Head of Distribution and Business Development for Viacom. He oversees Viacom’s media networks distribution partnerships and strategy with all domestic affiliates, SVOD platforms and other content licensees. Additionally, Mr. Gorke is responsible for digital business development, leading the team that is charged with expanding Viacom’s media networks’ reach on all social, mobile and other connected platforms. He is based in the company’s New York City headquarters. Mr. Gorke previously served as Executive Vice President of Sales and Business Development for Content Distribution at Viacom Media Networks and BET Networks, leading sales and new business efforts for all linear and digital distribution partnerships across BET, CMT, Comedy Central, MTV, Nickelodeon, Logo, Spike, TV Land and VH1, as well as Viacom’s joint venture EPIX. Prior to that position, he was Senior Vice President of Content Distribution and Marketing for Viacom Media Networks, where he was responsible for all of Viacom Media Networks’ digital content distribution and select linear deals, and oversaw Viacom’s partnerships with subscription video aggregators, electronic sell-through providers and other mobile and internet-based content distributors. Mr. Gorke also previously served as the Vice President of Digital Distribution, focused specifically on online content deals and relationships, as well as Director of Digital Operations and Distribution Development. Before joining Viacom in 2005, Mr. Gorke was Manager of Strategy and Investments for the CBS Internet Group, where he helped lead the origination, analysis and management of a portfolio of investments in internet companies. He began his career at investment bank Alex. Brown as a financial analyst in the Consumer Group. Mr. Gorke sits on the board of the T. Howard Foundation and was included among Multichannel News 2013 list of 40 Under 40. He received an M.B.A. with honors and a B.S. in Economics from the Wharton School of the University of Pennsylvania.',\",\n",
              " \"'Adrienne Fields is the Director of Legal Affairs for Artists Rights Society (ARS).\\\\xa0 ARS represents the intellectual property rights of over 80,000 visual artists and estates from around the world including those of\\\\xa0Frank Stella, the Andy Warhol Foundation, the\\\\xa0Estate of Pablo\\\\xa0Picasso and the Estate of Henri Matisse, among others.\\\\xa0 Ms. Fields’ work involves the licensing of artists’ copyrights for various uses including, print, internet, television, advertising, film, theater and merchandise.\\\\xa0 She monitors the intellectual property of ARS’s\\\\xa0members and enforces their rights against infringing users.\\\\xa0 Ms. Fields works closely with her counterparts at ARS’s sister societies in more than thirty foreign countries to enforce visual artists’ rights globally.\\\\xa0\\\\xa0Ms. Fields is also the Editor-in-Chief for\\\\xa0 Landslide® \\\\xa0Magazine, a publication of the American Bar Association’s Intellectual Property Law Section,\\\\xa0and a member of the ABA’s Content Advisory Board, which oversees all ABA-IPL Section publications.\\\\xa0 Ms. Fields was elected a Fellow of the American Bar Foundation in 2018.\\\\xa0 She received a Distinguished Alumni Award\\\\xa0in 2016 and an Art Law Alumni Award in 2013 from her alma mater, Brooklyn Law School.\\\\xa0 Ms. Fields holds an M.A. degree from Christie’s Education in Connoisseurship and Art Market Studies and\\\\xa0a B.A. from Brandeis University.',\",\n",
              " \"'Alisa Coleman is the Chief Operating Officer of ABKCO Music &amp; Records, Inc., overseeing the\\\\xa0day-to-day operations as well as the business development and global licensing of the music\\\\xa0publishing, record, and film catalogs for one of the foremost independent entertainment\\\\xa0companies in the world. ABKCO’s catalog includes compositions, recordings, and films by Sam\\\\xa0Cooke, The Rolling Stones, Bobby Womack, Eric Burdon, The Animals, Herman’s Hermits,\\\\xa0Marianne Faithfull, Pete Townshend, Ray Davies, and The Kinks; the Cameo Parkway master\\\\xa0recordings; and the works of cult director Alejandro Jodorowsky. Coleman first joined ABKCO in 1985, as an assistant in the licensing and royalty departments,\\\\xa0and has gone on to work in every division of the company. In 2016 she was named the\\\\xa0company’s first COO. During her tenure at ABKCO, she has greatly expanded the exposure of\\\\xa0the company’s legendary catalog, increasing its reputation and value, and is known for her\\\\xa0innovative deal structures that focus on the long-term value of intellectual property and\\\\xa0licensing partnerships. A key element in Coleman’s strategy is to find inventive ways to introduce ABKCO’s catalog to\\\\xa0new generations. She says, “With many of our assets more than 50 years old, our challenge is\\\\xa0how to keep these songs and films vital and exciting. I’m constantly looking for ways to\\\\xa0reimagine them, with deals that connect all the dots – audio, video, and composition – to\\\\xa0maximize revenue, interest, and exposure for this amazing catalog.” ABKCO had been historically reticent with synch, digital, and derivative work licensing; in the\\\\xa0first five years Coleman ran the licensing department, she was able to quadruple their synch\\\\xa0licensing by building bridges back into the music supervision community and expanding into the\\\\xa0new media and technology arenas. She likes to make deals that go beyond licensing to include\\\\xa0promotional components, working with the licensing partner to find the best path to success\\\\xa0for the song, the partner, and for ABKCO. For example, in 2014, Lyric Culture wanted to license Mick Jagger and Keith Richards’ song lyrics\\\\xa0for use on different merchandise. Coleman went with Lyric Culture to the Home Shopping\\\\xa0Network (HSN) to create a special program that included ABKCO’s other Rolling Stones audio\\\\xa0and video assets. The November broadcast was one of the most successful in HSN’s history,\\\\xa0selling out all the products halfway through the 90-minute show. Every sale also included a\\\\xa0download card, furthering the cross-promotion of ABKCO’s Rolling Stones catalog. Coleman\\\\xa0says, “In working with composition assets, music publishers need to look past traditional\\\\xa0licensing and drive opportunities to increase exposure and revenue for songs by cross branding\\\\xa0and promotional opportunities.”\"]"
            ]
          },
          "metadata": {
            "tags": []
          },
          "execution_count": 8
        }
      ]
    },
    {
      "metadata": {
        "id": "SBbq3gJP2Bv2",
        "colab_type": "code",
        "colab": {}
      },
      "cell_type": "code",
      "source": [
        "split_sentences = [list(nlp(sentence).sents) for sentence in sentences]"
      ],
      "execution_count": 0,
      "outputs": []
    },
    {
      "metadata": {
        "id": "VKlAMrM26F6n",
        "colab_type": "text"
      },
      "cell_type": "markdown",
      "source": [
        "## Create Markov Models for Beginning / Middle / Ending"
      ]
    },
    {
      "metadata": {
        "id": "uNNE1sYY0u08",
        "colab_type": "code",
        "colab": {}
      },
      "cell_type": "code",
      "source": [
        "beginnings = []\n",
        "middles = []\n",
        "endings = []\n",
        "\n",
        "for splits in split_sentences:\n",
        "  if not splits:\n",
        "    continue\n",
        "    \n",
        "  beginnings.append(str(splits[0]))\n",
        "  endings.append(str(splits[-1]))\n",
        "  middles.extend([str(split) for split in splits[1:-2]])"
      ],
      "execution_count": 0,
      "outputs": []
    },
    {
      "metadata": {
        "id": "gKFJGGr15pXA",
        "colab_type": "code",
        "outputId": "98a5ee84-61ef-4680-8e69-6aa04f9d8097",
        "colab": {
          "base_uri": "https://localhost:8080/",
          "height": 591
        }
      },
      "cell_type": "code",
      "source": [
        "beginnings_gen = markovify.NewlineText(\"\\n\".join(beginnings))\n",
        "middles_gen = markovify.NewlineText(\"\\n\".join(middles))\n",
        "endings_gen = markovify.NewlineText(\"\\n\".join(endings))\n",
        "# combo = markovify.combine([beginnings_gen, middles_gen, endings_gen], [10, 1, 10])"
      ],
      "execution_count": 0,
      "outputs": [
        {
          "output_type": "error",
          "ename": "KeyError",
          "evalue": "ignored",
          "traceback": [
            "\u001b[0;31m---------------------------------------------------------------------------\u001b[0m",
            "\u001b[0;31mKeyError\u001b[0m                                  Traceback (most recent call last)",
            "\u001b[0;32m<ipython-input-11-66f0ee28c97e>\u001b[0m in \u001b[0;36m<module>\u001b[0;34m()\u001b[0m\n\u001b[0;32m----> 1\u001b[0;31m \u001b[0mbeginnings_gen\u001b[0m \u001b[0;34m=\u001b[0m \u001b[0mmarkovify\u001b[0m\u001b[0;34m.\u001b[0m\u001b[0mNewlineText\u001b[0m\u001b[0;34m(\u001b[0m\u001b[0;34m\"\\n\"\u001b[0m\u001b[0;34m.\u001b[0m\u001b[0mjoin\u001b[0m\u001b[0;34m(\u001b[0m\u001b[0mbeginnings\u001b[0m\u001b[0;34m)\u001b[0m\u001b[0;34m)\u001b[0m\u001b[0;34m\u001b[0m\u001b[0;34m\u001b[0m\u001b[0m\n\u001b[0m\u001b[1;32m      2\u001b[0m \u001b[0mmiddles_gen\u001b[0m \u001b[0;34m=\u001b[0m \u001b[0mmarkovify\u001b[0m\u001b[0;34m.\u001b[0m\u001b[0mNewlineText\u001b[0m\u001b[0;34m(\u001b[0m\u001b[0;34m\"\\n\"\u001b[0m\u001b[0;34m.\u001b[0m\u001b[0mjoin\u001b[0m\u001b[0;34m(\u001b[0m\u001b[0mmiddles\u001b[0m\u001b[0;34m)\u001b[0m\u001b[0;34m)\u001b[0m\u001b[0;34m\u001b[0m\u001b[0;34m\u001b[0m\u001b[0m\n\u001b[1;32m      3\u001b[0m \u001b[0mendings_gen\u001b[0m \u001b[0;34m=\u001b[0m \u001b[0mmarkovify\u001b[0m\u001b[0;34m.\u001b[0m\u001b[0mNewlineText\u001b[0m\u001b[0;34m(\u001b[0m\u001b[0;34m\"\\n\"\u001b[0m\u001b[0;34m.\u001b[0m\u001b[0mjoin\u001b[0m\u001b[0;34m(\u001b[0m\u001b[0mendings\u001b[0m\u001b[0;34m)\u001b[0m\u001b[0;34m)\u001b[0m\u001b[0;34m\u001b[0m\u001b[0;34m\u001b[0m\u001b[0m\n\u001b[1;32m      4\u001b[0m \u001b[0;31m# combo = markovify.combine([beginnings_gen, middles_gen, endings_gen], [10, 1, 10])\u001b[0m\u001b[0;34m\u001b[0m\u001b[0;34m\u001b[0m\u001b[0;34m\u001b[0m\u001b[0m\n",
            "\u001b[0;32m/usr/local/lib/python3.6/dist-packages/markovify/text.py\u001b[0m in \u001b[0;36m__init__\u001b[0;34m(self, input_text, state_size, chain, parsed_sentences, retain_original)\u001b[0m\n\u001b[1;32m     35\u001b[0m             \u001b[0;31m# Rejoined text lets us assess the novelty of generated sentences\u001b[0m\u001b[0;34m\u001b[0m\u001b[0;34m\u001b[0m\u001b[0;34m\u001b[0m\u001b[0m\n\u001b[1;32m     36\u001b[0m             \u001b[0mself\u001b[0m\u001b[0;34m.\u001b[0m\u001b[0mrejoined_text\u001b[0m \u001b[0;34m=\u001b[0m \u001b[0mself\u001b[0m\u001b[0;34m.\u001b[0m\u001b[0msentence_join\u001b[0m\u001b[0;34m(\u001b[0m\u001b[0mmap\u001b[0m\u001b[0;34m(\u001b[0m\u001b[0mself\u001b[0m\u001b[0;34m.\u001b[0m\u001b[0mword_join\u001b[0m\u001b[0;34m,\u001b[0m \u001b[0mself\u001b[0m\u001b[0;34m.\u001b[0m\u001b[0mparsed_sentences\u001b[0m\u001b[0;34m)\u001b[0m\u001b[0;34m)\u001b[0m\u001b[0;34m\u001b[0m\u001b[0;34m\u001b[0m\u001b[0m\n\u001b[0;32m---> 37\u001b[0;31m             \u001b[0mself\u001b[0m\u001b[0;34m.\u001b[0m\u001b[0mchain\u001b[0m \u001b[0;34m=\u001b[0m \u001b[0mchain\u001b[0m \u001b[0;32mor\u001b[0m \u001b[0mChain\u001b[0m\u001b[0;34m(\u001b[0m\u001b[0mself\u001b[0m\u001b[0;34m.\u001b[0m\u001b[0mparsed_sentences\u001b[0m\u001b[0;34m,\u001b[0m \u001b[0mstate_size\u001b[0m\u001b[0;34m)\u001b[0m\u001b[0;34m\u001b[0m\u001b[0;34m\u001b[0m\u001b[0m\n\u001b[0m\u001b[1;32m     38\u001b[0m         \u001b[0;32melse\u001b[0m\u001b[0;34m:\u001b[0m\u001b[0;34m\u001b[0m\u001b[0;34m\u001b[0m\u001b[0m\n\u001b[1;32m     39\u001b[0m             \u001b[0;32mif\u001b[0m \u001b[0;32mnot\u001b[0m \u001b[0mchain\u001b[0m\u001b[0;34m:\u001b[0m\u001b[0;34m\u001b[0m\u001b[0;34m\u001b[0m\u001b[0m\n",
            "\u001b[0;32m/usr/local/lib/python3.6/dist-packages/markovify/chain.py\u001b[0m in \u001b[0;36m__init__\u001b[0;34m(self, corpus, state_size, model)\u001b[0m\n\u001b[1;32m     43\u001b[0m         \u001b[0mself\u001b[0m\u001b[0;34m.\u001b[0m\u001b[0mstate_size\u001b[0m \u001b[0;34m=\u001b[0m \u001b[0mstate_size\u001b[0m\u001b[0;34m\u001b[0m\u001b[0;34m\u001b[0m\u001b[0m\n\u001b[1;32m     44\u001b[0m         \u001b[0mself\u001b[0m\u001b[0;34m.\u001b[0m\u001b[0mmodel\u001b[0m \u001b[0;34m=\u001b[0m \u001b[0mmodel\u001b[0m \u001b[0;32mor\u001b[0m \u001b[0mself\u001b[0m\u001b[0;34m.\u001b[0m\u001b[0mbuild\u001b[0m\u001b[0;34m(\u001b[0m\u001b[0mcorpus\u001b[0m\u001b[0;34m,\u001b[0m \u001b[0mself\u001b[0m\u001b[0;34m.\u001b[0m\u001b[0mstate_size\u001b[0m\u001b[0;34m)\u001b[0m\u001b[0;34m\u001b[0m\u001b[0;34m\u001b[0m\u001b[0m\n\u001b[0;32m---> 45\u001b[0;31m         \u001b[0mself\u001b[0m\u001b[0;34m.\u001b[0m\u001b[0mprecompute_begin_state\u001b[0m\u001b[0;34m(\u001b[0m\u001b[0;34m)\u001b[0m\u001b[0;34m\u001b[0m\u001b[0;34m\u001b[0m\u001b[0m\n\u001b[0m\u001b[1;32m     46\u001b[0m \u001b[0;34m\u001b[0m\u001b[0m\n\u001b[1;32m     47\u001b[0m     \u001b[0;32mdef\u001b[0m \u001b[0mbuild\u001b[0m\u001b[0;34m(\u001b[0m\u001b[0mself\u001b[0m\u001b[0;34m,\u001b[0m \u001b[0mcorpus\u001b[0m\u001b[0;34m,\u001b[0m \u001b[0mstate_size\u001b[0m\u001b[0;34m)\u001b[0m\u001b[0;34m:\u001b[0m\u001b[0;34m\u001b[0m\u001b[0;34m\u001b[0m\u001b[0m\n",
            "\u001b[0;32m/usr/local/lib/python3.6/dist-packages/markovify/chain.py\u001b[0m in \u001b[0;36mprecompute_begin_state\u001b[0;34m(self)\u001b[0m\n\u001b[1;32m     78\u001b[0m         \"\"\"\n\u001b[1;32m     79\u001b[0m         \u001b[0mbegin_state\u001b[0m \u001b[0;34m=\u001b[0m \u001b[0mtuple\u001b[0m\u001b[0;34m(\u001b[0m\u001b[0;34m[\u001b[0m \u001b[0mBEGIN\u001b[0m \u001b[0;34m]\u001b[0m \u001b[0;34m*\u001b[0m \u001b[0mself\u001b[0m\u001b[0;34m.\u001b[0m\u001b[0mstate_size\u001b[0m\u001b[0;34m)\u001b[0m\u001b[0;34m\u001b[0m\u001b[0;34m\u001b[0m\u001b[0m\n\u001b[0;32m---> 80\u001b[0;31m         \u001b[0mchoices\u001b[0m\u001b[0;34m,\u001b[0m \u001b[0mweights\u001b[0m \u001b[0;34m=\u001b[0m \u001b[0mzip\u001b[0m\u001b[0;34m(\u001b[0m\u001b[0;34m*\u001b[0m\u001b[0mself\u001b[0m\u001b[0;34m.\u001b[0m\u001b[0mmodel\u001b[0m\u001b[0;34m[\u001b[0m\u001b[0mbegin_state\u001b[0m\u001b[0;34m]\u001b[0m\u001b[0;34m.\u001b[0m\u001b[0mitems\u001b[0m\u001b[0;34m(\u001b[0m\u001b[0;34m)\u001b[0m\u001b[0;34m)\u001b[0m\u001b[0;34m\u001b[0m\u001b[0;34m\u001b[0m\u001b[0m\n\u001b[0m\u001b[1;32m     81\u001b[0m         \u001b[0mcumdist\u001b[0m \u001b[0;34m=\u001b[0m \u001b[0mlist\u001b[0m\u001b[0;34m(\u001b[0m\u001b[0maccumulate\u001b[0m\u001b[0;34m(\u001b[0m\u001b[0mweights\u001b[0m\u001b[0;34m)\u001b[0m\u001b[0;34m)\u001b[0m\u001b[0;34m\u001b[0m\u001b[0;34m\u001b[0m\u001b[0m\n\u001b[1;32m     82\u001b[0m         \u001b[0mself\u001b[0m\u001b[0;34m.\u001b[0m\u001b[0mbegin_cumdist\u001b[0m \u001b[0;34m=\u001b[0m \u001b[0mcumdist\u001b[0m\u001b[0;34m\u001b[0m\u001b[0;34m\u001b[0m\u001b[0m\n",
            "\u001b[0;31mKeyError\u001b[0m: ('___BEGIN__', '___BEGIN__')"
          ]
        }
      ]
    },
    {
      "metadata": {
        "id": "mV8j0ZmxcYaE",
        "colab_type": "text"
      },
      "cell_type": "markdown",
      "source": [
        "## Generate Stories!"
      ]
    },
    {
      "metadata": {
        "id": "z_lUbI9U7w2l",
        "colab_type": "code",
        "colab": {}
      },
      "cell_type": "code",
      "source": [
        "def generate_name():\n",
        "  unisex_names = [\"Avery\", \"Riley\", \"Jordan\", \"Angel\", \"Parker\", \"Sawyer\", \"Peyton\", \"Quinn\", \"Blake\", \"Hayden\", \"Taylor\", \"Alexis\", \"Rowan\", \"Charlie\", \"Emerson\", \"Finley\", \"River\", \"Ariel\", \"Emery\", \"Morgan\", \"Elliot\", \"London\", \"Eden\", \"Elliott\", \"Karter\", \"Dakota\", \"Reese\", \"Zion\", \"Remington\", \"Payton\", \"Amari\", \"Phoenix\", \"Kendall\", \"Harley\", \"Rylan\", \"Marley\", \"Dallas\", \"Skyler\", \"Spencer\", \"Sage\", \"Kyrie\", \"Lyric\", \"Ellis\", \"Rory\", \"Remi\", \"Justice\", \"Ali\", \"Haven\", \"Tatum\", \"Kamryn\", \"Charlie\", \"Finley\", \"Skyler\", \"Justice\", \"Royal\", \"Lennon\", \"Oakley\", \"Armani\", \"Azariah\", \"Landry\", \"Arden\", \"Arrow\", \"Auden\", \"Baker\", \"Bellamy\", \"Blair\", \"Bowie\", \"Briar\", \"Channing\", \"Charleston\", \"Cleo\", \"Devon\", \"Drew\", \"Egypt\", \"Ellison\", \"Ever\", \"Everest\", \"Frankie\", \"Gentry\", \"Grey\", \"Halo\", \"Holland\", \"Indigo\", \"Jules\", \"Kingsley\", \"Landry\", \"Lennox\", \"Linden\", \"Memphis\", \"Milan\", \"Miller\", \"Monroe\", \"Navy\", \"Oakley\", \"Ocean\", \"Quincy\", \"Raleigh\", \"Rebel\", \"Remy\", \"Rio\", \"Ripley\", \"Sailor\", \"Scout\", \"Shay\", \"Shiloh\", \"Sutton\", \"Tobin\", \"Wilder\", \"Wren\", \"Zephyr\", \"Adlai\", \"Amory\", \"Austen\", \"Avis\", \"Bergen\", \"Blue\", \"Breslin\", \"Brighton\", \"Callaway\", \"Campbell\", \"Carmel\", \"Clancy\", \"Clarke\", \"Denver\", \"Gentry\", \"Hollis\", \"Honor\", \"Indiana\", \"Jazz\", \"Jules\", \"Kirby\", \"Lake\", \"Laramie\", \"Marlo\", \"Mercury\", \"Merit\", \"Murphy\", \"Nicky\", \"Ocean\", \"Oswin\", \"Peace\", \"Perry\", \"Poet\", \"Ramsey\", \"Reilly\", \"Revel\", \"Ridley\", \"Robin\", \"Rumi\", \"Seneca\", \"Sidney\", \"Storm\", \"Tennessee\", \"Tennyson\", \"Texas\", \"Timber\", \"Tory\", \"Valentine\", \"Wisdom\", \"Wynn\"]\n",
        "  name = random.choice(unisex_names) + \" \" + random.choice(unisex_names)\n",
        "  return name\n",
        "\n",
        "def replace_person(text, name):\n",
        "  doc = nlp(text)\n",
        "  \n",
        "  for ent in doc.ents:\n",
        "    if ent.label_ == \"PERSON\":\n",
        "      text = text.replace(ent.text, name)\n",
        "      \n",
        "  return text\n",
        "\n",
        "def replace_pronouns(text, pronoun):\n",
        "  if pronoun == \"MALE\":\n",
        "    text = text.replace(\" she \", \" he \")\n",
        "    text = text.replace(\" her \", \" his \")\n",
        "    text = text.replace(\" Ms \", \" Mr \")\n",
        "    text = text.replace(\" Mrs \", \" Mr \")\n",
        "  else:\n",
        "    text = text.replace(\" he \", \" she \")\n",
        "    text = text.replace(\" his \", \" her \")\n",
        "    text = text.replace(\" Mr \", \" Ms \")\n",
        "\n",
        "  return text\n"
      ],
      "execution_count": 0,
      "outputs": []
    },
    {
      "metadata": {
        "id": "7tVmNXqMH0YA",
        "colab_type": "code",
        "outputId": "06639306-0ba8-49f4-d245-6347b3b8dd74",
        "colab": {
          "base_uri": "https://localhost:8080/",
          "height": 88
        }
      },
      "cell_type": "code",
      "source": [
        "def generate_story():\n",
        "  story = [beginnings_gen.make_sentence(), middles_gen.make_sentence(), endings_gen.make_sentence()]\n",
        "  \n",
        "  name = generate_name()\n",
        "  story = [replace_person(line, name) for line in story]\n",
        "\n",
        "  pronoun = random.choice([\"MALE\", \"FEMALE\"])\n",
        "  story = [replace_pronouns(line, pronoun) for line in story]\n",
        "\n",
        "  return \"\\n\".join(story)\n",
        "\n",
        "print(generate_story())\n",
        "\n",
        "stories = [generate_story() for i in range(1, 10)]"
      ],
      "execution_count": 0,
      "outputs": [
        {
          "output_type": "stream",
          "text": [
            "Wisdom Arden is a hacker, investor and serial entrepreneur and CEO/Co-Founder of FBE\n",
            "After earning a Political Science B.A. from the University of Virginia, where she focused on high tech and innovative business startups.\n",
            "Mr. Wisdom Arden received her Bachelor of Arts in mass communications and Bachelor of Science in Economics, with concentrations in Finance from Rutgers University.\n"
          ],
          "name": "stdout"
        }
      ]
    },
    {
      "metadata": {
        "id": "LnN5xHY-zQrr",
        "colab_type": "code",
        "colab": {}
      },
      "cell_type": "code",
      "source": [
        "import json\n",
        "with open('stories.txt', 'w') as f:\n",
        "  f.write(json.dumps(stories))\n",
        "\n",
        "files.download('stories.txt')"
      ],
      "execution_count": 0,
      "outputs": []
    },
    {
      "metadata": {
        "id": "K03UIyGWchGa",
        "colab_type": "text"
      },
      "cell_type": "markdown",
      "source": [
        "## DEBUG THINGS"
      ]
    },
    {
      "metadata": {
        "id": "5Sq-PPP3XxfI",
        "colab_type": "code",
        "outputId": "df55c189-2d0c-40ce-8728-6e99d8378e33",
        "colab": {
          "base_uri": "https://localhost:8080/",
          "height": 476
        }
      },
      "cell_type": "code",
      "source": [
        "text = \"Russ’ work has focused on exploring innovative products and services including CBS All Access and CBSN, and managing its global business strategy.\"\n",
        "doc = nlp(text)\n",
        "\n",
        "for ent in doc.ents:\n",
        "    print(ent.text, ent.start_char, ent.end_char, ent.label_)\n",
        "\n",
        "print(\"---\")\n",
        "\n",
        "for token in doc:\n",
        "    print(token.text, token.lemma_, token.pos_, token.tag_, token.dep_,\n",
        "          token.shape_, token.is_alpha, token.is_stop)"
      ],
      "execution_count": 0,
      "outputs": [
        {
          "output_type": "stream",
          "text": [
            "CBS 79 82 ORG\n",
            "CBSN 98 102 ORG\n",
            "---\n",
            "Russ’ russ’ NOUN NN compound Xxxx’ False False\n",
            "work work NOUN NN nsubj xxxx True False\n",
            "has have VERB VBZ aux xxx True True\n",
            "focused focus VERB VBN ROOT xxxx True False\n",
            "on on ADP IN prep xx True True\n",
            "exploring explore VERB VBG pcomp xxxx True False\n",
            "innovative innovative ADJ JJ amod xxxx True False\n",
            "products product NOUN NNS dobj xxxx True False\n",
            "and and CCONJ CC cc xxx True True\n",
            "services service NOUN NNS conj xxxx True False\n",
            "including include VERB VBG prep xxxx True False\n",
            "CBS cbs PROPN NNP pobj XXX True False\n",
            "All all PROPN NNP det Xxx True False\n",
            "Access access PROPN NNP dobj Xxxxx True False\n",
            "and and CCONJ CC cc xxx True True\n",
            "CBSN cbsn PROPN NNP conj XXXX True False\n",
            ", , PUNCT , punct , False False\n",
            "and and CCONJ CC cc xxx True True\n",
            "managing manage VERB VBG conj xxxx True False\n",
            "its -PRON- ADJ PRP$ poss xxx True True\n",
            "global global ADJ JJ amod xxxx True False\n",
            "business business NOUN NN compound xxxx True False\n",
            "strategy strategy NOUN NN dobj xxxx True False\n",
            ". . PUNCT . punct . False False\n"
          ],
          "name": "stdout"
        }
      ]
    },
    {
      "metadata": {
        "id": "VVNLKvoRQHZM",
        "colab_type": "code",
        "colab": {}
      },
      "cell_type": "code",
      "source": [
        "!pip install -q tracery\n",
        "import tracery\n",
        "from tracery.modifiers import base_english"
      ],
      "execution_count": 0,
      "outputs": []
    },
    {
      "metadata": {
        "id": "zZrea67QQK32",
        "colab_type": "code",
        "outputId": "1a296eb9-c1f5-4e82-fc4f-f1ea7f905e2b",
        "colab": {
          "base_uri": "https://localhost:8080/",
          "height": 34
        }
      },
      "cell_type": "code",
      "source": [
        "name = generate_name()\n",
        "\n",
        "accusation_rules = {\n",
        "    'name': name,\n",
        "    'origin': [\n",
        "      \"Why can't you be more like your cousin, #name#?\",\n",
        "      '#hello.capitalize#, #location#!'   \n",
        "    ],\n",
        "    'hello': ['hello', 'greetings', 'howdy', 'hey'],\n",
        "    'location': ['world', 'solar system', 'galaxy', 'universe']\n",
        "}\n",
        "\n",
        "grammar = tracery.Grammar(accusation_rules)\n",
        "grammar.add_modifiers(base_english)\n",
        "print(grammar.flatten(\"#origin#\"))"
      ],
      "execution_count": 0,
      "outputs": [
        {
          "output_type": "stream",
          "text": [
            "Greetings, solar system!\n"
          ],
          "name": "stdout"
        }
      ]
    },
    {
      "metadata": {
        "id": "afojwJ2QQN6-",
        "colab_type": "code",
        "colab": {}
      },
      "cell_type": "code",
      "source": [
        ""
      ],
      "execution_count": 0,
      "outputs": []
    }
  ]
}