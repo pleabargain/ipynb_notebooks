{
 "metadata": {
  "name": "forC"
 },
 "nbformat": 3,
 "nbformat_minor": 0,
 "worksheets": [
  {
   "cells": [
    {
     "cell_type": "code",
     "collapsed": false,
     "input": [
      "'''\n",
      "what it does:\n",
      "This will print out each letter on a sep. line\n",
      "\n",
      "going forward:\n",
      "make it more interesting by having users offer input\n",
      "more interesting if the word 'rained' down\n",
      "use it as the basis for a typing game?\n",
      "'''\n",
      "\n",
      "for c in \"Codecademy\":\n",
      "    print (c)\n",
      "    \n",
      "# Empty lines to make the output pretty\n",
      "print()\n",
      "print()\n",
      "\n",
      "word = \"Programming is fun!\"# this part does not seem to work\n",
      "\n",
      "for s in word:\n",
      "    # Only print out the letter i\n",
      "    if s == \"Pr\":\n",
      "    #if s.count =='mm'\n",
      "        print (s)"
     ],
     "language": "python",
     "metadata": {},
     "outputs": [
      {
       "output_type": "stream",
       "stream": "stdout",
       "text": [
        "C\n",
        "o\n",
        "d\n",
        "e\n",
        "c\n",
        "a\n",
        "d\n",
        "e\n",
        "m\n",
        "y\n",
        "\n",
        "\n"
       ]
      }
     ],
     "prompt_number": 1
    },
    {
     "cell_type": "code",
     "collapsed": false,
     "input": [],
     "language": "python",
     "metadata": {},
     "outputs": []
    }
   ],
   "metadata": {}
  }
 ]
}