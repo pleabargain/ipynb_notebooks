{
  "nbformat": 4,
  "nbformat_minor": 0,
  "metadata": {
    "colab": {
      "name": "simple user menu python 3 on colab.ipynb",
      "version": "0.3.2",
      "provenance": [],
      "include_colab_link": true
    },
    "kernelspec": {
      "name": "python3",
      "display_name": "Python 3"
    }
  },
  "cells": [
    {
      "cell_type": "markdown",
      "metadata": {
        "id": "view-in-github",
        "colab_type": "text"
      },
      "source": [
        "<a href=\"https://colab.research.google.com/github/pleabargain/ipynb_notebooks/blob/master/simple_user_menu_python_3_on_colab.ipynb\" target=\"_parent\"><img src=\"https://colab.research.google.com/assets/colab-badge.svg\" alt=\"Open In Colab\"/></a>"
      ]
    },
    {
      "metadata": {
        "id": "GRkJTnlmlHbB",
        "colab_type": "code",
        "colab": {
          "base_uri": "https://localhost:8080/",
          "height": 170
        },
        "outputId": "ca8b0b6c-9517-43d5-bc03-f0fca650953c"
      },
      "cell_type": "code",
      "source": [
        "#from\n",
        "#http://pythonfiddle.com/simple-text-menu-for-python/\n",
        "#\n",
        "#!/usr/bin/python\n",
        "# Version 1\n",
        "## Show menu ##\n",
        "print (30 * '-')\n",
        "print (\"   M A I N - M E N U\")\n",
        "print (30 * '-')\n",
        "print (\"1. Backup\")\n",
        "print (\"2. User management\")\n",
        "print (\"3. Reboot the server\")\n",
        "print (30 * '-')\n",
        " \n",
        "## Get input ###\n",
        "choice = input('Enter your choice [1-3] : ')\n",
        " \n",
        "### Convert string to int type ##\n",
        "choice = int(choice)\n",
        " \n",
        "### Take action as per selected menu-option ###\n",
        "if choice == 1:\n",
        "        print (\"Starting backup...\")\n",
        "elif choice == 2:\n",
        "        print (\"Starting user management...\")\n",
        "elif choice == 3:\n",
        "        print (\"Rebooting the server...\")\n",
        "else:    ## default ##\n",
        "        print (\"Invalid number. Try again...\")"
      ],
      "execution_count": 7,
      "outputs": [
        {
          "output_type": "stream",
          "text": [
            "------------------------------\n",
            "   M A I N - M E N U\n",
            "------------------------------\n",
            "1. Backup\n",
            "2. User management\n",
            "3. Reboot the server\n",
            "------------------------------\n",
            "Enter your choice [1-3] : 2\n",
            "Starting user management...\n"
          ],
          "name": "stdout"
        }
      ]
    }
  ]
}