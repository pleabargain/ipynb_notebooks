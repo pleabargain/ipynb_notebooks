{
 "metadata": {
  "name": "wordSearch"
 },
 "nbformat": 3,
 "nbformat_minor": 0,
 "worksheets": [
  {
   "cells": [
    {
     "cell_type": "code",
     "collapsed": false,
     "input": "'''\na word search program\nwritten by: Horst Jens\nwith big thanks and small mods by: Dennis Daniels\n'''\n\n# i assume you are using python2.7 to work with 3.2 here\n## changes made for 3.2 compatiblity:\n# replace file with open\n# and wrap print with ()\n\n#possible enhancements\n#add a way for user to add input\n#count the total number of finds\n#replace the finds with other words\n#this is a word search tool... how am I creating new value with it?\n##I'm creating value in my head by increasing my knowledge\n\n# to test this , create a file called poem.txt in the same\n#folder as this python file\n# make sure there are a lot of \"more\" in the poem.txt like\npoem = \"\"\"there is more to the world\nthan Demi Moore and Roger Mooore\nIt is a good Morning, but more so\na good day to every moron out there,\ngimme more, more, moreofit\"\"\"\n\n\n# open file as fileoobject f\n\nf = open(\"poem.txt\",\"r\") # open in (r)ead mode (default)\n\n# get a big list of all the lines in the file\n\nlines = f.readlines()\n\n# close the file, keep the lines list only\n\nf.close()\n\n# define what you are looking for, the searchstring\n\nmysearchstring = \"more\" # make double or single quotes, but do not mix them\n\n# iterate over all the lines\nlinenumber = 0\ncounter = 0\ncurrentline = \"\"\nfor line in lines: \n    linenumber += 1\n    startpos = 0\n    endpos = 0\n    while line[endpos:].find(mysearchstring) > 0:\n        counter += 1\n        # find out at what position exactly\n        startpos = line[endpos:].find(mysearchstring)\n        endpos += startpos + len(mysearchstring)\n        print (\"found '{}' in line:{} pos:{}:\\n{}\".format(mysearchstring, linenumber, endpos-len(mysearchstring), line))\n        \n    print (\"end of line {}\".format(linenumber))\nprint (\"end of search\")",
     "language": "python",
     "metadata": {},
     "outputs": []
    }
   ],
   "metadata": {}
  }
 ]
}