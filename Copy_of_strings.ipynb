{
  "nbformat": 4,
  "nbformat_minor": 0,
  "metadata": {
    "colab": {
      "name": "Copy of strings.ipynb",
      "version": "0.3.2",
      "provenance": [],
      "include_colab_link": true
    },
    "kernelspec": {
      "display_name": "Python 3",
      "language": "python",
      "name": "python3"
    }
  },
  "cells": [
    {
      "cell_type": "markdown",
      "metadata": {
        "id": "view-in-github",
        "colab_type": "text"
      },
      "source": [
        "<a href=\"https://colab.research.google.com/github/pleabargain/ipynb_notebooks/blob/master/Copy_of_strings.ipynb\" target=\"_parent\"><img src=\"https://colab.research.google.com/assets/colab-badge.svg\" alt=\"Open In Colab\"/></a>"
      ]
    },
    {
      "metadata": {
        "id": "lUKdiYtTzqhc",
        "colab_type": "text"
      },
      "cell_type": "markdown",
      "source": [
        "# [Strings](https://docs.python.org/3/library/stdtypes.html#text-sequence-type-str)"
      ]
    },
    {
      "metadata": {
        "id": "TsKTZiTBzqhf",
        "colab_type": "code",
        "colab": {}
      },
      "cell_type": "code",
      "source": [
        "my_string = 'Python is my favorite programming language!'"
      ],
      "execution_count": 0,
      "outputs": []
    },
    {
      "metadata": {
        "id": "GjIJoJ73zqhk",
        "colab_type": "code",
        "colab": {}
      },
      "cell_type": "code",
      "source": [
        "my_string"
      ],
      "execution_count": 0,
      "outputs": []
    },
    {
      "metadata": {
        "id": "bLhxJ45lzqhn",
        "colab_type": "code",
        "colab": {}
      },
      "cell_type": "code",
      "source": [
        "type(my_string)"
      ],
      "execution_count": 0,
      "outputs": []
    },
    {
      "metadata": {
        "id": "rcb2Wf7uzqhr",
        "colab_type": "code",
        "colab": {}
      },
      "cell_type": "code",
      "source": [
        "len(my_string)"
      ],
      "execution_count": 0,
      "outputs": []
    },
    {
      "metadata": {
        "id": "fAKxhW1Zzqhu",
        "colab_type": "text"
      },
      "cell_type": "markdown",
      "source": [
        "### Respecting [PEP8](https://www.python.org/dev/peps/pep-0008/#maximum-line-length) with long strings"
      ]
    },
    {
      "metadata": {
        "id": "x5CGSkQYzqhw",
        "colab_type": "code",
        "colab": {}
      },
      "cell_type": "code",
      "source": [
        "long_story = ('Lorem ipsum dolor sit amet, consectetur adipiscing elit.' \n",
        "              'Pellentesque eget tincidunt felis. Ut ac vestibulum est.' \n",
        "              'In sed ipsum sit amet sapien scelerisque bibendum. Sed ' \n",
        "              'sagittis purus eu diam fermentum pellentesque.')\n",
        "long_story"
      ],
      "execution_count": 0,
      "outputs": []
    },
    {
      "metadata": {
        "id": "dbfu_x_Hzqhz",
        "colab_type": "text"
      },
      "cell_type": "markdown",
      "source": [
        "## `str.replace()`"
      ]
    },
    {
      "metadata": {
        "id": "0i0BrxAszqh0",
        "colab_type": "text"
      },
      "cell_type": "markdown",
      "source": [
        "If you don't know how it works, you can always check the `help`:"
      ]
    },
    {
      "metadata": {
        "id": "lylZwLH_zqh1",
        "colab_type": "code",
        "colab": {}
      },
      "cell_type": "code",
      "source": [
        "help(str.replace)"
      ],
      "execution_count": 0,
      "outputs": []
    },
    {
      "metadata": {
        "id": "Wbb7loS3zqh4",
        "colab_type": "text"
      },
      "cell_type": "markdown",
      "source": [
        "This will not modify `my_string` because replace is not done in-place."
      ]
    },
    {
      "metadata": {
        "id": "Vy3i2PQAzqh8",
        "colab_type": "code",
        "colab": {}
      },
      "cell_type": "code",
      "source": [
        "my_string.replace('a', '?')\n",
        "print(my_string)"
      ],
      "execution_count": 0,
      "outputs": []
    },
    {
      "metadata": {
        "id": "NN-vZLsgzqiB",
        "colab_type": "text"
      },
      "cell_type": "markdown",
      "source": [
        "You have to store the return value of `replace` instead."
      ]
    },
    {
      "metadata": {
        "id": "4vwP03VAzqiC",
        "colab_type": "code",
        "colab": {}
      },
      "cell_type": "code",
      "source": [
        "my_modified_string = my_string.replace('is', 'will be')\n",
        "print(my_modified_string)"
      ],
      "execution_count": 0,
      "outputs": []
    },
    {
      "metadata": {
        "id": "CWuuIxN-zqiG",
        "colab_type": "text"
      },
      "cell_type": "markdown",
      "source": [
        "## `str.format()`"
      ]
    },
    {
      "metadata": {
        "id": "2X9mvAhgzqiI",
        "colab_type": "code",
        "colab": {}
      },
      "cell_type": "code",
      "source": [
        "secret = '{} is cool'.format('Python')\n",
        "print(secret)"
      ],
      "execution_count": 0,
      "outputs": []
    },
    {
      "metadata": {
        "id": "9DEdbqQ7zqiM",
        "colab_type": "code",
        "colab": {}
      },
      "cell_type": "code",
      "source": [
        "print('My name is {} {}, you can call me {}.'.format('John', 'Doe', 'John'))\n",
        "# is the same as:\n",
        "print('My name is {first} {family}, you can call me {first}.'.format(first='John', family='Doe'))"
      ],
      "execution_count": 0,
      "outputs": []
    },
    {
      "metadata": {
        "id": "PSNjIRlwzqiR",
        "colab_type": "text"
      },
      "cell_type": "markdown",
      "source": [
        "## `str.join()`"
      ]
    },
    {
      "metadata": {
        "id": "v6bsLDKFzqiS",
        "colab_type": "code",
        "colab": {}
      },
      "cell_type": "code",
      "source": [
        "pandas = 'pandas'\n",
        "numpy = 'numpy'\n",
        "requests = 'requests'\n",
        "cool_python_libs = ', '.join([pandas, numpy, requests])"
      ],
      "execution_count": 0,
      "outputs": []
    },
    {
      "metadata": {
        "id": "cxnZHBDyzqiV",
        "colab_type": "code",
        "colab": {}
      },
      "cell_type": "code",
      "source": [
        "print('Some cool python libraries: {}'.format(cool_python_libs))"
      ],
      "execution_count": 0,
      "outputs": []
    },
    {
      "metadata": {
        "id": "IqC8ANlFzqiY",
        "colab_type": "text"
      },
      "cell_type": "markdown",
      "source": [
        "Alternatives (not as [Pythonic](http://docs.python-guide.org/en/latest/writing/style/#idioms) and [slower](https://waymoot.org/home/python_string/)):"
      ]
    },
    {
      "metadata": {
        "id": "4QFIepnbzqiZ",
        "colab_type": "code",
        "colab": {}
      },
      "cell_type": "code",
      "source": [
        "cool_python_libs = pandas + ', ' + numpy + ', ' + requests\n",
        "print('Some cool python libraries: {}'.format(cool_python_libs))\n",
        "\n",
        "cool_python_libs = pandas\n",
        "cool_python_libs += ', ' + numpy\n",
        "cool_python_libs += ', ' + requests\n",
        "print('Some cool python libraries: {}'.format(cool_python_libs))"
      ],
      "execution_count": 0,
      "outputs": []
    },
    {
      "metadata": {
        "id": "GyL4unxIzqic",
        "colab_type": "text"
      },
      "cell_type": "markdown",
      "source": [
        "## `str.upper(), str.lower(), str.title()`"
      ]
    },
    {
      "metadata": {
        "id": "4y0bMlzuzqid",
        "colab_type": "code",
        "colab": {}
      },
      "cell_type": "code",
      "source": [
        "mixed_case = 'PyTHoN hackER'"
      ],
      "execution_count": 0,
      "outputs": []
    },
    {
      "metadata": {
        "id": "E1dzbXwZzqih",
        "colab_type": "code",
        "colab": {}
      },
      "cell_type": "code",
      "source": [
        "mixed_case.upper()"
      ],
      "execution_count": 0,
      "outputs": []
    },
    {
      "metadata": {
        "id": "G5SWJqV-zqim",
        "colab_type": "code",
        "colab": {}
      },
      "cell_type": "code",
      "source": [
        "mixed_case.lower()"
      ],
      "execution_count": 0,
      "outputs": []
    },
    {
      "metadata": {
        "id": "rIcRKN04zqit",
        "colab_type": "code",
        "colab": {}
      },
      "cell_type": "code",
      "source": [
        "mixed_case.title()"
      ],
      "execution_count": 0,
      "outputs": []
    },
    {
      "metadata": {
        "id": "JNzy65uAzqiw",
        "colab_type": "text"
      },
      "cell_type": "markdown",
      "source": [
        "## `str.strip()`"
      ]
    },
    {
      "metadata": {
        "id": "Hrnby_NUzqix",
        "colab_type": "code",
        "colab": {}
      },
      "cell_type": "code",
      "source": [
        "ugly_formatted = ' \\n \\t Some story to tell '\n",
        "stripped = ugly_formatted.strip()\n",
        "\n",
        "print('ugly: {}'.format(ugly_formatted))\n",
        "print('stripped: {}'.format(ugly_formatted.strip()))"
      ],
      "execution_count": 0,
      "outputs": []
    },
    {
      "metadata": {
        "id": "N0FsEttSzqi0",
        "colab_type": "text"
      },
      "cell_type": "markdown",
      "source": [
        "## `str.split()`"
      ]
    },
    {
      "metadata": {
        "id": "OiqKcS_xzqi1",
        "colab_type": "code",
        "colab": {}
      },
      "cell_type": "code",
      "source": [
        "sentence = 'three different words'\n",
        "words = sentence.split()\n",
        "print(words)"
      ],
      "execution_count": 0,
      "outputs": []
    },
    {
      "metadata": {
        "id": "P2h_KQWbzqi4",
        "colab_type": "code",
        "colab": {}
      },
      "cell_type": "code",
      "source": [
        "type(words)"
      ],
      "execution_count": 0,
      "outputs": []
    },
    {
      "metadata": {
        "id": "aU4Czj8Jzqi7",
        "colab_type": "code",
        "colab": {}
      },
      "cell_type": "code",
      "source": [
        "secret_binary_data = '01001,101101,11100000'\n",
        "binaries = secret_binary_data.split(',')\n",
        "print(binaries)"
      ],
      "execution_count": 0,
      "outputs": []
    },
    {
      "metadata": {
        "id": "c-pumf9Tzqi9",
        "colab_type": "text"
      },
      "cell_type": "markdown",
      "source": [
        "## Calling multiple methods in a row"
      ]
    },
    {
      "metadata": {
        "id": "8Ofyv8Q_zqi-",
        "colab_type": "code",
        "colab": {}
      },
      "cell_type": "code",
      "source": [
        "ugly_mixed_case = '   ThIS LooKs BAd '\n",
        "pretty = ugly_mixed_case.strip().lower().replace('bad', 'good')\n",
        "print(pretty)"
      ],
      "execution_count": 0,
      "outputs": []
    },
    {
      "metadata": {
        "id": "nmMI6CX1zqjA",
        "colab_type": "text"
      },
      "cell_type": "markdown",
      "source": [
        "Note that execution order is from left to right. Thus, this won't work:"
      ]
    },
    {
      "metadata": {
        "id": "T5qlA8nUzqjB",
        "colab_type": "code",
        "colab": {}
      },
      "cell_type": "code",
      "source": [
        "pretty = ugly_mixed_case.replace('bad', 'good').strip().lower()\n",
        "print(pretty)"
      ],
      "execution_count": 0,
      "outputs": []
    },
    {
      "metadata": {
        "id": "ZZMVU1pDzqjD",
        "colab_type": "text"
      },
      "cell_type": "markdown",
      "source": [
        "## [Escape characters](http://python-reference.readthedocs.io/en/latest/docs/str/escapes.html#escape-characters)"
      ]
    },
    {
      "metadata": {
        "id": "-RkYzSs_zqjG",
        "colab_type": "code",
        "colab": {}
      },
      "cell_type": "code",
      "source": [
        "two_lines = 'First line\\nSecond line'\n",
        "print(two_lines)"
      ],
      "execution_count": 0,
      "outputs": []
    },
    {
      "metadata": {
        "id": "DSOPk1u7zqjI",
        "colab_type": "code",
        "colab": {}
      },
      "cell_type": "code",
      "source": [
        "indented = '\\tThis will be indented'\n",
        "print(indented)"
      ],
      "execution_count": 0,
      "outputs": []
    }
  ]
}